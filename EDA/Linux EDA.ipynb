{
 "cells": [
  {
   "cell_type": "code",
   "execution_count": 33,
   "id": "8f81a735",
   "metadata": {
    "scrolled": false
   },
   "outputs": [],
   "source": [
    "import pandas as pd\n",
    "import matplotlib.pyplot as plt\n",
    "import matplotlib as mpl\n",
    "import numpy as np\n",
    "import seaborn as sns\n",
    "import re\n",
    "import nltk as nltk\n",
    "import nltk.corpus  \n",
    "from nltk.text import Text\n",
    "import spacy\n",
    "spacy.prefer_gpu()\n",
    "nlp = spacy.load(\"en_core_web_sm\")\n",
    "from collections import Counter\n",
    "from sklearn import metrics\n",
    "from glob import glob as g\n",
    "import missingno as msno\n",
    "\n",
    "%matplotlib inline"
   ]
  },
  {
   "cell_type": "code",
   "execution_count": 5,
   "id": "c1d54ad9",
   "metadata": {},
   "outputs": [],
   "source": [
    "filepath = '/Users/m/Desktop/MSCA Capstone/Chat-Disentangle-main/cleaned/'\n",
    "agg_train = pd.read_csv((filepath + 'agg_train.csv'), header = 0)\n",
    "agg_test = pd.read_csv((filepath + 'agg_test.csv'), header = 0)\n",
    "agg_dev = pd.read_csv((filepath + 'agg_dev.csv'), header = 0)"
   ]
  },
  {
   "cell_type": "code",
   "execution_count": 6,
   "id": "3f175088",
   "metadata": {},
   "outputs": [
    {
     "data": {
      "text/html": [
       "<div>\n",
       "<style scoped>\n",
       "    .dataframe tbody tr th:only-of-type {\n",
       "        vertical-align: middle;\n",
       "    }\n",
       "\n",
       "    .dataframe tbody tr th {\n",
       "        vertical-align: top;\n",
       "    }\n",
       "\n",
       "    .dataframe thead th {\n",
       "        text-align: right;\n",
       "    }\n",
       "</style>\n",
       "<table border=\"1\" class=\"dataframe\">\n",
       "  <thead>\n",
       "    <tr style=\"text-align: right;\">\n",
       "      <th></th>\n",
       "      <th>Unnamed: 0</th>\n",
       "      <th>raw</th>\n",
       "      <th>timestamp</th>\n",
       "      <th>user</th>\n",
       "      <th>message</th>\n",
       "      <th>file_ind</th>\n",
       "      <th>date</th>\n",
       "      <th>uuid</th>\n",
       "      <th>parent</th>\n",
       "      <th>child</th>\n",
       "      <th>file_ind_parent</th>\n",
       "      <th>uuid_parent</th>\n",
       "    </tr>\n",
       "  </thead>\n",
       "  <tbody>\n",
       "    <tr>\n",
       "      <th>0</th>\n",
       "      <td>0</td>\n",
       "      <td>[09:14] &lt;crimsun&gt; kleedrac: I'm afraid not. An...</td>\n",
       "      <td>09:14</td>\n",
       "      <td>crimsun</td>\n",
       "      <td>kleedrac: I'm afraid not. Any version of mpla...</td>\n",
       "      <td>0</td>\n",
       "      <td>2004-12-25</td>\n",
       "      <td>2004_12_25_09_14_crimsun_0</td>\n",
       "      <td>NaN</td>\n",
       "      <td>NaN</td>\n",
       "      <td>NaN</td>\n",
       "      <td>NaN</td>\n",
       "    </tr>\n",
       "    <tr>\n",
       "      <th>1</th>\n",
       "      <td>1</td>\n",
       "      <td>[09:14] &lt;intinig&gt; does a subversion gnome clie...</td>\n",
       "      <td>09:14</td>\n",
       "      <td>intinig</td>\n",
       "      <td>does a subversion gnome client exist?</td>\n",
       "      <td>1</td>\n",
       "      <td>2004-12-25</td>\n",
       "      <td>2004_12_25_09_14_intinig_1</td>\n",
       "      <td>NaN</td>\n",
       "      <td>NaN</td>\n",
       "      <td>NaN</td>\n",
       "      <td>NaN</td>\n",
       "    </tr>\n",
       "    <tr>\n",
       "      <th>2</th>\n",
       "      <td>2</td>\n",
       "      <td>[09:14] &lt;kleedrac&gt; crimsun: Hmmm ... I wonder ...</td>\n",
       "      <td>09:14</td>\n",
       "      <td>kleedrac</td>\n",
       "      <td>crimsun: Hmmm ... I wonder why it does that?</td>\n",
       "      <td>2</td>\n",
       "      <td>2004-12-25</td>\n",
       "      <td>2004_12_25_09_14_kleedrac_2</td>\n",
       "      <td>NaN</td>\n",
       "      <td>NaN</td>\n",
       "      <td>NaN</td>\n",
       "      <td>NaN</td>\n",
       "    </tr>\n",
       "  </tbody>\n",
       "</table>\n",
       "</div>"
      ],
      "text/plain": [
       "   Unnamed: 0                                                raw timestamp  \\\n",
       "0           0  [09:14] <crimsun> kleedrac: I'm afraid not. An...     09:14   \n",
       "1           1  [09:14] <intinig> does a subversion gnome clie...     09:14   \n",
       "2           2  [09:14] <kleedrac> crimsun: Hmmm ... I wonder ...     09:14   \n",
       "\n",
       "       user                                            message  file_ind  \\\n",
       "0   crimsun   kleedrac: I'm afraid not. Any version of mpla...         0   \n",
       "1   intinig              does a subversion gnome client exist?         1   \n",
       "2  kleedrac       crimsun: Hmmm ... I wonder why it does that?         2   \n",
       "\n",
       "         date                         uuid  parent  child  file_ind_parent  \\\n",
       "0  2004-12-25   2004_12_25_09_14_crimsun_0     NaN    NaN              NaN   \n",
       "1  2004-12-25   2004_12_25_09_14_intinig_1     NaN    NaN              NaN   \n",
       "2  2004-12-25  2004_12_25_09_14_kleedrac_2     NaN    NaN              NaN   \n",
       "\n",
       "  uuid_parent  \n",
       "0         NaN  \n",
       "1         NaN  \n",
       "2         NaN  "
      ]
     },
     "execution_count": 6,
     "metadata": {},
     "output_type": "execute_result"
    }
   ],
   "source": [
    "agg_train.head(3)"
   ]
  },
  {
   "cell_type": "code",
   "execution_count": 7,
   "id": "bd16c560",
   "metadata": {},
   "outputs": [
    {
     "name": "stdout",
     "output_type": "stream",
     "text": [
      "251891\n"
     ]
    }
   ],
   "source": [
    "print(agg_train.shape[0] + agg_test.shape[0] + agg_dev.shape[0])"
   ]
  },
  {
   "cell_type": "code",
   "execution_count": 8,
   "id": "a1190fcf",
   "metadata": {},
   "outputs": [
    {
     "name": "stderr",
     "output_type": "stream",
     "text": [
      "/var/folders/sy/crpzkcg53m70gbpm7bsfwp700000gn/T/ipykernel_74556/1393475011.py:1: FutureWarning: The frame.append method is deprecated and will be removed from pandas in a future version. Use pandas.concat instead.\n",
      "/var/folders/sy/crpzkcg53m70gbpm7bsfwp700000gn/T/ipykernel_74556/1393475011.py:2: FutureWarning: The frame.append method is deprecated and will be removed from pandas in a future version. Use pandas.concat instead.\n"
     ]
    },
    {
     "data": {
      "text/plain": [
       "251891"
      ]
     },
     "execution_count": 8,
     "metadata": {},
     "output_type": "execute_result"
    }
   ],
   "source": [
    "comb = agg_train.append(agg_test, ignore_index = True)\n",
    "comb = comb.append(agg_dev, ignore_index = True)\n",
    "comb.shape[0]"
   ]
  },
  {
   "cell_type": "code",
   "execution_count": 9,
   "id": "6d3da05c",
   "metadata": {},
   "outputs": [
    {
     "data": {
      "image/png": "[encoded data removed]",
      "text/plain": [
       "<Figure size 1800x720 with 2 Axes>"
      ]
     },
     "metadata": {
      "needs_background": "light"
     },
     "output_type": "display_data"
    }
   ],
   "source": [
    "msno.matrix(comb)\n",
    "plt.show()"
   ]
  },
  {
   "cell_type": "code",
   "execution_count": 10,
   "id": "d48a749d",
   "metadata": {},
   "outputs": [
    {
     "data": {
      "text/plain": [
       "27007"
      ]
     },
     "execution_count": 10,
     "metadata": {},
     "output_type": "execute_result"
    }
   ],
   "source": [
    "comb[\"message\"].isnull().sum()"
   ]
  },
  {
   "cell_type": "code",
   "execution_count": 11,
   "id": "9db971d2",
   "metadata": {
    "scrolled": true
   },
   "outputs": [
    {
     "data": {
      "text/plain": [
       "0"
      ]
     },
     "execution_count": 11,
     "metadata": {},
     "output_type": "execute_result"
    }
   ],
   "source": [
    "# Drop NaNs in message\n",
    "comb = comb.dropna(subset=['message'])\n",
    "comb[\"message\"].isnull().sum()"
   ]
  },
  {
   "cell_type": "markdown",
   "id": "12873429",
   "metadata": {},
   "source": [
    "## Messages"
   ]
  },
  {
   "cell_type": "code",
   "execution_count": 12,
   "id": "c29b8606",
   "metadata": {},
   "outputs": [
    {
     "data": {
      "text/plain": [
       "count     224884\n",
       "unique    201464\n",
       "top           ok\n",
       "freq         766\n",
       "Name: message, dtype: object"
      ]
     },
     "execution_count": 12,
     "metadata": {},
     "output_type": "execute_result"
    }
   ],
   "source": [
    "# Total messages\n",
    "comb['message'].describe()"
   ]
  },
  {
   "cell_type": "code",
   "execution_count": 47,
   "id": "4341e321",
   "metadata": {},
   "outputs": [
    {
     "data": {
      "text/plain": [
       "59.01040981128048"
      ]
     },
     "execution_count": 47,
     "metadata": {},
     "output_type": "execute_result"
    }
   ],
   "source": [
    "# Average message character length\n",
    "comb['message'].apply(len).mean()"
   ]
  },
  {
   "cell_type": "code",
   "execution_count": 50,
   "id": "3800098a",
   "metadata": {},
   "outputs": [
    {
     "data": {
      "text/plain": [
       "10.177264723146155"
      ]
     },
     "execution_count": 50,
     "metadata": {},
     "output_type": "execute_result"
    }
   ],
   "source": [
    "# Average message word length\n",
    "comb['message'].str.split().apply(len).mean()"
   ]
  },
  {
   "cell_type": "code",
   "execution_count": 69,
   "id": "5a36fbfa",
   "metadata": {},
   "outputs": [
    {
     "data": {
      "text/plain": [
       "<AxesSubplot: >"
      ]
     },
     "execution_count": 69,
     "metadata": {},
     "output_type": "execute_result"
    },
    {
     "data": {
      "image/png": "[encoded data removed]",
      "text/plain": [
       "<Figure size 432x288 with 1 Axes>"
      ]
     },
     "metadata": {
      "needs_background": "light"
     },
     "output_type": "display_data"
    }
   ],
   "source": [
    "comb['message'].apply(len).value_counts().plot(kind = 'line')\n"
   ]
  },
  {
   "cell_type": "markdown",
   "id": "7a637d52",
   "metadata": {},
   "source": [
    "## Users"
   ]
  },
  {
   "cell_type": "code",
   "execution_count": 14,
   "id": "97db0a94",
   "metadata": {},
   "outputs": [
    {
     "data": {
      "text/plain": [
       "17751"
      ]
     },
     "execution_count": 14,
     "metadata": {},
     "output_type": "execute_result"
    }
   ],
   "source": [
    "# Unique users\n",
    "len(comb[\"user\"].unique())"
   ]
  },
  {
   "cell_type": "code",
   "execution_count": 15,
   "id": "f4a648e0",
   "metadata": {},
   "outputs": [
    {
     "data": {
      "text/html": [
       "<div>\n",
       "<style scoped>\n",
       "    .dataframe tbody tr th:only-of-type {\n",
       "        vertical-align: middle;\n",
       "    }\n",
       "\n",
       "    .dataframe tbody tr th {\n",
       "        vertical-align: top;\n",
       "    }\n",
       "\n",
       "    .dataframe thead th {\n",
       "        text-align: right;\n",
       "    }\n",
       "</style>\n",
       "<table border=\"1\" class=\"dataframe\">\n",
       "  <thead>\n",
       "    <tr style=\"text-align: right;\">\n",
       "      <th></th>\n",
       "      <th>user</th>\n",
       "      <th>messages</th>\n",
       "    </tr>\n",
       "  </thead>\n",
       "  <tbody>\n",
       "    <tr>\n",
       "      <th>0</th>\n",
       "      <td>ubottu</td>\n",
       "      <td>3322</td>\n",
       "    </tr>\n",
       "    <tr>\n",
       "      <th>1</th>\n",
       "      <td>ActionParsnip</td>\n",
       "      <td>2108</td>\n",
       "    </tr>\n",
       "    <tr>\n",
       "      <th>2</th>\n",
       "      <td>ubotu</td>\n",
       "      <td>1913</td>\n",
       "    </tr>\n",
       "    <tr>\n",
       "      <th>3</th>\n",
       "      <td>Dr_Willis</td>\n",
       "      <td>1794</td>\n",
       "    </tr>\n",
       "    <tr>\n",
       "      <th>4</th>\n",
       "      <td>ikonia</td>\n",
       "      <td>1792</td>\n",
       "    </tr>\n",
       "    <tr>\n",
       "      <th>5</th>\n",
       "      <td>Seveas</td>\n",
       "      <td>1608</td>\n",
       "    </tr>\n",
       "    <tr>\n",
       "      <th>6</th>\n",
       "      <td>bazhang</td>\n",
       "      <td>1029</td>\n",
       "    </tr>\n",
       "    <tr>\n",
       "      <th>7</th>\n",
       "      <td>Psil0Cybin</td>\n",
       "      <td>905</td>\n",
       "    </tr>\n",
       "    <tr>\n",
       "      <th>8</th>\n",
       "      <td>bob2</td>\n",
       "      <td>868</td>\n",
       "    </tr>\n",
       "    <tr>\n",
       "      <th>9</th>\n",
       "      <td>cfhowlett</td>\n",
       "      <td>842</td>\n",
       "    </tr>\n",
       "  </tbody>\n",
       "</table>\n",
       "</div>"
      ],
      "text/plain": [
       "            user  messages\n",
       "0         ubottu      3322\n",
       "1  ActionParsnip      2108\n",
       "2          ubotu      1913\n",
       "3      Dr_Willis      1794\n",
       "4         ikonia      1792\n",
       "5         Seveas      1608\n",
       "6        bazhang      1029\n",
       "7     Psil0Cybin       905\n",
       "8           bob2       868\n",
       "9      cfhowlett       842"
      ]
     },
     "execution_count": 15,
     "metadata": {},
     "output_type": "execute_result"
    }
   ],
   "source": [
    "# Count how many messages each user has sent\n",
    "user_counts = pd.DataFrame(comb[\"user\"].value_counts())\n",
    "user_counts.reset_index(inplace = True)\n",
    "user_counts.columns = ['user', 'messages']\n",
    "user_counts.head(10)"
   ]
  },
  {
   "cell_type": "code",
   "execution_count": 43,
   "id": "6f418e28",
   "metadata": {},
   "outputs": [
    {
     "data": {
      "text/plain": [
       "Text(0, 0.5, 'Count')"
      ]
     },
     "execution_count": 43,
     "metadata": {},
     "output_type": "execute_result"
    },
    {
     "data": {
      "image/png": "[encoded data removed]",
      "text/plain": [
       "<Figure size 432x288 with 1 Axes>"
      ]
     },
     "metadata": {
      "needs_background": "light"
     },
     "output_type": "display_data"
    }
   ],
   "source": [
    "# Message count distribution per user\n",
    "user_counts.messages.plot(kind = 'line')\n",
    "plt.xlabel(\"Year\")\n",
    "plt.ylabel(\"Count\")"
   ]
  },
  {
   "cell_type": "code",
   "execution_count": 44,
   "id": "778fe9d6",
   "metadata": {},
   "outputs": [
    {
     "data": {
      "text/plain": [
       "Text(0, 0.5, 'Count')"
      ]
     },
     "execution_count": 44,
     "metadata": {},
     "output_type": "execute_result"
    },
    {
     "data": {
      "image/png": "[encoded data removed]",
      "text/plain": [
       "<Figure size 432x288 with 1 Axes>"
      ]
     },
     "metadata": {
      "needs_background": "light"
     },
     "output_type": "display_data"
    }
   ],
   "source": [
    "# Message count distribution per user, only top 50\n",
    "user_counts.messages.head(50).plot(kind = 'line')\n",
    "plt.xlabel(\"Year\")\n",
    "plt.ylabel(\"Count\")"
   ]
  },
  {
   "cell_type": "markdown",
   "id": "6c0fee5c",
   "metadata": {},
   "source": [
    "## Time analysis"
   ]
  },
  {
   "cell_type": "code",
   "execution_count": 17,
   "id": "85061d56",
   "metadata": {
    "scrolled": true
   },
   "outputs": [
    {
     "data": {
      "text/plain": [
       "2006-12-20 05:12:00    72\n",
       "2006-06-05 12:59:00    45\n",
       "2005-12-16 06:49:00    43\n",
       "2006-06-01 12:22:00    40\n",
       "2006-05-27 00:21:00    38\n",
       "                       ..\n",
       "2018-02-27 02:42:00     1\n",
       "2018-02-27 02:41:00     1\n",
       "2015-06-12 12:53:00     1\n",
       "2018-02-27 02:36:00     1\n",
       "2016-12-19 21:59:00     1\n",
       "Length: 43587, dtype: int64"
      ]
     },
     "execution_count": 17,
     "metadata": {},
     "output_type": "execute_result"
    }
   ],
   "source": [
    "# Cleanup timestamps\n",
    "comb_nosys = comb[comb['timestamp'] != \"System\"]\n",
    "dates = comb_nosys['date'] + ' ' + comb_nosys['timestamp']\n",
    "dates = pd.to_datetime(dates)\n",
    "dates.value_counts()"
   ]
  },
  {
   "cell_type": "code",
   "execution_count": 18,
   "id": "588dc5c7",
   "metadata": {},
   "outputs": [
    {
     "data": {
      "text/plain": [
       "(Timestamp('2004-11-15 01:00:00'), Timestamp('2018-02-27 23:46:00'))"
      ]
     },
     "execution_count": 18,
     "metadata": {},
     "output_type": "execute_result"
    }
   ],
   "source": [
    "# Start and end\n",
    "dates.min(), dates.max()"
   ]
  },
  {
   "cell_type": "code",
   "execution_count": 19,
   "id": "8fb7fc80",
   "metadata": {},
   "outputs": [
    {
     "data": {
      "text/plain": [
       "Timedelta('4852 days 22:46:00')"
      ]
     },
     "execution_count": 19,
     "metadata": {},
     "output_type": "execute_result"
    }
   ],
   "source": [
    "# Span of time\n",
    "dates.max() - dates.min()"
   ]
  },
  {
   "cell_type": "code",
   "execution_count": 20,
   "id": "fa94f4e7",
   "metadata": {},
   "outputs": [
    {
     "data": {
      "text/plain": [
       "Text(0, 0.5, 'Count')"
      ]
     },
     "execution_count": 20,
     "metadata": {},
     "output_type": "execute_result"
    },
    {
     "data": {
      "image/png": "[encoded data removed]",
      "text/plain": [
       "<Figure size 864x288 with 1 Axes>"
      ]
     },
     "metadata": {
      "needs_background": "light"
     },
     "output_type": "display_data"
    }
   ],
   "source": [
    "# Activity by year\n",
    "fig, axs = plt.subplots(figsize=(12, 4))\n",
    "dates.groupby(dates.dt.year).count().plot(kind = 'bar', rot=0)\n",
    "plt.xlabel(\"Year\")\n",
    "plt.ylabel(\"Count\")"
   ]
  },
  {
   "cell_type": "code",
   "execution_count": 21,
   "id": "40c71b2e",
   "metadata": {},
   "outputs": [
    {
     "data": {
      "text/plain": [
       "Text(0, 0.5, 'Count')"
      ]
     },
     "execution_count": 21,
     "metadata": {},
     "output_type": "execute_result"
    },
    {
     "data": {
      "image/png": "[encoded data removed]",
      "text/plain": [
       "<Figure size 864x288 with 1 Axes>"
      ]
     },
     "metadata": {
      "needs_background": "light"
     },
     "output_type": "display_data"
    }
   ],
   "source": [
    "# Average activity by month\n",
    "fig, axs = plt.subplots(figsize=(12, 4))\n",
    "dates.groupby(dates.dt.month).count().plot(kind = 'bar', rot=0)\n",
    "plt.xlabel(\"Month\")\n",
    "plt.ylabel(\"Count\")"
   ]
  },
  {
   "cell_type": "code",
   "execution_count": 22,
   "id": "ecab168f",
   "metadata": {},
   "outputs": [
    {
     "data": {
      "text/plain": [
       "Text(0, 0.5, 'Count')"
      ]
     },
     "execution_count": 22,
     "metadata": {},
     "output_type": "execute_result"
    },
    {
     "data": {
      "image/png": "[encoded data removed]",
      "text/plain": [
       "<Figure size 864x288 with 1 Axes>"
      ]
     },
     "metadata": {
      "needs_background": "light"
     },
     "output_type": "display_data"
    }
   ],
   "source": [
    "# Average activity by weekday\n",
    "fig, axs = plt.subplots(figsize=(12, 4))\n",
    "dates.groupby(dates.dt.weekday).count().plot(kind = 'bar', rot=0)\n",
    "plt.xlabel(\"Day (0 = Monday, 6 = Sunday)\")\n",
    "plt.ylabel(\"Count\")"
   ]
  },
  {
   "cell_type": "code",
   "execution_count": 23,
   "id": "f64e4d1f",
   "metadata": {},
   "outputs": [
    {
     "data": {
      "text/plain": [
       "Text(0, 0.5, 'Count')"
      ]
     },
     "execution_count": 23,
     "metadata": {},
     "output_type": "execute_result"
    },
    {
     "data": {
      "image/png": "[encoded data removed]",
      "text/plain": [
       "<Figure size 864x288 with 1 Axes>"
      ]
     },
     "metadata": {
      "needs_background": "light"
     },
     "output_type": "display_data"
    }
   ],
   "source": [
    "# Average activity by hour\n",
    "fig, axs = plt.subplots(figsize=(12, 4))\n",
    "dates.groupby(dates.dt.hour).count().plot(kind = 'bar', rot=0)\n",
    "plt.xlabel(\"Hour\")\n",
    "plt.ylabel(\"Count\")"
   ]
  },
  {
   "cell_type": "markdown",
   "id": "801f7ceb",
   "metadata": {},
   "source": [
    "## NLTK Vectorization"
   ]
  },
  {
   "cell_type": "code",
   "execution_count": 24,
   "id": "f6d47505",
   "metadata": {
    "scrolled": true
   },
   "outputs": [
    {
     "data": {
      "text/plain": [
       "0    [kleedrac, afraid, version, mplayer, except, w...\n",
       "1                   [subversion, gnome, client, exist]\n",
       "2                              [crimsun, hmmm, wonder]\n",
       "Name: message, dtype: object"
      ]
     },
     "execution_count": 24,
     "metadata": {},
     "output_type": "execute_result"
    }
   ],
   "source": [
    "# Vectorize text\n",
    "\n",
    "# Define stopwords\n",
    "stopwords = set(nltk.corpus.stopwords.words('english'))\n",
    "\n",
    "# Create a function that will perform cleanup and tokenization.\n",
    "def cleanup(a):\n",
    "    # Tokenize words\n",
    "    words = nltk.tokenize.word_tokenize(a)\n",
    "    # Remove single-character tokens (mostly punctuation)\n",
    "    words = [word for word in words if len(word) > 1]\n",
    "    # Remove punctuation\n",
    "    words = [word for word in words if word.isalpha()]\n",
    "    # Lowercase all words (default_stopwords are lowercase too)\n",
    "    words_lc = [word.lower() for word in words]\n",
    "    # Remove stopwords\n",
    "    words_lc = [word for word in words_lc if word not in stopwords]\n",
    "    return words_lc\n",
    "\n",
    "# Applying the code cleaner function to all rows to have just comments\n",
    "message_clean = comb[\"message\"].apply(cleanup)\n",
    "\n",
    "message_clean.head(3)"
   ]
  },
  {
   "cell_type": "code",
   "execution_count": null,
   "id": "dc8661f5",
   "metadata": {},
   "outputs": [],
   "source": []
  },
  {
   "cell_type": "markdown",
   "id": "5b37e228",
   "metadata": {},
   "source": [
    "## NER with SpaCy"
   ]
  },
  {
   "cell_type": "code",
   "execution_count": 25,
   "id": "219b920c",
   "metadata": {
    "scrolled": true
   },
   "outputs": [
    {
     "data": {
      "text/plain": [
       "\"['kleedrac', 'afraid', 'version', 'mplayer', 'except', 'work', 'cpu'] ['subversion', 'gnome', 'client', 'exist'] ['crimsun', 'hmmm', 'wonder'] ['best', 'media', 'player', 'vlc', 'wxvlc', 'plays', 'eve\""
      ]
     },
     "execution_count": 25,
     "metadata": {},
     "output_type": "execute_result"
    }
   ],
   "source": [
    "# Flatten message column into string\n",
    "flat_text = ' '.join(map(str, message_clean))\n",
    "flat_text[0:200]"
   ]
  },
  {
   "cell_type": "code",
   "execution_count": 26,
   "id": "a743678b",
   "metadata": {},
   "outputs": [
    {
     "data": {
      "text/plain": [
       "11163846"
      ]
     },
     "execution_count": 26,
     "metadata": {},
     "output_type": "execute_result"
    }
   ],
   "source": [
    "len(flat_text)"
   ]
  },
  {
   "cell_type": "code",
   "execution_count": 27,
   "id": "84ba89f7",
   "metadata": {},
   "outputs": [
    {
     "data": {
      "text/html": [
       "<div>\n",
       "<style scoped>\n",
       "    .dataframe tbody tr th:only-of-type {\n",
       "        vertical-align: middle;\n",
       "    }\n",
       "\n",
       "    .dataframe tbody tr th {\n",
       "        vertical-align: top;\n",
       "    }\n",
       "\n",
       "    .dataframe thead th {\n",
       "        text-align: right;\n",
       "    }\n",
       "</style>\n",
       "<table border=\"1\" class=\"dataframe\">\n",
       "  <thead>\n",
       "    <tr style=\"text-align: right;\">\n",
       "      <th></th>\n",
       "      <th>Entities</th>\n",
       "      <th>Labels</th>\n",
       "    </tr>\n",
       "  </thead>\n",
       "  <tbody>\n",
       "    <tr>\n",
       "      <th>0</th>\n",
       "      <td>(', years, ')</td>\n",
       "      <td>DATE</td>\n",
       "    </tr>\n",
       "    <tr>\n",
       "      <th>1</th>\n",
       "      <td>(first)</td>\n",
       "      <td>ORDINAL</td>\n",
       "    </tr>\n",
       "    <tr>\n",
       "      <th>2</th>\n",
       "      <td>(', yesterday, ')</td>\n",
       "      <td>DATE</td>\n",
       "    </tr>\n",
       "    <tr>\n",
       "      <th>3</th>\n",
       "      <td>(two)</td>\n",
       "      <td>CARDINAL</td>\n",
       "    </tr>\n",
       "    <tr>\n",
       "      <th>4</th>\n",
       "      <td>(', yesterday, ')</td>\n",
       "      <td>DATE</td>\n",
       "    </tr>\n",
       "  </tbody>\n",
       "</table>\n",
       "</div>"
      ],
      "text/plain": [
       "            Entities    Labels\n",
       "0      (', years, ')      DATE\n",
       "1            (first)   ORDINAL\n",
       "2  (', yesterday, ')      DATE\n",
       "3              (two)  CARDINAL\n",
       "4  (', yesterday, ')      DATE"
      ]
     },
     "execution_count": 27,
     "metadata": {},
     "output_type": "execute_result"
    }
   ],
   "source": [
    "# Set up SpaCy\n",
    "nlp_text = nlp(flat_text[0:1000000])\n",
    "\n",
    "# Create variables to populate with labels\n",
    "entities = []\n",
    "labels = []\n",
    "\n",
    "# Populate and display table\n",
    "for ent in nlp_text.ents:\n",
    "    entities.append(ent)\n",
    "    labels.append(ent.label_)\n",
    "    \n",
    "df = pd.DataFrame({'Entities':entities,'Labels':labels})\n",
    "\n",
    "df.head(5)"
   ]
  },
  {
   "cell_type": "code",
   "execution_count": 28,
   "id": "036cbd8a",
   "metadata": {},
   "outputs": [
    {
     "data": {
      "text/plain": [
       "38        (ibm)\n",
       "68    (toshiba)\n",
       "75        (sec)\n",
       "82        (sec)\n",
       "88        (sec)\n",
       "Name: Entities, dtype: object"
      ]
     },
     "execution_count": 28,
     "metadata": {},
     "output_type": "execute_result"
    }
   ],
   "source": [
    "# Isolate organization entities\n",
    "orgs_tup = df[df.Labels == 'ORG'].Entities\n",
    "orgs_tup.head()"
   ]
  },
  {
   "cell_type": "code",
   "execution_count": 29,
   "id": "248fcddd",
   "metadata": {},
   "outputs": [
    {
     "data": {
      "text/plain": [
       "38        ibm\n",
       "68    toshiba\n",
       "75        sec\n",
       "82        sec\n",
       "88        sec\n",
       "Name: Entities, dtype: object"
      ]
     },
     "execution_count": 29,
     "metadata": {},
     "output_type": "execute_result"
    }
   ],
   "source": [
    "# Create flattening function to create strings from tuples\n",
    "def stringer(a):\n",
    "    return ' '.join(map(str, a))\n",
    "\n",
    "# Stringing the tokens\n",
    "orgs = orgs_tup.apply(stringer)\n",
    "orgs.head()"
   ]
  },
  {
   "cell_type": "code",
   "execution_count": 30,
   "id": "3ac55ee3",
   "metadata": {},
   "outputs": [
    {
     "data": {
      "text/plain": [
       "[('sec', 21),\n",
       " ('fujitsu', 17),\n",
       " ('ibm', 10),\n",
       " ('gpg', 8),\n",
       " ('toshiba', 7),\n",
       " ('ford', 2),\n",
       " ('xerox', 2),\n",
       " ('kgb', 1),\n",
       " ('lotus', 1),\n",
       " ('cnn', 1),\n",
       " ('xdi', 1),\n",
       " ('ps', 1),\n",
       " ('doc', 1),\n",
       " ('cia', 1),\n",
       " ('toyota', 1)]"
      ]
     },
     "execution_count": 30,
     "metadata": {},
     "output_type": "execute_result"
    }
   ],
   "source": [
    "# Create counts and sort by counts\n",
    "counts = Counter(orgs)\n",
    "counts.most_common(30)"
   ]
  }
 ],
 "metadata": {
  "kernelspec": {
   "display_name": "Python 3 (ipykernel)",
   "language": "python",
   "name": "python3"
  },
  "language_info": {
   "codemirror_mode": {
    "name": "ipython",
    "version": 3
   },
   "file_extension": ".py",
   "mimetype": "text/x-python",
   "name": "python",
   "nbconvert_exporter": "python",
   "pygments_lexer": "ipython3",
   "version": "3.9.7"
  }
 },
 "nbformat": 4,
 "nbformat_minor": 5
}
