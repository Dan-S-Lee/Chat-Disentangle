{
 "cells": [
  {
   "cell_type": "code",
   "execution_count": 1,
   "metadata": {
    "collapsed": true
   },
   "outputs": [],
   "source": [
    "import pandas as pd"
   ]
  },
  {
   "cell_type": "code",
   "execution_count": 23,
   "outputs": [],
   "source": [
    "dev_df = pd.read_csv('../data/cleaned/agg_train.csv', index_col=0)"
   ],
   "metadata": {
    "collapsed": false
   }
  },
  {
   "cell_type": "code",
   "execution_count": 24,
   "outputs": [
    {
     "data": {
      "text/plain": "                                                 raw timestamp      user  \\\n0  [09:14] <crimsun> kleedrac: I'm afraid not. An...     09:14   crimsun   \n1  [09:14] <intinig> does a subversion gnome clie...     09:14   intinig   \n2  [09:14] <kleedrac> crimsun: Hmmm ... I wonder ...     09:14  kleedrac   \n3  [09:15] <will> best media player: VLC /get wxv...     09:15      will   \n4  [09:15] <|QuaD-> will: totem has caused me no ...     09:15    |QuaD-   \n\n                                             message  file_ind        date  \\\n0   kleedrac: I'm afraid not. Any version of mpla...         0  2004-12-25   \n1              does a subversion gnome client exist?         1  2004-12-25   \n2       crimsun: Hmmm ... I wonder why it does that?         2  2004-12-25   \n3   best media player: VLC /get wxvlc) It plays e...         3  2004-12-25   \n4              will: totem has caused me no troubles         4  2004-12-25   \n\n                          uuid  parent  child  file_ind_parent uuid_parent  \n0   2004_12_25_09_14_crimsun_0     NaN    NaN              NaN         NaN  \n1   2004_12_25_09_14_intinig_1     NaN    NaN              NaN         NaN  \n2  2004_12_25_09_14_kleedrac_2     NaN    NaN              NaN         NaN  \n3      2004_12_25_09_15_will_3     NaN    NaN              NaN         NaN  \n4    2004_12_25_09_15_|QuaD-_4     NaN    NaN              NaN         NaN  ",
      "text/html": "<div>\n<style scoped>\n    .dataframe tbody tr th:only-of-type {\n        vertical-align: middle;\n    }\n\n    .dataframe tbody tr th {\n        vertical-align: top;\n    }\n\n    .dataframe thead th {\n        text-align: right;\n    }\n</style>\n<table border=\"1\" class=\"dataframe\">\n  <thead>\n    <tr style=\"text-align: right;\">\n      <th></th>\n      <th>raw</th>\n      <th>timestamp</th>\n      <th>user</th>\n      <th>message</th>\n      <th>file_ind</th>\n      <th>date</th>\n      <th>uuid</th>\n      <th>parent</th>\n      <th>child</th>\n      <th>file_ind_parent</th>\n      <th>uuid_parent</th>\n    </tr>\n  </thead>\n  <tbody>\n    <tr>\n      <th>0</th>\n      <td>[09:14] &lt;crimsun&gt; kleedrac: I'm afraid not. An...</td>\n      <td>09:14</td>\n      <td>crimsun</td>\n      <td>kleedrac: I'm afraid not. Any version of mpla...</td>\n      <td>0</td>\n      <td>2004-12-25</td>\n      <td>2004_12_25_09_14_crimsun_0</td>\n      <td>NaN</td>\n      <td>NaN</td>\n      <td>NaN</td>\n      <td>NaN</td>\n    </tr>\n    <tr>\n      <th>1</th>\n      <td>[09:14] &lt;intinig&gt; does a subversion gnome clie...</td>\n      <td>09:14</td>\n      <td>intinig</td>\n      <td>does a subversion gnome client exist?</td>\n      <td>1</td>\n      <td>2004-12-25</td>\n      <td>2004_12_25_09_14_intinig_1</td>\n      <td>NaN</td>\n      <td>NaN</td>\n      <td>NaN</td>\n      <td>NaN</td>\n    </tr>\n    <tr>\n      <th>2</th>\n      <td>[09:14] &lt;kleedrac&gt; crimsun: Hmmm ... I wonder ...</td>\n      <td>09:14</td>\n      <td>kleedrac</td>\n      <td>crimsun: Hmmm ... I wonder why it does that?</td>\n      <td>2</td>\n      <td>2004-12-25</td>\n      <td>2004_12_25_09_14_kleedrac_2</td>\n      <td>NaN</td>\n      <td>NaN</td>\n      <td>NaN</td>\n      <td>NaN</td>\n    </tr>\n    <tr>\n      <th>3</th>\n      <td>[09:15] &lt;will&gt; best media player: VLC /get wxv...</td>\n      <td>09:15</td>\n      <td>will</td>\n      <td>best media player: VLC /get wxvlc) It plays e...</td>\n      <td>3</td>\n      <td>2004-12-25</td>\n      <td>2004_12_25_09_15_will_3</td>\n      <td>NaN</td>\n      <td>NaN</td>\n      <td>NaN</td>\n      <td>NaN</td>\n    </tr>\n    <tr>\n      <th>4</th>\n      <td>[09:15] &lt;|QuaD-&gt; will: totem has caused me no ...</td>\n      <td>09:15</td>\n      <td>|QuaD-</td>\n      <td>will: totem has caused me no troubles</td>\n      <td>4</td>\n      <td>2004-12-25</td>\n      <td>2004_12_25_09_15_|QuaD-_4</td>\n      <td>NaN</td>\n      <td>NaN</td>\n      <td>NaN</td>\n      <td>NaN</td>\n    </tr>\n  </tbody>\n</table>\n</div>"
     },
     "execution_count": 24,
     "metadata": {},
     "output_type": "execute_result"
    }
   ],
   "source": [
    "dev_df.head()"
   ],
   "metadata": {
    "collapsed": false
   }
  },
  {
   "cell_type": "code",
   "execution_count": 25,
   "outputs": [
    {
     "data": {
      "text/plain": "223875"
     },
     "execution_count": 25,
     "metadata": {},
     "output_type": "execute_result"
    }
   ],
   "source": [
    "len(dev_df)"
   ],
   "metadata": {
    "collapsed": false
   }
  },
  {
   "cell_type": "code",
   "execution_count": 26,
   "outputs": [
    {
     "data": {
      "text/plain": "Empty DataFrame\nColumns: [raw, timestamp, user, message, file_ind, date, uuid, parent, child, file_ind_parent, uuid_parent]\nIndex: []",
      "text/html": "<div>\n<style scoped>\n    .dataframe tbody tr th:only-of-type {\n        vertical-align: middle;\n    }\n\n    .dataframe tbody tr th {\n        vertical-align: top;\n    }\n\n    .dataframe thead th {\n        text-align: right;\n    }\n</style>\n<table border=\"1\" class=\"dataframe\">\n  <thead>\n    <tr style=\"text-align: right;\">\n      <th></th>\n      <th>raw</th>\n      <th>timestamp</th>\n      <th>user</th>\n      <th>message</th>\n      <th>file_ind</th>\n      <th>date</th>\n      <th>uuid</th>\n      <th>parent</th>\n      <th>child</th>\n      <th>file_ind_parent</th>\n      <th>uuid_parent</th>\n    </tr>\n  </thead>\n  <tbody>\n  </tbody>\n</table>\n</div>"
     },
     "execution_count": 26,
     "metadata": {},
     "output_type": "execute_result"
    }
   ],
   "source": [
    "dev_df[dev_df['uuid'] == \"2005_07_06_02_59_Vjaz_1262\"]"
   ],
   "metadata": {
    "collapsed": false
   }
  },
  {
   "cell_type": "code",
   "execution_count": 27,
   "outputs": [
    {
     "data": {
      "text/plain": "                                                                              raw  \\\nuuid                                                                                \n2004_12_25_03_21_krischan_1000  [03:21] <krischan> Hello everyone. Are there X...   \n2004_12_25_System_System_1001   === zul [~chuck@zul.developer.gentoo]  has lef...   \n2004_12_25_System_System_1002   === seb128_ [~seb128@213.151.107.243]  has joi...   \n2004_12_25_System_System_1003   === bluefoxicy [~bluefox@pcp485126pcs.whtmrs01...   \n2004_12_25_System_System_1004   === Pathfinder [~murray@141.117.14.189]  has j...   \n\n                               timestamp      user  \\\nuuid                                                 \n2004_12_25_03_21_krischan_1000     03:21  krischan   \n2004_12_25_System_System_1001     System    System   \n2004_12_25_System_System_1002     System    System   \n2004_12_25_System_System_1003     System    System   \n2004_12_25_System_System_1004     System    System   \n\n                                                                          message  \\\nuuid                                                                                \n2004_12_25_03_21_krischan_1000   Hello everyone. Are there XFCE-desktop-experi...   \n2004_12_25_System_System_1001                                                 NaN   \n2004_12_25_System_System_1002                                                 NaN   \n2004_12_25_System_System_1003                                                 NaN   \n2004_12_25_System_System_1004                                                 NaN   \n\n                                file_ind        date  parent   child  \\\nuuid                                                                   \n2004_12_25_03_21_krischan_1000      1000  2004-12-25  1000.0  1000.0   \n2004_12_25_System_System_1001       1001  2004-12-25  1001.0  1001.0   \n2004_12_25_System_System_1002       1002  2004-12-25  1002.0  1002.0   \n2004_12_25_System_System_1003       1003  2004-12-25  1003.0  1003.0   \n2004_12_25_System_System_1004       1004  2004-12-25  1004.0  1004.0   \n\n                                file_ind_parent  \\\nuuid                                              \n2004_12_25_03_21_krischan_1000           1000.0   \n2004_12_25_System_System_1001            1001.0   \n2004_12_25_System_System_1002            1002.0   \n2004_12_25_System_System_1003            1003.0   \n2004_12_25_System_System_1004            1004.0   \n\n                                                   uuid_parent  \nuuid                                                            \n2004_12_25_03_21_krischan_1000  2004_12_25_03_21_krischan_1000  \n2004_12_25_System_System_1001    2004_12_25_System_System_1001  \n2004_12_25_System_System_1002    2004_12_25_System_System_1002  \n2004_12_25_System_System_1003    2004_12_25_System_System_1003  \n2004_12_25_System_System_1004    2004_12_25_System_System_1004  ",
      "text/html": "<div>\n<style scoped>\n    .dataframe tbody tr th:only-of-type {\n        vertical-align: middle;\n    }\n\n    .dataframe tbody tr th {\n        vertical-align: top;\n    }\n\n    .dataframe thead th {\n        text-align: right;\n    }\n</style>\n<table border=\"1\" class=\"dataframe\">\n  <thead>\n    <tr style=\"text-align: right;\">\n      <th></th>\n      <th>raw</th>\n      <th>timestamp</th>\n      <th>user</th>\n      <th>message</th>\n      <th>file_ind</th>\n      <th>date</th>\n      <th>parent</th>\n      <th>child</th>\n      <th>file_ind_parent</th>\n      <th>uuid_parent</th>\n    </tr>\n    <tr>\n      <th>uuid</th>\n      <th></th>\n      <th></th>\n      <th></th>\n      <th></th>\n      <th></th>\n      <th></th>\n      <th></th>\n      <th></th>\n      <th></th>\n      <th></th>\n    </tr>\n  </thead>\n  <tbody>\n    <tr>\n      <th>2004_12_25_03_21_krischan_1000</th>\n      <td>[03:21] &lt;krischan&gt; Hello everyone. Are there X...</td>\n      <td>03:21</td>\n      <td>krischan</td>\n      <td>Hello everyone. Are there XFCE-desktop-experi...</td>\n      <td>1000</td>\n      <td>2004-12-25</td>\n      <td>1000.0</td>\n      <td>1000.0</td>\n      <td>1000.0</td>\n      <td>2004_12_25_03_21_krischan_1000</td>\n    </tr>\n    <tr>\n      <th>2004_12_25_System_System_1001</th>\n      <td>=== zul [~chuck@zul.developer.gentoo]  has lef...</td>\n      <td>System</td>\n      <td>System</td>\n      <td>NaN</td>\n      <td>1001</td>\n      <td>2004-12-25</td>\n      <td>1001.0</td>\n      <td>1001.0</td>\n      <td>1001.0</td>\n      <td>2004_12_25_System_System_1001</td>\n    </tr>\n    <tr>\n      <th>2004_12_25_System_System_1002</th>\n      <td>=== seb128_ [~seb128@213.151.107.243]  has joi...</td>\n      <td>System</td>\n      <td>System</td>\n      <td>NaN</td>\n      <td>1002</td>\n      <td>2004-12-25</td>\n      <td>1002.0</td>\n      <td>1002.0</td>\n      <td>1002.0</td>\n      <td>2004_12_25_System_System_1002</td>\n    </tr>\n    <tr>\n      <th>2004_12_25_System_System_1003</th>\n      <td>=== bluefoxicy [~bluefox@pcp485126pcs.whtmrs01...</td>\n      <td>System</td>\n      <td>System</td>\n      <td>NaN</td>\n      <td>1003</td>\n      <td>2004-12-25</td>\n      <td>1003.0</td>\n      <td>1003.0</td>\n      <td>1003.0</td>\n      <td>2004_12_25_System_System_1003</td>\n    </tr>\n    <tr>\n      <th>2004_12_25_System_System_1004</th>\n      <td>=== Pathfinder [~murray@141.117.14.189]  has j...</td>\n      <td>System</td>\n      <td>System</td>\n      <td>NaN</td>\n      <td>1004</td>\n      <td>2004-12-25</td>\n      <td>1004.0</td>\n      <td>1004.0</td>\n      <td>1004.0</td>\n      <td>2004_12_25_System_System_1004</td>\n    </tr>\n  </tbody>\n</table>\n</div>"
     },
     "execution_count": 27,
     "metadata": {},
     "output_type": "execute_result"
    }
   ],
   "source": [
    "labeled_df = dev_df[(dev_df[\"parent\"].notnull()) | (dev_df[\"child\"].notnull())]\n",
    "labeled_df = labeled_df.set_index(\"uuid\")\n",
    "labeled_df = labeled_df[labeled_df['uuid_parent'].notnull()]\n",
    "labeled_df.head()"
   ],
   "metadata": {
    "collapsed": false
   }
  },
  {
   "cell_type": "code",
   "execution_count": 28,
   "outputs": [
    {
     "data": {
      "text/plain": "71486"
     },
     "execution_count": 28,
     "metadata": {},
     "output_type": "execute_result"
    }
   ],
   "source": [
    "labeled_df.__len__()"
   ],
   "metadata": {
    "collapsed": false
   }
  },
  {
   "cell_type": "code",
   "execution_count": 29,
   "outputs": [],
   "source": [
    "def add_messages(conversation, child, parent):\n",
    "    conversation.add(child)\n",
    "    conversation.add(parent)\n",
    "    return conversation"
   ],
   "metadata": {
    "collapsed": false
   }
  },
  {
   "cell_type": "markdown",
   "source": [],
   "metadata": {
    "collapsed": false
   }
  },
  {
   "cell_type": "code",
   "execution_count": 30,
   "outputs": [
    {
     "name": "stdout",
     "output_type": "stream",
     "text": [
      "17349\n"
     ]
    }
   ],
   "source": [
    "# List of conversations (list of sets)\n",
    "conversations = list()\n",
    "for ind, row in labeled_df.iterrows():\n",
    "    found = False\n",
    "    for con in conversations:\n",
    "        if (row[\"uuid_parent\"] in con or ind in con):\n",
    "            add_messages(con, row['uuid_parent'], ind)\n",
    "            found = True\n",
    "            break\n",
    "    if not conversations or not found:\n",
    "        conversations.append(add_messages(set(), ind, row['uuid_parent']))\n",
    "\n",
    "print(len(conversations))"
   ],
   "metadata": {
    "collapsed": false
   }
  },
  {
   "cell_type": "code",
   "execution_count": 31,
   "outputs": [],
   "source": [
    "df_list = []\n",
    "for con in conversations:\n",
    "    if not con:\n",
    "        continue\n",
    "    df = labeled_df.loc[list(con)].copy()\n",
    "    df_list.append(df)"
   ],
   "metadata": {
    "collapsed": false
   }
  },
  {
   "cell_type": "code",
   "execution_count": 32,
   "outputs": [
    {
     "data": {
      "text/plain": "Index(['2004_12_25_03_21_krischan_1000', '2004_12_25_System_System_1001',\n       '2004_12_25_System_System_1002', '2004_12_25_System_System_1003',\n       '2004_12_25_System_System_1004', '2004_12_25_System_System_1005',\n       '2004_12_25_System_System_1006', '2004_12_25_System_System_1007',\n       '2004_12_25_System_System_1008', '2004_12_25_03_32_krischan_1009',\n       ...\n       '2018_02_27_18_05_akik_1490', '2018_02_27_18_07_akik_1491',\n       '2018_02_27_18_07_Saint_Philomena_1492', '2018_02_27_18_08_mzaza_1493',\n       '2018_02_27_18_08_mzaza_1494', '2018_02_27_18_08_nacc_1495',\n       '2018_02_27_18_09_mzaza_1496', '2018_02_27_18_09_akik_1497',\n       '2018_02_27_18_10_Sven_vB_1498', '2018_02_27_18_10_mzaza_1499'],\n      dtype='object', name='uuid', length=71486)"
     },
     "execution_count": 32,
     "metadata": {},
     "output_type": "execute_result"
    }
   ],
   "source": [
    "labeled_df.index"
   ],
   "metadata": {
    "collapsed": false
   }
  },
  {
   "cell_type": "code",
   "execution_count": 118,
   "outputs": [
    {
     "data": {
      "text/plain": "raw            [03:01] <LinuxJones> night all :)\ntimestamp                                  03:01\nuser                                  LinuxJones\nmessage                             night all :)\nfile_ind                                    1000\ndate                                  2004-11-15\nparent                                      1000\nchild                                       1000\nparent_uuid     2004_11_15_03_01_LinuxJones_1000\nName: 2004_11_15_03_01_LinuxJones_1000, dtype: object"
     },
     "execution_count": 118,
     "metadata": {},
     "output_type": "execute_result"
    }
   ],
   "source": [
    "labeled_df.loc[\"2004_11_15_03_01_LinuxJones_1000\"]"
   ],
   "metadata": {
    "collapsed": false
   }
  },
  {
   "cell_type": "code",
   "execution_count": 22,
   "outputs": [
    {
     "data": {
      "text/plain": "                                                                              raw  \\\nuuid                                                                                \n2004_11_15_01_35_djtansey_685   [01:35] <djtansey> i have a problem re: k3b an...   \n2004_11_15_03_41_djtansey_1087  [03:41] <djtansey> does anyone here have k3b e...   \n2004_11_15_03_42_Nafallo_1090   [03:42] <Nafallo> djtansey: k3b won't work wit...   \n2004_11_15_03_43_djtansey_1092   [03:43] <djtansey> Nafallo: so go back to 2.6.7?   \n2004_11_15_03_44_Nafallo_1093   [03:44] <Nafallo> djtansey: yepp, or upgrade t...   \n2004_11_15_03_44_CPayan_1094       [03:44] <CPayan> hmm progression or regression   \n2004_11_15_03_44_CPayan_1094       [03:44] <CPayan> hmm progression or regression   \n2004_11_15_03_44_djtansey_1095  [03:44] <djtansey> Nafallo: thanks. i'll see i...   \n2004_11_15_03_44_jdub_1096      [03:44] <jdub> it will work with the ubuntu ke...   \n2004_11_15_03_44_djtansey_1097                 [03:44] <djtansey> jdub: k3b will?   \n2004_11_15_03_44_jdub_1098      [03:44] <jdub> no, there's no 2.6.9 in warty o...   \n2004_11_15_03_44_jdub_1099                                     [03:44] <jdub> yes   \n2004_11_15_03_45_jdub_1100      [03:45] <jdub> there are plenty of people usin...   \n2004_11_15_03_45_Nafallo_1101   [03:45] <Nafallo> jdub: never worked with ANY ...   \n2004_11_15_03_45_djtansey_1102  [03:45] <djtansey> jdub: then any guess as to ...   \n2004_11_15_03_45_Nafallo_1103   [03:45] <Nafallo> jdub: that's with both ubunt...   \n2004_11_15_03_45_jdub_1104      [03:45] <jdub> dunno if there's a FAQ or somet...   \n2004_11_15_03_45_djtansey_1105  [03:45] <djtansey> jdub: i did. nothing i coul...   \n2004_11_15_03_45_Nafallo_1106            [03:45] <Nafallo> opss, typo! 2.6.8* ;-)   \n2004_11_15_03_46_djtansey_1107  [03:46] <djtansey> jdub: other than some k3bse...   \n2004_11_15_03_46_djtansey_1108  [03:46] <djtansey> Nafallo: but it works with ...   \n2004_11_15_03_46_Nafallo_1109   [03:46] <Nafallo> jdub: k3b and 2.6.8|2.6.8.1 ...   \n2004_11_15_03_46_Nafallo_1110                    [03:46] <Nafallo> djtansey: yes.   \n2004_11_15_03_47_Nafallo_1111   [03:47] <Nafallo> djtansey: and it should be f...   \n2004_11_15_03_47_jdub_1112      [03:47] <jdub> Nafallo: the ubuntu kernels do ...   \n2004_11_15_03_47_djtansey_1113                [03:47] <djtansey> Nafallo: thanks.   \n2004_11_15_03_48_jdub_1114      [03:48] <jdub> plenty of other people are usin...   \n2004_11_15_03_48_Nafallo_1115   [03:48] <Nafallo> jdub: how come when I TRIED ...   \n2004_11_15_03_48_Nafallo_1116   [03:48] <Nafallo> jdub: same thing with my gir...   \n2004_11_15_03_48_jdub_1117      [03:48] <jdub> i don't know your particular ci...   \n2004_11_15_03_48_jdub_1118           [03:48] <jdub> i can only relate what i know   \n2004_11_15_03_48_Nafallo_1119          [03:48] <Nafallo> it just doesn't work :-)   \n2004_11_15_03_48_Nafallo_1120                  [03:48] <Nafallo> jdub: same here.   \n2004_11_15_03_48_jdub_1121           [03:48] <jdub> that may be true in your case   \n2004_11_15_03_48_jdub_1122      [03:48] <jdub> but it is not the case for many...   \n2004_11_15_03_50_Nafallo_1123   [03:50] <Nafallo> jdub: maybe it's just drive ...   \n2004_11_15_03_50_jdub_1124                            [03:50] <jdub> i don't know   \n2004_11_15_03_50_Nafallo_1125   [03:50] <Nafallo> jdub: but then, I got both a...   \n2004_11_15_03_51_Nafallo_1127   [03:51] <Nafallo> it might be that I'm running...   \n2004_11_15_03_51_djtansey_1128  [03:51] <djtansey> Nafallo: but i can use cdre...   \n2004_11_15_03_52_Nafallo_1129   [03:52] <Nafallo> djtansey: yepp, I've given u...   \n2004_11_15_03_52_djtansey_1132  [03:52] <djtansey> Nafallo: usually that's wha...   \n2004_11_15_03_53_ajmitch_1133   [03:53] <ajmitch> djtansey: running k3b with s...   \n2004_11_15_03_54_ajmitch_1134   [03:54] <ajmitch> not that it should matter wi...   \n2004_11_15_03_54_djtansey_1136  [03:54] <djtansey> ajmitch: no. but i gave k3b...   \n2004_11_15_03_55_Nafallo_1139   [03:55] <Nafallo> djtansey: k3b doesn't have r...   \n2004_11_15_03_55_Nafallo_1140   [03:55] <Nafallo> djtansey: cdrecord and cdrda...   \n2004_11_15_03_57_djtansey_1143  [03:57] <djtansey> Nafallo: that's why i meant...   \n\n                               timestamp      user  \\\nuuid                                                 \n2004_11_15_01_35_djtansey_685      01:35  djtansey   \n2004_11_15_03_41_djtansey_1087     03:41  djtansey   \n2004_11_15_03_42_Nafallo_1090      03:42   Nafallo   \n2004_11_15_03_43_djtansey_1092     03:43  djtansey   \n2004_11_15_03_44_Nafallo_1093      03:44   Nafallo   \n2004_11_15_03_44_CPayan_1094       03:44    CPayan   \n2004_11_15_03_44_CPayan_1094       03:44    CPayan   \n2004_11_15_03_44_djtansey_1095     03:44  djtansey   \n2004_11_15_03_44_jdub_1096         03:44      jdub   \n2004_11_15_03_44_djtansey_1097     03:44  djtansey   \n2004_11_15_03_44_jdub_1098         03:44      jdub   \n2004_11_15_03_44_jdub_1099         03:44      jdub   \n2004_11_15_03_45_jdub_1100         03:45      jdub   \n2004_11_15_03_45_Nafallo_1101      03:45   Nafallo   \n2004_11_15_03_45_djtansey_1102     03:45  djtansey   \n2004_11_15_03_45_Nafallo_1103      03:45   Nafallo   \n2004_11_15_03_45_jdub_1104         03:45      jdub   \n2004_11_15_03_45_djtansey_1105     03:45  djtansey   \n2004_11_15_03_45_Nafallo_1106      03:45   Nafallo   \n2004_11_15_03_46_djtansey_1107     03:46  djtansey   \n2004_11_15_03_46_djtansey_1108     03:46  djtansey   \n2004_11_15_03_46_Nafallo_1109      03:46   Nafallo   \n2004_11_15_03_46_Nafallo_1110      03:46   Nafallo   \n2004_11_15_03_47_Nafallo_1111      03:47   Nafallo   \n2004_11_15_03_47_jdub_1112         03:47      jdub   \n2004_11_15_03_47_djtansey_1113     03:47  djtansey   \n2004_11_15_03_48_jdub_1114         03:48      jdub   \n2004_11_15_03_48_Nafallo_1115      03:48   Nafallo   \n2004_11_15_03_48_Nafallo_1116      03:48   Nafallo   \n2004_11_15_03_48_jdub_1117         03:48      jdub   \n2004_11_15_03_48_jdub_1118         03:48      jdub   \n2004_11_15_03_48_Nafallo_1119      03:48   Nafallo   \n2004_11_15_03_48_Nafallo_1120      03:48   Nafallo   \n2004_11_15_03_48_jdub_1121         03:48      jdub   \n2004_11_15_03_48_jdub_1122         03:48      jdub   \n2004_11_15_03_50_Nafallo_1123      03:50   Nafallo   \n2004_11_15_03_50_jdub_1124         03:50      jdub   \n2004_11_15_03_50_Nafallo_1125      03:50   Nafallo   \n2004_11_15_03_51_Nafallo_1127      03:51   Nafallo   \n2004_11_15_03_51_djtansey_1128     03:51  djtansey   \n2004_11_15_03_52_Nafallo_1129      03:52   Nafallo   \n2004_11_15_03_52_djtansey_1132     03:52  djtansey   \n2004_11_15_03_53_ajmitch_1133      03:53   ajmitch   \n2004_11_15_03_54_ajmitch_1134      03:54   ajmitch   \n2004_11_15_03_54_djtansey_1136     03:54  djtansey   \n2004_11_15_03_55_Nafallo_1139      03:55   Nafallo   \n2004_11_15_03_55_Nafallo_1140      03:55   Nafallo   \n2004_11_15_03_57_djtansey_1143     03:57  djtansey   \n\n                                                                          message  \\\nuuid                                                                                \n2004_11_15_01_35_djtansey_685    i have a problem re: k3b and am looking for s...   \n2004_11_15_03_41_djtansey_1087   does anyone here have k3b experience? i can r...   \n2004_11_15_03_42_Nafallo_1090    djtansey: k3b won't work with kernel 2.6.8|2....   \n2004_11_15_03_43_djtansey_1092                      Nafallo: so go back to 2.6.7?   \n2004_11_15_03_44_Nafallo_1093                 djtansey: yepp, or upgrade to 2.6.9   \n2004_11_15_03_44_CPayan_1094                        hmm progression or regression   \n2004_11_15_03_44_CPayan_1094                        hmm progression or regression   \n2004_11_15_03_44_djtansey_1095   Nafallo: thanks. i'll see if ubuntu has 2.6.9...   \n2004_11_15_03_44_jdub_1096                    it will work with the ubuntu kernel   \n2004_11_15_03_44_djtansey_1097                                    jdub: k3b will?   \n2004_11_15_03_44_jdub_1098                 no, there's no 2.6.9 in warty or hoary   \n2004_11_15_03_44_jdub_1099                                                    yes   \n2004_11_15_03_45_jdub_1100                    there are plenty of people using it   \n2004_11_15_03_45_Nafallo_1101          jdub: never worked with ANY 2.6 for me :-P   \n2004_11_15_03_45_djtansey_1102    jdub: then any guess as to what the problem is?   \n2004_11_15_03_45_Nafallo_1103    jdub: that's with both ubuntu and debian kern...   \n2004_11_15_03_45_jdub_1104       dunno if there's a FAQ or something on the we...   \n2004_11_15_03_45_djtansey_1105   jdub: i did. nothing i could find that was re...   \n2004_11_15_03_45_Nafallo_1106                              opss, typo! 2.6.8* ;-)   \n2004_11_15_03_46_djtansey_1107   jdub: other than some k3bsetup .ICEauthority ...   \n2004_11_15_03_46_djtansey_1108          Nafallo: but it works with 2.6.7 for you?   \n2004_11_15_03_46_Nafallo_1109    jdub: k3b and 2.6.8|2.6.8.1 on both my comput...   \n2004_11_15_03_46_Nafallo_1110                                      djtansey: yes.   \n2004_11_15_03_47_Nafallo_1111    djtansey: and it should be fixed in 2.6.9 als...   \n2004_11_15_03_47_jdub_1112       Nafallo: the ubuntu kernels do not have those...   \n2004_11_15_03_47_djtansey_1113                                   Nafallo: thanks.   \n2004_11_15_03_48_jdub_1114       plenty of other people are using k3b with ubuntu   \n2004_11_15_03_48_Nafallo_1115    jdub: how come when I TRIED with ubuntu k3b c...   \n2004_11_15_03_48_Nafallo_1116                jdub: same thing with my girlfriend.   \n2004_11_15_03_48_jdub_1117             i don't know your particular circumstances   \n2004_11_15_03_48_jdub_1118                          i can only relate what i know   \n2004_11_15_03_48_Nafallo_1119                            it just doesn't work :-)   \n2004_11_15_03_48_Nafallo_1120                                    jdub: same here.   \n2004_11_15_03_48_jdub_1121                          that may be true in your case   \n2004_11_15_03_48_jdub_1122            but it is not the case for many other users   \n2004_11_15_03_50_Nafallo_1123               jdub: maybe it's just drive specific?   \n2004_11_15_03_50_jdub_1124                                           i don't know   \n2004_11_15_03_50_Nafallo_1125    jdub: but then, I got both a samsung and a to...   \n2004_11_15_03_51_Nafallo_1127    it might be that I'm running my cd-rws as ide...   \n2004_11_15_03_51_djtansey_1128   Nafallo: but i can use cdrecord dev=/dev/hdc ...   \n2004_11_15_03_52_Nafallo_1129    djtansey: yepp, I've given up on the subject ...   \n2004_11_15_03_52_djtansey_1132   Nafallo: usually that's what i do. unfortunat...   \n2004_11_15_03_53_ajmitch_1133                    djtansey: running k3b with sudo?   \n2004_11_15_03_54_ajmitch_1134    not that it should matter with the patched ke...   \n2004_11_15_03_54_djtansey_1136   ajmitch: no. but i gave k3b my root password ...   \n2004_11_15_03_55_Nafallo_1139        djtansey: k3b doesn't have root permissions.   \n2004_11_15_03_55_Nafallo_1140             djtansey: cdrecord and cdrdao have :-).   \n2004_11_15_03_57_djtansey_1143   Nafallo: that's why i meants by \"those apps.\"...   \n\n                                file_ind        date  parent   child  \\\nuuid                                                                   \n2004_11_15_01_35_djtansey_685        685  2004-11-15   685.0   685.0   \n2004_11_15_03_41_djtansey_1087      1087  2004-11-15   685.0  1087.0   \n2004_11_15_03_42_Nafallo_1090       1090  2004-11-15  1087.0  1090.0   \n2004_11_15_03_43_djtansey_1092      1092  2004-11-15  1090.0  1092.0   \n2004_11_15_03_44_Nafallo_1093       1093  2004-11-15  1092.0  1093.0   \n2004_11_15_03_44_CPayan_1094        1094  2004-11-15  1092.0  1094.0   \n2004_11_15_03_44_CPayan_1094        1094  2004-11-15  1093.0  1094.0   \n2004_11_15_03_44_djtansey_1095      1095  2004-11-15  1093.0  1095.0   \n2004_11_15_03_44_jdub_1096          1096  2004-11-15  1090.0  1096.0   \n2004_11_15_03_44_djtansey_1097      1097  2004-11-15  1096.0  1097.0   \n2004_11_15_03_44_jdub_1098          1098  2004-11-15  1095.0  1098.0   \n2004_11_15_03_44_jdub_1099          1099  2004-11-15  1097.0  1099.0   \n2004_11_15_03_45_jdub_1100          1100  2004-11-15  1097.0  1100.0   \n2004_11_15_03_45_Nafallo_1101       1101  2004-11-15  1096.0  1101.0   \n2004_11_15_03_45_djtansey_1102      1102  2004-11-15  1096.0  1102.0   \n2004_11_15_03_45_Nafallo_1103       1103  2004-11-15  1101.0  1103.0   \n2004_11_15_03_45_jdub_1104          1104  2004-11-15  1102.0  1104.0   \n2004_11_15_03_45_djtansey_1105      1105  2004-11-15  1104.0  1105.0   \n2004_11_15_03_45_Nafallo_1106       1106  2004-11-15  1101.0  1106.0   \n2004_11_15_03_46_djtansey_1107      1107  2004-11-15  1105.0  1107.0   \n2004_11_15_03_46_djtansey_1108      1108  2004-11-15  1106.0  1108.0   \n2004_11_15_03_46_Nafallo_1109       1109  2004-11-15  1096.0  1109.0   \n2004_11_15_03_46_Nafallo_1110       1110  2004-11-15  1108.0  1110.0   \n2004_11_15_03_47_Nafallo_1111       1111  2004-11-15  1110.0  1111.0   \n2004_11_15_03_47_jdub_1112          1112  2004-11-15  1109.0  1112.0   \n2004_11_15_03_47_djtansey_1113      1113  2004-11-15  1111.0  1113.0   \n2004_11_15_03_48_jdub_1114          1114  2004-11-15  1101.0  1114.0   \n2004_11_15_03_48_Nafallo_1115       1115  2004-11-15  1114.0  1115.0   \n2004_11_15_03_48_Nafallo_1116       1116  2004-11-15  1115.0  1116.0   \n2004_11_15_03_48_jdub_1117          1117  2004-11-15  1115.0  1117.0   \n2004_11_15_03_48_jdub_1118          1118  2004-11-15  1115.0  1118.0   \n2004_11_15_03_48_Nafallo_1119       1119  2004-11-15  1117.0  1119.0   \n2004_11_15_03_48_Nafallo_1120       1120  2004-11-15  1118.0  1120.0   \n2004_11_15_03_48_jdub_1121          1121  2004-11-15  1119.0  1121.0   \n2004_11_15_03_48_jdub_1122          1122  2004-11-15  1121.0  1122.0   \n2004_11_15_03_50_Nafallo_1123       1123  2004-11-15  1122.0  1123.0   \n2004_11_15_03_50_jdub_1124          1124  2004-11-15  1123.0  1124.0   \n2004_11_15_03_50_Nafallo_1125       1125  2004-11-15  1123.0  1125.0   \n2004_11_15_03_51_Nafallo_1127       1127  2004-11-15  1125.0  1127.0   \n2004_11_15_03_51_djtansey_1128      1128  2004-11-15  1127.0  1128.0   \n2004_11_15_03_52_Nafallo_1129       1129  2004-11-15  1128.0  1129.0   \n2004_11_15_03_52_djtansey_1132      1132  2004-11-15  1129.0  1132.0   \n2004_11_15_03_53_ajmitch_1133       1133  2004-11-15  1128.0  1133.0   \n2004_11_15_03_54_ajmitch_1134       1134  2004-11-15  1133.0  1134.0   \n2004_11_15_03_54_djtansey_1136      1136  2004-11-15  1133.0  1136.0   \n2004_11_15_03_55_Nafallo_1139       1139  2004-11-15  1136.0  1139.0   \n2004_11_15_03_55_Nafallo_1140       1140  2004-11-15  1139.0  1140.0   \n2004_11_15_03_57_djtansey_1143      1143  2004-11-15  1140.0  1143.0   \n\n                                file_ind_parent  \\\nuuid                                              \n2004_11_15_01_35_djtansey_685             685.0   \n2004_11_15_03_41_djtansey_1087            685.0   \n2004_11_15_03_42_Nafallo_1090            1087.0   \n2004_11_15_03_43_djtansey_1092           1090.0   \n2004_11_15_03_44_Nafallo_1093            1092.0   \n2004_11_15_03_44_CPayan_1094             1092.0   \n2004_11_15_03_44_CPayan_1094             1093.0   \n2004_11_15_03_44_djtansey_1095           1093.0   \n2004_11_15_03_44_jdub_1096               1090.0   \n2004_11_15_03_44_djtansey_1097           1096.0   \n2004_11_15_03_44_jdub_1098               1095.0   \n2004_11_15_03_44_jdub_1099               1097.0   \n2004_11_15_03_45_jdub_1100               1097.0   \n2004_11_15_03_45_Nafallo_1101            1096.0   \n2004_11_15_03_45_djtansey_1102           1096.0   \n2004_11_15_03_45_Nafallo_1103            1101.0   \n2004_11_15_03_45_jdub_1104               1102.0   \n2004_11_15_03_45_djtansey_1105           1104.0   \n2004_11_15_03_45_Nafallo_1106            1101.0   \n2004_11_15_03_46_djtansey_1107           1105.0   \n2004_11_15_03_46_djtansey_1108           1106.0   \n2004_11_15_03_46_Nafallo_1109            1096.0   \n2004_11_15_03_46_Nafallo_1110            1108.0   \n2004_11_15_03_47_Nafallo_1111            1110.0   \n2004_11_15_03_47_jdub_1112               1109.0   \n2004_11_15_03_47_djtansey_1113           1111.0   \n2004_11_15_03_48_jdub_1114               1101.0   \n2004_11_15_03_48_Nafallo_1115            1114.0   \n2004_11_15_03_48_Nafallo_1116            1115.0   \n2004_11_15_03_48_jdub_1117               1115.0   \n2004_11_15_03_48_jdub_1118               1115.0   \n2004_11_15_03_48_Nafallo_1119            1117.0   \n2004_11_15_03_48_Nafallo_1120            1118.0   \n2004_11_15_03_48_jdub_1121               1119.0   \n2004_11_15_03_48_jdub_1122               1121.0   \n2004_11_15_03_50_Nafallo_1123            1122.0   \n2004_11_15_03_50_jdub_1124               1123.0   \n2004_11_15_03_50_Nafallo_1125            1123.0   \n2004_11_15_03_51_Nafallo_1127            1125.0   \n2004_11_15_03_51_djtansey_1128           1127.0   \n2004_11_15_03_52_Nafallo_1129            1128.0   \n2004_11_15_03_52_djtansey_1132           1129.0   \n2004_11_15_03_53_ajmitch_1133            1128.0   \n2004_11_15_03_54_ajmitch_1134            1133.0   \n2004_11_15_03_54_djtansey_1136           1133.0   \n2004_11_15_03_55_Nafallo_1139            1136.0   \n2004_11_15_03_55_Nafallo_1140            1139.0   \n2004_11_15_03_57_djtansey_1143           1140.0   \n\n                                                   uuid_parent  \nuuid                                                            \n2004_11_15_01_35_djtansey_685    2004_11_15_01_35_djtansey_685  \n2004_11_15_03_41_djtansey_1087   2004_11_15_01_35_djtansey_685  \n2004_11_15_03_42_Nafallo_1090   2004_11_15_03_41_djtansey_1087  \n2004_11_15_03_43_djtansey_1092   2004_11_15_03_42_Nafallo_1090  \n2004_11_15_03_44_Nafallo_1093   2004_11_15_03_43_djtansey_1092  \n2004_11_15_03_44_CPayan_1094    2004_11_15_03_43_djtansey_1092  \n2004_11_15_03_44_CPayan_1094     2004_11_15_03_44_Nafallo_1093  \n2004_11_15_03_44_djtansey_1095   2004_11_15_03_44_Nafallo_1093  \n2004_11_15_03_44_jdub_1096       2004_11_15_03_42_Nafallo_1090  \n2004_11_15_03_44_djtansey_1097      2004_11_15_03_44_jdub_1096  \n2004_11_15_03_44_jdub_1098      2004_11_15_03_44_djtansey_1095  \n2004_11_15_03_44_jdub_1099      2004_11_15_03_44_djtansey_1097  \n2004_11_15_03_45_jdub_1100      2004_11_15_03_44_djtansey_1097  \n2004_11_15_03_45_Nafallo_1101       2004_11_15_03_44_jdub_1096  \n2004_11_15_03_45_djtansey_1102      2004_11_15_03_44_jdub_1096  \n2004_11_15_03_45_Nafallo_1103    2004_11_15_03_45_Nafallo_1101  \n2004_11_15_03_45_jdub_1104      2004_11_15_03_45_djtansey_1102  \n2004_11_15_03_45_djtansey_1105      2004_11_15_03_45_jdub_1104  \n2004_11_15_03_45_Nafallo_1106    2004_11_15_03_45_Nafallo_1101  \n2004_11_15_03_46_djtansey_1107  2004_11_15_03_45_djtansey_1105  \n2004_11_15_03_46_djtansey_1108   2004_11_15_03_45_Nafallo_1106  \n2004_11_15_03_46_Nafallo_1109       2004_11_15_03_44_jdub_1096  \n2004_11_15_03_46_Nafallo_1110   2004_11_15_03_46_djtansey_1108  \n2004_11_15_03_47_Nafallo_1111    2004_11_15_03_46_Nafallo_1110  \n2004_11_15_03_47_jdub_1112       2004_11_15_03_46_Nafallo_1109  \n2004_11_15_03_47_djtansey_1113   2004_11_15_03_47_Nafallo_1111  \n2004_11_15_03_48_jdub_1114       2004_11_15_03_45_Nafallo_1101  \n2004_11_15_03_48_Nafallo_1115       2004_11_15_03_48_jdub_1114  \n2004_11_15_03_48_Nafallo_1116    2004_11_15_03_48_Nafallo_1115  \n2004_11_15_03_48_jdub_1117       2004_11_15_03_48_Nafallo_1115  \n2004_11_15_03_48_jdub_1118       2004_11_15_03_48_Nafallo_1115  \n2004_11_15_03_48_Nafallo_1119       2004_11_15_03_48_jdub_1117  \n2004_11_15_03_48_Nafallo_1120       2004_11_15_03_48_jdub_1118  \n2004_11_15_03_48_jdub_1121       2004_11_15_03_48_Nafallo_1119  \n2004_11_15_03_48_jdub_1122          2004_11_15_03_48_jdub_1121  \n2004_11_15_03_50_Nafallo_1123       2004_11_15_03_48_jdub_1122  \n2004_11_15_03_50_jdub_1124       2004_11_15_03_50_Nafallo_1123  \n2004_11_15_03_50_Nafallo_1125    2004_11_15_03_50_Nafallo_1123  \n2004_11_15_03_51_Nafallo_1127    2004_11_15_03_50_Nafallo_1125  \n2004_11_15_03_51_djtansey_1128   2004_11_15_03_51_Nafallo_1127  \n2004_11_15_03_52_Nafallo_1129   2004_11_15_03_51_djtansey_1128  \n2004_11_15_03_52_djtansey_1132   2004_11_15_03_52_Nafallo_1129  \n2004_11_15_03_53_ajmitch_1133   2004_11_15_03_51_djtansey_1128  \n2004_11_15_03_54_ajmitch_1134    2004_11_15_03_53_ajmitch_1133  \n2004_11_15_03_54_djtansey_1136   2004_11_15_03_53_ajmitch_1133  \n2004_11_15_03_55_Nafallo_1139   2004_11_15_03_54_djtansey_1136  \n2004_11_15_03_55_Nafallo_1140    2004_11_15_03_55_Nafallo_1139  \n2004_11_15_03_57_djtansey_1143   2004_11_15_03_55_Nafallo_1140  ",
      "text/html": "<div>\n<style scoped>\n    .dataframe tbody tr th:only-of-type {\n        vertical-align: middle;\n    }\n\n    .dataframe tbody tr th {\n        vertical-align: top;\n    }\n\n    .dataframe thead th {\n        text-align: right;\n    }\n</style>\n<table border=\"1\" class=\"dataframe\">\n  <thead>\n    <tr style=\"text-align: right;\">\n      <th></th>\n      <th>raw</th>\n      <th>timestamp</th>\n      <th>user</th>\n      <th>message</th>\n      <th>file_ind</th>\n      <th>date</th>\n      <th>parent</th>\n      <th>child</th>\n      <th>file_ind_parent</th>\n      <th>uuid_parent</th>\n    </tr>\n    <tr>\n      <th>uuid</th>\n      <th></th>\n      <th></th>\n      <th></th>\n      <th></th>\n      <th></th>\n      <th></th>\n      <th></th>\n      <th></th>\n      <th></th>\n      <th></th>\n    </tr>\n  </thead>\n  <tbody>\n    <tr>\n      <th>2004_11_15_01_35_djtansey_685</th>\n      <td>[01:35] &lt;djtansey&gt; i have a problem re: k3b an...</td>\n      <td>01:35</td>\n      <td>djtansey</td>\n      <td>i have a problem re: k3b and am looking for s...</td>\n      <td>685</td>\n      <td>2004-11-15</td>\n      <td>685.0</td>\n      <td>685.0</td>\n      <td>685.0</td>\n      <td>2004_11_15_01_35_djtansey_685</td>\n    </tr>\n    <tr>\n      <th>2004_11_15_03_41_djtansey_1087</th>\n      <td>[03:41] &lt;djtansey&gt; does anyone here have k3b e...</td>\n      <td>03:41</td>\n      <td>djtansey</td>\n      <td>does anyone here have k3b experience? i can r...</td>\n      <td>1087</td>\n      <td>2004-11-15</td>\n      <td>685.0</td>\n      <td>1087.0</td>\n      <td>685.0</td>\n      <td>2004_11_15_01_35_djtansey_685</td>\n    </tr>\n    <tr>\n      <th>2004_11_15_03_42_Nafallo_1090</th>\n      <td>[03:42] &lt;Nafallo&gt; djtansey: k3b won't work wit...</td>\n      <td>03:42</td>\n      <td>Nafallo</td>\n      <td>djtansey: k3b won't work with kernel 2.6.8|2....</td>\n      <td>1090</td>\n      <td>2004-11-15</td>\n      <td>1087.0</td>\n      <td>1090.0</td>\n      <td>1087.0</td>\n      <td>2004_11_15_03_41_djtansey_1087</td>\n    </tr>\n    <tr>\n      <th>2004_11_15_03_43_djtansey_1092</th>\n      <td>[03:43] &lt;djtansey&gt; Nafallo: so go back to 2.6.7?</td>\n      <td>03:43</td>\n      <td>djtansey</td>\n      <td>Nafallo: so go back to 2.6.7?</td>\n      <td>1092</td>\n      <td>2004-11-15</td>\n      <td>1090.0</td>\n      <td>1092.0</td>\n      <td>1090.0</td>\n      <td>2004_11_15_03_42_Nafallo_1090</td>\n    </tr>\n    <tr>\n      <th>2004_11_15_03_44_Nafallo_1093</th>\n      <td>[03:44] &lt;Nafallo&gt; djtansey: yepp, or upgrade t...</td>\n      <td>03:44</td>\n      <td>Nafallo</td>\n      <td>djtansey: yepp, or upgrade to 2.6.9</td>\n      <td>1093</td>\n      <td>2004-11-15</td>\n      <td>1092.0</td>\n      <td>1093.0</td>\n      <td>1092.0</td>\n      <td>2004_11_15_03_43_djtansey_1092</td>\n    </tr>\n    <tr>\n      <th>2004_11_15_03_44_CPayan_1094</th>\n      <td>[03:44] &lt;CPayan&gt; hmm progression or regression</td>\n      <td>03:44</td>\n      <td>CPayan</td>\n      <td>hmm progression or regression</td>\n      <td>1094</td>\n      <td>2004-11-15</td>\n      <td>1092.0</td>\n      <td>1094.0</td>\n      <td>1092.0</td>\n      <td>2004_11_15_03_43_djtansey_1092</td>\n    </tr>\n    <tr>\n      <th>2004_11_15_03_44_CPayan_1094</th>\n      <td>[03:44] &lt;CPayan&gt; hmm progression or regression</td>\n      <td>03:44</td>\n      <td>CPayan</td>\n      <td>hmm progression or regression</td>\n      <td>1094</td>\n      <td>2004-11-15</td>\n      <td>1093.0</td>\n      <td>1094.0</td>\n      <td>1093.0</td>\n      <td>2004_11_15_03_44_Nafallo_1093</td>\n    </tr>\n    <tr>\n      <th>2004_11_15_03_44_djtansey_1095</th>\n      <td>[03:44] &lt;djtansey&gt; Nafallo: thanks. i'll see i...</td>\n      <td>03:44</td>\n      <td>djtansey</td>\n      <td>Nafallo: thanks. i'll see if ubuntu has 2.6.9...</td>\n      <td>1095</td>\n      <td>2004-11-15</td>\n      <td>1093.0</td>\n      <td>1095.0</td>\n      <td>1093.0</td>\n      <td>2004_11_15_03_44_Nafallo_1093</td>\n    </tr>\n    <tr>\n      <th>2004_11_15_03_44_jdub_1096</th>\n      <td>[03:44] &lt;jdub&gt; it will work with the ubuntu ke...</td>\n      <td>03:44</td>\n      <td>jdub</td>\n      <td>it will work with the ubuntu kernel</td>\n      <td>1096</td>\n      <td>2004-11-15</td>\n      <td>1090.0</td>\n      <td>1096.0</td>\n      <td>1090.0</td>\n      <td>2004_11_15_03_42_Nafallo_1090</td>\n    </tr>\n    <tr>\n      <th>2004_11_15_03_44_djtansey_1097</th>\n      <td>[03:44] &lt;djtansey&gt; jdub: k3b will?</td>\n      <td>03:44</td>\n      <td>djtansey</td>\n      <td>jdub: k3b will?</td>\n      <td>1097</td>\n      <td>2004-11-15</td>\n      <td>1096.0</td>\n      <td>1097.0</td>\n      <td>1096.0</td>\n      <td>2004_11_15_03_44_jdub_1096</td>\n    </tr>\n    <tr>\n      <th>2004_11_15_03_44_jdub_1098</th>\n      <td>[03:44] &lt;jdub&gt; no, there's no 2.6.9 in warty o...</td>\n      <td>03:44</td>\n      <td>jdub</td>\n      <td>no, there's no 2.6.9 in warty or hoary</td>\n      <td>1098</td>\n      <td>2004-11-15</td>\n      <td>1095.0</td>\n      <td>1098.0</td>\n      <td>1095.0</td>\n      <td>2004_11_15_03_44_djtansey_1095</td>\n    </tr>\n    <tr>\n      <th>2004_11_15_03_44_jdub_1099</th>\n      <td>[03:44] &lt;jdub&gt; yes</td>\n      <td>03:44</td>\n      <td>jdub</td>\n      <td>yes</td>\n      <td>1099</td>\n      <td>2004-11-15</td>\n      <td>1097.0</td>\n      <td>1099.0</td>\n      <td>1097.0</td>\n      <td>2004_11_15_03_44_djtansey_1097</td>\n    </tr>\n    <tr>\n      <th>2004_11_15_03_45_jdub_1100</th>\n      <td>[03:45] &lt;jdub&gt; there are plenty of people usin...</td>\n      <td>03:45</td>\n      <td>jdub</td>\n      <td>there are plenty of people using it</td>\n      <td>1100</td>\n      <td>2004-11-15</td>\n      <td>1097.0</td>\n      <td>1100.0</td>\n      <td>1097.0</td>\n      <td>2004_11_15_03_44_djtansey_1097</td>\n    </tr>\n    <tr>\n      <th>2004_11_15_03_45_Nafallo_1101</th>\n      <td>[03:45] &lt;Nafallo&gt; jdub: never worked with ANY ...</td>\n      <td>03:45</td>\n      <td>Nafallo</td>\n      <td>jdub: never worked with ANY 2.6 for me :-P</td>\n      <td>1101</td>\n      <td>2004-11-15</td>\n      <td>1096.0</td>\n      <td>1101.0</td>\n      <td>1096.0</td>\n      <td>2004_11_15_03_44_jdub_1096</td>\n    </tr>\n    <tr>\n      <th>2004_11_15_03_45_djtansey_1102</th>\n      <td>[03:45] &lt;djtansey&gt; jdub: then any guess as to ...</td>\n      <td>03:45</td>\n      <td>djtansey</td>\n      <td>jdub: then any guess as to what the problem is?</td>\n      <td>1102</td>\n      <td>2004-11-15</td>\n      <td>1096.0</td>\n      <td>1102.0</td>\n      <td>1096.0</td>\n      <td>2004_11_15_03_44_jdub_1096</td>\n    </tr>\n    <tr>\n      <th>2004_11_15_03_45_Nafallo_1103</th>\n      <td>[03:45] &lt;Nafallo&gt; jdub: that's with both ubunt...</td>\n      <td>03:45</td>\n      <td>Nafallo</td>\n      <td>jdub: that's with both ubuntu and debian kern...</td>\n      <td>1103</td>\n      <td>2004-11-15</td>\n      <td>1101.0</td>\n      <td>1103.0</td>\n      <td>1101.0</td>\n      <td>2004_11_15_03_45_Nafallo_1101</td>\n    </tr>\n    <tr>\n      <th>2004_11_15_03_45_jdub_1104</th>\n      <td>[03:45] &lt;jdub&gt; dunno if there's a FAQ or somet...</td>\n      <td>03:45</td>\n      <td>jdub</td>\n      <td>dunno if there's a FAQ or something on the we...</td>\n      <td>1104</td>\n      <td>2004-11-15</td>\n      <td>1102.0</td>\n      <td>1104.0</td>\n      <td>1102.0</td>\n      <td>2004_11_15_03_45_djtansey_1102</td>\n    </tr>\n    <tr>\n      <th>2004_11_15_03_45_djtansey_1105</th>\n      <td>[03:45] &lt;djtansey&gt; jdub: i did. nothing i coul...</td>\n      <td>03:45</td>\n      <td>djtansey</td>\n      <td>jdub: i did. nothing i could find that was re...</td>\n      <td>1105</td>\n      <td>2004-11-15</td>\n      <td>1104.0</td>\n      <td>1105.0</td>\n      <td>1104.0</td>\n      <td>2004_11_15_03_45_jdub_1104</td>\n    </tr>\n    <tr>\n      <th>2004_11_15_03_45_Nafallo_1106</th>\n      <td>[03:45] &lt;Nafallo&gt; opss, typo! 2.6.8* ;-)</td>\n      <td>03:45</td>\n      <td>Nafallo</td>\n      <td>opss, typo! 2.6.8* ;-)</td>\n      <td>1106</td>\n      <td>2004-11-15</td>\n      <td>1101.0</td>\n      <td>1106.0</td>\n      <td>1101.0</td>\n      <td>2004_11_15_03_45_Nafallo_1101</td>\n    </tr>\n    <tr>\n      <th>2004_11_15_03_46_djtansey_1107</th>\n      <td>[03:46] &lt;djtansey&gt; jdub: other than some k3bse...</td>\n      <td>03:46</td>\n      <td>djtansey</td>\n      <td>jdub: other than some k3bsetup .ICEauthority ...</td>\n      <td>1107</td>\n      <td>2004-11-15</td>\n      <td>1105.0</td>\n      <td>1107.0</td>\n      <td>1105.0</td>\n      <td>2004_11_15_03_45_djtansey_1105</td>\n    </tr>\n    <tr>\n      <th>2004_11_15_03_46_djtansey_1108</th>\n      <td>[03:46] &lt;djtansey&gt; Nafallo: but it works with ...</td>\n      <td>03:46</td>\n      <td>djtansey</td>\n      <td>Nafallo: but it works with 2.6.7 for you?</td>\n      <td>1108</td>\n      <td>2004-11-15</td>\n      <td>1106.0</td>\n      <td>1108.0</td>\n      <td>1106.0</td>\n      <td>2004_11_15_03_45_Nafallo_1106</td>\n    </tr>\n    <tr>\n      <th>2004_11_15_03_46_Nafallo_1109</th>\n      <td>[03:46] &lt;Nafallo&gt; jdub: k3b and 2.6.8|2.6.8.1 ...</td>\n      <td>03:46</td>\n      <td>Nafallo</td>\n      <td>jdub: k3b and 2.6.8|2.6.8.1 on both my comput...</td>\n      <td>1109</td>\n      <td>2004-11-15</td>\n      <td>1096.0</td>\n      <td>1109.0</td>\n      <td>1096.0</td>\n      <td>2004_11_15_03_44_jdub_1096</td>\n    </tr>\n    <tr>\n      <th>2004_11_15_03_46_Nafallo_1110</th>\n      <td>[03:46] &lt;Nafallo&gt; djtansey: yes.</td>\n      <td>03:46</td>\n      <td>Nafallo</td>\n      <td>djtansey: yes.</td>\n      <td>1110</td>\n      <td>2004-11-15</td>\n      <td>1108.0</td>\n      <td>1110.0</td>\n      <td>1108.0</td>\n      <td>2004_11_15_03_46_djtansey_1108</td>\n    </tr>\n    <tr>\n      <th>2004_11_15_03_47_Nafallo_1111</th>\n      <td>[03:47] &lt;Nafallo&gt; djtansey: and it should be f...</td>\n      <td>03:47</td>\n      <td>Nafallo</td>\n      <td>djtansey: and it should be fixed in 2.6.9 als...</td>\n      <td>1111</td>\n      <td>2004-11-15</td>\n      <td>1110.0</td>\n      <td>1111.0</td>\n      <td>1110.0</td>\n      <td>2004_11_15_03_46_Nafallo_1110</td>\n    </tr>\n    <tr>\n      <th>2004_11_15_03_47_jdub_1112</th>\n      <td>[03:47] &lt;jdub&gt; Nafallo: the ubuntu kernels do ...</td>\n      <td>03:47</td>\n      <td>jdub</td>\n      <td>Nafallo: the ubuntu kernels do not have those...</td>\n      <td>1112</td>\n      <td>2004-11-15</td>\n      <td>1109.0</td>\n      <td>1112.0</td>\n      <td>1109.0</td>\n      <td>2004_11_15_03_46_Nafallo_1109</td>\n    </tr>\n    <tr>\n      <th>2004_11_15_03_47_djtansey_1113</th>\n      <td>[03:47] &lt;djtansey&gt; Nafallo: thanks.</td>\n      <td>03:47</td>\n      <td>djtansey</td>\n      <td>Nafallo: thanks.</td>\n      <td>1113</td>\n      <td>2004-11-15</td>\n      <td>1111.0</td>\n      <td>1113.0</td>\n      <td>1111.0</td>\n      <td>2004_11_15_03_47_Nafallo_1111</td>\n    </tr>\n    <tr>\n      <th>2004_11_15_03_48_jdub_1114</th>\n      <td>[03:48] &lt;jdub&gt; plenty of other people are usin...</td>\n      <td>03:48</td>\n      <td>jdub</td>\n      <td>plenty of other people are using k3b with ubuntu</td>\n      <td>1114</td>\n      <td>2004-11-15</td>\n      <td>1101.0</td>\n      <td>1114.0</td>\n      <td>1101.0</td>\n      <td>2004_11_15_03_45_Nafallo_1101</td>\n    </tr>\n    <tr>\n      <th>2004_11_15_03_48_Nafallo_1115</th>\n      <td>[03:48] &lt;Nafallo&gt; jdub: how come when I TRIED ...</td>\n      <td>03:48</td>\n      <td>Nafallo</td>\n      <td>jdub: how come when I TRIED with ubuntu k3b c...</td>\n      <td>1115</td>\n      <td>2004-11-15</td>\n      <td>1114.0</td>\n      <td>1115.0</td>\n      <td>1114.0</td>\n      <td>2004_11_15_03_48_jdub_1114</td>\n    </tr>\n    <tr>\n      <th>2004_11_15_03_48_Nafallo_1116</th>\n      <td>[03:48] &lt;Nafallo&gt; jdub: same thing with my gir...</td>\n      <td>03:48</td>\n      <td>Nafallo</td>\n      <td>jdub: same thing with my girlfriend.</td>\n      <td>1116</td>\n      <td>2004-11-15</td>\n      <td>1115.0</td>\n      <td>1116.0</td>\n      <td>1115.0</td>\n      <td>2004_11_15_03_48_Nafallo_1115</td>\n    </tr>\n    <tr>\n      <th>2004_11_15_03_48_jdub_1117</th>\n      <td>[03:48] &lt;jdub&gt; i don't know your particular ci...</td>\n      <td>03:48</td>\n      <td>jdub</td>\n      <td>i don't know your particular circumstances</td>\n      <td>1117</td>\n      <td>2004-11-15</td>\n      <td>1115.0</td>\n      <td>1117.0</td>\n      <td>1115.0</td>\n      <td>2004_11_15_03_48_Nafallo_1115</td>\n    </tr>\n    <tr>\n      <th>2004_11_15_03_48_jdub_1118</th>\n      <td>[03:48] &lt;jdub&gt; i can only relate what i know</td>\n      <td>03:48</td>\n      <td>jdub</td>\n      <td>i can only relate what i know</td>\n      <td>1118</td>\n      <td>2004-11-15</td>\n      <td>1115.0</td>\n      <td>1118.0</td>\n      <td>1115.0</td>\n      <td>2004_11_15_03_48_Nafallo_1115</td>\n    </tr>\n    <tr>\n      <th>2004_11_15_03_48_Nafallo_1119</th>\n      <td>[03:48] &lt;Nafallo&gt; it just doesn't work :-)</td>\n      <td>03:48</td>\n      <td>Nafallo</td>\n      <td>it just doesn't work :-)</td>\n      <td>1119</td>\n      <td>2004-11-15</td>\n      <td>1117.0</td>\n      <td>1119.0</td>\n      <td>1117.0</td>\n      <td>2004_11_15_03_48_jdub_1117</td>\n    </tr>\n    <tr>\n      <th>2004_11_15_03_48_Nafallo_1120</th>\n      <td>[03:48] &lt;Nafallo&gt; jdub: same here.</td>\n      <td>03:48</td>\n      <td>Nafallo</td>\n      <td>jdub: same here.</td>\n      <td>1120</td>\n      <td>2004-11-15</td>\n      <td>1118.0</td>\n      <td>1120.0</td>\n      <td>1118.0</td>\n      <td>2004_11_15_03_48_jdub_1118</td>\n    </tr>\n    <tr>\n      <th>2004_11_15_03_48_jdub_1121</th>\n      <td>[03:48] &lt;jdub&gt; that may be true in your case</td>\n      <td>03:48</td>\n      <td>jdub</td>\n      <td>that may be true in your case</td>\n      <td>1121</td>\n      <td>2004-11-15</td>\n      <td>1119.0</td>\n      <td>1121.0</td>\n      <td>1119.0</td>\n      <td>2004_11_15_03_48_Nafallo_1119</td>\n    </tr>\n    <tr>\n      <th>2004_11_15_03_48_jdub_1122</th>\n      <td>[03:48] &lt;jdub&gt; but it is not the case for many...</td>\n      <td>03:48</td>\n      <td>jdub</td>\n      <td>but it is not the case for many other users</td>\n      <td>1122</td>\n      <td>2004-11-15</td>\n      <td>1121.0</td>\n      <td>1122.0</td>\n      <td>1121.0</td>\n      <td>2004_11_15_03_48_jdub_1121</td>\n    </tr>\n    <tr>\n      <th>2004_11_15_03_50_Nafallo_1123</th>\n      <td>[03:50] &lt;Nafallo&gt; jdub: maybe it's just drive ...</td>\n      <td>03:50</td>\n      <td>Nafallo</td>\n      <td>jdub: maybe it's just drive specific?</td>\n      <td>1123</td>\n      <td>2004-11-15</td>\n      <td>1122.0</td>\n      <td>1123.0</td>\n      <td>1122.0</td>\n      <td>2004_11_15_03_48_jdub_1122</td>\n    </tr>\n    <tr>\n      <th>2004_11_15_03_50_jdub_1124</th>\n      <td>[03:50] &lt;jdub&gt; i don't know</td>\n      <td>03:50</td>\n      <td>jdub</td>\n      <td>i don't know</td>\n      <td>1124</td>\n      <td>2004-11-15</td>\n      <td>1123.0</td>\n      <td>1124.0</td>\n      <td>1123.0</td>\n      <td>2004_11_15_03_50_Nafallo_1123</td>\n    </tr>\n    <tr>\n      <th>2004_11_15_03_50_Nafallo_1125</th>\n      <td>[03:50] &lt;Nafallo&gt; jdub: but then, I got both a...</td>\n      <td>03:50</td>\n      <td>Nafallo</td>\n      <td>jdub: but then, I got both a samsung and a to...</td>\n      <td>1125</td>\n      <td>2004-11-15</td>\n      <td>1123.0</td>\n      <td>1125.0</td>\n      <td>1123.0</td>\n      <td>2004_11_15_03_50_Nafallo_1123</td>\n    </tr>\n    <tr>\n      <th>2004_11_15_03_51_Nafallo_1127</th>\n      <td>[03:51] &lt;Nafallo&gt; it might be that I'm running...</td>\n      <td>03:51</td>\n      <td>Nafallo</td>\n      <td>it might be that I'm running my cd-rws as ide...</td>\n      <td>1127</td>\n      <td>2004-11-15</td>\n      <td>1125.0</td>\n      <td>1127.0</td>\n      <td>1125.0</td>\n      <td>2004_11_15_03_50_Nafallo_1125</td>\n    </tr>\n    <tr>\n      <th>2004_11_15_03_51_djtansey_1128</th>\n      <td>[03:51] &lt;djtansey&gt; Nafallo: but i can use cdre...</td>\n      <td>03:51</td>\n      <td>djtansey</td>\n      <td>Nafallo: but i can use cdrecord dev=/dev/hdc ...</td>\n      <td>1128</td>\n      <td>2004-11-15</td>\n      <td>1127.0</td>\n      <td>1128.0</td>\n      <td>1127.0</td>\n      <td>2004_11_15_03_51_Nafallo_1127</td>\n    </tr>\n    <tr>\n      <th>2004_11_15_03_52_Nafallo_1129</th>\n      <td>[03:52] &lt;Nafallo&gt; djtansey: yepp, I've given u...</td>\n      <td>03:52</td>\n      <td>Nafallo</td>\n      <td>djtansey: yepp, I've given up on the subject ...</td>\n      <td>1129</td>\n      <td>2004-11-15</td>\n      <td>1128.0</td>\n      <td>1129.0</td>\n      <td>1128.0</td>\n      <td>2004_11_15_03_51_djtansey_1128</td>\n    </tr>\n    <tr>\n      <th>2004_11_15_03_52_djtansey_1132</th>\n      <td>[03:52] &lt;djtansey&gt; Nafallo: usually that's wha...</td>\n      <td>03:52</td>\n      <td>djtansey</td>\n      <td>Nafallo: usually that's what i do. unfortunat...</td>\n      <td>1132</td>\n      <td>2004-11-15</td>\n      <td>1129.0</td>\n      <td>1132.0</td>\n      <td>1129.0</td>\n      <td>2004_11_15_03_52_Nafallo_1129</td>\n    </tr>\n    <tr>\n      <th>2004_11_15_03_53_ajmitch_1133</th>\n      <td>[03:53] &lt;ajmitch&gt; djtansey: running k3b with s...</td>\n      <td>03:53</td>\n      <td>ajmitch</td>\n      <td>djtansey: running k3b with sudo?</td>\n      <td>1133</td>\n      <td>2004-11-15</td>\n      <td>1128.0</td>\n      <td>1133.0</td>\n      <td>1128.0</td>\n      <td>2004_11_15_03_51_djtansey_1128</td>\n    </tr>\n    <tr>\n      <th>2004_11_15_03_54_ajmitch_1134</th>\n      <td>[03:54] &lt;ajmitch&gt; not that it should matter wi...</td>\n      <td>03:54</td>\n      <td>ajmitch</td>\n      <td>not that it should matter with the patched ke...</td>\n      <td>1134</td>\n      <td>2004-11-15</td>\n      <td>1133.0</td>\n      <td>1134.0</td>\n      <td>1133.0</td>\n      <td>2004_11_15_03_53_ajmitch_1133</td>\n    </tr>\n    <tr>\n      <th>2004_11_15_03_54_djtansey_1136</th>\n      <td>[03:54] &lt;djtansey&gt; ajmitch: no. but i gave k3b...</td>\n      <td>03:54</td>\n      <td>djtansey</td>\n      <td>ajmitch: no. but i gave k3b my root password ...</td>\n      <td>1136</td>\n      <td>2004-11-15</td>\n      <td>1133.0</td>\n      <td>1136.0</td>\n      <td>1133.0</td>\n      <td>2004_11_15_03_53_ajmitch_1133</td>\n    </tr>\n    <tr>\n      <th>2004_11_15_03_55_Nafallo_1139</th>\n      <td>[03:55] &lt;Nafallo&gt; djtansey: k3b doesn't have r...</td>\n      <td>03:55</td>\n      <td>Nafallo</td>\n      <td>djtansey: k3b doesn't have root permissions.</td>\n      <td>1139</td>\n      <td>2004-11-15</td>\n      <td>1136.0</td>\n      <td>1139.0</td>\n      <td>1136.0</td>\n      <td>2004_11_15_03_54_djtansey_1136</td>\n    </tr>\n    <tr>\n      <th>2004_11_15_03_55_Nafallo_1140</th>\n      <td>[03:55] &lt;Nafallo&gt; djtansey: cdrecord and cdrda...</td>\n      <td>03:55</td>\n      <td>Nafallo</td>\n      <td>djtansey: cdrecord and cdrdao have :-).</td>\n      <td>1140</td>\n      <td>2004-11-15</td>\n      <td>1139.0</td>\n      <td>1140.0</td>\n      <td>1139.0</td>\n      <td>2004_11_15_03_55_Nafallo_1139</td>\n    </tr>\n    <tr>\n      <th>2004_11_15_03_57_djtansey_1143</th>\n      <td>[03:57] &lt;djtansey&gt; Nafallo: that's why i meant...</td>\n      <td>03:57</td>\n      <td>djtansey</td>\n      <td>Nafallo: that's why i meants by \"those apps.\"...</td>\n      <td>1143</td>\n      <td>2004-11-15</td>\n      <td>1140.0</td>\n      <td>1143.0</td>\n      <td>1140.0</td>\n      <td>2004_11_15_03_55_Nafallo_1140</td>\n    </tr>\n  </tbody>\n</table>\n</div>"
     },
     "execution_count": 22,
     "metadata": {},
     "output_type": "execute_result"
    }
   ],
   "source": [
    "df_list[0].sort_values(by='file_ind')"
   ],
   "metadata": {
    "collapsed": false
   }
  },
  {
   "cell_type": "code",
   "execution_count": 33,
   "outputs": [],
   "source": [
    "convo_lens = []\n",
    "for convo in df_list:\n",
    "    convo_lens.append(len(convo))"
   ],
   "metadata": {
    "collapsed": false
   }
  },
  {
   "cell_type": "code",
   "execution_count": 34,
   "outputs": [],
   "source": [],
   "metadata": {
    "collapsed": false
   }
  },
  {
   "cell_type": "code",
   "execution_count": null,
   "outputs": [],
   "source": [],
   "metadata": {
    "collapsed": false
   }
  }
 ],
 "metadata": {
  "kernelspec": {
   "display_name": "Python 3",
   "language": "python",
   "name": "python3"
  },
  "language_info": {
   "codemirror_mode": {
    "name": "ipython",
    "version": 2
   },
   "file_extension": ".py",
   "mimetype": "text/x-python",
   "name": "python",
   "nbconvert_exporter": "python",
   "pygments_lexer": "ipython2",
   "version": "2.7.6"
  }
 },
 "nbformat": 4,
 "nbformat_minor": 0
}
