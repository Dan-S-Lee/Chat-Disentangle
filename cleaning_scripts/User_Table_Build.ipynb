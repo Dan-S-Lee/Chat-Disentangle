{
 "cells": [
  {
   "cell_type": "markdown",
   "source": [
    "### Notebook builds the User Table"
   ],
   "metadata": {
    "collapsed": false
   }
  },
  {
   "cell_type": "code",
   "execution_count": 2,
   "outputs": [],
   "source": [
    "import pandas as pd\n",
    "from glob import glob as g\n",
    "from pathlib import Path\n",
    "import re"
   ],
   "metadata": {
    "collapsed": false
   }
  },
  {
   "cell_type": "code",
   "execution_count": 3,
   "outputs": [],
   "source": [
    "def fill_missing_annots(df):\n",
    "    child_set = set(df['child'].tolist())\n",
    "    temp_df = df[~df['parent'].isin(child_set)].copy()\n",
    "    temp_df['child'] = temp_df['parent']\n",
    "    temp_df = temp_df.drop_duplicates()\n",
    "    return temp_df"
   ],
   "metadata": {
    "collapsed": false
   }
  },
  {
   "cell_type": "code",
   "execution_count": 11,
   "outputs": [],
   "source": [
    "# Set patterns\n",
    "timestamp_pattern = \"[[](\\d\\d:\\d\\d)[]]\"\n",
    "user_pattern = \"[[]\\d\\d:\\d\\d[]]\\s[<](.*?)[>]\"\n",
    "message_pattern = \".*[<].*[>](.*)\"\n",
    "date_pattern = \"(\\d\\d\\d\\d-\\d\\d-\\d\\d)\"\n",
    "# Get files\n",
    "\n",
    "# Train\n",
    "filepath = '../data/'\n",
    "subfolders = [\"train\", \"test\", \"dev\"]\n",
    "\n",
    "raw_df_dict = {}\n",
    "annot_dict = {}\n",
    "user_set = set()\n",
    "for subfolder in subfolders:\n",
    "    filelist_ascii = g(filepath + subfolder + '/*ascii.txt')\n",
    "    #filelist_annot = g(filepath + subfolder + '/*annotation.txt')\n",
    "    for filename in filelist_ascii:\n",
    "        filename_annot = filename.replace('ascii', 'annotation')\n",
    "        data = pd.read_csv(filename, header = None, names = ['raw'], delimiter=\"\\t\")\n",
    "        data['timestamp'] = data['raw'].str.extract(timestamp_pattern, expand=True)\n",
    "        data.loc[data['timestamp'].isnull(), 'timestamp'] = \"System\"\n",
    "        data['user'] = data['raw'].str.extract(user_pattern, expand=True)\n",
    "        data.loc[data['user'].isnull(), 'user'] = \"System\"\n",
    "\n",
    "        user_set.update(data['user'].values.tolist())\n",
    "\n",
    "        data['message'] = data['raw'].str.extract(message_pattern, expand=True)\n",
    "        data['file_ind'] = data.index.values\n",
    "        data['file_ind'] = data['file_ind'].astype(int)\n",
    "        #data['date'] = Path(filename).stem.split('_')[0]\n",
    "        temp_date = re.search(date_pattern, filename).group(1)\n",
    "        data['date'] = temp_date\n",
    "        #data['uuid'] = data.apply(lambda row: generate_uuid(row), axis=1)\n",
    "\n",
    "        raw_df_dict[temp_date] = data.copy()\n",
    "        #merged_data['parent_uuid'] = pd.merge(merged_data[['child', 'parent', 'uuid']], merged_data[['file_ind', 'child', 'parent', 'uuid']], left_on='parent', right_on='file_ind', how='left', suffixes=['_l', '_r'])['uuid_r']\n",
    "        #merged_data = pd.merge(merged_data, merged_data[['file_ind', 'uuid']], left_on='parent', right_on='file_ind', how='left', suffixes=['', '_parent'])\n",
    "        #merged_data['parent_uuid'] = pd.merge(merged_data[['child', 'parent', 'uuid']], merged_data[['file_ind', 'child', 'parent', 'uuid']], left_on='parent', right_on='file_ind', how='left', suffixes=['_l', '_r'])['uuid_r']"
   ],
   "metadata": {
    "collapsed": false
   }
  },
  {
   "cell_type": "code",
   "execution_count": 12,
   "outputs": [
    {
     "name": "stdout",
     "output_type": "stream",
     "text": [
      "17779\n"
     ]
    }
   ],
   "source": [
    "print(len(user_set))"
   ],
   "metadata": {
    "collapsed": false
   }
  },
  {
   "cell_type": "code",
   "execution_count": 13,
   "outputs": [
    {
     "name": "stdout",
     "output_type": "stream",
     "text": [
      "17779\n"
     ]
    }
   ],
   "source": [
    "print(len(user_set))"
   ],
   "metadata": {
    "collapsed": false
   }
  },
  {
   "cell_type": "code",
   "execution_count": 15,
   "outputs": [],
   "source": [
    "user_df = pd.DataFrame.from_dict({\n",
    "    'user_txt': list(user_set),\n",
    "    'user_id': list(range(0, len(user_set)))\n",
    "})"
   ],
   "metadata": {
    "collapsed": false
   }
  },
  {
   "cell_type": "code",
   "execution_count": 17,
   "outputs": [
    {
     "data": {
      "text/plain": "(17779, 2)"
     },
     "execution_count": 17,
     "metadata": {},
     "output_type": "execute_result"
    }
   ],
   "source": [
    "user_df.shape"
   ],
   "metadata": {
    "collapsed": false
   }
  },
  {
   "cell_type": "code",
   "execution_count": 18,
   "outputs": [],
   "source": [
    "user_df.to_csv('users.csv')"
   ],
   "metadata": {
    "collapsed": false
   }
  },
  {
   "cell_type": "code",
   "execution_count": null,
   "outputs": [],
   "source": [],
   "metadata": {
    "collapsed": false
   }
  }
 ],
 "metadata": {
  "kernelspec": {
   "display_name": "Python 3",
   "language": "python",
   "name": "python3"
  },
  "language_info": {
   "codemirror_mode": {
    "name": "ipython",
    "version": 2
   },
   "file_extension": ".py",
   "mimetype": "text/x-python",
   "name": "python",
   "nbconvert_exporter": "python",
   "pygments_lexer": "ipython2",
   "version": "2.7.6"
  }
 },
 "nbformat": 4,
 "nbformat_minor": 0
}
