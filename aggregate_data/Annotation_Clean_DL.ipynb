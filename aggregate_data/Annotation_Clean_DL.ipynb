{
 "cells": [
  {
   "cell_type": "code",
   "execution_count": 2,
   "metadata": {
    "collapsed": true
   },
   "outputs": [],
   "source": [
    "import pandas as pd\n",
    "from glob import glob as g\n",
    "from pathlib import Path\n",
    "import re"
   ]
  },
  {
   "cell_type": "code",
   "execution_count": 3,
   "outputs": [],
   "source": [
    "def generate_uuid(row):\n",
    "    try:\n",
    "        uuid =  '_'.join(map(str, [row['date'].replace('-', '_'),\n",
    "                row['timestamp'].replace(':', '_'),\n",
    "                row['user'],\n",
    "                str(row['file_ind'])]))\n",
    "    except Exception as e:\n",
    "        print(row['file_ind'])\n",
    "        raise e\n",
    "    return uuid"
   ],
   "metadata": {
    "collapsed": false
   }
  },
  {
   "cell_type": "code",
   "execution_count": 4,
   "outputs": [],
   "source": [
    "def fill_missing_annots(df):\n",
    "    child_set = set(df['child'].tolist())\n",
    "    temp_df = df[~df['parent'].isin(child_set)].copy()\n",
    "    temp_df['child'] = temp_df['parent']\n",
    "    temp_df = temp_df.drop_duplicates()\n",
    "    return temp_df"
   ],
   "metadata": {
    "collapsed": false
   }
  },
  {
   "cell_type": "code",
   "execution_count": 10,
   "outputs": [
    {
     "name": "stderr",
     "output_type": "stream",
     "text": [
      "C:\\Users\\Daniel\\PycharmProjects\\Chat-Disentangle\\venv\\lib\\site-packages\\ipykernel_launcher.py:34: ParserWarning: Falling back to the 'python' engine because the 'c' engine does not support regex separators (separators > 1 char and different from '\\s+' are interpreted as regex); you can avoid this warning by specifying engine='python'.\n"
     ]
    }
   ],
   "source": [
    "# Set patterns\n",
    "timestamp_pattern = \"[[](\\d\\d:\\d\\d)[]]\"\n",
    "user_pattern = \"[[]\\d\\d:\\d\\d[]]\\s[<](.*?)[>]\"\n",
    "message_pattern = \".*[<].*[>](.*)\"\n",
    "date_pattern = \"(\\d\\d\\d\\d-\\d\\d-\\d\\d)\"\n",
    "# Get files\n",
    "\n",
    "# Train\n",
    "filepath = '../data/'\n",
    "subfolders = [\"train\", \"test\", \"dev\"]\n",
    "\n",
    "raw_df_dict = {}\n",
    "annot_dict = {}\n",
    "for subfolder in subfolders:\n",
    "    filelist_ascii = g(filepath + subfolder + '/*ascii.txt')\n",
    "    #filelist_annot = g(filepath + subfolder + '/*annotation.txt')\n",
    "    for filename in filelist_ascii:\n",
    "        filename_annot = filename.replace('ascii', 'annotation')\n",
    "        data = pd.read_csv(filename, header = None, names = ['raw'], delimiter=\"\\t\")\n",
    "        data['timestamp'] = data['raw'].str.extract(timestamp_pattern, expand=True)\n",
    "        data.loc[data['timestamp'].isnull(), 'timestamp'] = \"System\"\n",
    "        data['user'] = data['raw'].str.extract(user_pattern, expand=True)\n",
    "        data.loc[data['user'].isnull(), 'user'] = \"System\"\n",
    "        data['message'] = data['raw'].str.extract(message_pattern, expand=True)\n",
    "        data['file_ind'] = data.index.values\n",
    "        data['file_ind'] = data['file_ind'].astype(int)\n",
    "        #data['date'] = Path(filename).stem.split('_')[0]\n",
    "        temp_date = re.search(date_pattern, filename).group(1)\n",
    "        data['date'] = temp_date\n",
    "        data['uuid'] = data.apply(lambda row: generate_uuid(row), axis=1)\n",
    "\n",
    "        raw_df_dict[temp_date] = data.copy()\n",
    "\n",
    "        annot_df = pd.read_csv(filename_annot, index_col=False, header=None, names=['parent', 'child'], delimiter=\"\\s\")\n",
    "        annot_df = pd.concat([annot_df, fill_missing_annots(annot_df)]).drop_duplicates()\n",
    "        annot_dict[temp_date] = annot_df\n",
    "        merged_data = pd.merge(data, annot_df, left_on='file_ind', right_on='child', how='left')\n",
    "\n",
    "        #merged_data['parent_uuid'] = pd.merge(merged_data[['child', 'parent', 'uuid']], merged_data[['file_ind', 'child', 'parent', 'uuid']], left_on='parent', right_on='file_ind', how='left', suffixes=['_l', '_r'])['uuid_r']\n",
    "        merged_data = pd.merge(merged_data, merged_data[['file_ind', 'uuid']], left_on='parent', right_on='file_ind', how='left', suffixes=['', '_parent'])\n",
    "        #merged_data['parent_uuid'] = pd.merge(merged_data[['child', 'parent', 'uuid']], merged_data[['file_ind', 'child', 'parent', 'uuid']], left_on='parent', right_on='file_ind', how='left', suffixes=['_l', '_r'])['uuid_r']\n",
    "\n",
    "        merged_data.to_csv(filename + \"_annot.csv\")"
   ],
   "metadata": {
    "collapsed": false
   }
  },
  {
   "cell_type": "code",
   "execution_count": 13,
   "outputs": [],
   "source": [
    "#data[data['timestamp']==\"System\"]['timestamp']"
   ],
   "metadata": {
    "collapsed": false
   }
  },
  {
   "cell_type": "code",
   "execution_count": 14,
   "outputs": [
    {
     "data": {
      "text/plain": "array(['raw', 'timestamp', 'user', 'message', 'file_ind', 'date', 'uuid',\n       'parent', 'child', 'file_ind_parent', 'uuid_parent'], dtype=object)"
     },
     "execution_count": 14,
     "metadata": {},
     "output_type": "execute_result"
    }
   ],
   "source": [
    "merged_data.columns.values"
   ],
   "metadata": {
    "collapsed": false
   }
  },
  {
   "cell_type": "code",
   "execution_count": 15,
   "outputs": [],
   "source": [
    "# Train\n",
    "filepath = '../data/train'\n",
    "csvs_train = pd.DataFrame(g(filepath + '/*annot.csv'), columns=[\"path\"])\n",
    "#csvs_train[\"date\"] = csvs_train[\"path\"].str.extract(date_pattern, expand=True)\n",
    "\n",
    "# Test\n",
    "filepath = '../data/test'\n",
    "csvs_test = pd.DataFrame(g(filepath + '/*annot.csv'), columns=[\"path\"])\n",
    "#csvs_test[\"date\"] = csvs_test[\"path\"].str.extract(date_pattern, expand=True)\n",
    "\n",
    "\n",
    "# Dev\n",
    "filepath = '../data/dev'\n",
    "csvs_dev = pd.DataFrame(g(filepath + '/*annot.csv'), columns=[\"path\"])\n",
    "#csvs_dev[\"date\"] = csvs_dev[\"path\"].str.extract(date_pattern, expand=True)\n"
   ],
   "metadata": {
    "collapsed": false
   }
  },
  {
   "cell_type": "code",
   "execution_count": 16,
   "outputs": [],
   "source": [
    "#Aggregate files\n",
    "rootfile = '../'\n",
    "\n",
    "agg_train = pd.DataFrame()\n",
    "for i in range(len(csvs_train.path)):\n",
    "    data = pd.read_csv(csvs_train.path[i], header = 0, index_col=0)\n",
    "    # data['date'] = pd.Series([csvs_train.date[i] for x in range(len(data))])\n",
    "    agg_train = agg_train.append(data)\n",
    "agg_train.to_csv(rootfile + \"agg_train.csv\")\n",
    "\n",
    "agg_test = pd.DataFrame()\n",
    "for i in range(len(csvs_test.path)):\n",
    "    data = pd.read_csv(csvs_test.path[i], header = 0, index_col=0)\n",
    "    # data['date'] = pd.Series([csvs_test.date[i] for x in range(len(data))])\n",
    "    agg_test = agg_test.append(data)\n",
    "agg_test.to_csv(rootfile + \"agg_test.csv\")\n",
    "\n",
    "agg_dev = pd.DataFrame()\n",
    "for i in range(len(csvs_dev.path)):\n",
    "    data = pd.read_csv(csvs_dev.path[i], header = 0, index_col=0)\n",
    "    # data['date'] = pd.Series([csvs_dev.date[i] for x in range(len(data))])\n",
    "    agg_dev = agg_dev.append(data)\n",
    "agg_dev.to_csv(rootfile + \"agg_dev.csv\")"
   ],
   "metadata": {
    "collapsed": false
   }
  },
  {
   "cell_type": "code",
   "execution_count": 17,
   "outputs": [],
   "source": [
    "#agg_dev\n",
    "# Remove command messages\n",
    "agg_dict = {\n",
    "    'dev': agg_dev,\n",
    "    'train': agg_train,\n",
    "    'test': agg_test\n",
    "}\n",
    "\n",
    "for key in agg_dict.keys():\n",
    "    agg_dict[key] = agg_dict[key][agg_dict[key]['timestamp'].notnull()]"
   ],
   "metadata": {
    "collapsed": false
   }
  },
  {
   "cell_type": "code",
   "execution_count": 18,
   "outputs": [
    {
     "data": {
      "text/plain": "                                                    raw timestamp  \\\n0       [12:18] <|trey|> usual, quite stable though  :)     12:18   \n1     [12:18] <tweaked> HrdwrBoB: ok how many partit...     12:18   \n2     [12:18] <Matt|> |trey|, top in the list --> ub...     12:18   \n3                  [12:18] <usual> a few libs and media     12:18   \n4                     [12:18] <usual> maybe some others     12:18   \n...                                                 ...       ...   \n1259          [21:57] <zacky83> who can help me on this     21:57   \n1260  [21:57] <Mccallum1983> can anyone assist, when...     21:57   \n1261  [21:57] <figure002> OerHeks: still makes no se...     21:57   \n1262  [21:58] <figure002> zacky83: did you enable th...     21:58   \n1263             [21:59] <Mccallum1983> can anyone help     21:59   \n\n              user                                            message  \\\n0           |trey|                     usual, quite stable though  :)   \n1          tweaked    HrdwrBoB: ok how many partitions should i make?   \n2            Matt|                                     ubuntu servers   \n3            usual                               a few libs and media   \n4            usual                                  maybe some others   \n...            ...                                                ...   \n1259       zacky83                            who can help me on this   \n1260  Mccallum1983   can anyone assist, when i try to install bitc...   \n1261     figure002   OerHeks: still makes no sense to me why a dae...   \n1262     figure002                 zacky83: did you enable the jails?   \n1263  Mccallum1983                                    can anyone help   \n\n      file_ind        date                                uuid  parent  \\\n0            0  2004-11-15           2004_11_15_12_18_|trey|_0     NaN   \n1            1  2004-11-15          2004_11_15_12_18_tweaked_1     NaN   \n2            2  2004-11-15            2004_11_15_12_18_Matt|_2     NaN   \n3            3  2004-11-15            2004_11_15_12_18_usual_3     NaN   \n4            4  2004-11-15            2004_11_15_12_18_usual_4     NaN   \n...        ...         ...                                 ...     ...   \n1259      1245  2016-12-19       2016_12_19_21_57_zacky83_1245  1244.0   \n1260      1246  2016-12-19  2016_12_19_21_57_Mccallum1983_1246  1246.0   \n1261      1247  2016-12-19     2016_12_19_21_57_figure002_1247  1242.0   \n1262      1248  2016-12-19     2016_12_19_21_58_figure002_1248  1244.0   \n1263      1249  2016-12-19  2016_12_19_21_59_Mccallum1983_1249  1246.0   \n\n       child  file_ind_parent                         uuid_parent  \n0        NaN              NaN                                 NaN  \n1        NaN              NaN                                 NaN  \n2        NaN              NaN                                 NaN  \n3        NaN              NaN                                 NaN  \n4        NaN              NaN                                 NaN  \n...      ...              ...                                 ...  \n1259  1245.0           1244.0       2016_12_19_21_57_zacky83_1244  \n1260  1246.0           1246.0  2016_12_19_21_57_Mccallum1983_1246  \n1261  1247.0           1242.0       2016_12_19_21_56_OerHeks_1242  \n1262  1248.0           1244.0       2016_12_19_21_57_zacky83_1244  \n1263  1249.0           1246.0  2016_12_19_21_57_Mccallum1983_1246  \n\n[12683 rows x 11 columns]",
      "text/html": "<div>\n<style scoped>\n    .dataframe tbody tr th:only-of-type {\n        vertical-align: middle;\n    }\n\n    .dataframe tbody tr th {\n        vertical-align: top;\n    }\n\n    .dataframe thead th {\n        text-align: right;\n    }\n</style>\n<table border=\"1\" class=\"dataframe\">\n  <thead>\n    <tr style=\"text-align: right;\">\n      <th></th>\n      <th>raw</th>\n      <th>timestamp</th>\n      <th>user</th>\n      <th>message</th>\n      <th>file_ind</th>\n      <th>date</th>\n      <th>uuid</th>\n      <th>parent</th>\n      <th>child</th>\n      <th>file_ind_parent</th>\n      <th>uuid_parent</th>\n    </tr>\n  </thead>\n  <tbody>\n    <tr>\n      <th>0</th>\n      <td>[12:18] &lt;|trey|&gt; usual, quite stable though  :)</td>\n      <td>12:18</td>\n      <td>|trey|</td>\n      <td>usual, quite stable though  :)</td>\n      <td>0</td>\n      <td>2004-11-15</td>\n      <td>2004_11_15_12_18_|trey|_0</td>\n      <td>NaN</td>\n      <td>NaN</td>\n      <td>NaN</td>\n      <td>NaN</td>\n    </tr>\n    <tr>\n      <th>1</th>\n      <td>[12:18] &lt;tweaked&gt; HrdwrBoB: ok how many partit...</td>\n      <td>12:18</td>\n      <td>tweaked</td>\n      <td>HrdwrBoB: ok how many partitions should i make?</td>\n      <td>1</td>\n      <td>2004-11-15</td>\n      <td>2004_11_15_12_18_tweaked_1</td>\n      <td>NaN</td>\n      <td>NaN</td>\n      <td>NaN</td>\n      <td>NaN</td>\n    </tr>\n    <tr>\n      <th>2</th>\n      <td>[12:18] &lt;Matt|&gt; |trey|, top in the list --&gt; ub...</td>\n      <td>12:18</td>\n      <td>Matt|</td>\n      <td>ubuntu servers</td>\n      <td>2</td>\n      <td>2004-11-15</td>\n      <td>2004_11_15_12_18_Matt|_2</td>\n      <td>NaN</td>\n      <td>NaN</td>\n      <td>NaN</td>\n      <td>NaN</td>\n    </tr>\n    <tr>\n      <th>3</th>\n      <td>[12:18] &lt;usual&gt; a few libs and media</td>\n      <td>12:18</td>\n      <td>usual</td>\n      <td>a few libs and media</td>\n      <td>3</td>\n      <td>2004-11-15</td>\n      <td>2004_11_15_12_18_usual_3</td>\n      <td>NaN</td>\n      <td>NaN</td>\n      <td>NaN</td>\n      <td>NaN</td>\n    </tr>\n    <tr>\n      <th>4</th>\n      <td>[12:18] &lt;usual&gt; maybe some others</td>\n      <td>12:18</td>\n      <td>usual</td>\n      <td>maybe some others</td>\n      <td>4</td>\n      <td>2004-11-15</td>\n      <td>2004_11_15_12_18_usual_4</td>\n      <td>NaN</td>\n      <td>NaN</td>\n      <td>NaN</td>\n      <td>NaN</td>\n    </tr>\n    <tr>\n      <th>...</th>\n      <td>...</td>\n      <td>...</td>\n      <td>...</td>\n      <td>...</td>\n      <td>...</td>\n      <td>...</td>\n      <td>...</td>\n      <td>...</td>\n      <td>...</td>\n      <td>...</td>\n      <td>...</td>\n    </tr>\n    <tr>\n      <th>1259</th>\n      <td>[21:57] &lt;zacky83&gt; who can help me on this</td>\n      <td>21:57</td>\n      <td>zacky83</td>\n      <td>who can help me on this</td>\n      <td>1245</td>\n      <td>2016-12-19</td>\n      <td>2016_12_19_21_57_zacky83_1245</td>\n      <td>1244.0</td>\n      <td>1245.0</td>\n      <td>1244.0</td>\n      <td>2016_12_19_21_57_zacky83_1244</td>\n    </tr>\n    <tr>\n      <th>1260</th>\n      <td>[21:57] &lt;Mccallum1983&gt; can anyone assist, when...</td>\n      <td>21:57</td>\n      <td>Mccallum1983</td>\n      <td>can anyone assist, when i try to install bitc...</td>\n      <td>1246</td>\n      <td>2016-12-19</td>\n      <td>2016_12_19_21_57_Mccallum1983_1246</td>\n      <td>1246.0</td>\n      <td>1246.0</td>\n      <td>1246.0</td>\n      <td>2016_12_19_21_57_Mccallum1983_1246</td>\n    </tr>\n    <tr>\n      <th>1261</th>\n      <td>[21:57] &lt;figure002&gt; OerHeks: still makes no se...</td>\n      <td>21:57</td>\n      <td>figure002</td>\n      <td>OerHeks: still makes no sense to me why a dae...</td>\n      <td>1247</td>\n      <td>2016-12-19</td>\n      <td>2016_12_19_21_57_figure002_1247</td>\n      <td>1242.0</td>\n      <td>1247.0</td>\n      <td>1242.0</td>\n      <td>2016_12_19_21_56_OerHeks_1242</td>\n    </tr>\n    <tr>\n      <th>1262</th>\n      <td>[21:58] &lt;figure002&gt; zacky83: did you enable th...</td>\n      <td>21:58</td>\n      <td>figure002</td>\n      <td>zacky83: did you enable the jails?</td>\n      <td>1248</td>\n      <td>2016-12-19</td>\n      <td>2016_12_19_21_58_figure002_1248</td>\n      <td>1244.0</td>\n      <td>1248.0</td>\n      <td>1244.0</td>\n      <td>2016_12_19_21_57_zacky83_1244</td>\n    </tr>\n    <tr>\n      <th>1263</th>\n      <td>[21:59] &lt;Mccallum1983&gt; can anyone help</td>\n      <td>21:59</td>\n      <td>Mccallum1983</td>\n      <td>can anyone help</td>\n      <td>1249</td>\n      <td>2016-12-19</td>\n      <td>2016_12_19_21_59_Mccallum1983_1249</td>\n      <td>1246.0</td>\n      <td>1249.0</td>\n      <td>1246.0</td>\n      <td>2016_12_19_21_57_Mccallum1983_1246</td>\n    </tr>\n  </tbody>\n</table>\n<p>12683 rows × 11 columns</p>\n</div>"
     },
     "execution_count": 18,
     "metadata": {},
     "output_type": "execute_result"
    }
   ],
   "source": [
    "agg_dict['dev']"
   ],
   "metadata": {
    "collapsed": false
   }
  },
  {
   "cell_type": "code",
   "execution_count": 18,
   "outputs": [],
   "source": [],
   "metadata": {
    "collapsed": false
   }
  },
  {
   "cell_type": "code",
   "execution_count": 19,
   "outputs": [],
   "source": [
    "# for key in agg_dict.keys():\n",
    "#     agg_dict[key]['uuid'] = agg_dict[key].apply(lambda row: generate_uuid(row), axis=1)\n"
   ],
   "metadata": {
    "collapsed": false
   }
  },
  {
   "cell_type": "code",
   "execution_count": 20,
   "outputs": [
    {
     "data": {
      "text/plain": "                                                   raw timestamp      user  \\\n685  [01:35] <djtansey> i have a problem re: k3b an...     01:35  djtansey   \n\n                                               message  file_ind        date  \\\n685   i have a problem re: k3b and am looking for s...       685  2004-11-15   \n\n                              uuid  parent  child  file_ind_parent  \\\n685  2004_11_15_01_35_djtansey_685   685.0  685.0            685.0   \n\n                       uuid_parent  \n685  2004_11_15_01_35_djtansey_685  ",
      "text/html": "<div>\n<style scoped>\n    .dataframe tbody tr th:only-of-type {\n        vertical-align: middle;\n    }\n\n    .dataframe tbody tr th {\n        vertical-align: top;\n    }\n\n    .dataframe thead th {\n        text-align: right;\n    }\n</style>\n<table border=\"1\" class=\"dataframe\">\n  <thead>\n    <tr style=\"text-align: right;\">\n      <th></th>\n      <th>raw</th>\n      <th>timestamp</th>\n      <th>user</th>\n      <th>message</th>\n      <th>file_ind</th>\n      <th>date</th>\n      <th>uuid</th>\n      <th>parent</th>\n      <th>child</th>\n      <th>file_ind_parent</th>\n      <th>uuid_parent</th>\n    </tr>\n  </thead>\n  <tbody>\n    <tr>\n      <th>685</th>\n      <td>[01:35] &lt;djtansey&gt; i have a problem re: k3b an...</td>\n      <td>01:35</td>\n      <td>djtansey</td>\n      <td>i have a problem re: k3b and am looking for s...</td>\n      <td>685</td>\n      <td>2004-11-15</td>\n      <td>2004_11_15_01_35_djtansey_685</td>\n      <td>685.0</td>\n      <td>685.0</td>\n      <td>685.0</td>\n      <td>2004_11_15_01_35_djtansey_685</td>\n    </tr>\n  </tbody>\n</table>\n</div>"
     },
     "execution_count": 20,
     "metadata": {},
     "output_type": "execute_result"
    }
   ],
   "source": [
    "agg_dict['dev'][agg_dict['dev']['uuid'] == \"2004_11_15_01_35_djtansey_685\"]"
   ],
   "metadata": {
    "collapsed": false
   }
  },
  {
   "cell_type": "code",
   "execution_count": 21,
   "outputs": [],
   "source": [
    "for key in agg_dict.keys():\n",
    "    agg_dict[key].to_csv(rootfile + f\"data/cleaned/agg_{key}.csv\")"
   ],
   "metadata": {
    "collapsed": false
   }
  },
  {
   "cell_type": "markdown",
   "source": [],
   "metadata": {
    "collapsed": false
   }
  },
  {
   "cell_type": "code",
   "execution_count": 206,
   "outputs": [],
   "source": [
    "data = raw_df_dict['2005-07-06']\n",
    "annot_df = annot_dict['2005-07-06']\n",
    "annot_df = pd.concat([annot_df, fill_missing_annots(annot_df)], ignore_index=True).drop_duplicates()\n",
    "merged_data = pd.merge(data, annot_df, left_on='file_ind', right_on='child', how='left')\n",
    "\n",
    "#merged_data['parent_uuid'] = pd.merge(merged_data[['child', 'parent', 'uuid']], merged_data[['file_ind', 'child', 'parent', 'uuid']], left_on='parent', right_on='file_ind', how='left', suffixes=['_l', '_r'])['uuid_r']\n",
    "merged_data = pd.merge(merged_data, merged_data[['file_ind', 'uuid']], left_on='parent', right_on='file_ind', how='left', suffixes=['', '_parent'])\n",
    "#merged_data.to_csv(filename + \"_annot.csv\")"
   ],
   "metadata": {
    "collapsed": false
   }
  },
  {
   "cell_type": "code",
   "execution_count": 203,
   "outputs": [
    {
     "data": {
      "text/plain": "      parent  file_ind                        uuid\n0        NaN       NaN                         NaN\n1        NaN       NaN                         NaN\n2        NaN       NaN                         NaN\n3        NaN       NaN                         NaN\n4        NaN       NaN                         NaN\n...      ...       ...                         ...\n1205  1493.0    1493.0  2005_07_06_03_35_Nige_1493\n1206  1495.0    1495.0  2005_07_06_03_35_Nige_1495\n1207  1495.0    1495.0  2005_07_06_03_35_Nige_1495\n1208  1498.0    1498.0   2005_07_06_03_35_FLD_1498\n1209  1494.0    1494.0  2005_07_06_03_35_wizo_1494\n\n[1210 rows x 3 columns]",
      "text/html": "<div>\n<style scoped>\n    .dataframe tbody tr th:only-of-type {\n        vertical-align: middle;\n    }\n\n    .dataframe tbody tr th {\n        vertical-align: top;\n    }\n\n    .dataframe thead th {\n        text-align: right;\n    }\n</style>\n<table border=\"1\" class=\"dataframe\">\n  <thead>\n    <tr style=\"text-align: right;\">\n      <th></th>\n      <th>parent</th>\n      <th>file_ind</th>\n      <th>uuid</th>\n    </tr>\n  </thead>\n  <tbody>\n    <tr>\n      <th>0</th>\n      <td>NaN</td>\n      <td>NaN</td>\n      <td>NaN</td>\n    </tr>\n    <tr>\n      <th>1</th>\n      <td>NaN</td>\n      <td>NaN</td>\n      <td>NaN</td>\n    </tr>\n    <tr>\n      <th>2</th>\n      <td>NaN</td>\n      <td>NaN</td>\n      <td>NaN</td>\n    </tr>\n    <tr>\n      <th>3</th>\n      <td>NaN</td>\n      <td>NaN</td>\n      <td>NaN</td>\n    </tr>\n    <tr>\n      <th>4</th>\n      <td>NaN</td>\n      <td>NaN</td>\n      <td>NaN</td>\n    </tr>\n    <tr>\n      <th>...</th>\n      <td>...</td>\n      <td>...</td>\n      <td>...</td>\n    </tr>\n    <tr>\n      <th>1205</th>\n      <td>1493.0</td>\n      <td>1493.0</td>\n      <td>2005_07_06_03_35_Nige_1493</td>\n    </tr>\n    <tr>\n      <th>1206</th>\n      <td>1495.0</td>\n      <td>1495.0</td>\n      <td>2005_07_06_03_35_Nige_1495</td>\n    </tr>\n    <tr>\n      <th>1207</th>\n      <td>1495.0</td>\n      <td>1495.0</td>\n      <td>2005_07_06_03_35_Nige_1495</td>\n    </tr>\n    <tr>\n      <th>1208</th>\n      <td>1498.0</td>\n      <td>1498.0</td>\n      <td>2005_07_06_03_35_FLD_1498</td>\n    </tr>\n    <tr>\n      <th>1209</th>\n      <td>1494.0</td>\n      <td>1494.0</td>\n      <td>2005_07_06_03_35_wizo_1494</td>\n    </tr>\n  </tbody>\n</table>\n<p>1210 rows × 3 columns</p>\n</div>"
     },
     "execution_count": 203,
     "metadata": {},
     "output_type": "execute_result"
    }
   ],
   "source": [
    "temp = pd.merge(merged_data[['parent']], merged_data[['file_ind', 'uuid']], left_on='parent', right_on='file_ind', how='left', suffixes=['_l', '_r'])\n",
    "temp"
   ],
   "metadata": {
    "collapsed": false
   }
  },
  {
   "cell_type": "code",
   "execution_count": 204,
   "outputs": [],
   "source": [
    "merged_data = pd.merge(merged_data, merged_data[['file_ind', 'uuid']], left_on='parent', right_on='file_ind', how='left', suffixes=['', '_parent'])"
   ],
   "metadata": {
    "collapsed": false
   }
  },
  {
   "cell_type": "code",
   "execution_count": 207,
   "outputs": [
    {
     "data": {
      "text/plain": "                                                    raw timestamp       user  \\\n0     [11:11] <Seveas> Amaranth, the US peer is prob...     11:11     Seveas   \n1     [11:11] <Seveas> but an ES or NL peer download...     11:11     Seveas   \n2     [11:11] <monchichi> http://www.msnbc.msn.com/i...     11:11  monchichi   \n3     [11:11] <IceDC571> the US peer is just stupid ...     11:11   IceDC571   \n4     [11:11] <Seveas> The downloader is breaking th...     11:11     Seveas   \n...                                                 ...       ...        ...   \n1205  [03:35] <Nige> i am stuck with wireless networ...     03:35       Nige   \n1206                                  [03:35] <Nige> :(     03:35       Nige   \n1207         [03:35] <Nige> and its driving me crazy!!!     03:35       Nige   \n1208  [03:35] <FLD> does anybody know how to get dsn...     03:35        FLD   \n1209                               [03:35] <iLLf8d> heh     03:35     iLLf8d   \n\n                                                message  file_ind        date  \\\n0      Amaranth, the US peer is probably breaking th...         0  2005-07-06   \n1               but an ES or NL peer downloading it not         1  2005-07-06   \n2                  http://www.msnbc.msn.com/id/8419601/         2  2005-07-06   \n3      the US peer is just stupid for wanting to sha...         3  2005-07-06   \n4      The downloader is breaking the implicit rules...         4  2005-07-06   \n...                                                 ...       ...         ...   \n1205                i am stuck with wireless networking      1495  2005-07-06   \n1206                                                 :(      1496  2005-07-06   \n1207                        and its driving me crazy!!!      1497  2005-07-06   \n1208     does anybody know how to get dsniff to work :<      1498  2005-07-06   \n1209                                                heh      1499  2005-07-06   \n\n                              uuid  parent   child  file_ind_parent  \\\n0        2005_07_06_11_11_Seveas_0     NaN     NaN              NaN   \n1        2005_07_06_11_11_Seveas_1     NaN     NaN              NaN   \n2     2005_07_06_11_11_monchichi_2     NaN     NaN              NaN   \n3      2005_07_06_11_11_IceDC571_3     NaN     NaN              NaN   \n4        2005_07_06_11_11_Seveas_4     NaN     NaN              NaN   \n...                            ...     ...     ...              ...   \n1205    2005_07_06_03_35_Nige_1495  1493.0  1495.0           1493.0   \n1206    2005_07_06_03_35_Nige_1496  1495.0  1496.0           1495.0   \n1207    2005_07_06_03_35_Nige_1497  1495.0  1497.0           1495.0   \n1208     2005_07_06_03_35_FLD_1498  1498.0  1498.0           1498.0   \n1209  2005_07_06_03_35_iLLf8d_1499  1494.0  1499.0           1494.0   \n\n                     uuid_parent  \n0                            NaN  \n1                            NaN  \n2                            NaN  \n3                            NaN  \n4                            NaN  \n...                          ...  \n1205  2005_07_06_03_35_Nige_1493  \n1206  2005_07_06_03_35_Nige_1495  \n1207  2005_07_06_03_35_Nige_1495  \n1208   2005_07_06_03_35_FLD_1498  \n1209  2005_07_06_03_35_wizo_1494  \n\n[1210 rows x 11 columns]",
      "text/html": "<div>\n<style scoped>\n    .dataframe tbody tr th:only-of-type {\n        vertical-align: middle;\n    }\n\n    .dataframe tbody tr th {\n        vertical-align: top;\n    }\n\n    .dataframe thead th {\n        text-align: right;\n    }\n</style>\n<table border=\"1\" class=\"dataframe\">\n  <thead>\n    <tr style=\"text-align: right;\">\n      <th></th>\n      <th>raw</th>\n      <th>timestamp</th>\n      <th>user</th>\n      <th>message</th>\n      <th>file_ind</th>\n      <th>date</th>\n      <th>uuid</th>\n      <th>parent</th>\n      <th>child</th>\n      <th>file_ind_parent</th>\n      <th>uuid_parent</th>\n    </tr>\n  </thead>\n  <tbody>\n    <tr>\n      <th>0</th>\n      <td>[11:11] &lt;Seveas&gt; Amaranth, the US peer is prob...</td>\n      <td>11:11</td>\n      <td>Seveas</td>\n      <td>Amaranth, the US peer is probably breaking th...</td>\n      <td>0</td>\n      <td>2005-07-06</td>\n      <td>2005_07_06_11_11_Seveas_0</td>\n      <td>NaN</td>\n      <td>NaN</td>\n      <td>NaN</td>\n      <td>NaN</td>\n    </tr>\n    <tr>\n      <th>1</th>\n      <td>[11:11] &lt;Seveas&gt; but an ES or NL peer download...</td>\n      <td>11:11</td>\n      <td>Seveas</td>\n      <td>but an ES or NL peer downloading it not</td>\n      <td>1</td>\n      <td>2005-07-06</td>\n      <td>2005_07_06_11_11_Seveas_1</td>\n      <td>NaN</td>\n      <td>NaN</td>\n      <td>NaN</td>\n      <td>NaN</td>\n    </tr>\n    <tr>\n      <th>2</th>\n      <td>[11:11] &lt;monchichi&gt; http://www.msnbc.msn.com/i...</td>\n      <td>11:11</td>\n      <td>monchichi</td>\n      <td>http://www.msnbc.msn.com/id/8419601/</td>\n      <td>2</td>\n      <td>2005-07-06</td>\n      <td>2005_07_06_11_11_monchichi_2</td>\n      <td>NaN</td>\n      <td>NaN</td>\n      <td>NaN</td>\n      <td>NaN</td>\n    </tr>\n    <tr>\n      <th>3</th>\n      <td>[11:11] &lt;IceDC571&gt; the US peer is just stupid ...</td>\n      <td>11:11</td>\n      <td>IceDC571</td>\n      <td>the US peer is just stupid for wanting to sha...</td>\n      <td>3</td>\n      <td>2005-07-06</td>\n      <td>2005_07_06_11_11_IceDC571_3</td>\n      <td>NaN</td>\n      <td>NaN</td>\n      <td>NaN</td>\n      <td>NaN</td>\n    </tr>\n    <tr>\n      <th>4</th>\n      <td>[11:11] &lt;Seveas&gt; The downloader is breaking th...</td>\n      <td>11:11</td>\n      <td>Seveas</td>\n      <td>The downloader is breaking the implicit rules...</td>\n      <td>4</td>\n      <td>2005-07-06</td>\n      <td>2005_07_06_11_11_Seveas_4</td>\n      <td>NaN</td>\n      <td>NaN</td>\n      <td>NaN</td>\n      <td>NaN</td>\n    </tr>\n    <tr>\n      <th>...</th>\n      <td>...</td>\n      <td>...</td>\n      <td>...</td>\n      <td>...</td>\n      <td>...</td>\n      <td>...</td>\n      <td>...</td>\n      <td>...</td>\n      <td>...</td>\n      <td>...</td>\n      <td>...</td>\n    </tr>\n    <tr>\n      <th>1205</th>\n      <td>[03:35] &lt;Nige&gt; i am stuck with wireless networ...</td>\n      <td>03:35</td>\n      <td>Nige</td>\n      <td>i am stuck with wireless networking</td>\n      <td>1495</td>\n      <td>2005-07-06</td>\n      <td>2005_07_06_03_35_Nige_1495</td>\n      <td>1493.0</td>\n      <td>1495.0</td>\n      <td>1493.0</td>\n      <td>2005_07_06_03_35_Nige_1493</td>\n    </tr>\n    <tr>\n      <th>1206</th>\n      <td>[03:35] &lt;Nige&gt; :(</td>\n      <td>03:35</td>\n      <td>Nige</td>\n      <td>:(</td>\n      <td>1496</td>\n      <td>2005-07-06</td>\n      <td>2005_07_06_03_35_Nige_1496</td>\n      <td>1495.0</td>\n      <td>1496.0</td>\n      <td>1495.0</td>\n      <td>2005_07_06_03_35_Nige_1495</td>\n    </tr>\n    <tr>\n      <th>1207</th>\n      <td>[03:35] &lt;Nige&gt; and its driving me crazy!!!</td>\n      <td>03:35</td>\n      <td>Nige</td>\n      <td>and its driving me crazy!!!</td>\n      <td>1497</td>\n      <td>2005-07-06</td>\n      <td>2005_07_06_03_35_Nige_1497</td>\n      <td>1495.0</td>\n      <td>1497.0</td>\n      <td>1495.0</td>\n      <td>2005_07_06_03_35_Nige_1495</td>\n    </tr>\n    <tr>\n      <th>1208</th>\n      <td>[03:35] &lt;FLD&gt; does anybody know how to get dsn...</td>\n      <td>03:35</td>\n      <td>FLD</td>\n      <td>does anybody know how to get dsniff to work :&lt;</td>\n      <td>1498</td>\n      <td>2005-07-06</td>\n      <td>2005_07_06_03_35_FLD_1498</td>\n      <td>1498.0</td>\n      <td>1498.0</td>\n      <td>1498.0</td>\n      <td>2005_07_06_03_35_FLD_1498</td>\n    </tr>\n    <tr>\n      <th>1209</th>\n      <td>[03:35] &lt;iLLf8d&gt; heh</td>\n      <td>03:35</td>\n      <td>iLLf8d</td>\n      <td>heh</td>\n      <td>1499</td>\n      <td>2005-07-06</td>\n      <td>2005_07_06_03_35_iLLf8d_1499</td>\n      <td>1494.0</td>\n      <td>1499.0</td>\n      <td>1494.0</td>\n      <td>2005_07_06_03_35_wizo_1494</td>\n    </tr>\n  </tbody>\n</table>\n<p>1210 rows × 11 columns</p>\n</div>"
     },
     "execution_count": 207,
     "metadata": {},
     "output_type": "execute_result"
    }
   ],
   "source": [
    "merged_data"
   ],
   "metadata": {
    "collapsed": false
   }
  },
  {
   "cell_type": "code",
   "execution_count": 157,
   "outputs": [
    {
     "data": {
      "text/plain": "     parent  child\n0       993   1000\n1       995   1000\n2      1001   1001\n3      1000   1002\n4       998   1003\n..      ...    ...\n504    1498   1498\n505    1494   1499\n506     993    993\n507     995    995\n508     998    998\n\n[509 rows x 2 columns]",
      "text/html": "<div>\n<style scoped>\n    .dataframe tbody tr th:only-of-type {\n        vertical-align: middle;\n    }\n\n    .dataframe tbody tr th {\n        vertical-align: top;\n    }\n\n    .dataframe thead th {\n        text-align: right;\n    }\n</style>\n<table border=\"1\" class=\"dataframe\">\n  <thead>\n    <tr style=\"text-align: right;\">\n      <th></th>\n      <th>parent</th>\n      <th>child</th>\n    </tr>\n  </thead>\n  <tbody>\n    <tr>\n      <th>0</th>\n      <td>993</td>\n      <td>1000</td>\n    </tr>\n    <tr>\n      <th>1</th>\n      <td>995</td>\n      <td>1000</td>\n    </tr>\n    <tr>\n      <th>2</th>\n      <td>1001</td>\n      <td>1001</td>\n    </tr>\n    <tr>\n      <th>3</th>\n      <td>1000</td>\n      <td>1002</td>\n    </tr>\n    <tr>\n      <th>4</th>\n      <td>998</td>\n      <td>1003</td>\n    </tr>\n    <tr>\n      <th>...</th>\n      <td>...</td>\n      <td>...</td>\n    </tr>\n    <tr>\n      <th>504</th>\n      <td>1498</td>\n      <td>1498</td>\n    </tr>\n    <tr>\n      <th>505</th>\n      <td>1494</td>\n      <td>1499</td>\n    </tr>\n    <tr>\n      <th>506</th>\n      <td>993</td>\n      <td>993</td>\n    </tr>\n    <tr>\n      <th>507</th>\n      <td>995</td>\n      <td>995</td>\n    </tr>\n    <tr>\n      <th>508</th>\n      <td>998</td>\n      <td>998</td>\n    </tr>\n  </tbody>\n</table>\n<p>509 rows × 2 columns</p>\n</div>"
     },
     "execution_count": 157,
     "metadata": {},
     "output_type": "execute_result"
    }
   ],
   "source": [
    "annot_df"
   ],
   "metadata": {
    "collapsed": false
   }
  },
  {
   "cell_type": "code",
   "execution_count": 163,
   "outputs": [
    {
     "data": {
      "text/plain": "     parent  child\n265    1254   1262",
      "text/html": "<div>\n<style scoped>\n    .dataframe tbody tr th:only-of-type {\n        vertical-align: middle;\n    }\n\n    .dataframe tbody tr th {\n        vertical-align: top;\n    }\n\n    .dataframe thead th {\n        text-align: right;\n    }\n</style>\n<table border=\"1\" class=\"dataframe\">\n  <thead>\n    <tr style=\"text-align: right;\">\n      <th></th>\n      <th>parent</th>\n      <th>child</th>\n    </tr>\n  </thead>\n  <tbody>\n    <tr>\n      <th>265</th>\n      <td>1254</td>\n      <td>1262</td>\n    </tr>\n  </tbody>\n</table>\n</div>"
     },
     "execution_count": 163,
     "metadata": {},
     "output_type": "execute_result"
    }
   ],
   "source": [
    "annot_df[annot_df['child']==1262]"
   ],
   "metadata": {
    "collapsed": false
   }
  },
  {
   "cell_type": "code",
   "execution_count": 164,
   "outputs": [
    {
     "data": {
      "text/plain": "                                                    raw timestamp  user  \\\n1262  [02:59] <Vjaz> delire, Yeah, I'm no stranger t...     02:59  Vjaz   \n\n                                                message  file_ind        date  \\\n1262   delire, Yeah, I'm no stranger to compiling my...      1262  2005-07-06   \n\n                            uuid  \n1262  2005_07_06_02_59_Vjaz_1262  ",
      "text/html": "<div>\n<style scoped>\n    .dataframe tbody tr th:only-of-type {\n        vertical-align: middle;\n    }\n\n    .dataframe tbody tr th {\n        vertical-align: top;\n    }\n\n    .dataframe thead th {\n        text-align: right;\n    }\n</style>\n<table border=\"1\" class=\"dataframe\">\n  <thead>\n    <tr style=\"text-align: right;\">\n      <th></th>\n      <th>raw</th>\n      <th>timestamp</th>\n      <th>user</th>\n      <th>message</th>\n      <th>file_ind</th>\n      <th>date</th>\n      <th>uuid</th>\n    </tr>\n  </thead>\n  <tbody>\n    <tr>\n      <th>1262</th>\n      <td>[02:59] &lt;Vjaz&gt; delire, Yeah, I'm no stranger t...</td>\n      <td>02:59</td>\n      <td>Vjaz</td>\n      <td>delire, Yeah, I'm no stranger to compiling my...</td>\n      <td>1262</td>\n      <td>2005-07-06</td>\n      <td>2005_07_06_02_59_Vjaz_1262</td>\n    </tr>\n  </tbody>\n</table>\n</div>"
     },
     "execution_count": 164,
     "metadata": {},
     "output_type": "execute_result"
    }
   ],
   "source": [
    "data[data['file_ind'] == 1262]"
   ],
   "metadata": {
    "collapsed": false
   }
  },
  {
   "cell_type": "code",
   "execution_count": 188,
   "outputs": [
    {
     "data": {
      "text/plain": "                                                    raw timestamp       user  \\\n0     [11:11] <Seveas> Amaranth, the US peer is prob...     11:11     Seveas   \n1     [11:11] <Seveas> but an ES or NL peer download...     11:11     Seveas   \n2     [11:11] <monchichi> http://www.msnbc.msn.com/i...     11:11  monchichi   \n3     [11:11] <IceDC571> the US peer is just stupid ...     11:11   IceDC571   \n4     [11:11] <Seveas> The downloader is breaking th...     11:11     Seveas   \n...                                                 ...       ...        ...   \n1201  [03:35] <Nige> i am stuck with wireless networ...     03:35       Nige   \n1202                                  [03:35] <Nige> :(     03:35       Nige   \n1203         [03:35] <Nige> and its driving me crazy!!!     03:35       Nige   \n1204  [03:35] <FLD> does anybody know how to get dsn...     03:35        FLD   \n1205                               [03:35] <iLLf8d> heh     03:35     iLLf8d   \n\n                                                message  file_ind        date  \\\n0      Amaranth, the US peer is probably breaking th...         0  2005-07-06   \n1               but an ES or NL peer downloading it not         1  2005-07-06   \n2                  http://www.msnbc.msn.com/id/8419601/         2  2005-07-06   \n3      the US peer is just stupid for wanting to sha...         3  2005-07-06   \n4      The downloader is breaking the implicit rules...         4  2005-07-06   \n...                                                 ...       ...         ...   \n1201                i am stuck with wireless networking      1495  2005-07-06   \n1202                                                 :(      1496  2005-07-06   \n1203                        and its driving me crazy!!!      1497  2005-07-06   \n1204     does anybody know how to get dsniff to work :<      1498  2005-07-06   \n1205                                                heh      1499  2005-07-06   \n\n                              uuid  parent   child  \n0        2005_07_06_11_11_Seveas_0     NaN     NaN  \n1        2005_07_06_11_11_Seveas_1     NaN     NaN  \n2     2005_07_06_11_11_monchichi_2     NaN     NaN  \n3      2005_07_06_11_11_IceDC571_3     NaN     NaN  \n4        2005_07_06_11_11_Seveas_4     NaN     NaN  \n...                            ...     ...     ...  \n1201    2005_07_06_03_35_Nige_1495  1493.0  1495.0  \n1202    2005_07_06_03_35_Nige_1496  1495.0  1496.0  \n1203    2005_07_06_03_35_Nige_1497  1495.0  1497.0  \n1204     2005_07_06_03_35_FLD_1498  1498.0  1498.0  \n1205  2005_07_06_03_35_iLLf8d_1499  1494.0  1499.0  \n\n[1206 rows x 9 columns]",
      "text/html": "<div>\n<style scoped>\n    .dataframe tbody tr th:only-of-type {\n        vertical-align: middle;\n    }\n\n    .dataframe tbody tr th {\n        vertical-align: top;\n    }\n\n    .dataframe thead th {\n        text-align: right;\n    }\n</style>\n<table border=\"1\" class=\"dataframe\">\n  <thead>\n    <tr style=\"text-align: right;\">\n      <th></th>\n      <th>raw</th>\n      <th>timestamp</th>\n      <th>user</th>\n      <th>message</th>\n      <th>file_ind</th>\n      <th>date</th>\n      <th>uuid</th>\n      <th>parent</th>\n      <th>child</th>\n    </tr>\n  </thead>\n  <tbody>\n    <tr>\n      <th>0</th>\n      <td>[11:11] &lt;Seveas&gt; Amaranth, the US peer is prob...</td>\n      <td>11:11</td>\n      <td>Seveas</td>\n      <td>Amaranth, the US peer is probably breaking th...</td>\n      <td>0</td>\n      <td>2005-07-06</td>\n      <td>2005_07_06_11_11_Seveas_0</td>\n      <td>NaN</td>\n      <td>NaN</td>\n    </tr>\n    <tr>\n      <th>1</th>\n      <td>[11:11] &lt;Seveas&gt; but an ES or NL peer download...</td>\n      <td>11:11</td>\n      <td>Seveas</td>\n      <td>but an ES or NL peer downloading it not</td>\n      <td>1</td>\n      <td>2005-07-06</td>\n      <td>2005_07_06_11_11_Seveas_1</td>\n      <td>NaN</td>\n      <td>NaN</td>\n    </tr>\n    <tr>\n      <th>2</th>\n      <td>[11:11] &lt;monchichi&gt; http://www.msnbc.msn.com/i...</td>\n      <td>11:11</td>\n      <td>monchichi</td>\n      <td>http://www.msnbc.msn.com/id/8419601/</td>\n      <td>2</td>\n      <td>2005-07-06</td>\n      <td>2005_07_06_11_11_monchichi_2</td>\n      <td>NaN</td>\n      <td>NaN</td>\n    </tr>\n    <tr>\n      <th>3</th>\n      <td>[11:11] &lt;IceDC571&gt; the US peer is just stupid ...</td>\n      <td>11:11</td>\n      <td>IceDC571</td>\n      <td>the US peer is just stupid for wanting to sha...</td>\n      <td>3</td>\n      <td>2005-07-06</td>\n      <td>2005_07_06_11_11_IceDC571_3</td>\n      <td>NaN</td>\n      <td>NaN</td>\n    </tr>\n    <tr>\n      <th>4</th>\n      <td>[11:11] &lt;Seveas&gt; The downloader is breaking th...</td>\n      <td>11:11</td>\n      <td>Seveas</td>\n      <td>The downloader is breaking the implicit rules...</td>\n      <td>4</td>\n      <td>2005-07-06</td>\n      <td>2005_07_06_11_11_Seveas_4</td>\n      <td>NaN</td>\n      <td>NaN</td>\n    </tr>\n    <tr>\n      <th>...</th>\n      <td>...</td>\n      <td>...</td>\n      <td>...</td>\n      <td>...</td>\n      <td>...</td>\n      <td>...</td>\n      <td>...</td>\n      <td>...</td>\n      <td>...</td>\n    </tr>\n    <tr>\n      <th>1201</th>\n      <td>[03:35] &lt;Nige&gt; i am stuck with wireless networ...</td>\n      <td>03:35</td>\n      <td>Nige</td>\n      <td>i am stuck with wireless networking</td>\n      <td>1495</td>\n      <td>2005-07-06</td>\n      <td>2005_07_06_03_35_Nige_1495</td>\n      <td>1493.0</td>\n      <td>1495.0</td>\n    </tr>\n    <tr>\n      <th>1202</th>\n      <td>[03:35] &lt;Nige&gt; :(</td>\n      <td>03:35</td>\n      <td>Nige</td>\n      <td>:(</td>\n      <td>1496</td>\n      <td>2005-07-06</td>\n      <td>2005_07_06_03_35_Nige_1496</td>\n      <td>1495.0</td>\n      <td>1496.0</td>\n    </tr>\n    <tr>\n      <th>1203</th>\n      <td>[03:35] &lt;Nige&gt; and its driving me crazy!!!</td>\n      <td>03:35</td>\n      <td>Nige</td>\n      <td>and its driving me crazy!!!</td>\n      <td>1497</td>\n      <td>2005-07-06</td>\n      <td>2005_07_06_03_35_Nige_1497</td>\n      <td>1495.0</td>\n      <td>1497.0</td>\n    </tr>\n    <tr>\n      <th>1204</th>\n      <td>[03:35] &lt;FLD&gt; does anybody know how to get dsn...</td>\n      <td>03:35</td>\n      <td>FLD</td>\n      <td>does anybody know how to get dsniff to work :&lt;</td>\n      <td>1498</td>\n      <td>2005-07-06</td>\n      <td>2005_07_06_03_35_FLD_1498</td>\n      <td>1498.0</td>\n      <td>1498.0</td>\n    </tr>\n    <tr>\n      <th>1205</th>\n      <td>[03:35] &lt;iLLf8d&gt; heh</td>\n      <td>03:35</td>\n      <td>iLLf8d</td>\n      <td>heh</td>\n      <td>1499</td>\n      <td>2005-07-06</td>\n      <td>2005_07_06_03_35_iLLf8d_1499</td>\n      <td>1494.0</td>\n      <td>1499.0</td>\n    </tr>\n  </tbody>\n</table>\n<p>1206 rows × 9 columns</p>\n</div>"
     },
     "execution_count": 188,
     "metadata": {},
     "output_type": "execute_result"
    }
   ],
   "source": [
    "merged_data = pd.merge(data, annot_df, left_on='file_ind', right_on='child', how='left')\n",
    "merged_data"
   ],
   "metadata": {
    "collapsed": false
   }
  },
  {
   "cell_type": "code",
   "execution_count": 168,
   "outputs": [],
   "source": [
    "merged_data['parent_uuid'] = pd.merge(merged_data[['child', 'parent', 'uuid']], merged_data[['file_ind', 'child', 'parent', 'uuid']], left_on='parent', right_on='file_ind', how='left', suffixes=['_l', '_r'])['uuid_r']"
   ],
   "metadata": {
    "collapsed": false
   }
  },
  {
   "cell_type": "code",
   "execution_count": 185,
   "outputs": [
    {
     "data": {
      "text/plain": "                                                    raw timestamp  \\\n0     [04:14] <Gobbert> ziggi: what do you need help...     04:14   \n1                                  [04:14] <ziggi> i am     04:14   \n2           [04:15] <joshua__> boot speed was very slow     04:15   \n3                      [04:15] <joshua__> 2 min to boot     04:15   \n4     [04:15] <joshua__> but windows machine was ver...     04:15   \n...                                                 ...       ...   \n1205          [21:57] <zacky83> who can help me on this     21:57   \n1206  [21:57] <Mccallum1983> can anyone assist, when...     21:57   \n1207  [21:57] <figure002> OerHeks: still makes no se...     21:57   \n1208  [21:58] <figure002> zacky83: did you enable th...     21:58   \n1209             [21:59] <Mccallum1983> can anyone help     21:59   \n\n              user                                            message  \\\n0          Gobbert                 ziggi: what do you need help with?   \n1            ziggi                                               i am   \n2         joshua__                           boot speed was very slow   \n3         joshua__                                      2 min to boot   \n4         joshua__                  but windows machine was very fast   \n...            ...                                                ...   \n1205       zacky83                            who can help me on this   \n1206  Mccallum1983   can anyone assist, when i try to install bitc...   \n1207     figure002   OerHeks: still makes no sense to me why a dae...   \n1208     figure002                 zacky83: did you enable the jails?   \n1209  Mccallum1983                                    can anyone help   \n\n      file_ind        date                                uuid  parent_x  \\\n0            0  2016-12-19          2016_12_19_04_14_Gobbert_0       NaN   \n1            1  2016-12-19            2016_12_19_04_14_ziggi_1       NaN   \n2            2  2016-12-19         2016_12_19_04_15_joshua___2       NaN   \n3            3  2016-12-19         2016_12_19_04_15_joshua___3       NaN   \n4            4  2016-12-19         2016_12_19_04_15_joshua___4       NaN   \n...        ...         ...                                 ...       ...   \n1205      1245  2016-12-19       2016_12_19_21_57_zacky83_1245    1244.0   \n1206      1246  2016-12-19  2016_12_19_21_57_Mccallum1983_1246    1246.0   \n1207      1247  2016-12-19     2016_12_19_21_57_figure002_1247    1242.0   \n1208      1248  2016-12-19     2016_12_19_21_58_figure002_1248    1244.0   \n1209      1249  2016-12-19  2016_12_19_21_59_Mccallum1983_1249    1246.0   \n\n      child_x                       parent_uuid  parent_y  child_y  \n0         NaN                               NaN       NaN      NaN  \n1         NaN                               NaN       NaN      NaN  \n2         NaN                               NaN       NaN      NaN  \n3         NaN                               NaN       NaN      NaN  \n4         NaN                               NaN       NaN      NaN  \n...       ...                               ...       ...      ...  \n1205   1245.0  2016_12_19_21_55_zh19970205_1239    1244.0   1245.0  \n1206   1246.0  2016_12_19_21_55_zh19970205_1239    1246.0   1246.0  \n1207   1247.0  2016_12_19_21_55_zh19970205_1240    1242.0   1247.0  \n1208   1248.0   2016_12_19_21_52_figure002_1231    1244.0   1248.0  \n1209   1249.0  2016_12_19_21_55_zh19970205_1241    1246.0   1249.0  \n\n[1210 rows x 12 columns]",
      "text/html": "<div>\n<style scoped>\n    .dataframe tbody tr th:only-of-type {\n        vertical-align: middle;\n    }\n\n    .dataframe tbody tr th {\n        vertical-align: top;\n    }\n\n    .dataframe thead th {\n        text-align: right;\n    }\n</style>\n<table border=\"1\" class=\"dataframe\">\n  <thead>\n    <tr style=\"text-align: right;\">\n      <th></th>\n      <th>raw</th>\n      <th>timestamp</th>\n      <th>user</th>\n      <th>message</th>\n      <th>file_ind</th>\n      <th>date</th>\n      <th>uuid</th>\n      <th>parent_x</th>\n      <th>child_x</th>\n      <th>parent_uuid</th>\n      <th>parent_y</th>\n      <th>child_y</th>\n    </tr>\n  </thead>\n  <tbody>\n    <tr>\n      <th>0</th>\n      <td>[04:14] &lt;Gobbert&gt; ziggi: what do you need help...</td>\n      <td>04:14</td>\n      <td>Gobbert</td>\n      <td>ziggi: what do you need help with?</td>\n      <td>0</td>\n      <td>2016-12-19</td>\n      <td>2016_12_19_04_14_Gobbert_0</td>\n      <td>NaN</td>\n      <td>NaN</td>\n      <td>NaN</td>\n      <td>NaN</td>\n      <td>NaN</td>\n    </tr>\n    <tr>\n      <th>1</th>\n      <td>[04:14] &lt;ziggi&gt; i am</td>\n      <td>04:14</td>\n      <td>ziggi</td>\n      <td>i am</td>\n      <td>1</td>\n      <td>2016-12-19</td>\n      <td>2016_12_19_04_14_ziggi_1</td>\n      <td>NaN</td>\n      <td>NaN</td>\n      <td>NaN</td>\n      <td>NaN</td>\n      <td>NaN</td>\n    </tr>\n    <tr>\n      <th>2</th>\n      <td>[04:15] &lt;joshua__&gt; boot speed was very slow</td>\n      <td>04:15</td>\n      <td>joshua__</td>\n      <td>boot speed was very slow</td>\n      <td>2</td>\n      <td>2016-12-19</td>\n      <td>2016_12_19_04_15_joshua___2</td>\n      <td>NaN</td>\n      <td>NaN</td>\n      <td>NaN</td>\n      <td>NaN</td>\n      <td>NaN</td>\n    </tr>\n    <tr>\n      <th>3</th>\n      <td>[04:15] &lt;joshua__&gt; 2 min to boot</td>\n      <td>04:15</td>\n      <td>joshua__</td>\n      <td>2 min to boot</td>\n      <td>3</td>\n      <td>2016-12-19</td>\n      <td>2016_12_19_04_15_joshua___3</td>\n      <td>NaN</td>\n      <td>NaN</td>\n      <td>NaN</td>\n      <td>NaN</td>\n      <td>NaN</td>\n    </tr>\n    <tr>\n      <th>4</th>\n      <td>[04:15] &lt;joshua__&gt; but windows machine was ver...</td>\n      <td>04:15</td>\n      <td>joshua__</td>\n      <td>but windows machine was very fast</td>\n      <td>4</td>\n      <td>2016-12-19</td>\n      <td>2016_12_19_04_15_joshua___4</td>\n      <td>NaN</td>\n      <td>NaN</td>\n      <td>NaN</td>\n      <td>NaN</td>\n      <td>NaN</td>\n    </tr>\n    <tr>\n      <th>...</th>\n      <td>...</td>\n      <td>...</td>\n      <td>...</td>\n      <td>...</td>\n      <td>...</td>\n      <td>...</td>\n      <td>...</td>\n      <td>...</td>\n      <td>...</td>\n      <td>...</td>\n      <td>...</td>\n      <td>...</td>\n    </tr>\n    <tr>\n      <th>1205</th>\n      <td>[21:57] &lt;zacky83&gt; who can help me on this</td>\n      <td>21:57</td>\n      <td>zacky83</td>\n      <td>who can help me on this</td>\n      <td>1245</td>\n      <td>2016-12-19</td>\n      <td>2016_12_19_21_57_zacky83_1245</td>\n      <td>1244.0</td>\n      <td>1245.0</td>\n      <td>2016_12_19_21_55_zh19970205_1239</td>\n      <td>1244.0</td>\n      <td>1245.0</td>\n    </tr>\n    <tr>\n      <th>1206</th>\n      <td>[21:57] &lt;Mccallum1983&gt; can anyone assist, when...</td>\n      <td>21:57</td>\n      <td>Mccallum1983</td>\n      <td>can anyone assist, when i try to install bitc...</td>\n      <td>1246</td>\n      <td>2016-12-19</td>\n      <td>2016_12_19_21_57_Mccallum1983_1246</td>\n      <td>1246.0</td>\n      <td>1246.0</td>\n      <td>2016_12_19_21_55_zh19970205_1239</td>\n      <td>1246.0</td>\n      <td>1246.0</td>\n    </tr>\n    <tr>\n      <th>1207</th>\n      <td>[21:57] &lt;figure002&gt; OerHeks: still makes no se...</td>\n      <td>21:57</td>\n      <td>figure002</td>\n      <td>OerHeks: still makes no sense to me why a dae...</td>\n      <td>1247</td>\n      <td>2016-12-19</td>\n      <td>2016_12_19_21_57_figure002_1247</td>\n      <td>1242.0</td>\n      <td>1247.0</td>\n      <td>2016_12_19_21_55_zh19970205_1240</td>\n      <td>1242.0</td>\n      <td>1247.0</td>\n    </tr>\n    <tr>\n      <th>1208</th>\n      <td>[21:58] &lt;figure002&gt; zacky83: did you enable th...</td>\n      <td>21:58</td>\n      <td>figure002</td>\n      <td>zacky83: did you enable the jails?</td>\n      <td>1248</td>\n      <td>2016-12-19</td>\n      <td>2016_12_19_21_58_figure002_1248</td>\n      <td>1244.0</td>\n      <td>1248.0</td>\n      <td>2016_12_19_21_52_figure002_1231</td>\n      <td>1244.0</td>\n      <td>1248.0</td>\n    </tr>\n    <tr>\n      <th>1209</th>\n      <td>[21:59] &lt;Mccallum1983&gt; can anyone help</td>\n      <td>21:59</td>\n      <td>Mccallum1983</td>\n      <td>can anyone help</td>\n      <td>1249</td>\n      <td>2016-12-19</td>\n      <td>2016_12_19_21_59_Mccallum1983_1249</td>\n      <td>1246.0</td>\n      <td>1249.0</td>\n      <td>2016_12_19_21_55_zh19970205_1241</td>\n      <td>1246.0</td>\n      <td>1249.0</td>\n    </tr>\n  </tbody>\n</table>\n<p>1210 rows × 12 columns</p>\n</div>"
     },
     "execution_count": 185,
     "metadata": {},
     "output_type": "execute_result"
    }
   ],
   "source": [
    "merged_data"
   ],
   "metadata": {
    "collapsed": false
   }
  },
  {
   "cell_type": "code",
   "execution_count": 189,
   "outputs": [
    {
     "data": {
      "text/plain": "                                                    raw timestamp  user  \\\n1019  [02:59] <Vjaz> delire, Yeah, I'm no stranger t...     02:59  Vjaz   \n\n                                                message  file_ind        date  \\\n1019   delire, Yeah, I'm no stranger to compiling my...      1262  2005-07-06   \n\n                            uuid  parent   child  \n1019  2005_07_06_02_59_Vjaz_1262  1254.0  1262.0  ",
      "text/html": "<div>\n<style scoped>\n    .dataframe tbody tr th:only-of-type {\n        vertical-align: middle;\n    }\n\n    .dataframe tbody tr th {\n        vertical-align: top;\n    }\n\n    .dataframe thead th {\n        text-align: right;\n    }\n</style>\n<table border=\"1\" class=\"dataframe\">\n  <thead>\n    <tr style=\"text-align: right;\">\n      <th></th>\n      <th>raw</th>\n      <th>timestamp</th>\n      <th>user</th>\n      <th>message</th>\n      <th>file_ind</th>\n      <th>date</th>\n      <th>uuid</th>\n      <th>parent</th>\n      <th>child</th>\n    </tr>\n  </thead>\n  <tbody>\n    <tr>\n      <th>1019</th>\n      <td>[02:59] &lt;Vjaz&gt; delire, Yeah, I'm no stranger t...</td>\n      <td>02:59</td>\n      <td>Vjaz</td>\n      <td>delire, Yeah, I'm no stranger to compiling my...</td>\n      <td>1262</td>\n      <td>2005-07-06</td>\n      <td>2005_07_06_02_59_Vjaz_1262</td>\n      <td>1254.0</td>\n      <td>1262.0</td>\n    </tr>\n  </tbody>\n</table>\n</div>"
     },
     "execution_count": 189,
     "metadata": {},
     "output_type": "execute_result"
    }
   ],
   "source": [
    "merged_data[merged_data['child'] == 1262]"
   ],
   "metadata": {
    "collapsed": false
   }
  },
  {
   "cell_type": "code",
   "execution_count": 190,
   "outputs": [
    {
     "data": {
      "text/plain": "                                                    raw timestamp    user  \\\n1022  [03:00] <delire> Vjaz: it is a little. i think...     03:00  delire   \n\n                                                message  file_ind        date  \\\n1022   Vjaz: it is a little. i think the best approa...      1265  2005-07-06   \n\n                              uuid  parent   child  \n1022  2005_07_06_03_00_delire_1265  1262.0  1265.0  ",
      "text/html": "<div>\n<style scoped>\n    .dataframe tbody tr th:only-of-type {\n        vertical-align: middle;\n    }\n\n    .dataframe tbody tr th {\n        vertical-align: top;\n    }\n\n    .dataframe thead th {\n        text-align: right;\n    }\n</style>\n<table border=\"1\" class=\"dataframe\">\n  <thead>\n    <tr style=\"text-align: right;\">\n      <th></th>\n      <th>raw</th>\n      <th>timestamp</th>\n      <th>user</th>\n      <th>message</th>\n      <th>file_ind</th>\n      <th>date</th>\n      <th>uuid</th>\n      <th>parent</th>\n      <th>child</th>\n    </tr>\n  </thead>\n  <tbody>\n    <tr>\n      <th>1022</th>\n      <td>[03:00] &lt;delire&gt; Vjaz: it is a little. i think...</td>\n      <td>03:00</td>\n      <td>delire</td>\n      <td>Vjaz: it is a little. i think the best approa...</td>\n      <td>1265</td>\n      <td>2005-07-06</td>\n      <td>2005_07_06_03_00_delire_1265</td>\n      <td>1262.0</td>\n      <td>1265.0</td>\n    </tr>\n  </tbody>\n</table>\n</div>"
     },
     "execution_count": 190,
     "metadata": {},
     "output_type": "execute_result"
    }
   ],
   "source": [
    "merged_data[merged_data['parent'] == 1262]"
   ],
   "metadata": {
    "collapsed": false
   }
  },
  {
   "cell_type": "code",
   "execution_count": 197,
   "outputs": [
    {
     "data": {
      "text/plain": "                                                    raw timestamp       user  \\\n0     [11:11] <Seveas> Amaranth, the US peer is prob...     11:11     Seveas   \n1     [11:11] <Seveas> but an ES or NL peer download...     11:11     Seveas   \n2     [11:11] <monchichi> http://www.msnbc.msn.com/i...     11:11  monchichi   \n3     [11:11] <IceDC571> the US peer is just stupid ...     11:11   IceDC571   \n4     [11:11] <Seveas> The downloader is breaking th...     11:11     Seveas   \n...                                                 ...       ...        ...   \n1201  [03:35] <Nige> i am stuck with wireless networ...     03:35       Nige   \n1202                                  [03:35] <Nige> :(     03:35       Nige   \n1203         [03:35] <Nige> and its driving me crazy!!!     03:35       Nige   \n1204  [03:35] <FLD> does anybody know how to get dsn...     03:35        FLD   \n1205                               [03:35] <iLLf8d> heh     03:35     iLLf8d   \n\n                                                message  file_ind        date  \\\n0      Amaranth, the US peer is probably breaking th...         0  2005-07-06   \n1               but an ES or NL peer downloading it not         1  2005-07-06   \n2                  http://www.msnbc.msn.com/id/8419601/         2  2005-07-06   \n3      the US peer is just stupid for wanting to sha...         3  2005-07-06   \n4      The downloader is breaking the implicit rules...         4  2005-07-06   \n...                                                 ...       ...         ...   \n1201                i am stuck with wireless networking      1495  2005-07-06   \n1202                                                 :(      1496  2005-07-06   \n1203                        and its driving me crazy!!!      1497  2005-07-06   \n1204     does anybody know how to get dsniff to work :<      1498  2005-07-06   \n1205                                                heh      1499  2005-07-06   \n\n                              uuid  parent   child  \n0        2005_07_06_11_11_Seveas_0     NaN     NaN  \n1        2005_07_06_11_11_Seveas_1     NaN     NaN  \n2     2005_07_06_11_11_monchichi_2     NaN     NaN  \n3      2005_07_06_11_11_IceDC571_3     NaN     NaN  \n4        2005_07_06_11_11_Seveas_4     NaN     NaN  \n...                            ...     ...     ...  \n1201    2005_07_06_03_35_Nige_1495  1493.0  1495.0  \n1202    2005_07_06_03_35_Nige_1496  1495.0  1496.0  \n1203    2005_07_06_03_35_Nige_1497  1495.0  1497.0  \n1204     2005_07_06_03_35_FLD_1498  1498.0  1498.0  \n1205  2005_07_06_03_35_iLLf8d_1499  1494.0  1499.0  \n\n[1206 rows x 9 columns]",
      "text/html": "<div>\n<style scoped>\n    .dataframe tbody tr th:only-of-type {\n        vertical-align: middle;\n    }\n\n    .dataframe tbody tr th {\n        vertical-align: top;\n    }\n\n    .dataframe thead th {\n        text-align: right;\n    }\n</style>\n<table border=\"1\" class=\"dataframe\">\n  <thead>\n    <tr style=\"text-align: right;\">\n      <th></th>\n      <th>raw</th>\n      <th>timestamp</th>\n      <th>user</th>\n      <th>message</th>\n      <th>file_ind</th>\n      <th>date</th>\n      <th>uuid</th>\n      <th>parent</th>\n      <th>child</th>\n    </tr>\n  </thead>\n  <tbody>\n    <tr>\n      <th>0</th>\n      <td>[11:11] &lt;Seveas&gt; Amaranth, the US peer is prob...</td>\n      <td>11:11</td>\n      <td>Seveas</td>\n      <td>Amaranth, the US peer is probably breaking th...</td>\n      <td>0</td>\n      <td>2005-07-06</td>\n      <td>2005_07_06_11_11_Seveas_0</td>\n      <td>NaN</td>\n      <td>NaN</td>\n    </tr>\n    <tr>\n      <th>1</th>\n      <td>[11:11] &lt;Seveas&gt; but an ES or NL peer download...</td>\n      <td>11:11</td>\n      <td>Seveas</td>\n      <td>but an ES or NL peer downloading it not</td>\n      <td>1</td>\n      <td>2005-07-06</td>\n      <td>2005_07_06_11_11_Seveas_1</td>\n      <td>NaN</td>\n      <td>NaN</td>\n    </tr>\n    <tr>\n      <th>2</th>\n      <td>[11:11] &lt;monchichi&gt; http://www.msnbc.msn.com/i...</td>\n      <td>11:11</td>\n      <td>monchichi</td>\n      <td>http://www.msnbc.msn.com/id/8419601/</td>\n      <td>2</td>\n      <td>2005-07-06</td>\n      <td>2005_07_06_11_11_monchichi_2</td>\n      <td>NaN</td>\n      <td>NaN</td>\n    </tr>\n    <tr>\n      <th>3</th>\n      <td>[11:11] &lt;IceDC571&gt; the US peer is just stupid ...</td>\n      <td>11:11</td>\n      <td>IceDC571</td>\n      <td>the US peer is just stupid for wanting to sha...</td>\n      <td>3</td>\n      <td>2005-07-06</td>\n      <td>2005_07_06_11_11_IceDC571_3</td>\n      <td>NaN</td>\n      <td>NaN</td>\n    </tr>\n    <tr>\n      <th>4</th>\n      <td>[11:11] &lt;Seveas&gt; The downloader is breaking th...</td>\n      <td>11:11</td>\n      <td>Seveas</td>\n      <td>The downloader is breaking the implicit rules...</td>\n      <td>4</td>\n      <td>2005-07-06</td>\n      <td>2005_07_06_11_11_Seveas_4</td>\n      <td>NaN</td>\n      <td>NaN</td>\n    </tr>\n    <tr>\n      <th>...</th>\n      <td>...</td>\n      <td>...</td>\n      <td>...</td>\n      <td>...</td>\n      <td>...</td>\n      <td>...</td>\n      <td>...</td>\n      <td>...</td>\n      <td>...</td>\n    </tr>\n    <tr>\n      <th>1201</th>\n      <td>[03:35] &lt;Nige&gt; i am stuck with wireless networ...</td>\n      <td>03:35</td>\n      <td>Nige</td>\n      <td>i am stuck with wireless networking</td>\n      <td>1495</td>\n      <td>2005-07-06</td>\n      <td>2005_07_06_03_35_Nige_1495</td>\n      <td>1493.0</td>\n      <td>1495.0</td>\n    </tr>\n    <tr>\n      <th>1202</th>\n      <td>[03:35] &lt;Nige&gt; :(</td>\n      <td>03:35</td>\n      <td>Nige</td>\n      <td>:(</td>\n      <td>1496</td>\n      <td>2005-07-06</td>\n      <td>2005_07_06_03_35_Nige_1496</td>\n      <td>1495.0</td>\n      <td>1496.0</td>\n    </tr>\n    <tr>\n      <th>1203</th>\n      <td>[03:35] &lt;Nige&gt; and its driving me crazy!!!</td>\n      <td>03:35</td>\n      <td>Nige</td>\n      <td>and its driving me crazy!!!</td>\n      <td>1497</td>\n      <td>2005-07-06</td>\n      <td>2005_07_06_03_35_Nige_1497</td>\n      <td>1495.0</td>\n      <td>1497.0</td>\n    </tr>\n    <tr>\n      <th>1204</th>\n      <td>[03:35] &lt;FLD&gt; does anybody know how to get dsn...</td>\n      <td>03:35</td>\n      <td>FLD</td>\n      <td>does anybody know how to get dsniff to work :&lt;</td>\n      <td>1498</td>\n      <td>2005-07-06</td>\n      <td>2005_07_06_03_35_FLD_1498</td>\n      <td>1498.0</td>\n      <td>1498.0</td>\n    </tr>\n    <tr>\n      <th>1205</th>\n      <td>[03:35] &lt;iLLf8d&gt; heh</td>\n      <td>03:35</td>\n      <td>iLLf8d</td>\n      <td>heh</td>\n      <td>1499</td>\n      <td>2005-07-06</td>\n      <td>2005_07_06_03_35_iLLf8d_1499</td>\n      <td>1494.0</td>\n      <td>1499.0</td>\n    </tr>\n  </tbody>\n</table>\n<p>1206 rows × 9 columns</p>\n</div>"
     },
     "execution_count": 197,
     "metadata": {},
     "output_type": "execute_result"
    }
   ],
   "source": [
    "merged_data"
   ],
   "metadata": {
    "collapsed": false
   }
  },
  {
   "cell_type": "code",
   "execution_count": 192,
   "outputs": [],
   "source": [
    "temp = pd.merge(merged_data[['child', 'parent', 'uuid']], merged_data[['file_ind', 'child', 'parent', 'uuid']], left_on='parent', right_on='file_ind', how='left', suffixes=['_l', '_r']).copy()"
   ],
   "metadata": {
    "collapsed": false
   }
  },
  {
   "cell_type": "code",
   "execution_count": 194,
   "outputs": [
    {
     "data": {
      "text/plain": "      child_l  parent_l                      uuid_l  file_ind  child_r  \\\n1020   1262.0    1254.0  2005_07_06_02_59_Vjaz_1262    1254.0   1254.0   \n\n      parent_r                        uuid_r  \n1020    1252.0  2005_07_06_02_58_delire_1254  ",
      "text/html": "<div>\n<style scoped>\n    .dataframe tbody tr th:only-of-type {\n        vertical-align: middle;\n    }\n\n    .dataframe tbody tr th {\n        vertical-align: top;\n    }\n\n    .dataframe thead th {\n        text-align: right;\n    }\n</style>\n<table border=\"1\" class=\"dataframe\">\n  <thead>\n    <tr style=\"text-align: right;\">\n      <th></th>\n      <th>child_l</th>\n      <th>parent_l</th>\n      <th>uuid_l</th>\n      <th>file_ind</th>\n      <th>child_r</th>\n      <th>parent_r</th>\n      <th>uuid_r</th>\n    </tr>\n  </thead>\n  <tbody>\n    <tr>\n      <th>1020</th>\n      <td>1262.0</td>\n      <td>1254.0</td>\n      <td>2005_07_06_02_59_Vjaz_1262</td>\n      <td>1254.0</td>\n      <td>1254.0</td>\n      <td>1252.0</td>\n      <td>2005_07_06_02_58_delire_1254</td>\n    </tr>\n  </tbody>\n</table>\n</div>"
     },
     "execution_count": 194,
     "metadata": {},
     "output_type": "execute_result"
    }
   ],
   "source": [
    "temp[temp['child_l'] == 1262]"
   ],
   "metadata": {
    "collapsed": false
   }
  },
  {
   "cell_type": "code",
   "execution_count": 198,
   "outputs": [],
   "source": [
    "merged_data['parent_uuid'] = pd.merge(merged_data[['child', 'parent', 'uuid']], merged_data[['file_ind', 'child', 'parent', 'uuid']], left_on='parent', right_on='file_ind', how='left', suffixes=['_l', '_r'])['uuid_r']"
   ],
   "metadata": {
    "collapsed": false
   }
  },
  {
   "cell_type": "code",
   "execution_count": 201,
   "outputs": [
    {
     "data": {
      "text/plain": "      file_ind        date                          uuid  parent  \\\n0            0  2005-07-06     2005_07_06_11_11_Seveas_0     NaN   \n1            1  2005-07-06     2005_07_06_11_11_Seveas_1     NaN   \n2            2  2005-07-06  2005_07_06_11_11_monchichi_2     NaN   \n3            3  2005-07-06   2005_07_06_11_11_IceDC571_3     NaN   \n4            4  2005-07-06     2005_07_06_11_11_Seveas_4     NaN   \n...        ...         ...                           ...     ...   \n1201      1495  2005-07-06    2005_07_06_03_35_Nige_1495  1493.0   \n1202      1496  2005-07-06    2005_07_06_03_35_Nige_1496  1495.0   \n1203      1497  2005-07-06    2005_07_06_03_35_Nige_1497  1495.0   \n1204      1498  2005-07-06     2005_07_06_03_35_FLD_1498  1498.0   \n1205      1499  2005-07-06  2005_07_06_03_35_iLLf8d_1499  1494.0   \n\n                          parent_uuid  \n0                                 NaN  \n1                                 NaN  \n2                                 NaN  \n3                                 NaN  \n4                                 NaN  \n...                               ...  \n1201  2005_07_06_03_35_mindmedic_1490  \n1202        2005_07_06_03_35_fdr_1492  \n1203     2005_07_06_03_35_delire_1489  \n1204       2005_07_06_03_34_wizo_1487  \n1205       2005_07_06_03_35_Nige_1493  \n\n[1206 rows x 5 columns]",
      "text/html": "<div>\n<style scoped>\n    .dataframe tbody tr th:only-of-type {\n        vertical-align: middle;\n    }\n\n    .dataframe tbody tr th {\n        vertical-align: top;\n    }\n\n    .dataframe thead th {\n        text-align: right;\n    }\n</style>\n<table border=\"1\" class=\"dataframe\">\n  <thead>\n    <tr style=\"text-align: right;\">\n      <th></th>\n      <th>file_ind</th>\n      <th>date</th>\n      <th>uuid</th>\n      <th>parent</th>\n      <th>parent_uuid</th>\n    </tr>\n  </thead>\n  <tbody>\n    <tr>\n      <th>0</th>\n      <td>0</td>\n      <td>2005-07-06</td>\n      <td>2005_07_06_11_11_Seveas_0</td>\n      <td>NaN</td>\n      <td>NaN</td>\n    </tr>\n    <tr>\n      <th>1</th>\n      <td>1</td>\n      <td>2005-07-06</td>\n      <td>2005_07_06_11_11_Seveas_1</td>\n      <td>NaN</td>\n      <td>NaN</td>\n    </tr>\n    <tr>\n      <th>2</th>\n      <td>2</td>\n      <td>2005-07-06</td>\n      <td>2005_07_06_11_11_monchichi_2</td>\n      <td>NaN</td>\n      <td>NaN</td>\n    </tr>\n    <tr>\n      <th>3</th>\n      <td>3</td>\n      <td>2005-07-06</td>\n      <td>2005_07_06_11_11_IceDC571_3</td>\n      <td>NaN</td>\n      <td>NaN</td>\n    </tr>\n    <tr>\n      <th>4</th>\n      <td>4</td>\n      <td>2005-07-06</td>\n      <td>2005_07_06_11_11_Seveas_4</td>\n      <td>NaN</td>\n      <td>NaN</td>\n    </tr>\n    <tr>\n      <th>...</th>\n      <td>...</td>\n      <td>...</td>\n      <td>...</td>\n      <td>...</td>\n      <td>...</td>\n    </tr>\n    <tr>\n      <th>1201</th>\n      <td>1495</td>\n      <td>2005-07-06</td>\n      <td>2005_07_06_03_35_Nige_1495</td>\n      <td>1493.0</td>\n      <td>2005_07_06_03_35_mindmedic_1490</td>\n    </tr>\n    <tr>\n      <th>1202</th>\n      <td>1496</td>\n      <td>2005-07-06</td>\n      <td>2005_07_06_03_35_Nige_1496</td>\n      <td>1495.0</td>\n      <td>2005_07_06_03_35_fdr_1492</td>\n    </tr>\n    <tr>\n      <th>1203</th>\n      <td>1497</td>\n      <td>2005-07-06</td>\n      <td>2005_07_06_03_35_Nige_1497</td>\n      <td>1495.0</td>\n      <td>2005_07_06_03_35_delire_1489</td>\n    </tr>\n    <tr>\n      <th>1204</th>\n      <td>1498</td>\n      <td>2005-07-06</td>\n      <td>2005_07_06_03_35_FLD_1498</td>\n      <td>1498.0</td>\n      <td>2005_07_06_03_34_wizo_1487</td>\n    </tr>\n    <tr>\n      <th>1205</th>\n      <td>1499</td>\n      <td>2005-07-06</td>\n      <td>2005_07_06_03_35_iLLf8d_1499</td>\n      <td>1494.0</td>\n      <td>2005_07_06_03_35_Nige_1493</td>\n    </tr>\n  </tbody>\n</table>\n<p>1206 rows × 5 columns</p>\n</div>"
     },
     "execution_count": 201,
     "metadata": {},
     "output_type": "execute_result"
    }
   ],
   "source": [
    "merged_data[['file_ind', 'date', 'uuid', 'parent', 'parent_uuid']]"
   ],
   "metadata": {
    "collapsed": false
   }
  },
  {
   "cell_type": "code",
   "execution_count": 202,
   "outputs": [
    {
     "data": {
      "text/plain": "      child_l  parent_l                        uuid_l  file_ind  child_r  \\\n0         NaN       NaN     2005_07_06_11_11_Seveas_0       NaN      NaN   \n1         NaN       NaN     2005_07_06_11_11_Seveas_1       NaN      NaN   \n2         NaN       NaN  2005_07_06_11_11_monchichi_2       NaN      NaN   \n3         NaN       NaN   2005_07_06_11_11_IceDC571_3       NaN      NaN   \n4         NaN       NaN     2005_07_06_11_11_Seveas_4       NaN      NaN   \n...       ...       ...                           ...       ...      ...   \n1205   1495.0    1493.0    2005_07_06_03_35_Nige_1495    1493.0   1493.0   \n1206   1496.0    1495.0    2005_07_06_03_35_Nige_1496    1495.0   1495.0   \n1207   1497.0    1495.0    2005_07_06_03_35_Nige_1497    1495.0   1495.0   \n1208   1498.0    1498.0     2005_07_06_03_35_FLD_1498    1498.0   1498.0   \n1209   1499.0    1494.0  2005_07_06_03_35_iLLf8d_1499    1494.0   1494.0   \n\n      parent_r                      uuid_r  \n0          NaN                         NaN  \n1          NaN                         NaN  \n2          NaN                         NaN  \n3          NaN                         NaN  \n4          NaN                         NaN  \n...        ...                         ...  \n1205    1489.0  2005_07_06_03_35_Nige_1493  \n1206    1493.0  2005_07_06_03_35_Nige_1495  \n1207    1493.0  2005_07_06_03_35_Nige_1495  \n1208    1498.0   2005_07_06_03_35_FLD_1498  \n1209    1487.0  2005_07_06_03_35_wizo_1494  \n\n[1210 rows x 7 columns]",
      "text/html": "<div>\n<style scoped>\n    .dataframe tbody tr th:only-of-type {\n        vertical-align: middle;\n    }\n\n    .dataframe tbody tr th {\n        vertical-align: top;\n    }\n\n    .dataframe thead th {\n        text-align: right;\n    }\n</style>\n<table border=\"1\" class=\"dataframe\">\n  <thead>\n    <tr style=\"text-align: right;\">\n      <th></th>\n      <th>child_l</th>\n      <th>parent_l</th>\n      <th>uuid_l</th>\n      <th>file_ind</th>\n      <th>child_r</th>\n      <th>parent_r</th>\n      <th>uuid_r</th>\n    </tr>\n  </thead>\n  <tbody>\n    <tr>\n      <th>0</th>\n      <td>NaN</td>\n      <td>NaN</td>\n      <td>2005_07_06_11_11_Seveas_0</td>\n      <td>NaN</td>\n      <td>NaN</td>\n      <td>NaN</td>\n      <td>NaN</td>\n    </tr>\n    <tr>\n      <th>1</th>\n      <td>NaN</td>\n      <td>NaN</td>\n      <td>2005_07_06_11_11_Seveas_1</td>\n      <td>NaN</td>\n      <td>NaN</td>\n      <td>NaN</td>\n      <td>NaN</td>\n    </tr>\n    <tr>\n      <th>2</th>\n      <td>NaN</td>\n      <td>NaN</td>\n      <td>2005_07_06_11_11_monchichi_2</td>\n      <td>NaN</td>\n      <td>NaN</td>\n      <td>NaN</td>\n      <td>NaN</td>\n    </tr>\n    <tr>\n      <th>3</th>\n      <td>NaN</td>\n      <td>NaN</td>\n      <td>2005_07_06_11_11_IceDC571_3</td>\n      <td>NaN</td>\n      <td>NaN</td>\n      <td>NaN</td>\n      <td>NaN</td>\n    </tr>\n    <tr>\n      <th>4</th>\n      <td>NaN</td>\n      <td>NaN</td>\n      <td>2005_07_06_11_11_Seveas_4</td>\n      <td>NaN</td>\n      <td>NaN</td>\n      <td>NaN</td>\n      <td>NaN</td>\n    </tr>\n    <tr>\n      <th>...</th>\n      <td>...</td>\n      <td>...</td>\n      <td>...</td>\n      <td>...</td>\n      <td>...</td>\n      <td>...</td>\n      <td>...</td>\n    </tr>\n    <tr>\n      <th>1205</th>\n      <td>1495.0</td>\n      <td>1493.0</td>\n      <td>2005_07_06_03_35_Nige_1495</td>\n      <td>1493.0</td>\n      <td>1493.0</td>\n      <td>1489.0</td>\n      <td>2005_07_06_03_35_Nige_1493</td>\n    </tr>\n    <tr>\n      <th>1206</th>\n      <td>1496.0</td>\n      <td>1495.0</td>\n      <td>2005_07_06_03_35_Nige_1496</td>\n      <td>1495.0</td>\n      <td>1495.0</td>\n      <td>1493.0</td>\n      <td>2005_07_06_03_35_Nige_1495</td>\n    </tr>\n    <tr>\n      <th>1207</th>\n      <td>1497.0</td>\n      <td>1495.0</td>\n      <td>2005_07_06_03_35_Nige_1497</td>\n      <td>1495.0</td>\n      <td>1495.0</td>\n      <td>1493.0</td>\n      <td>2005_07_06_03_35_Nige_1495</td>\n    </tr>\n    <tr>\n      <th>1208</th>\n      <td>1498.0</td>\n      <td>1498.0</td>\n      <td>2005_07_06_03_35_FLD_1498</td>\n      <td>1498.0</td>\n      <td>1498.0</td>\n      <td>1498.0</td>\n      <td>2005_07_06_03_35_FLD_1498</td>\n    </tr>\n    <tr>\n      <th>1209</th>\n      <td>1499.0</td>\n      <td>1494.0</td>\n      <td>2005_07_06_03_35_iLLf8d_1499</td>\n      <td>1494.0</td>\n      <td>1494.0</td>\n      <td>1487.0</td>\n      <td>2005_07_06_03_35_wizo_1494</td>\n    </tr>\n  </tbody>\n</table>\n<p>1210 rows × 7 columns</p>\n</div>"
     },
     "execution_count": 202,
     "metadata": {},
     "output_type": "execute_result"
    }
   ],
   "source": [
    "temp"
   ],
   "metadata": {
    "collapsed": false
   }
  },
  {
   "cell_type": "code",
   "execution_count": 139,
   "outputs": [
    {
     "data": {
      "text/plain": "dict_keys(['2004-12-25', '2005-02-06', '2005-02-08', '2005-02-27', '2005-05-14', '2005-05-19', '2005-06-06', '2005-06-12', '2005-06-16', '2005-06-20', '2005-07-25', '2005-07-29', '2005-09-26', '2005-10-07', '2005-10-12', '2005-12-03', '2005-12-04', '2005-12-16', '2005-12-23', '2006-01-02', '2006-01-12', '2006-02-20', '2006-02-24', '2006-02-28', '2006-03-05', '2006-05-02', '2006-05-15', '2006-05-27', '2006-05-29', '2006-06-01', '2006-06-05', '2006-06-08', '2006-06-21', '2006-06-28', '2006-07-01', '2006-08-06', '2006-08-11', '2006-08-13', '2006-08-15', '2006-08-23', '2006-09-13', '2006-09-24', '2006-11-01', '2006-12-06', '2006-12-10', '2006-12-20', '2007-01-12', '2007-01-19', '2007-01-21', '2007-01-29', '2007-02-06', '2007-02-07', '2007-02-15', '2007-06-01', '2007-06-04', '2007-06-17', '2007-07-03', '2007-08-19', '2007-08-22', '2007-08-24', '2007-09-07', '2007-10-24', '2007-12-17', '2008-01-02', '2008-01-03', '2008-02-07', '2008-02-14', '2008-03-01', '2008-04-20', '2008-04-27', '2008-04-30', '2008-05-24', '2008-06-03', '2008-07-03', '2008-10-02', '2009-01-05', '2009-03-25', '2009-05-04', '2009-05-08', '2009-07-02', '2009-11-13', '2009-12-05', '2010-01-04', '2010-02-13', '2010-03-08', '2010-03-20', '2010-04-12', '2010-05-30', '2010-06-21', '2010-08-05', '2010-08-15', '2010-08-29', '2010-10-17', '2010-10-27', '2011-02-13', '2011-02-23', '2011-03-18', '2011-04-14', '2011-04-17', '2011-04-28', '2011-08-17', '2011-08-22', '2011-11-24', '2011-12-07', '2012-02-03', '2012-03-24', '2012-05-04', '2012-05-20', '2012-06-02', '2012-06-20', '2012-11-24', '2012-11-30', '2012-12-15', '2013-01-11', '2013-01-30', '2013-02-24', '2013-05-05', '2013-05-07', '2013-05-19', '2013-05-28', '2013-07-10', '2013-07-19', '2013-08-29', '2013-08-30', '2013-09-12', '2013-09-16', '2013-10-04', '2013-10-11', '2013-10-28', '2013-12-02', '2014-01-08', '2014-08-14', '2014-09-29', '2014-12-21', '2014-12-27', '2015-01-20', '2015-02-04', '2015-04-19', '2015-05-08', '2015-06-12', '2015-08-10', '2015-09-25', '2015-10-14', '2015-10-19', '2015-11-26', '2015-12-28', '2017-02-06', '2017-03-02', '2017-03-23', '2017-05-09', '2017-07-15', '2017-09-02', '2018-02-27', '2005-07-06', '2007-01-11', '2007-12-01', '2008-07-14', '2010-08-17', '2013-09-01', '2014-06-18', '2015-03-18', '2016-02-22', '2016-06-08', '2004-11-15', '2005-06-27', '2005-08-08', '2008-12-11', '2009-02-23', '2009-03-03', '2009-10-01', '2011-05-29', '2011-11-13', '2016-12-19'])"
     },
     "execution_count": 139,
     "metadata": {},
     "output_type": "execute_result"
    }
   ],
   "source": [
    "raw_df_dict.keys()"
   ],
   "metadata": {
    "collapsed": false
   }
  },
  {
   "cell_type": "code",
   "execution_count": 80,
   "outputs": [
    {
     "data": {
      "text/plain": "     parent  child\n0       999   1000\n1      1001   1002\n2      1001   1004\n3      1007   1008\n4      1007   1009\n..      ...    ...\n255    1044   1047\n256    1084   1084\n257    1172   1172\n258     999    999\n259     982    982\n\n[260 rows x 2 columns]",
      "text/html": "<div>\n<style scoped>\n    .dataframe tbody tr th:only-of-type {\n        vertical-align: middle;\n    }\n\n    .dataframe tbody tr th {\n        vertical-align: top;\n    }\n\n    .dataframe thead th {\n        text-align: right;\n    }\n</style>\n<table border=\"1\" class=\"dataframe\">\n  <thead>\n    <tr style=\"text-align: right;\">\n      <th></th>\n      <th>parent</th>\n      <th>child</th>\n    </tr>\n  </thead>\n  <tbody>\n    <tr>\n      <th>0</th>\n      <td>999</td>\n      <td>1000</td>\n    </tr>\n    <tr>\n      <th>1</th>\n      <td>1001</td>\n      <td>1002</td>\n    </tr>\n    <tr>\n      <th>2</th>\n      <td>1001</td>\n      <td>1004</td>\n    </tr>\n    <tr>\n      <th>3</th>\n      <td>1007</td>\n      <td>1008</td>\n    </tr>\n    <tr>\n      <th>4</th>\n      <td>1007</td>\n      <td>1009</td>\n    </tr>\n    <tr>\n      <th>...</th>\n      <td>...</td>\n      <td>...</td>\n    </tr>\n    <tr>\n      <th>255</th>\n      <td>1044</td>\n      <td>1047</td>\n    </tr>\n    <tr>\n      <th>256</th>\n      <td>1084</td>\n      <td>1084</td>\n    </tr>\n    <tr>\n      <th>257</th>\n      <td>1172</td>\n      <td>1172</td>\n    </tr>\n    <tr>\n      <th>258</th>\n      <td>999</td>\n      <td>999</td>\n    </tr>\n    <tr>\n      <th>259</th>\n      <td>982</td>\n      <td>982</td>\n    </tr>\n  </tbody>\n</table>\n<p>260 rows × 2 columns</p>\n</div>"
     },
     "execution_count": 80,
     "metadata": {},
     "output_type": "execute_result"
    }
   ],
   "source": [
    "annot_df"
   ],
   "metadata": {
    "collapsed": false
   }
  },
  {
   "cell_type": "code",
   "execution_count": null,
   "outputs": [],
   "source": [],
   "metadata": {
    "collapsed": false
   }
  }
 ],
 "metadata": {
  "kernelspec": {
   "display_name": "Python 3",
   "language": "python",
   "name": "python3"
  },
  "language_info": {
   "codemirror_mode": {
    "name": "ipython",
    "version": 2
   },
   "file_extension": ".py",
   "mimetype": "text/x-python",
   "name": "python",
   "nbconvert_exporter": "python",
   "pygments_lexer": "ipython2",
   "version": "2.7.6"
  }
 },
 "nbformat": 4,
 "nbformat_minor": 0
}
