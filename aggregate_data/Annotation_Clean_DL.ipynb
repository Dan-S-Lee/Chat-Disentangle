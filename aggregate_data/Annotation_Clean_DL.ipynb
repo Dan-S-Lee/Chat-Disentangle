{
 "cells": [
  {
   "cell_type": "code",
   "execution_count": 2,
   "metadata": {
    "collapsed": true
   },
   "outputs": [],
   "source": [
    "import pandas as pd\n",
    "from glob import glob as g"
   ]
  },
  {
   "cell_type": "code",
   "execution_count": 46,
   "outputs": [
    {
     "name": "stderr",
     "output_type": "stream",
     "text": [
      "C:\\Users\\Daniel\\PycharmProjects\\Chat-Disentangle\\venv\\lib\\site-packages\\ipykernel_launcher.py:23: ParserWarning: Falling back to the 'python' engine because the 'c' engine does not support regex separators (separators > 1 char and different from '\\s+' are interpreted as regex); you can avoid this warning by specifying engine='python'.\n"
     ]
    }
   ],
   "source": [
    "# Set patterns\n",
    "timestamp_pattern = \"[[](\\d\\d:\\d\\d)[]]\"\n",
    "user_pattern = \"[[]\\d\\d:\\d\\d[]]\\s[<](.*?)[>]\"\n",
    "message_pattern = \".*[<].*[>](.*)\"\n",
    "# Get files\n",
    "\n",
    "# Train\n",
    "filepath = '../data/'\n",
    "subfolders = [\"train\", \"test\", \"dev\"]\n",
    "\n",
    "for subfolder in subfolders:\n",
    "    filelist_ascii = g(filepath + subfolder + '/*ascii.txt')\n",
    "    #filelist_annot = g(filepath + subfolder + '/*annotation.txt')\n",
    "    for filename in filelist_ascii:\n",
    "        filename_annot = filename.replace('ascii', 'annotation')\n",
    "        data = pd.read_csv(filename, header = None, names = ['raw'], delimiter=\"\\t\")\n",
    "        data['timestamp'] = data['raw'].str.extract(timestamp_pattern, expand=True)\n",
    "        data['user'] = data['raw'].str.extract(user_pattern, expand=True)\n",
    "        data['message'] = data['raw'].str.extract(message_pattern, expand=True)\n",
    "        data['file_ind'] = data.index.values\n",
    "        data['file_ind'] = data['file_ind']\n",
    "\n",
    "        annot_df = pd.read_csv(filename_annot, index_col=False, header=None, names=['parent', 'child'], delimiter=\"\\s\")\n",
    "        merged_data = pd.merge(data, annot_df, left_on='file_ind', right_on='child', how='left')\n",
    "        merged_data.to_csv(filename + \"_annot.csv\")\n",
    "        #data.to_csv(filename + \".csv\")"
   ],
   "metadata": {
    "collapsed": false
   }
  },
  {
   "cell_type": "code",
   "execution_count": 47,
   "outputs": [],
   "source": [
    "date_pattern = \"(\\d\\d\\d\\d-\\d\\d-\\d\\d)\"\n",
    "\n",
    "# Train\n",
    "filepath = '../data/train'\n",
    "csvs_train = pd.DataFrame(g(filepath + '/*annot.csv'), columns=[\"path\"])\n",
    "csvs_train[\"date\"] = csvs_train[\"path\"].str.extract(date_pattern, expand=True)\n",
    "\n",
    "# Test\n",
    "filepath = '../data/test'\n",
    "csvs_test = pd.DataFrame(g(filepath + '/*annot.csv'), columns=[\"path\"])\n",
    "csvs_test[\"date\"] = csvs_test[\"path\"].str.extract(date_pattern, expand=True)\n",
    "\n",
    "\n",
    "# Dev\n",
    "filepath = '../data/dev'\n",
    "csvs_dev = pd.DataFrame(g(filepath + '/*annot.csv'), columns=[\"path\"])\n",
    "csvs_dev[\"date\"] = csvs_dev[\"path\"].str.extract(date_pattern, expand=True)\n"
   ],
   "metadata": {
    "collapsed": false
   }
  },
  {
   "cell_type": "code",
   "execution_count": 48,
   "outputs": [],
   "source": [
    "#Aggregate files\n",
    "rootfile = '../'\n",
    "\n",
    "agg_train = pd.DataFrame()\n",
    "for i in range(len(csvs_train.path)):\n",
    "    data = pd.read_csv(csvs_train.path[i], header = 0, index_col=0)\n",
    "    data['date'] = pd.Series([csvs_train.date[i] for x in range(len(data))])\n",
    "    agg_train = agg_train.append(data)\n",
    "agg_train.to_csv(rootfile + \"agg_train.csv\")\n",
    "\n",
    "agg_test = pd.DataFrame()\n",
    "for i in range(len(csvs_test.path)):\n",
    "    data = pd.read_csv(csvs_test.path[i], header = 0, index_col=0)\n",
    "    data['date'] = pd.Series([csvs_test.date[i] for x in range(len(data))])\n",
    "    agg_test = agg_test.append(data)\n",
    "agg_test.to_csv(rootfile + \"agg_test.csv\")\n",
    "\n",
    "agg_dev = pd.DataFrame()\n",
    "for i in range(len(csvs_dev.path)):\n",
    "    data = pd.read_csv(csvs_dev.path[i], header = 0, index_col=0)\n",
    "    data['date'] = pd.Series([csvs_dev.date[i] for x in range(len(data))])\n",
    "    agg_dev = agg_dev.append(data)\n",
    "agg_dev.to_csv(rootfile + \"agg_dev.csv\")"
   ],
   "metadata": {
    "collapsed": false
   }
  },
  {
   "cell_type": "code",
   "execution_count": 49,
   "outputs": [],
   "source": [
    "agg_dev\n",
    "# Remove command messages\n",
    "agg_dict = {\n",
    "    'dev': agg_dev,\n",
    "    'train': agg_train,\n",
    "    'test': agg_test\n",
    "}\n",
    "\n",
    "for key in agg_dict.keys():\n",
    "    agg_dict[key] = agg_dict[key][agg_dict[key]['timestamp'].notnull()]"
   ],
   "metadata": {
    "collapsed": false
   }
  },
  {
   "cell_type": "code",
   "execution_count": 50,
   "outputs": [
    {
     "data": {
      "text/plain": "                                                    raw timestamp  \\\n0       [12:18] <|trey|> usual, quite stable though  :)     12:18   \n1     [12:18] <tweaked> HrdwrBoB: ok how many partit...     12:18   \n2     [12:18] <Matt|> |trey|, top in the list --> ub...     12:18   \n3                  [12:18] <usual> a few libs and media     12:18   \n4                     [12:18] <usual> maybe some others     12:18   \n...                                                 ...       ...   \n1253          [21:57] <zacky83> who can help me on this     21:57   \n1254  [21:57] <Mccallum1983> can anyone assist, when...     21:57   \n1255  [21:57] <figure002> OerHeks: still makes no se...     21:57   \n1256  [21:58] <figure002> zacky83: did you enable th...     21:58   \n1257             [21:59] <Mccallum1983> can anyone help     21:59   \n\n              user                                            message  \\\n0           |trey|                     usual, quite stable though  :)   \n1          tweaked    HrdwrBoB: ok how many partitions should i make?   \n2            Matt|                                     ubuntu servers   \n3            usual                               a few libs and media   \n4            usual                                  maybe some others   \n...            ...                                                ...   \n1253       zacky83                            who can help me on this   \n1254  Mccallum1983   can anyone assist, when i try to install bitc...   \n1255     figure002   OerHeks: still makes no sense to me why a dae...   \n1256     figure002                 zacky83: did you enable the jails?   \n1257  Mccallum1983                                    can anyone help   \n\n      file_ind  parent   child        date  \n0            0     NaN     NaN  2004-11-15  \n1            1     NaN     NaN  2004-11-15  \n2            2     NaN     NaN  2004-11-15  \n3            3     NaN     NaN  2004-11-15  \n4            4     NaN     NaN  2004-11-15  \n...        ...     ...     ...         ...  \n1253      1245  1244.0  1245.0  2016-12-19  \n1254      1246  1246.0  1246.0  2016-12-19  \n1255      1247  1242.0  1247.0  2016-12-19  \n1256      1248  1244.0  1248.0  2016-12-19  \n1257      1249  1246.0  1249.0  2016-12-19  \n\n[11752 rows x 8 columns]",
      "text/html": "<div>\n<style scoped>\n    .dataframe tbody tr th:only-of-type {\n        vertical-align: middle;\n    }\n\n    .dataframe tbody tr th {\n        vertical-align: top;\n    }\n\n    .dataframe thead th {\n        text-align: right;\n    }\n</style>\n<table border=\"1\" class=\"dataframe\">\n  <thead>\n    <tr style=\"text-align: right;\">\n      <th></th>\n      <th>raw</th>\n      <th>timestamp</th>\n      <th>user</th>\n      <th>message</th>\n      <th>file_ind</th>\n      <th>parent</th>\n      <th>child</th>\n      <th>date</th>\n    </tr>\n  </thead>\n  <tbody>\n    <tr>\n      <th>0</th>\n      <td>[12:18] &lt;|trey|&gt; usual, quite stable though  :)</td>\n      <td>12:18</td>\n      <td>|trey|</td>\n      <td>usual, quite stable though  :)</td>\n      <td>0</td>\n      <td>NaN</td>\n      <td>NaN</td>\n      <td>2004-11-15</td>\n    </tr>\n    <tr>\n      <th>1</th>\n      <td>[12:18] &lt;tweaked&gt; HrdwrBoB: ok how many partit...</td>\n      <td>12:18</td>\n      <td>tweaked</td>\n      <td>HrdwrBoB: ok how many partitions should i make?</td>\n      <td>1</td>\n      <td>NaN</td>\n      <td>NaN</td>\n      <td>2004-11-15</td>\n    </tr>\n    <tr>\n      <th>2</th>\n      <td>[12:18] &lt;Matt|&gt; |trey|, top in the list --&gt; ub...</td>\n      <td>12:18</td>\n      <td>Matt|</td>\n      <td>ubuntu servers</td>\n      <td>2</td>\n      <td>NaN</td>\n      <td>NaN</td>\n      <td>2004-11-15</td>\n    </tr>\n    <tr>\n      <th>3</th>\n      <td>[12:18] &lt;usual&gt; a few libs and media</td>\n      <td>12:18</td>\n      <td>usual</td>\n      <td>a few libs and media</td>\n      <td>3</td>\n      <td>NaN</td>\n      <td>NaN</td>\n      <td>2004-11-15</td>\n    </tr>\n    <tr>\n      <th>4</th>\n      <td>[12:18] &lt;usual&gt; maybe some others</td>\n      <td>12:18</td>\n      <td>usual</td>\n      <td>maybe some others</td>\n      <td>4</td>\n      <td>NaN</td>\n      <td>NaN</td>\n      <td>2004-11-15</td>\n    </tr>\n    <tr>\n      <th>...</th>\n      <td>...</td>\n      <td>...</td>\n      <td>...</td>\n      <td>...</td>\n      <td>...</td>\n      <td>...</td>\n      <td>...</td>\n      <td>...</td>\n    </tr>\n    <tr>\n      <th>1253</th>\n      <td>[21:57] &lt;zacky83&gt; who can help me on this</td>\n      <td>21:57</td>\n      <td>zacky83</td>\n      <td>who can help me on this</td>\n      <td>1245</td>\n      <td>1244.0</td>\n      <td>1245.0</td>\n      <td>2016-12-19</td>\n    </tr>\n    <tr>\n      <th>1254</th>\n      <td>[21:57] &lt;Mccallum1983&gt; can anyone assist, when...</td>\n      <td>21:57</td>\n      <td>Mccallum1983</td>\n      <td>can anyone assist, when i try to install bitc...</td>\n      <td>1246</td>\n      <td>1246.0</td>\n      <td>1246.0</td>\n      <td>2016-12-19</td>\n    </tr>\n    <tr>\n      <th>1255</th>\n      <td>[21:57] &lt;figure002&gt; OerHeks: still makes no se...</td>\n      <td>21:57</td>\n      <td>figure002</td>\n      <td>OerHeks: still makes no sense to me why a dae...</td>\n      <td>1247</td>\n      <td>1242.0</td>\n      <td>1247.0</td>\n      <td>2016-12-19</td>\n    </tr>\n    <tr>\n      <th>1256</th>\n      <td>[21:58] &lt;figure002&gt; zacky83: did you enable th...</td>\n      <td>21:58</td>\n      <td>figure002</td>\n      <td>zacky83: did you enable the jails?</td>\n      <td>1248</td>\n      <td>1244.0</td>\n      <td>1248.0</td>\n      <td>2016-12-19</td>\n    </tr>\n    <tr>\n      <th>1257</th>\n      <td>[21:59] &lt;Mccallum1983&gt; can anyone help</td>\n      <td>21:59</td>\n      <td>Mccallum1983</td>\n      <td>can anyone help</td>\n      <td>1249</td>\n      <td>1246.0</td>\n      <td>1249.0</td>\n      <td>2016-12-19</td>\n    </tr>\n  </tbody>\n</table>\n<p>11752 rows × 8 columns</p>\n</div>"
     },
     "execution_count": 50,
     "metadata": {},
     "output_type": "execute_result"
    }
   ],
   "source": [
    "agg_dict['dev']"
   ],
   "metadata": {
    "collapsed": false
   }
  },
  {
   "cell_type": "code",
   "execution_count": 51,
   "outputs": [],
   "source": [
    "def generate_uuid(row):\n",
    "    try:\n",
    "        uuid =  '_'.join(map(str, [row['date'].replace('-', '_'),\n",
    "                row['timestamp'].replace(':', '_'),\n",
    "                row['user'],\n",
    "                str(row['file_ind'])]))\n",
    "    except Exception as e:\n",
    "        print(row['file_ind'])\n",
    "        raise e\n",
    "    return uuid\n"
   ],
   "metadata": {
    "collapsed": false
   }
  },
  {
   "cell_type": "code",
   "execution_count": 52,
   "outputs": [
    {
     "name": "stderr",
     "output_type": "stream",
     "text": [
      "C:\\Users\\Daniel\\PycharmProjects\\Chat-Disentangle\\venv\\lib\\site-packages\\ipykernel_launcher.py:2: SettingWithCopyWarning: \n",
      "A value is trying to be set on a copy of a slice from a DataFrame.\n",
      "Try using .loc[row_indexer,col_indexer] = value instead\n",
      "\n",
      "See the caveats in the documentation: https://pandas.pydata.org/pandas-docs/stable/user_guide/indexing.html#returning-a-view-versus-a-copy\n",
      "  \n"
     ]
    }
   ],
   "source": [
    "for key in agg_dict.keys():\n",
    "    agg_dict[key]['uuid'] = agg_dict[key].apply(lambda row: generate_uuid(row), axis=1)\n"
   ],
   "metadata": {
    "collapsed": false
   }
  },
  {
   "cell_type": "code",
   "execution_count": 53,
   "outputs": [
    {
     "data": {
      "text/plain": "                                                    raw timestamp  \\\n0       [12:18] <|trey|> usual, quite stable though  :)     12:18   \n1     [12:18] <tweaked> HrdwrBoB: ok how many partit...     12:18   \n2     [12:18] <Matt|> |trey|, top in the list --> ub...     12:18   \n3                  [12:18] <usual> a few libs and media     12:18   \n4                     [12:18] <usual> maybe some others     12:18   \n...                                                 ...       ...   \n1253          [21:57] <zacky83> who can help me on this     21:57   \n1254  [21:57] <Mccallum1983> can anyone assist, when...     21:57   \n1255  [21:57] <figure002> OerHeks: still makes no se...     21:57   \n1256  [21:58] <figure002> zacky83: did you enable th...     21:58   \n1257             [21:59] <Mccallum1983> can anyone help     21:59   \n\n              user                                            message  \\\n0           |trey|                     usual, quite stable though  :)   \n1          tweaked    HrdwrBoB: ok how many partitions should i make?   \n2            Matt|                                     ubuntu servers   \n3            usual                               a few libs and media   \n4            usual                                  maybe some others   \n...            ...                                                ...   \n1253       zacky83                            who can help me on this   \n1254  Mccallum1983   can anyone assist, when i try to install bitc...   \n1255     figure002   OerHeks: still makes no sense to me why a dae...   \n1256     figure002                 zacky83: did you enable the jails?   \n1257  Mccallum1983                                    can anyone help   \n\n      file_ind  parent   child        date                                uuid  \n0            0     NaN     NaN  2004-11-15           2004_11_15_12_18_|trey|_0  \n1            1     NaN     NaN  2004-11-15          2004_11_15_12_18_tweaked_1  \n2            2     NaN     NaN  2004-11-15            2004_11_15_12_18_Matt|_2  \n3            3     NaN     NaN  2004-11-15            2004_11_15_12_18_usual_3  \n4            4     NaN     NaN  2004-11-15            2004_11_15_12_18_usual_4  \n...        ...     ...     ...         ...                                 ...  \n1253      1245  1244.0  1245.0  2016-12-19       2016_12_19_21_57_zacky83_1245  \n1254      1246  1246.0  1246.0  2016-12-19  2016_12_19_21_57_Mccallum1983_1246  \n1255      1247  1242.0  1247.0  2016-12-19     2016_12_19_21_57_figure002_1247  \n1256      1248  1244.0  1248.0  2016-12-19     2016_12_19_21_58_figure002_1248  \n1257      1249  1246.0  1249.0  2016-12-19  2016_12_19_21_59_Mccallum1983_1249  \n\n[11752 rows x 9 columns]",
      "text/html": "<div>\n<style scoped>\n    .dataframe tbody tr th:only-of-type {\n        vertical-align: middle;\n    }\n\n    .dataframe tbody tr th {\n        vertical-align: top;\n    }\n\n    .dataframe thead th {\n        text-align: right;\n    }\n</style>\n<table border=\"1\" class=\"dataframe\">\n  <thead>\n    <tr style=\"text-align: right;\">\n      <th></th>\n      <th>raw</th>\n      <th>timestamp</th>\n      <th>user</th>\n      <th>message</th>\n      <th>file_ind</th>\n      <th>parent</th>\n      <th>child</th>\n      <th>date</th>\n      <th>uuid</th>\n    </tr>\n  </thead>\n  <tbody>\n    <tr>\n      <th>0</th>\n      <td>[12:18] &lt;|trey|&gt; usual, quite stable though  :)</td>\n      <td>12:18</td>\n      <td>|trey|</td>\n      <td>usual, quite stable though  :)</td>\n      <td>0</td>\n      <td>NaN</td>\n      <td>NaN</td>\n      <td>2004-11-15</td>\n      <td>2004_11_15_12_18_|trey|_0</td>\n    </tr>\n    <tr>\n      <th>1</th>\n      <td>[12:18] &lt;tweaked&gt; HrdwrBoB: ok how many partit...</td>\n      <td>12:18</td>\n      <td>tweaked</td>\n      <td>HrdwrBoB: ok how many partitions should i make?</td>\n      <td>1</td>\n      <td>NaN</td>\n      <td>NaN</td>\n      <td>2004-11-15</td>\n      <td>2004_11_15_12_18_tweaked_1</td>\n    </tr>\n    <tr>\n      <th>2</th>\n      <td>[12:18] &lt;Matt|&gt; |trey|, top in the list --&gt; ub...</td>\n      <td>12:18</td>\n      <td>Matt|</td>\n      <td>ubuntu servers</td>\n      <td>2</td>\n      <td>NaN</td>\n      <td>NaN</td>\n      <td>2004-11-15</td>\n      <td>2004_11_15_12_18_Matt|_2</td>\n    </tr>\n    <tr>\n      <th>3</th>\n      <td>[12:18] &lt;usual&gt; a few libs and media</td>\n      <td>12:18</td>\n      <td>usual</td>\n      <td>a few libs and media</td>\n      <td>3</td>\n      <td>NaN</td>\n      <td>NaN</td>\n      <td>2004-11-15</td>\n      <td>2004_11_15_12_18_usual_3</td>\n    </tr>\n    <tr>\n      <th>4</th>\n      <td>[12:18] &lt;usual&gt; maybe some others</td>\n      <td>12:18</td>\n      <td>usual</td>\n      <td>maybe some others</td>\n      <td>4</td>\n      <td>NaN</td>\n      <td>NaN</td>\n      <td>2004-11-15</td>\n      <td>2004_11_15_12_18_usual_4</td>\n    </tr>\n    <tr>\n      <th>...</th>\n      <td>...</td>\n      <td>...</td>\n      <td>...</td>\n      <td>...</td>\n      <td>...</td>\n      <td>...</td>\n      <td>...</td>\n      <td>...</td>\n      <td>...</td>\n    </tr>\n    <tr>\n      <th>1253</th>\n      <td>[21:57] &lt;zacky83&gt; who can help me on this</td>\n      <td>21:57</td>\n      <td>zacky83</td>\n      <td>who can help me on this</td>\n      <td>1245</td>\n      <td>1244.0</td>\n      <td>1245.0</td>\n      <td>2016-12-19</td>\n      <td>2016_12_19_21_57_zacky83_1245</td>\n    </tr>\n    <tr>\n      <th>1254</th>\n      <td>[21:57] &lt;Mccallum1983&gt; can anyone assist, when...</td>\n      <td>21:57</td>\n      <td>Mccallum1983</td>\n      <td>can anyone assist, when i try to install bitc...</td>\n      <td>1246</td>\n      <td>1246.0</td>\n      <td>1246.0</td>\n      <td>2016-12-19</td>\n      <td>2016_12_19_21_57_Mccallum1983_1246</td>\n    </tr>\n    <tr>\n      <th>1255</th>\n      <td>[21:57] &lt;figure002&gt; OerHeks: still makes no se...</td>\n      <td>21:57</td>\n      <td>figure002</td>\n      <td>OerHeks: still makes no sense to me why a dae...</td>\n      <td>1247</td>\n      <td>1242.0</td>\n      <td>1247.0</td>\n      <td>2016-12-19</td>\n      <td>2016_12_19_21_57_figure002_1247</td>\n    </tr>\n    <tr>\n      <th>1256</th>\n      <td>[21:58] &lt;figure002&gt; zacky83: did you enable th...</td>\n      <td>21:58</td>\n      <td>figure002</td>\n      <td>zacky83: did you enable the jails?</td>\n      <td>1248</td>\n      <td>1244.0</td>\n      <td>1248.0</td>\n      <td>2016-12-19</td>\n      <td>2016_12_19_21_58_figure002_1248</td>\n    </tr>\n    <tr>\n      <th>1257</th>\n      <td>[21:59] &lt;Mccallum1983&gt; can anyone help</td>\n      <td>21:59</td>\n      <td>Mccallum1983</td>\n      <td>can anyone help</td>\n      <td>1249</td>\n      <td>1246.0</td>\n      <td>1249.0</td>\n      <td>2016-12-19</td>\n      <td>2016_12_19_21_59_Mccallum1983_1249</td>\n    </tr>\n  </tbody>\n</table>\n<p>11752 rows × 9 columns</p>\n</div>"
     },
     "execution_count": 53,
     "metadata": {},
     "output_type": "execute_result"
    }
   ],
   "source": [
    "agg_dict['dev']"
   ],
   "metadata": {
    "collapsed": false
   }
  },
  {
   "cell_type": "code",
   "execution_count": 56,
   "outputs": [],
   "source": [
    "for key in agg_dict.keys():\n",
    "    agg_dict[key].to_csv(rootfile + f\"data/cleaned/agg_{key}.csv\")"
   ],
   "metadata": {
    "collapsed": false
   }
  },
  {
   "cell_type": "code",
   "execution_count": null,
   "outputs": [],
   "source": [],
   "metadata": {
    "collapsed": false
   }
  }
 ],
 "metadata": {
  "kernelspec": {
   "display_name": "Python 3",
   "language": "python",
   "name": "python3"
  },
  "language_info": {
   "codemirror_mode": {
    "name": "ipython",
    "version": 2
   },
   "file_extension": ".py",
   "mimetype": "text/x-python",
   "name": "python",
   "nbconvert_exporter": "python",
   "pygments_lexer": "ipython2",
   "version": "2.7.6"
  }
 },
 "nbformat": 4,
 "nbformat_minor": 0
}
