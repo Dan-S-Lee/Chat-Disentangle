{
 "cells": [
  {
   "cell_type": "code",
   "execution_count": 4,
   "id": "5c640854",
   "metadata": {},
   "outputs": [],
   "source": [
    "import pandas as pd\n",
    "import matplotlib.pyplot as plt\n",
    "import matplotlib as mpl\n",
    "import numpy as np\n",
    "import seaborn as sns\n",
    "import re\n",
    "from collections import Counter\n",
    "from glob import glob as g\n",
    "\n",
    "%matplotlib inline"
   ]
  },
  {
   "cell_type": "markdown",
   "id": "518c6739",
   "metadata": {},
   "source": [
    "### Create Individual CSVs"
   ]
  },
  {
   "cell_type": "code",
   "execution_count": 62,
   "id": "c47a5227",
   "metadata": {},
   "outputs": [],
   "source": [
    "# Set patterns\n",
    "timestamp_pattern = \"[[](\\d\\d:\\d\\d)[]]\"\n",
    "user_pattern = \"[[]\\d\\d:\\d\\d[]]\\s[<](.*?)[>]\"\n",
    "message_pattern = \".*[<].*[>](.*)\""
   ]
  },
  {
   "cell_type": "code",
   "execution_count": 63,
   "id": "7a592215",
   "metadata": {},
   "outputs": [
    {
     "name": "stderr",
     "output_type": "stream",
     "text": [
      "C:\\Users\\Daniel\\PycharmProjects\\Chat-Disentangle\\venv\\lib\\site-packages\\pandas\\core\\strings.py:954: FutureWarning: Possible nested set at position 1\n",
      "  regex = re.compile(pat, flags=flags)\n"
     ]
    }
   ],
   "source": [
    "# Get files\n",
    "\n",
    "# Train\n",
    "filepath = '../data/'\n",
    "subfolders = [\"train\", \"test\", \"dev\"]\n",
    "\n",
    "for subfolder in subfolders:\n",
    "    filelist_ascii = g(filepath + subfolder + '/*ascii.txt')\n",
    "    for filename in filelist_ascii:\n",
    "        data = pd.read_csv(filename, header = None, names = ['raw'], delimiter=\"\\t\")\n",
    "        data['timestamp'] = data['raw'].str.extract(timestamp_pattern, expand=True)\n",
    "        data['user'] = data['raw'].str.extract(user_pattern, expand=True)\n",
    "        data['message'] = data['raw'].str.extract(message_pattern, expand=True)\n",
    "        data['file_ind'] = data.index.values\n",
    "        data['file_ind'] = data['file_ind'].astype(str)\n",
    "        data.to_csv(filename + \".csv\")"
   ]
  },
  {
   "cell_type": "code",
   "execution_count": 64,
   "outputs": [
    {
     "data": {
      "text/plain": "                                                 raw timestamp      user  \\\n0  [04:14] <Gobbert> ziggi: what do you need help...     04:14   Gobbert   \n1                               [04:14] <ziggi> i am     04:14     ziggi   \n2        [04:15] <joshua__> boot speed was very slow     04:15  joshua__   \n3                   [04:15] <joshua__> 2 min to boot     04:15  joshua__   \n4  [04:15] <joshua__> but windows machine was ver...     04:15  joshua__   \n\n                               message file_ind  \n0   ziggi: what do you need help with?        0  \n1                                 i am        1  \n2             boot speed was very slow        2  \n3                        2 min to boot        3  \n4    but windows machine was very fast        4  ",
      "text/html": "<div>\n<style scoped>\n    .dataframe tbody tr th:only-of-type {\n        vertical-align: middle;\n    }\n\n    .dataframe tbody tr th {\n        vertical-align: top;\n    }\n\n    .dataframe thead th {\n        text-align: right;\n    }\n</style>\n<table border=\"1\" class=\"dataframe\">\n  <thead>\n    <tr style=\"text-align: right;\">\n      <th></th>\n      <th>raw</th>\n      <th>timestamp</th>\n      <th>user</th>\n      <th>message</th>\n      <th>file_ind</th>\n    </tr>\n  </thead>\n  <tbody>\n    <tr>\n      <th>0</th>\n      <td>[04:14] &lt;Gobbert&gt; ziggi: what do you need help...</td>\n      <td>04:14</td>\n      <td>Gobbert</td>\n      <td>ziggi: what do you need help with?</td>\n      <td>0</td>\n    </tr>\n    <tr>\n      <th>1</th>\n      <td>[04:14] &lt;ziggi&gt; i am</td>\n      <td>04:14</td>\n      <td>ziggi</td>\n      <td>i am</td>\n      <td>1</td>\n    </tr>\n    <tr>\n      <th>2</th>\n      <td>[04:15] &lt;joshua__&gt; boot speed was very slow</td>\n      <td>04:15</td>\n      <td>joshua__</td>\n      <td>boot speed was very slow</td>\n      <td>2</td>\n    </tr>\n    <tr>\n      <th>3</th>\n      <td>[04:15] &lt;joshua__&gt; 2 min to boot</td>\n      <td>04:15</td>\n      <td>joshua__</td>\n      <td>2 min to boot</td>\n      <td>3</td>\n    </tr>\n    <tr>\n      <th>4</th>\n      <td>[04:15] &lt;joshua__&gt; but windows machine was ver...</td>\n      <td>04:15</td>\n      <td>joshua__</td>\n      <td>but windows machine was very fast</td>\n      <td>4</td>\n    </tr>\n  </tbody>\n</table>\n</div>"
     },
     "execution_count": 64,
     "metadata": {},
     "output_type": "execute_result"
    }
   ],
   "source": [
    "data.head()"
   ],
   "metadata": {
    "collapsed": false
   }
  },
  {
   "cell_type": "markdown",
   "id": "2d009b6b",
   "metadata": {},
   "source": [
    "### Aggregate CSVs"
   ]
  },
  {
   "cell_type": "code",
   "execution_count": 74,
   "id": "dba1ca73",
   "metadata": {},
   "outputs": [],
   "source": [
    "date_pattern = \"(\\d\\d\\d\\d-\\d\\d-\\d\\d)\"\n",
    "\n",
    "# Train\n",
    "filepath = '../data/train'\n",
    "csvs_train = pd.DataFrame(g(filepath + '/*.csv'), columns=[\"path\"])\n",
    "csvs_train[\"date\"] = csvs_train[\"path\"].str.extract(date_pattern, expand=True)\n",
    "\n",
    "# Test\n",
    "filepath = '../data/test'\n",
    "csvs_test = pd.DataFrame(g(filepath + '/*.csv'), columns=[\"path\"])\n",
    "csvs_test[\"date\"] = csvs_test[\"path\"].str.extract(date_pattern, expand=True)\n",
    "\n",
    "\n",
    "# Dev\n",
    "filepath = '../data/dev'\n",
    "csvs_dev = pd.DataFrame(g(filepath + '/*.csv'), columns=[\"path\"])\n",
    "csvs_dev[\"date\"] = csvs_dev[\"path\"].str.extract(date_pattern, expand=True)\n"
   ]
  },
  {
   "cell_type": "code",
   "execution_count": 75,
   "id": "0ad3bf6e",
   "metadata": {
    "scrolled": true
   },
   "outputs": [
    {
     "data": {
      "text/plain": "                                                path        date\n0  ../data/train\\2004-12-25.train-c.ascii.txt_ann...  2004-12-25\n1  ../data/train\\2005-02-06.train-c.ascii.txt_ann...  2005-02-06\n2  ../data/train\\2005-02-08.train-a.ascii.txt_ann...  2005-02-08",
      "text/html": "<div>\n<style scoped>\n    .dataframe tbody tr th:only-of-type {\n        vertical-align: middle;\n    }\n\n    .dataframe tbody tr th {\n        vertical-align: top;\n    }\n\n    .dataframe thead th {\n        text-align: right;\n    }\n</style>\n<table border=\"1\" class=\"dataframe\">\n  <thead>\n    <tr style=\"text-align: right;\">\n      <th></th>\n      <th>path</th>\n      <th>date</th>\n    </tr>\n  </thead>\n  <tbody>\n    <tr>\n      <th>0</th>\n      <td>../data/train\\2004-12-25.train-c.ascii.txt_ann...</td>\n      <td>2004-12-25</td>\n    </tr>\n    <tr>\n      <th>1</th>\n      <td>../data/train\\2005-02-06.train-c.ascii.txt_ann...</td>\n      <td>2005-02-06</td>\n    </tr>\n    <tr>\n      <th>2</th>\n      <td>../data/train\\2005-02-08.train-a.ascii.txt_ann...</td>\n      <td>2005-02-08</td>\n    </tr>\n  </tbody>\n</table>\n</div>"
     },
     "execution_count": 75,
     "metadata": {},
     "output_type": "execute_result"
    }
   ],
   "source": [
    "csvs_train.head(3)"
   ]
  },
  {
   "cell_type": "code",
   "execution_count": 67,
   "id": "2c06fe1f",
   "metadata": {},
   "outputs": [],
   "source": [
    "#Aggregate files\n",
    "rootfile = '../'\n",
    "\n",
    "agg_train = pd.DataFrame()\n",
    "for i in range(len(csvs_train.path)):\n",
    "    data = pd.read_csv(csvs_train.path[i], header = 0, index_col=0)\n",
    "    data['date'] = pd.Series([csvs_train.date[i] for x in range(len(data))])\n",
    "    agg_train = agg_train.append(data)\n",
    "agg_train.to_csv(rootfile + \"agg_train.csv\")\n",
    "    \n",
    "agg_test = pd.DataFrame()\n",
    "for i in range(len(csvs_test.path)):\n",
    "    data = pd.read_csv(csvs_test.path[i], header = 0, index_col=0)\n",
    "    data['date'] = pd.Series([csvs_test.date[i] for x in range(len(data))])\n",
    "    agg_test = agg_test.append(data)\n",
    "agg_test.to_csv(rootfile + \"agg_test.csv\")\n",
    "    \n",
    "agg_dev = pd.DataFrame()\n",
    "for i in range(len(csvs_dev.path)):\n",
    "    data = pd.read_csv(csvs_dev.path[i], header = 0, index_col=0)\n",
    "    data['date'] = pd.Series([csvs_dev.date[i] for x in range(len(data))])\n",
    "    agg_dev = agg_dev.append(data)\n",
    "agg_dev.to_csv(rootfile + \"agg_dev.csv\")"
   ]
  },
  {
   "cell_type": "code",
   "execution_count": 68,
   "id": "31d86b2b",
   "metadata": {
    "scrolled": false
   },
   "outputs": [
    {
     "data": {
      "text/plain": "                                                    raw timestamp  \\\n0       [12:18] <|trey|> usual, quite stable though  :)     12:18   \n1     [12:18] <tweaked> HrdwrBoB: ok how many partit...     12:18   \n2     [12:18] <Matt|> |trey|, top in the list --> ub...     12:18   \n3                  [12:18] <usual> a few libs and media     12:18   \n4                     [12:18] <usual> maybe some others     12:18   \n...                                                 ...       ...   \n1245          [21:57] <zacky83> who can help me on this     21:57   \n1246  [21:57] <Mccallum1983> can anyone assist, when...     21:57   \n1247  [21:57] <figure002> OerHeks: still makes no se...     21:57   \n1248  [21:58] <figure002> zacky83: did you enable th...     21:58   \n1249             [21:59] <Mccallum1983> can anyone help     21:59   \n\n              user                                            message  \\\n0           |trey|                     usual, quite stable though  :)   \n1          tweaked    HrdwrBoB: ok how many partitions should i make?   \n2            Matt|                                     ubuntu servers   \n3            usual                               a few libs and media   \n4            usual                                  maybe some others   \n...            ...                                                ...   \n1245       zacky83                            who can help me on this   \n1246  Mccallum1983   can anyone assist, when i try to install bitc...   \n1247     figure002   OerHeks: still makes no sense to me why a dae...   \n1248     figure002                 zacky83: did you enable the jails?   \n1249  Mccallum1983                                    can anyone help   \n\n      file_ind        date  \n0            0  2004-11-15  \n1            1  2004-11-15  \n2            2  2004-11-15  \n3            3  2004-11-15  \n4            4  2004-11-15  \n...        ...         ...  \n1245      1245  2016-12-19  \n1246      1246  2016-12-19  \n1247      1247  2016-12-19  \n1248      1248  2016-12-19  \n1249      1249  2016-12-19  \n\n[12500 rows x 6 columns]",
      "text/html": "<div>\n<style scoped>\n    .dataframe tbody tr th:only-of-type {\n        vertical-align: middle;\n    }\n\n    .dataframe tbody tr th {\n        vertical-align: top;\n    }\n\n    .dataframe thead th {\n        text-align: right;\n    }\n</style>\n<table border=\"1\" class=\"dataframe\">\n  <thead>\n    <tr style=\"text-align: right;\">\n      <th></th>\n      <th>raw</th>\n      <th>timestamp</th>\n      <th>user</th>\n      <th>message</th>\n      <th>file_ind</th>\n      <th>date</th>\n    </tr>\n  </thead>\n  <tbody>\n    <tr>\n      <th>0</th>\n      <td>[12:18] &lt;|trey|&gt; usual, quite stable though  :)</td>\n      <td>12:18</td>\n      <td>|trey|</td>\n      <td>usual, quite stable though  :)</td>\n      <td>0</td>\n      <td>2004-11-15</td>\n    </tr>\n    <tr>\n      <th>1</th>\n      <td>[12:18] &lt;tweaked&gt; HrdwrBoB: ok how many partit...</td>\n      <td>12:18</td>\n      <td>tweaked</td>\n      <td>HrdwrBoB: ok how many partitions should i make?</td>\n      <td>1</td>\n      <td>2004-11-15</td>\n    </tr>\n    <tr>\n      <th>2</th>\n      <td>[12:18] &lt;Matt|&gt; |trey|, top in the list --&gt; ub...</td>\n      <td>12:18</td>\n      <td>Matt|</td>\n      <td>ubuntu servers</td>\n      <td>2</td>\n      <td>2004-11-15</td>\n    </tr>\n    <tr>\n      <th>3</th>\n      <td>[12:18] &lt;usual&gt; a few libs and media</td>\n      <td>12:18</td>\n      <td>usual</td>\n      <td>a few libs and media</td>\n      <td>3</td>\n      <td>2004-11-15</td>\n    </tr>\n    <tr>\n      <th>4</th>\n      <td>[12:18] &lt;usual&gt; maybe some others</td>\n      <td>12:18</td>\n      <td>usual</td>\n      <td>maybe some others</td>\n      <td>4</td>\n      <td>2004-11-15</td>\n    </tr>\n    <tr>\n      <th>...</th>\n      <td>...</td>\n      <td>...</td>\n      <td>...</td>\n      <td>...</td>\n      <td>...</td>\n      <td>...</td>\n    </tr>\n    <tr>\n      <th>1245</th>\n      <td>[21:57] &lt;zacky83&gt; who can help me on this</td>\n      <td>21:57</td>\n      <td>zacky83</td>\n      <td>who can help me on this</td>\n      <td>1245</td>\n      <td>2016-12-19</td>\n    </tr>\n    <tr>\n      <th>1246</th>\n      <td>[21:57] &lt;Mccallum1983&gt; can anyone assist, when...</td>\n      <td>21:57</td>\n      <td>Mccallum1983</td>\n      <td>can anyone assist, when i try to install bitc...</td>\n      <td>1246</td>\n      <td>2016-12-19</td>\n    </tr>\n    <tr>\n      <th>1247</th>\n      <td>[21:57] &lt;figure002&gt; OerHeks: still makes no se...</td>\n      <td>21:57</td>\n      <td>figure002</td>\n      <td>OerHeks: still makes no sense to me why a dae...</td>\n      <td>1247</td>\n      <td>2016-12-19</td>\n    </tr>\n    <tr>\n      <th>1248</th>\n      <td>[21:58] &lt;figure002&gt; zacky83: did you enable th...</td>\n      <td>21:58</td>\n      <td>figure002</td>\n      <td>zacky83: did you enable the jails?</td>\n      <td>1248</td>\n      <td>2016-12-19</td>\n    </tr>\n    <tr>\n      <th>1249</th>\n      <td>[21:59] &lt;Mccallum1983&gt; can anyone help</td>\n      <td>21:59</td>\n      <td>Mccallum1983</td>\n      <td>can anyone help</td>\n      <td>1249</td>\n      <td>2016-12-19</td>\n    </tr>\n  </tbody>\n</table>\n<p>12500 rows × 6 columns</p>\n</div>"
     },
     "execution_count": 68,
     "metadata": {},
     "output_type": "execute_result"
    }
   ],
   "source": [
    "agg_dev"
   ]
  },
  {
   "cell_type": "code",
   "execution_count": 69,
   "id": "232e9a5b",
   "metadata": {},
   "outputs": [],
   "source": [
    "# Remove command messages\n",
    "agg_dict = {\n",
    "    'dev':agg_dev,\n",
    "    'train': agg_train,\n",
    "    'test': agg_test\n",
    "}\n",
    "\n",
    "for key in agg_dict.keys():\n",
    "    agg_dict[key] = agg_dict[key][agg_dict[key]['timestamp'].notnull()]"
   ]
  },
  {
   "cell_type": "code",
   "execution_count": 70,
   "outputs": [
    {
     "data": {
      "text/plain": "                                                    raw timestamp  \\\n0       [12:18] <|trey|> usual, quite stable though  :)     12:18   \n1     [12:18] <tweaked> HrdwrBoB: ok how many partit...     12:18   \n2     [12:18] <Matt|> |trey|, top in the list --> ub...     12:18   \n3                  [12:18] <usual> a few libs and media     12:18   \n4                     [12:18] <usual> maybe some others     12:18   \n...                                                 ...       ...   \n1245          [21:57] <zacky83> who can help me on this     21:57   \n1246  [21:57] <Mccallum1983> can anyone assist, when...     21:57   \n1247  [21:57] <figure002> OerHeks: still makes no se...     21:57   \n1248  [21:58] <figure002> zacky83: did you enable th...     21:58   \n1249             [21:59] <Mccallum1983> can anyone help     21:59   \n\n              user                                            message  \\\n0           |trey|                     usual, quite stable though  :)   \n1          tweaked    HrdwrBoB: ok how many partitions should i make?   \n2            Matt|                                     ubuntu servers   \n3            usual                               a few libs and media   \n4            usual                                  maybe some others   \n...            ...                                                ...   \n1245       zacky83                            who can help me on this   \n1246  Mccallum1983   can anyone assist, when i try to install bitc...   \n1247     figure002   OerHeks: still makes no sense to me why a dae...   \n1248     figure002                 zacky83: did you enable the jails?   \n1249  Mccallum1983                                    can anyone help   \n\n      file_ind        date  \n0            0  2004-11-15  \n1            1  2004-11-15  \n2            2  2004-11-15  \n3            3  2004-11-15  \n4            4  2004-11-15  \n...        ...         ...  \n1245      1245  2016-12-19  \n1246      1246  2016-12-19  \n1247      1247  2016-12-19  \n1248      1248  2016-12-19  \n1249      1249  2016-12-19  \n\n[11644 rows x 6 columns]",
      "text/html": "<div>\n<style scoped>\n    .dataframe tbody tr th:only-of-type {\n        vertical-align: middle;\n    }\n\n    .dataframe tbody tr th {\n        vertical-align: top;\n    }\n\n    .dataframe thead th {\n        text-align: right;\n    }\n</style>\n<table border=\"1\" class=\"dataframe\">\n  <thead>\n    <tr style=\"text-align: right;\">\n      <th></th>\n      <th>raw</th>\n      <th>timestamp</th>\n      <th>user</th>\n      <th>message</th>\n      <th>file_ind</th>\n      <th>date</th>\n    </tr>\n  </thead>\n  <tbody>\n    <tr>\n      <th>0</th>\n      <td>[12:18] &lt;|trey|&gt; usual, quite stable though  :)</td>\n      <td>12:18</td>\n      <td>|trey|</td>\n      <td>usual, quite stable though  :)</td>\n      <td>0</td>\n      <td>2004-11-15</td>\n    </tr>\n    <tr>\n      <th>1</th>\n      <td>[12:18] &lt;tweaked&gt; HrdwrBoB: ok how many partit...</td>\n      <td>12:18</td>\n      <td>tweaked</td>\n      <td>HrdwrBoB: ok how many partitions should i make?</td>\n      <td>1</td>\n      <td>2004-11-15</td>\n    </tr>\n    <tr>\n      <th>2</th>\n      <td>[12:18] &lt;Matt|&gt; |trey|, top in the list --&gt; ub...</td>\n      <td>12:18</td>\n      <td>Matt|</td>\n      <td>ubuntu servers</td>\n      <td>2</td>\n      <td>2004-11-15</td>\n    </tr>\n    <tr>\n      <th>3</th>\n      <td>[12:18] &lt;usual&gt; a few libs and media</td>\n      <td>12:18</td>\n      <td>usual</td>\n      <td>a few libs and media</td>\n      <td>3</td>\n      <td>2004-11-15</td>\n    </tr>\n    <tr>\n      <th>4</th>\n      <td>[12:18] &lt;usual&gt; maybe some others</td>\n      <td>12:18</td>\n      <td>usual</td>\n      <td>maybe some others</td>\n      <td>4</td>\n      <td>2004-11-15</td>\n    </tr>\n    <tr>\n      <th>...</th>\n      <td>...</td>\n      <td>...</td>\n      <td>...</td>\n      <td>...</td>\n      <td>...</td>\n      <td>...</td>\n    </tr>\n    <tr>\n      <th>1245</th>\n      <td>[21:57] &lt;zacky83&gt; who can help me on this</td>\n      <td>21:57</td>\n      <td>zacky83</td>\n      <td>who can help me on this</td>\n      <td>1245</td>\n      <td>2016-12-19</td>\n    </tr>\n    <tr>\n      <th>1246</th>\n      <td>[21:57] &lt;Mccallum1983&gt; can anyone assist, when...</td>\n      <td>21:57</td>\n      <td>Mccallum1983</td>\n      <td>can anyone assist, when i try to install bitc...</td>\n      <td>1246</td>\n      <td>2016-12-19</td>\n    </tr>\n    <tr>\n      <th>1247</th>\n      <td>[21:57] &lt;figure002&gt; OerHeks: still makes no se...</td>\n      <td>21:57</td>\n      <td>figure002</td>\n      <td>OerHeks: still makes no sense to me why a dae...</td>\n      <td>1247</td>\n      <td>2016-12-19</td>\n    </tr>\n    <tr>\n      <th>1248</th>\n      <td>[21:58] &lt;figure002&gt; zacky83: did you enable th...</td>\n      <td>21:58</td>\n      <td>figure002</td>\n      <td>zacky83: did you enable the jails?</td>\n      <td>1248</td>\n      <td>2016-12-19</td>\n    </tr>\n    <tr>\n      <th>1249</th>\n      <td>[21:59] &lt;Mccallum1983&gt; can anyone help</td>\n      <td>21:59</td>\n      <td>Mccallum1983</td>\n      <td>can anyone help</td>\n      <td>1249</td>\n      <td>2016-12-19</td>\n    </tr>\n  </tbody>\n</table>\n<p>11644 rows × 6 columns</p>\n</div>"
     },
     "execution_count": 70,
     "metadata": {},
     "output_type": "execute_result"
    }
   ],
   "source": [
    "agg_dict['dev']"
   ],
   "metadata": {
    "collapsed": false
   }
  },
  {
   "cell_type": "code",
   "execution_count": 71,
   "outputs": [],
   "source": [
    "def generate_uuid(row):\n",
    "    try:\n",
    "        uuid =  '_'.join(map(str, [row['date'].replace('-', '_'),\n",
    "                row['timestamp'].replace(':', '_'),\n",
    "                row['user'],\n",
    "                str(row['file_ind'])]))\n",
    "    except Exception as e:\n",
    "        print(row['file_ind'])\n",
    "        raise e\n",
    "    return uuid\n"
   ],
   "metadata": {
    "collapsed": false
   }
  },
  {
   "cell_type": "code",
   "execution_count": 71,
   "outputs": [],
   "source": [],
   "metadata": {
    "collapsed": false
   }
  },
  {
   "cell_type": "code",
   "execution_count": 72,
   "outputs": [
    {
     "name": "stderr",
     "output_type": "stream",
     "text": [
      "C:\\Users\\Daniel\\PycharmProjects\\Chat-Disentangle\\venv\\lib\\site-packages\\ipykernel_launcher.py:2: SettingWithCopyWarning: \n",
      "A value is trying to be set on a copy of a slice from a DataFrame.\n",
      "Try using .loc[row_indexer,col_indexer] = value instead\n",
      "\n",
      "See the caveats in the documentation: https://pandas.pydata.org/pandas-docs/stable/user_guide/indexing.html#returning-a-view-versus-a-copy\n",
      "  \n"
     ]
    }
   ],
   "source": [
    "for key in agg_dict.keys():\n",
    "    agg_dict[key]['uuid'] = agg_dict[key].apply(lambda row: generate_uuid(row), axis=1)"
   ],
   "metadata": {
    "collapsed": false
   }
  },
  {
   "cell_type": "code",
   "execution_count": 73,
   "outputs": [
    {
     "data": {
      "text/plain": "0                2004_11_15_12_18_|trey|_0\n1               2004_11_15_12_18_tweaked_1\n2                 2004_11_15_12_18_Matt|_2\n3                 2004_11_15_12_18_usual_3\n4                 2004_11_15_12_18_usual_4\n                       ...                \n1245         2016_12_19_21_57_zacky83_1245\n1246    2016_12_19_21_57_Mccallum1983_1246\n1247       2016_12_19_21_57_figure002_1247\n1248       2016_12_19_21_58_figure002_1248\n1249    2016_12_19_21_59_Mccallum1983_1249\nName: uuid, Length: 11644, dtype: object"
     },
     "execution_count": 73,
     "metadata": {},
     "output_type": "execute_result"
    }
   ],
   "source": [
    "agg_dict['dev']['uuid']"
   ],
   "metadata": {
    "collapsed": false
   }
  },
  {
   "cell_type": "code",
   "execution_count": null,
   "outputs": [],
   "source": [],
   "metadata": {
    "collapsed": false
   }
  }
 ],
 "metadata": {
  "kernelspec": {
   "display_name": "Python 3 (ipykernel)",
   "language": "python",
   "name": "python3"
  },
  "language_info": {
   "codemirror_mode": {
    "name": "ipython",
    "version": 3
   },
   "file_extension": ".py",
   "mimetype": "text/x-python",
   "name": "python",
   "nbconvert_exporter": "python",
   "pygments_lexer": "ipython3",
   "version": "3.9.7"
  }
 },
 "nbformat": 4,
 "nbformat_minor": 5
}
