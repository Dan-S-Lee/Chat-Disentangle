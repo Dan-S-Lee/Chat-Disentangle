{
 "cells": [
  {
   "cell_type": "markdown",
   "source": [
    "## Training dataset formats?\n",
    "\n",
    "Model 1, logistic regression.\n",
    "Unit of analysis: Two discrete messages in a chat log.\n",
    "INPUT: One feature list of a pair of messages\n",
    "OUTPUT: Boolean, same conversation or not\n",
    "### Idea 1: n x m sample of data\n",
    "Get every pair of messages within a given timeframe, create X, y format of training data:\n",
    "                feature_1, feature_2, feature_3\n",
    "message_pair_1 |\n",
    "message_pair_2 |\n",
    "message_pair_3 |\n",
    "\n",
    "### Idea 2: Feed each pair individually to the model\n",
    "Create function to get every pair of messages within a given timeframe, and preprocess to create a feature list to feed into the model\n",
    "\n",
    "\n",
    "## Features to extract\n",
    "1. Time distance between messages in minutes (integer)\n",
    "2. Same or different user (boolean)\n",
    "3."
   ],
   "metadata": {
    "collapsed": false
   }
  },
  {
   "cell_type": "code",
   "execution_count": 16,
   "outputs": [],
   "source": [
    "class Message:\n",
    "    def __init__(self, timestamp, user_id, message, uuid, uuid_parent, **kwargs):\n",
    "        self.timestamp = timestamp\n",
    "        self.user = user_id\n",
    "        self.message = message\n",
    "        self.uuid = uuid\n",
    "        self.uuid_parent = uuid_parent\n",
    "        self.conversation_ind = kwargs.get('conversation_ind', -1)\n",
    "\n",
    "    def to_dict(self):\n",
    "        return vars(self)"
   ],
   "metadata": {
    "collapsed": false
   }
  },
  {
   "cell_type": "code",
   "execution_count": 25,
   "outputs": [],
   "source": [
    "class MessageProcessor:\n",
    "    DEFAULT_PARAMS = {\n",
    "        'same_user': 0,\n",
    "        'time_distance': -1,\n",
    "        'label': -1\n",
    "    }\n",
    "    #def __init__(self):\n",
    "    @staticmethod\n",
    "    def process_reply_pair(message_primary, message_candidate):\n",
    "        \"\"\"\n",
    "\n",
    "        :param message_primary: Message object, primary message\n",
    "        :param message_candidate: Message object, potential antecedent message\n",
    "        :return: modified dictionary of DEFAULT_PARAMS\n",
    "        \"\"\"\n",
    "\n",
    "        results = MessageProcessor.DEFAULT_PARAMS.copy()\n",
    "\n",
    "        results['same_user'] = MessageProcessor._check_user_pair(message_primary, message_candidate)\n",
    "        results['time_distance'] = MessageProcessor._calculate_time_distance(message_primary, message_candidate)\n",
    "        results['label'] = MessageProcessor._check_is_reply(message_primary, message_candidate)\n",
    "        return results\n",
    "\n",
    "    @staticmethod\n",
    "    def process_reply_convo(message_primary, message_candidate):\n",
    "\n",
    "        results = MessageProcessor.DEFAULT_PARAMS.copy()\n",
    "\n",
    "        results['same_user'] = MessageProcessor._check_user_pair(message_primary, message_candidate)\n",
    "        results['time_distance'] = MessageProcessor._calculate_time_distance(message_primary, message_candidate)\n",
    "        results['label'] = MessageProcessor._check_is_reply(message_primary, message_candidate)\n",
    "        return results\n",
    "\n",
    "    @staticmethod\n",
    "    def _check_user_pair(message_primary, message_candidate):\n",
    "        return int(message_primary.user == message_candidate.user)\n",
    "\n",
    "    @staticmethod\n",
    "    def _calculate_time_distance(message_primary, message_candidate):\n",
    "        if message_primary.timestamp < message_candidate.timestamp:\n",
    "            raise Exception(\"Primary Message is before candidate.\")\n",
    "        return message_primary.timestamp - message_candidate.timestamp\n",
    "\n",
    "    @staticmethod\n",
    "    def _check_is_reply(message_primary, message_candidate):\n",
    "        return int(message_primary.uuid_parent == message_candidate.uuid)\n",
    "\n",
    "    @staticmethod\n",
    "    def _check_is_same_convo(message_primary, message_candidate):\n",
    "        return int(message_primary.conversation_ind == message_candidate.conversation_ind)"
   ],
   "metadata": {
    "collapsed": false
   }
  },
  {
   "cell_type": "code",
   "execution_count": 3,
   "outputs": [],
   "source": [
    "import pandas as pd"
   ],
   "metadata": {
    "collapsed": false
   }
  },
  {
   "cell_type": "code",
   "execution_count": 10,
   "outputs": [],
   "source": [
    "dev_df = pd.read_csv('../agg_dev.csv', index_col=0)"
   ],
   "metadata": {
    "collapsed": false
   }
  },
  {
   "cell_type": "code",
   "execution_count": 29,
   "outputs": [],
   "source": [
    "dev_convo_df = pd.read_csv('../data/cleaned/dev_conversations.csv', index_col=0)"
   ],
   "metadata": {
    "collapsed": false
   }
  },
  {
   "cell_type": "code",
   "execution_count": 30,
   "outputs": [
    {
     "data": {
      "text/plain": "                                                                             raw  \\\n2004_11_15_03_44_CPayan_1094      [03:44] <CPayan> hmm progression or regression   \n2004_11_15_03_44_CPayan_1094      [03:44] <CPayan> hmm progression or regression   \n2004_11_15_03_44_jdub_1096     [03:44] <jdub> it will work with the ubuntu ke...   \n2004_11_15_03_47_Nafallo_1111  [03:47] <Nafallo> djtansey: and it should be f...   \n2004_11_15_03_50_Nafallo_1125  [03:50] <Nafallo> jdub: but then, I got both a...   \n\n                              timestamp     user  \\\n2004_11_15_03_44_CPayan_1094      03:44   CPayan   \n2004_11_15_03_44_CPayan_1094      03:44   CPayan   \n2004_11_15_03_44_jdub_1096        03:44     jdub   \n2004_11_15_03_47_Nafallo_1111     03:47  Nafallo   \n2004_11_15_03_50_Nafallo_1125     03:50  Nafallo   \n\n                                                                         message  \\\n2004_11_15_03_44_CPayan_1094                       hmm progression or regression   \n2004_11_15_03_44_CPayan_1094                       hmm progression or regression   \n2004_11_15_03_44_jdub_1096                   it will work with the ubuntu kernel   \n2004_11_15_03_47_Nafallo_1111   djtansey: and it should be fixed in 2.6.9 als...   \n2004_11_15_03_50_Nafallo_1125   jdub: but then, I got both a samsung and a to...   \n\n                               file_ind        date  parent   child  \\\n2004_11_15_03_44_CPayan_1094       1094  2004-11-15  1092.0  1094.0   \n2004_11_15_03_44_CPayan_1094       1094  2004-11-15  1093.0  1094.0   \n2004_11_15_03_44_jdub_1096         1096  2004-11-15  1090.0  1096.0   \n2004_11_15_03_47_Nafallo_1111      1111  2004-11-15  1110.0  1111.0   \n2004_11_15_03_50_Nafallo_1125      1125  2004-11-15  1123.0  1125.0   \n\n                               file_ind_parent  \\\n2004_11_15_03_44_CPayan_1094            1092.0   \n2004_11_15_03_44_CPayan_1094            1093.0   \n2004_11_15_03_44_jdub_1096              1090.0   \n2004_11_15_03_47_Nafallo_1111           1110.0   \n2004_11_15_03_50_Nafallo_1125           1123.0   \n\n                                                  uuid_parent  \\\n2004_11_15_03_44_CPayan_1094   2004_11_15_03_43_djtansey_1092   \n2004_11_15_03_44_CPayan_1094    2004_11_15_03_44_Nafallo_1093   \n2004_11_15_03_44_jdub_1096      2004_11_15_03_42_Nafallo_1090   \n2004_11_15_03_47_Nafallo_1111   2004_11_15_03_46_Nafallo_1110   \n2004_11_15_03_50_Nafallo_1125   2004_11_15_03_50_Nafallo_1123   \n\n                               conversation_ind  \n2004_11_15_03_44_CPayan_1094                  0  \n2004_11_15_03_44_CPayan_1094                  0  \n2004_11_15_03_44_jdub_1096                    0  \n2004_11_15_03_47_Nafallo_1111                 0  \n2004_11_15_03_50_Nafallo_1125                 0  ",
      "text/html": "<div>\n<style scoped>\n    .dataframe tbody tr th:only-of-type {\n        vertical-align: middle;\n    }\n\n    .dataframe tbody tr th {\n        vertical-align: top;\n    }\n\n    .dataframe thead th {\n        text-align: right;\n    }\n</style>\n<table border=\"1\" class=\"dataframe\">\n  <thead>\n    <tr style=\"text-align: right;\">\n      <th></th>\n      <th>raw</th>\n      <th>timestamp</th>\n      <th>user</th>\n      <th>message</th>\n      <th>file_ind</th>\n      <th>date</th>\n      <th>parent</th>\n      <th>child</th>\n      <th>file_ind_parent</th>\n      <th>uuid_parent</th>\n      <th>conversation_ind</th>\n    </tr>\n  </thead>\n  <tbody>\n    <tr>\n      <th>2004_11_15_03_44_CPayan_1094</th>\n      <td>[03:44] &lt;CPayan&gt; hmm progression or regression</td>\n      <td>03:44</td>\n      <td>CPayan</td>\n      <td>hmm progression or regression</td>\n      <td>1094</td>\n      <td>2004-11-15</td>\n      <td>1092.0</td>\n      <td>1094.0</td>\n      <td>1092.0</td>\n      <td>2004_11_15_03_43_djtansey_1092</td>\n      <td>0</td>\n    </tr>\n    <tr>\n      <th>2004_11_15_03_44_CPayan_1094</th>\n      <td>[03:44] &lt;CPayan&gt; hmm progression or regression</td>\n      <td>03:44</td>\n      <td>CPayan</td>\n      <td>hmm progression or regression</td>\n      <td>1094</td>\n      <td>2004-11-15</td>\n      <td>1093.0</td>\n      <td>1094.0</td>\n      <td>1093.0</td>\n      <td>2004_11_15_03_44_Nafallo_1093</td>\n      <td>0</td>\n    </tr>\n    <tr>\n      <th>2004_11_15_03_44_jdub_1096</th>\n      <td>[03:44] &lt;jdub&gt; it will work with the ubuntu ke...</td>\n      <td>03:44</td>\n      <td>jdub</td>\n      <td>it will work with the ubuntu kernel</td>\n      <td>1096</td>\n      <td>2004-11-15</td>\n      <td>1090.0</td>\n      <td>1096.0</td>\n      <td>1090.0</td>\n      <td>2004_11_15_03_42_Nafallo_1090</td>\n      <td>0</td>\n    </tr>\n    <tr>\n      <th>2004_11_15_03_47_Nafallo_1111</th>\n      <td>[03:47] &lt;Nafallo&gt; djtansey: and it should be f...</td>\n      <td>03:47</td>\n      <td>Nafallo</td>\n      <td>djtansey: and it should be fixed in 2.6.9 als...</td>\n      <td>1111</td>\n      <td>2004-11-15</td>\n      <td>1110.0</td>\n      <td>1111.0</td>\n      <td>1110.0</td>\n      <td>2004_11_15_03_46_Nafallo_1110</td>\n      <td>0</td>\n    </tr>\n    <tr>\n      <th>2004_11_15_03_50_Nafallo_1125</th>\n      <td>[03:50] &lt;Nafallo&gt; jdub: but then, I got both a...</td>\n      <td>03:50</td>\n      <td>Nafallo</td>\n      <td>jdub: but then, I got both a samsung and a to...</td>\n      <td>1125</td>\n      <td>2004-11-15</td>\n      <td>1123.0</td>\n      <td>1125.0</td>\n      <td>1123.0</td>\n      <td>2004_11_15_03_50_Nafallo_1123</td>\n      <td>0</td>\n    </tr>\n  </tbody>\n</table>\n</div>"
     },
     "execution_count": 30,
     "metadata": {},
     "output_type": "execute_result"
    }
   ],
   "source": [
    "dev_convo_df.head()"
   ],
   "metadata": {
    "collapsed": false
   }
  },
  {
   "cell_type": "code",
   "execution_count": 11,
   "outputs": [
    {
     "data": {
      "text/plain": "                                                 raw timestamp  minutes  \\\n0    [12:18] <|trey|> usual, quite stable though  :)     12:18      738   \n1  [12:18] <tweaked> HrdwrBoB: ok how many partit...     12:18      738   \n2  [12:18] <Matt|> |trey|, top in the list --> ub...     12:18      738   \n3               [12:18] <usual> a few libs and media     12:18      738   \n4                  [12:18] <usual> maybe some others     12:18      738   \n\n      user  user_ind                                           message  \\\n0   |trey|     10946                    usual, quite stable though  :)   \n1  tweaked      1375   HrdwrBoB: ok how many partitions should i make?   \n2    Matt|      6784                                    ubuntu servers   \n3    usual      7183                              a few libs and media   \n4    usual      7183                                 maybe some others   \n\n   file_ind        date                        uuid  parent  child  \\\n0         0  2004-11-15   2004_11_15_12_18_|trey|_0     NaN    NaN   \n1         1  2004-11-15  2004_11_15_12_18_tweaked_1     NaN    NaN   \n2         2  2004-11-15    2004_11_15_12_18_Matt|_2     NaN    NaN   \n3         3  2004-11-15    2004_11_15_12_18_usual_3     NaN    NaN   \n4         4  2004-11-15    2004_11_15_12_18_usual_4     NaN    NaN   \n\n   file_ind_parent uuid_parent  \n0              NaN         NaN  \n1              NaN         NaN  \n2              NaN         NaN  \n3              NaN         NaN  \n4              NaN         NaN  ",
      "text/html": "<div>\n<style scoped>\n    .dataframe tbody tr th:only-of-type {\n        vertical-align: middle;\n    }\n\n    .dataframe tbody tr th {\n        vertical-align: top;\n    }\n\n    .dataframe thead th {\n        text-align: right;\n    }\n</style>\n<table border=\"1\" class=\"dataframe\">\n  <thead>\n    <tr style=\"text-align: right;\">\n      <th></th>\n      <th>raw</th>\n      <th>timestamp</th>\n      <th>minutes</th>\n      <th>user</th>\n      <th>user_ind</th>\n      <th>message</th>\n      <th>file_ind</th>\n      <th>date</th>\n      <th>uuid</th>\n      <th>parent</th>\n      <th>child</th>\n      <th>file_ind_parent</th>\n      <th>uuid_parent</th>\n    </tr>\n  </thead>\n  <tbody>\n    <tr>\n      <th>0</th>\n      <td>[12:18] &lt;|trey|&gt; usual, quite stable though  :)</td>\n      <td>12:18</td>\n      <td>738</td>\n      <td>|trey|</td>\n      <td>10946</td>\n      <td>usual, quite stable though  :)</td>\n      <td>0</td>\n      <td>2004-11-15</td>\n      <td>2004_11_15_12_18_|trey|_0</td>\n      <td>NaN</td>\n      <td>NaN</td>\n      <td>NaN</td>\n      <td>NaN</td>\n    </tr>\n    <tr>\n      <th>1</th>\n      <td>[12:18] &lt;tweaked&gt; HrdwrBoB: ok how many partit...</td>\n      <td>12:18</td>\n      <td>738</td>\n      <td>tweaked</td>\n      <td>1375</td>\n      <td>HrdwrBoB: ok how many partitions should i make?</td>\n      <td>1</td>\n      <td>2004-11-15</td>\n      <td>2004_11_15_12_18_tweaked_1</td>\n      <td>NaN</td>\n      <td>NaN</td>\n      <td>NaN</td>\n      <td>NaN</td>\n    </tr>\n    <tr>\n      <th>2</th>\n      <td>[12:18] &lt;Matt|&gt; |trey|, top in the list --&gt; ub...</td>\n      <td>12:18</td>\n      <td>738</td>\n      <td>Matt|</td>\n      <td>6784</td>\n      <td>ubuntu servers</td>\n      <td>2</td>\n      <td>2004-11-15</td>\n      <td>2004_11_15_12_18_Matt|_2</td>\n      <td>NaN</td>\n      <td>NaN</td>\n      <td>NaN</td>\n      <td>NaN</td>\n    </tr>\n    <tr>\n      <th>3</th>\n      <td>[12:18] &lt;usual&gt; a few libs and media</td>\n      <td>12:18</td>\n      <td>738</td>\n      <td>usual</td>\n      <td>7183</td>\n      <td>a few libs and media</td>\n      <td>3</td>\n      <td>2004-11-15</td>\n      <td>2004_11_15_12_18_usual_3</td>\n      <td>NaN</td>\n      <td>NaN</td>\n      <td>NaN</td>\n      <td>NaN</td>\n    </tr>\n    <tr>\n      <th>4</th>\n      <td>[12:18] &lt;usual&gt; maybe some others</td>\n      <td>12:18</td>\n      <td>738</td>\n      <td>usual</td>\n      <td>7183</td>\n      <td>maybe some others</td>\n      <td>4</td>\n      <td>2004-11-15</td>\n      <td>2004_11_15_12_18_usual_4</td>\n      <td>NaN</td>\n      <td>NaN</td>\n      <td>NaN</td>\n      <td>NaN</td>\n    </tr>\n  </tbody>\n</table>\n</div>"
     },
     "execution_count": 11,
     "metadata": {},
     "output_type": "execute_result"
    }
   ],
   "source": [
    "dev_df.head()"
   ],
   "metadata": {
    "collapsed": false
   }
  },
  {
   "cell_type": "code",
   "execution_count": 12,
   "outputs": [],
   "source": [
    "labeled_df = dev_df[dev_df['parent'].notnull()]"
   ],
   "metadata": {
    "collapsed": false
   }
  },
  {
   "cell_type": "code",
   "execution_count": 13,
   "outputs": [
    {
     "data": {
      "text/plain": "                                                    raw timestamp  minutes  \\\n982               [02:41] <jcole> aitrus: great, thanks     02:41      161   \n999         === strestout1__ is now known as strestout1     03:01      181   \n1000                  [03:01] <LinuxJones> night all :)     03:01      181   \n1001  === yohannes [~yohannes@adsl-67-112-218-21.dsl...     03:10      190   \n1002  [03:10] <yohannes> can anyone recommend any ap...     03:10      190   \n\n            user  user_ind                                            message  \\\n982        jcole       854                              aitrus: great, thanks   \n999       System      3792                                                NaN   \n1000  LinuxJones      1839                                       night all :)   \n1001      System      3792                                                NaN   \n1002    yohannes     14260   can anyone recommend any app to create/open *...   \n\n      file_ind        date                              uuid  parent   child  \\\n982        982  2004-11-15        2004_11_15_02_41_jcole_982   982.0   982.0   \n999        999  2004-11-15       2004_11_15_03_01_System_999   999.0   999.0   \n1000      1000  2004-11-15  2004_11_15_03_01_LinuxJones_1000   999.0  1000.0   \n1001      1001  2004-11-15      2004_11_15_03_10_System_1001   999.0  1001.0   \n1002      1002  2004-11-15    2004_11_15_03_10_yohannes_1002  1001.0  1002.0   \n\n      file_ind_parent                   uuid_parent  \n982             982.0    2004_11_15_02_41_jcole_982  \n999             999.0   2004_11_15_03_01_System_999  \n1000            999.0   2004_11_15_03_01_System_999  \n1001            999.0   2004_11_15_03_01_System_999  \n1002           1001.0  2004_11_15_03_10_System_1001  ",
      "text/html": "<div>\n<style scoped>\n    .dataframe tbody tr th:only-of-type {\n        vertical-align: middle;\n    }\n\n    .dataframe tbody tr th {\n        vertical-align: top;\n    }\n\n    .dataframe thead th {\n        text-align: right;\n    }\n</style>\n<table border=\"1\" class=\"dataframe\">\n  <thead>\n    <tr style=\"text-align: right;\">\n      <th></th>\n      <th>raw</th>\n      <th>timestamp</th>\n      <th>minutes</th>\n      <th>user</th>\n      <th>user_ind</th>\n      <th>message</th>\n      <th>file_ind</th>\n      <th>date</th>\n      <th>uuid</th>\n      <th>parent</th>\n      <th>child</th>\n      <th>file_ind_parent</th>\n      <th>uuid_parent</th>\n    </tr>\n  </thead>\n  <tbody>\n    <tr>\n      <th>982</th>\n      <td>[02:41] &lt;jcole&gt; aitrus: great, thanks</td>\n      <td>02:41</td>\n      <td>161</td>\n      <td>jcole</td>\n      <td>854</td>\n      <td>aitrus: great, thanks</td>\n      <td>982</td>\n      <td>2004-11-15</td>\n      <td>2004_11_15_02_41_jcole_982</td>\n      <td>982.0</td>\n      <td>982.0</td>\n      <td>982.0</td>\n      <td>2004_11_15_02_41_jcole_982</td>\n    </tr>\n    <tr>\n      <th>999</th>\n      <td>=== strestout1__ is now known as strestout1</td>\n      <td>03:01</td>\n      <td>181</td>\n      <td>System</td>\n      <td>3792</td>\n      <td>NaN</td>\n      <td>999</td>\n      <td>2004-11-15</td>\n      <td>2004_11_15_03_01_System_999</td>\n      <td>999.0</td>\n      <td>999.0</td>\n      <td>999.0</td>\n      <td>2004_11_15_03_01_System_999</td>\n    </tr>\n    <tr>\n      <th>1000</th>\n      <td>[03:01] &lt;LinuxJones&gt; night all :)</td>\n      <td>03:01</td>\n      <td>181</td>\n      <td>LinuxJones</td>\n      <td>1839</td>\n      <td>night all :)</td>\n      <td>1000</td>\n      <td>2004-11-15</td>\n      <td>2004_11_15_03_01_LinuxJones_1000</td>\n      <td>999.0</td>\n      <td>1000.0</td>\n      <td>999.0</td>\n      <td>2004_11_15_03_01_System_999</td>\n    </tr>\n    <tr>\n      <th>1001</th>\n      <td>=== yohannes [~yohannes@adsl-67-112-218-21.dsl...</td>\n      <td>03:10</td>\n      <td>190</td>\n      <td>System</td>\n      <td>3792</td>\n      <td>NaN</td>\n      <td>1001</td>\n      <td>2004-11-15</td>\n      <td>2004_11_15_03_10_System_1001</td>\n      <td>999.0</td>\n      <td>1001.0</td>\n      <td>999.0</td>\n      <td>2004_11_15_03_01_System_999</td>\n    </tr>\n    <tr>\n      <th>1002</th>\n      <td>[03:10] &lt;yohannes&gt; can anyone recommend any ap...</td>\n      <td>03:10</td>\n      <td>190</td>\n      <td>yohannes</td>\n      <td>14260</td>\n      <td>can anyone recommend any app to create/open *...</td>\n      <td>1002</td>\n      <td>2004-11-15</td>\n      <td>2004_11_15_03_10_yohannes_1002</td>\n      <td>1001.0</td>\n      <td>1002.0</td>\n      <td>1001.0</td>\n      <td>2004_11_15_03_10_System_1001</td>\n    </tr>\n  </tbody>\n</table>\n</div>"
     },
     "execution_count": 13,
     "metadata": {},
     "output_type": "execute_result"
    }
   ],
   "source": [
    "labeled_df.head()"
   ],
   "metadata": {
    "collapsed": false
   }
  },
  {
   "cell_type": "code",
   "execution_count": 17,
   "outputs": [],
   "source": [
    "message_list = []\n",
    "for ind, row in labeled_df[0:10].iterrows():\n",
    "    message = Message(timestamp=row['minutes'],\n",
    "                      user_id=row['user_ind'],\n",
    "                      message=row['message'],\n",
    "                      uuid=row['uuid'],\n",
    "                      uuid_parent=row['uuid_parent'])\n",
    "    message_list.append(message)"
   ],
   "metadata": {
    "collapsed": false
   }
  },
  {
   "cell_type": "code",
   "execution_count": 23,
   "outputs": [
    {
     "data": {
      "text/plain": "161"
     },
     "execution_count": 23,
     "metadata": {},
     "output_type": "execute_result"
    }
   ],
   "source": [
    "message_list[0].timestamp"
   ],
   "metadata": {
    "collapsed": false
   }
  },
  {
   "cell_type": "code",
   "execution_count": 26,
   "outputs": [
    {
     "data": {
      "text/plain": "{'same_user': 0, 'time_distance': 20, 'label': 0}"
     },
     "execution_count": 26,
     "metadata": {},
     "output_type": "execute_result"
    }
   ],
   "source": [
    "MessageProcessor.process_pair(message_list[1], message_list[0])"
   ],
   "metadata": {
    "collapsed": false
   }
  },
  {
   "cell_type": "code",
   "execution_count": null,
   "outputs": [],
   "source": [],
   "metadata": {
    "collapsed": false
   }
  },
  {
   "cell_type": "code",
   "execution_count": null,
   "outputs": [],
   "source": [
    "class DatasetBuilder:\n",
    "    def __init__(self):\n",
    "        self.training_data = pd.DataFrame()\n",
    "        self.labels = None\n",
    "        self.size = len(self.training_data)\n",
    "\n",
    "    def load_message(self, message):\n",
    "        \"\"\"\n",
    "        load single Message object\n",
    "        :param message:\n",
    "        :return: None\n",
    "        \"\"\"\n",
    "        self.training_data.append()\n",
    "\n",
    "    def load_messages(self, message_list):\n",
    "        \"\"\"\n",
    "\n",
    "        :param message_list:\n",
    "        :param metrics: list of strings to load to dataset\n",
    "        :return: None\n",
    "        \"\"\"\n",
    "\n",
    "        for message in message_list:\n",
    "            self.load_message(message)"
   ],
   "metadata": {
    "collapsed": false
   }
  }
 ],
 "metadata": {
  "kernelspec": {
   "display_name": "Python 3",
   "language": "python",
   "name": "python3"
  },
  "language_info": {
   "codemirror_mode": {
    "name": "ipython",
    "version": 2
   },
   "file_extension": ".py",
   "mimetype": "text/x-python",
   "name": "python",
   "nbconvert_exporter": "python",
   "pygments_lexer": "ipython2",
   "version": "2.7.6"
  }
 },
 "nbformat": 4,
 "nbformat_minor": 0
}
