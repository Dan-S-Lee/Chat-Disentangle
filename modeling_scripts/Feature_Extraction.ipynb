{
 "cells": [
  {
   "cell_type": "markdown",
   "source": [
    "## Training dataset formats?\n",
    "\n",
    "Model 1, logistic regression.\n",
    "Unit of analysis: Two discrete messages in a chat log.\n",
    "INPUT: One feature list of a pair of messages\n",
    "OUTPUT: Boolean, same conversation or not\n",
    "### Idea 1: n x m sample of data\n",
    "Get every pair of messages within a given timeframe, create X, y format of training data:\n",
    "                feature_1, feature_2, feature_3\n",
    "message_pair_1 |\n",
    "message_pair_2 |\n",
    "message_pair_3 |\n",
    "\n",
    "### Idea 2: Feed each pair individually to the model\n",
    "Create function to get every pair of messages within a given timeframe, and preprocess to create a feature list to feed into the model\n",
    "\n",
    "\n",
    "## Features to extract\n",
    "1. Time distance between messages in minutes (integer)\n",
    "2. Same or different user (boolean)\n",
    "3."
   ],
   "metadata": {
    "collapsed": false
   }
  },
  {
   "cell_type": "code",
   "execution_count": 1,
   "outputs": [],
   "source": [
    "class Message:\n",
    "    def __init__(self, timestamp, user_id, message, file_ind, uuid, uuid_parent=None, conversation_ind=None):\n",
    "        self.timestamp = timestamp\n",
    "        self.user = user_id\n",
    "        self.message = message\n",
    "        self.file_ind = file_ind\n",
    "        self.uuid = uuid\n",
    "        self.uuid_parent = uuid_parent\n",
    "        self.conversation_ind = conversation_ind\n",
    "        self.has_mention = False\n",
    "        self.mention = None\n",
    "\n",
    "    def __lt__(self, other):\n",
    "        return self.file_ind < other.file_ind\n",
    "\n",
    "    def to_dict(self):\n",
    "        return vars(self)"
   ],
   "metadata": {
    "collapsed": false
   }
  },
  {
   "cell_type": "code",
   "execution_count": 2,
   "outputs": [],
   "source": [
    "class MessageProcessor:\n",
    "    DEFAULT_PARAMS = {\n",
    "        'message_cur': '',\n",
    "        'message_prev': '',\n",
    "        'same_user': 0,\n",
    "        'time_distance': -1,\n",
    "        'label': -1\n",
    "    }\n",
    "    #def __init__(self):\n",
    "    @staticmethod\n",
    "    def process_reply_pair(message_primary, message_candidate):\n",
    "        \"\"\"\n",
    "\n",
    "        :param message_primary: Message object, primary message\n",
    "        :param message_candidate: Message object, potential antecedent message\n",
    "        :return: modified dictionary of DEFAULT_PARAMS\n",
    "        \"\"\"\n",
    "\n",
    "        results = MessageProcessor.DEFAULT_PARAMS.copy()\n",
    "\n",
    "        results['message_cur'] = message_primary.uuid\n",
    "        results['message_prev'] = message_candidate.uuid\n",
    "        results['same_user'] = MessageProcessor._check_user_pair(message_primary, message_candidate)\n",
    "        results['time_distance'] = MessageProcessor._calculate_time_distance(message_primary, message_candidate)\n",
    "        results['label'] = MessageProcessor._check_is_reply(message_primary, message_candidate)\n",
    "        return results\n",
    "\n",
    "    @staticmethod\n",
    "    def process_same_convo(message_primary, message_candidate):\n",
    "\n",
    "        results = MessageProcessor.DEFAULT_PARAMS.copy()\n",
    "\n",
    "        results['message_cur'] = message_primary.uuid\n",
    "        results['message_prev'] = message_candidate.uuid\n",
    "        results['same_user'] = MessageProcessor._check_user_pair(message_primary, message_candidate)\n",
    "        results['time_distance'] = MessageProcessor._calculate_time_distance(message_primary, message_candidate)\n",
    "        results['label'] = MessageProcessor._check_is_same_convo(message_primary, message_candidate)\n",
    "        return results\n",
    "\n",
    "    @staticmethod\n",
    "    def _check_user_pair(message_primary, message_candidate):\n",
    "        return int(message_primary.user == message_candidate.user)\n",
    "\n",
    "    @staticmethod\n",
    "    def _calculate_time_distance(message_primary, message_candidate):\n",
    "        if message_primary.timestamp < message_candidate.timestamp:\n",
    "            raise Exception(f\"Primary Message {message_primary.uuid} is before candidate {message_candidate.uuid}.\")\n",
    "        return message_primary.timestamp - message_candidate.timestamp\n",
    "\n",
    "    @staticmethod\n",
    "    def _check_is_reply(message_primary, message_candidate):\n",
    "        return int(message_primary.uuid_parent == message_candidate.uuid)\n",
    "\n",
    "    @staticmethod\n",
    "    def _check_is_same_convo(message_primary, message_candidate):\n",
    "        return int(message_primary.conversation_ind == message_candidate.conversation_ind)"
   ],
   "metadata": {
    "collapsed": false
   }
  },
  {
   "cell_type": "code",
   "execution_count": 8,
   "outputs": [],
   "source": [
    "import pandas as pd"
   ],
   "metadata": {
    "collapsed": false
   }
  },
  {
   "cell_type": "code",
   "execution_count": 60,
   "outputs": [],
   "source": [
    "dev_df = pd.read_csv('../data/cleaned/agg_dev.csv', index_col=0)"
   ],
   "metadata": {
    "collapsed": false
   }
  },
  {
   "cell_type": "code",
   "execution_count": 61,
   "outputs": [],
   "source": [
    "dev_convo_df = pd.read_csv('../data/cleaned/dev_conversations.csv', index_col=0)"
   ],
   "metadata": {
    "collapsed": false
   }
  },
  {
   "cell_type": "code",
   "execution_count": 62,
   "outputs": [
    {
     "data": {
      "text/plain": "                                                                              raw  \\\n2005_08_08_12_28_aceb747_685    [12:28] <aceb747> is someone was comparing the...   \n2005_08_08_12_56_LasseL_975     [12:56] <LasseL> I wonder how ubuntu is going ...   \n2005_08_08_12_58_harold__990    [12:58] <harold_> Anyone: Know how to compile ...   \n2005_08_08_12_59_ubotu_999      [12:59] <ubotu> somebody said paste was please...   \n2005_08_08_01_00_MartenH_1000   [01:00] <MartenH> What does this error mean an...   \n...                                                                           ...   \n2005_08_08_01_23_kaffeend_1245                            [01:23] <kaffeend> heya   \n2005_08_08_System_System_1246   === macgyver2 [~macgyver2@macgyver2.user]  has...   \n2005_08_08_System_System_1247   === boga [~boga@CPE0011095f2041-CM00e06f240dd8...   \n2005_08_08_System_System_1248   === HollowFrank [~HollowFra@ACCB2D21.ipt.aol.c...   \n2005_08_08_System_System_1249   === Will_ [9010@quake.swe.net]  has joined #ub...   \n\n                                file_ind timestamp  minutes      user  \\\n2005_08_08_12_28_aceb747_685         685     12:28      748   aceb747   \n2005_08_08_12_56_LasseL_975          975     12:56      776    LasseL   \n2005_08_08_12_58_harold__990         990     12:58      778   harold_   \n2005_08_08_12_59_ubotu_999           999     12:59      779     ubotu   \n2005_08_08_01_00_MartenH_1000       1000     01:00      780   MartenH   \n...                                  ...       ...      ...       ...   \n2005_08_08_01_23_kaffeend_1245      1245     01:23      803  kaffeend   \n2005_08_08_System_System_1246       1246    System      803    System   \n2005_08_08_System_System_1247       1247    System      803    System   \n2005_08_08_System_System_1248       1248    System      803    System   \n2005_08_08_System_System_1249       1249    System      803    System   \n\n                                user_ind  \\\n2005_08_08_12_28_aceb747_685        9541   \n2005_08_08_12_56_LasseL_975        10687   \n2005_08_08_12_58_harold__990       14790   \n2005_08_08_12_59_ubotu_999         12983   \n2005_08_08_01_00_MartenH_1000      11748   \n...                                  ...   \n2005_08_08_01_23_kaffeend_1245      6525   \n2005_08_08_System_System_1246       3792   \n2005_08_08_System_System_1247       3792   \n2005_08_08_System_System_1248       3792   \n2005_08_08_System_System_1249       3792   \n\n                                                                          message  \\\n2005_08_08_12_28_aceb747_685     is someone was comparing the ubuntu repositor...   \n2005_08_08_12_56_LasseL_975      I wonder how ubuntu is going to deal with ope...   \n2005_08_08_12_58_harold__990     Anyone: Know how to compile madwifi for a Pow...   \n2005_08_08_12_59_ubotu_999       somebody said paste was please use http://pas...   \n2005_08_08_01_00_MartenH_1000    What does this error mean and how can I corre...   \n...                                                                           ...   \n2005_08_08_01_23_kaffeend_1245                                               heya   \n2005_08_08_System_System_1246                                                 NaN   \n2005_08_08_System_System_1247                                                 NaN   \n2005_08_08_System_System_1248                                                 NaN   \n2005_08_08_System_System_1249                                                 NaN   \n\n                                      date  parent   child  file_ind_parent  \\\n2005_08_08_12_28_aceb747_685    2005-08-08   685.0   685.0            685.0   \n2005_08_08_12_56_LasseL_975     2005-08-08   975.0   975.0            975.0   \n2005_08_08_12_58_harold__990    2005-08-08   990.0   990.0            990.0   \n2005_08_08_12_59_ubotu_999      2005-08-08   999.0   999.0            999.0   \n2005_08_08_01_00_MartenH_1000   2005-08-08  1000.0  1000.0           1000.0   \n...                                    ...     ...     ...              ...   \n2005_08_08_01_23_kaffeend_1245  2005-08-08  1245.0  1245.0           1245.0   \n2005_08_08_System_System_1246   2005-08-08  1246.0  1246.0           1246.0   \n2005_08_08_System_System_1247   2005-08-08  1247.0  1247.0           1247.0   \n2005_08_08_System_System_1248   2005-08-08  1248.0  1248.0           1248.0   \n2005_08_08_System_System_1249   2005-08-08  1249.0  1249.0           1249.0   \n\n                                                   uuid_parent  \\\n2005_08_08_12_28_aceb747_685      2005_08_08_12_28_aceb747_685   \n2005_08_08_12_56_LasseL_975        2005_08_08_12_56_LasseL_975   \n2005_08_08_12_58_harold__990      2005_08_08_12_58_harold__990   \n2005_08_08_12_59_ubotu_999          2005_08_08_12_59_ubotu_999   \n2005_08_08_01_00_MartenH_1000    2005_08_08_01_00_MartenH_1000   \n...                                                        ...   \n2005_08_08_01_23_kaffeend_1245  2005_08_08_01_23_kaffeend_1245   \n2005_08_08_System_System_1246    2005_08_08_System_System_1246   \n2005_08_08_System_System_1247    2005_08_08_System_System_1247   \n2005_08_08_System_System_1248    2005_08_08_System_System_1248   \n2005_08_08_System_System_1249    2005_08_08_System_System_1249   \n\n                                conversation_ind  \n2005_08_08_12_28_aceb747_685                 111  \n2005_08_08_12_56_LasseL_975                  112  \n2005_08_08_12_58_harold__990                 113  \n2005_08_08_12_59_ubotu_999                   114  \n2005_08_08_01_00_MartenH_1000                115  \n...                                          ...  \n2005_08_08_01_23_kaffeend_1245               180  \n2005_08_08_System_System_1246                181  \n2005_08_08_System_System_1247                182  \n2005_08_08_System_System_1248                183  \n2005_08_08_System_System_1249                184  \n\n[266 rows x 13 columns]",
      "text/html": "<div>\n<style scoped>\n    .dataframe tbody tr th:only-of-type {\n        vertical-align: middle;\n    }\n\n    .dataframe tbody tr th {\n        vertical-align: top;\n    }\n\n    .dataframe thead th {\n        text-align: right;\n    }\n</style>\n<table border=\"1\" class=\"dataframe\">\n  <thead>\n    <tr style=\"text-align: right;\">\n      <th></th>\n      <th>raw</th>\n      <th>file_ind</th>\n      <th>timestamp</th>\n      <th>minutes</th>\n      <th>user</th>\n      <th>user_ind</th>\n      <th>message</th>\n      <th>date</th>\n      <th>parent</th>\n      <th>child</th>\n      <th>file_ind_parent</th>\n      <th>uuid_parent</th>\n      <th>conversation_ind</th>\n    </tr>\n  </thead>\n  <tbody>\n    <tr>\n      <th>2005_08_08_12_28_aceb747_685</th>\n      <td>[12:28] &lt;aceb747&gt; is someone was comparing the...</td>\n      <td>685</td>\n      <td>12:28</td>\n      <td>748</td>\n      <td>aceb747</td>\n      <td>9541</td>\n      <td>is someone was comparing the ubuntu repositor...</td>\n      <td>2005-08-08</td>\n      <td>685.0</td>\n      <td>685.0</td>\n      <td>685.0</td>\n      <td>2005_08_08_12_28_aceb747_685</td>\n      <td>111</td>\n    </tr>\n    <tr>\n      <th>2005_08_08_12_56_LasseL_975</th>\n      <td>[12:56] &lt;LasseL&gt; I wonder how ubuntu is going ...</td>\n      <td>975</td>\n      <td>12:56</td>\n      <td>776</td>\n      <td>LasseL</td>\n      <td>10687</td>\n      <td>I wonder how ubuntu is going to deal with ope...</td>\n      <td>2005-08-08</td>\n      <td>975.0</td>\n      <td>975.0</td>\n      <td>975.0</td>\n      <td>2005_08_08_12_56_LasseL_975</td>\n      <td>112</td>\n    </tr>\n    <tr>\n      <th>2005_08_08_12_58_harold__990</th>\n      <td>[12:58] &lt;harold_&gt; Anyone: Know how to compile ...</td>\n      <td>990</td>\n      <td>12:58</td>\n      <td>778</td>\n      <td>harold_</td>\n      <td>14790</td>\n      <td>Anyone: Know how to compile madwifi for a Pow...</td>\n      <td>2005-08-08</td>\n      <td>990.0</td>\n      <td>990.0</td>\n      <td>990.0</td>\n      <td>2005_08_08_12_58_harold__990</td>\n      <td>113</td>\n    </tr>\n    <tr>\n      <th>2005_08_08_12_59_ubotu_999</th>\n      <td>[12:59] &lt;ubotu&gt; somebody said paste was please...</td>\n      <td>999</td>\n      <td>12:59</td>\n      <td>779</td>\n      <td>ubotu</td>\n      <td>12983</td>\n      <td>somebody said paste was please use http://pas...</td>\n      <td>2005-08-08</td>\n      <td>999.0</td>\n      <td>999.0</td>\n      <td>999.0</td>\n      <td>2005_08_08_12_59_ubotu_999</td>\n      <td>114</td>\n    </tr>\n    <tr>\n      <th>2005_08_08_01_00_MartenH_1000</th>\n      <td>[01:00] &lt;MartenH&gt; What does this error mean an...</td>\n      <td>1000</td>\n      <td>01:00</td>\n      <td>780</td>\n      <td>MartenH</td>\n      <td>11748</td>\n      <td>What does this error mean and how can I corre...</td>\n      <td>2005-08-08</td>\n      <td>1000.0</td>\n      <td>1000.0</td>\n      <td>1000.0</td>\n      <td>2005_08_08_01_00_MartenH_1000</td>\n      <td>115</td>\n    </tr>\n    <tr>\n      <th>...</th>\n      <td>...</td>\n      <td>...</td>\n      <td>...</td>\n      <td>...</td>\n      <td>...</td>\n      <td>...</td>\n      <td>...</td>\n      <td>...</td>\n      <td>...</td>\n      <td>...</td>\n      <td>...</td>\n      <td>...</td>\n      <td>...</td>\n    </tr>\n    <tr>\n      <th>2005_08_08_01_23_kaffeend_1245</th>\n      <td>[01:23] &lt;kaffeend&gt; heya</td>\n      <td>1245</td>\n      <td>01:23</td>\n      <td>803</td>\n      <td>kaffeend</td>\n      <td>6525</td>\n      <td>heya</td>\n      <td>2005-08-08</td>\n      <td>1245.0</td>\n      <td>1245.0</td>\n      <td>1245.0</td>\n      <td>2005_08_08_01_23_kaffeend_1245</td>\n      <td>180</td>\n    </tr>\n    <tr>\n      <th>2005_08_08_System_System_1246</th>\n      <td>=== macgyver2 [~macgyver2@macgyver2.user]  has...</td>\n      <td>1246</td>\n      <td>System</td>\n      <td>803</td>\n      <td>System</td>\n      <td>3792</td>\n      <td>NaN</td>\n      <td>2005-08-08</td>\n      <td>1246.0</td>\n      <td>1246.0</td>\n      <td>1246.0</td>\n      <td>2005_08_08_System_System_1246</td>\n      <td>181</td>\n    </tr>\n    <tr>\n      <th>2005_08_08_System_System_1247</th>\n      <td>=== boga [~boga@CPE0011095f2041-CM00e06f240dd8...</td>\n      <td>1247</td>\n      <td>System</td>\n      <td>803</td>\n      <td>System</td>\n      <td>3792</td>\n      <td>NaN</td>\n      <td>2005-08-08</td>\n      <td>1247.0</td>\n      <td>1247.0</td>\n      <td>1247.0</td>\n      <td>2005_08_08_System_System_1247</td>\n      <td>182</td>\n    </tr>\n    <tr>\n      <th>2005_08_08_System_System_1248</th>\n      <td>=== HollowFrank [~HollowFra@ACCB2D21.ipt.aol.c...</td>\n      <td>1248</td>\n      <td>System</td>\n      <td>803</td>\n      <td>System</td>\n      <td>3792</td>\n      <td>NaN</td>\n      <td>2005-08-08</td>\n      <td>1248.0</td>\n      <td>1248.0</td>\n      <td>1248.0</td>\n      <td>2005_08_08_System_System_1248</td>\n      <td>183</td>\n    </tr>\n    <tr>\n      <th>2005_08_08_System_System_1249</th>\n      <td>=== Will_ [9010@quake.swe.net]  has joined #ub...</td>\n      <td>1249</td>\n      <td>System</td>\n      <td>803</td>\n      <td>System</td>\n      <td>3792</td>\n      <td>NaN</td>\n      <td>2005-08-08</td>\n      <td>1249.0</td>\n      <td>1249.0</td>\n      <td>1249.0</td>\n      <td>2005_08_08_System_System_1249</td>\n      <td>184</td>\n    </tr>\n  </tbody>\n</table>\n<p>266 rows × 13 columns</p>\n</div>"
     },
     "execution_count": 62,
     "metadata": {},
     "output_type": "execute_result"
    }
   ],
   "source": [
    "dev_convo_df[dev_convo_df['date'] == '2005-08-08'].sort_values('file_ind')"
   ],
   "metadata": {
    "collapsed": false
   }
  },
  {
   "cell_type": "code",
   "execution_count": 63,
   "outputs": [
    {
     "data": {
      "text/plain": "                                                 raw  file_ind timestamp  \\\n0    [12:18] <|trey|> usual, quite stable though  :)         0     12:18   \n1  [12:18] <tweaked> HrdwrBoB: ok how many partit...         1     12:18   \n2  [12:18] <Matt|> |trey|, top in the list --> ub...         2     12:18   \n3               [12:18] <usual> a few libs and media         3     12:18   \n4                  [12:18] <usual> maybe some others         4     12:18   \n\n   minutes     user  user_ind  \\\n0      738   |trey|     10946   \n1      738  tweaked      1375   \n2      738    Matt|      6784   \n3      738    usual      7183   \n4      738    usual      7183   \n\n                                            message        date  \\\n0                    usual, quite stable though  :)  2004-11-15   \n1   HrdwrBoB: ok how many partitions should i make?  2004-11-15   \n2                                    ubuntu servers  2004-11-15   \n3                              a few libs and media  2004-11-15   \n4                                 maybe some others  2004-11-15   \n\n                         uuid  parent  child  file_ind_parent uuid_parent  \n0   2004_11_15_12_18_|trey|_0     NaN    NaN              NaN         NaN  \n1  2004_11_15_12_18_tweaked_1     NaN    NaN              NaN         NaN  \n2    2004_11_15_12_18_Matt|_2     NaN    NaN              NaN         NaN  \n3    2004_11_15_12_18_usual_3     NaN    NaN              NaN         NaN  \n4    2004_11_15_12_18_usual_4     NaN    NaN              NaN         NaN  ",
      "text/html": "<div>\n<style scoped>\n    .dataframe tbody tr th:only-of-type {\n        vertical-align: middle;\n    }\n\n    .dataframe tbody tr th {\n        vertical-align: top;\n    }\n\n    .dataframe thead th {\n        text-align: right;\n    }\n</style>\n<table border=\"1\" class=\"dataframe\">\n  <thead>\n    <tr style=\"text-align: right;\">\n      <th></th>\n      <th>raw</th>\n      <th>file_ind</th>\n      <th>timestamp</th>\n      <th>minutes</th>\n      <th>user</th>\n      <th>user_ind</th>\n      <th>message</th>\n      <th>date</th>\n      <th>uuid</th>\n      <th>parent</th>\n      <th>child</th>\n      <th>file_ind_parent</th>\n      <th>uuid_parent</th>\n    </tr>\n  </thead>\n  <tbody>\n    <tr>\n      <th>0</th>\n      <td>[12:18] &lt;|trey|&gt; usual, quite stable though  :)</td>\n      <td>0</td>\n      <td>12:18</td>\n      <td>738</td>\n      <td>|trey|</td>\n      <td>10946</td>\n      <td>usual, quite stable though  :)</td>\n      <td>2004-11-15</td>\n      <td>2004_11_15_12_18_|trey|_0</td>\n      <td>NaN</td>\n      <td>NaN</td>\n      <td>NaN</td>\n      <td>NaN</td>\n    </tr>\n    <tr>\n      <th>1</th>\n      <td>[12:18] &lt;tweaked&gt; HrdwrBoB: ok how many partit...</td>\n      <td>1</td>\n      <td>12:18</td>\n      <td>738</td>\n      <td>tweaked</td>\n      <td>1375</td>\n      <td>HrdwrBoB: ok how many partitions should i make?</td>\n      <td>2004-11-15</td>\n      <td>2004_11_15_12_18_tweaked_1</td>\n      <td>NaN</td>\n      <td>NaN</td>\n      <td>NaN</td>\n      <td>NaN</td>\n    </tr>\n    <tr>\n      <th>2</th>\n      <td>[12:18] &lt;Matt|&gt; |trey|, top in the list --&gt; ub...</td>\n      <td>2</td>\n      <td>12:18</td>\n      <td>738</td>\n      <td>Matt|</td>\n      <td>6784</td>\n      <td>ubuntu servers</td>\n      <td>2004-11-15</td>\n      <td>2004_11_15_12_18_Matt|_2</td>\n      <td>NaN</td>\n      <td>NaN</td>\n      <td>NaN</td>\n      <td>NaN</td>\n    </tr>\n    <tr>\n      <th>3</th>\n      <td>[12:18] &lt;usual&gt; a few libs and media</td>\n      <td>3</td>\n      <td>12:18</td>\n      <td>738</td>\n      <td>usual</td>\n      <td>7183</td>\n      <td>a few libs and media</td>\n      <td>2004-11-15</td>\n      <td>2004_11_15_12_18_usual_3</td>\n      <td>NaN</td>\n      <td>NaN</td>\n      <td>NaN</td>\n      <td>NaN</td>\n    </tr>\n    <tr>\n      <th>4</th>\n      <td>[12:18] &lt;usual&gt; maybe some others</td>\n      <td>4</td>\n      <td>12:18</td>\n      <td>738</td>\n      <td>usual</td>\n      <td>7183</td>\n      <td>maybe some others</td>\n      <td>2004-11-15</td>\n      <td>2004_11_15_12_18_usual_4</td>\n      <td>NaN</td>\n      <td>NaN</td>\n      <td>NaN</td>\n      <td>NaN</td>\n    </tr>\n  </tbody>\n</table>\n</div>"
     },
     "execution_count": 63,
     "metadata": {},
     "output_type": "execute_result"
    }
   ],
   "source": [
    "dev_df.head()"
   ],
   "metadata": {
    "collapsed": false
   }
  },
  {
   "cell_type": "code",
   "execution_count": 64,
   "outputs": [],
   "source": [
    "labeled_df = dev_df[dev_df['parent'].notnull()]"
   ],
   "metadata": {
    "collapsed": false
   }
  },
  {
   "cell_type": "code",
   "execution_count": 65,
   "outputs": [
    {
     "data": {
      "text/plain": "                                                    raw  file_ind timestamp  \\\n685   [01:35] <djtansey> i have a problem re: k3b an...       685     01:35   \n1000                  [03:01] <LinuxJones> night all :)      1000     03:01   \n1001  === yohannes [~yohannes@adsl-67-112-218-21.dsl...      1001     03:10   \n1002  [03:10] <yohannes> can anyone recommend any ap...      1002     03:10   \n1003       [03:10] <Hikaru79> yohannes, why not WinRAR?      1003     03:10   \n\n      minutes        user  user_ind  \\\n685       815    djtansey       948   \n1000      901  LinuxJones      1839   \n1001      910      System      3792   \n1002      910    yohannes     14260   \n1003      910    Hikaru79      9550   \n\n                                                message        date  \\\n685    i have a problem re: k3b and am looking for s...  2004-11-15   \n1000                                       night all :)  2004-11-15   \n1001                                                NaN  2004-11-15   \n1002   can anyone recommend any app to create/open *...  2004-11-15   \n1003                          yohannes, why not WinRAR?  2004-11-15   \n\n                                  uuid  parent   child  file_ind_parent  \\\n685      2004_11_15_01_35_djtansey_685   685.0   685.0            685.0   \n1000  2004_11_15_03_01_LinuxJones_1000  1000.0  1000.0           1000.0   \n1001      2004_11_15_03_10_System_1001  1001.0  1001.0           1001.0   \n1002    2004_11_15_03_10_yohannes_1002  1002.0  1002.0           1002.0   \n1003    2004_11_15_03_10_Hikaru79_1003  1002.0  1003.0           1002.0   \n\n                           uuid_parent  \n685      2004_11_15_01_35_djtansey_685  \n1000  2004_11_15_03_01_LinuxJones_1000  \n1001      2004_11_15_03_10_System_1001  \n1002    2004_11_15_03_10_yohannes_1002  \n1003    2004_11_15_03_10_yohannes_1002  ",
      "text/html": "<div>\n<style scoped>\n    .dataframe tbody tr th:only-of-type {\n        vertical-align: middle;\n    }\n\n    .dataframe tbody tr th {\n        vertical-align: top;\n    }\n\n    .dataframe thead th {\n        text-align: right;\n    }\n</style>\n<table border=\"1\" class=\"dataframe\">\n  <thead>\n    <tr style=\"text-align: right;\">\n      <th></th>\n      <th>raw</th>\n      <th>file_ind</th>\n      <th>timestamp</th>\n      <th>minutes</th>\n      <th>user</th>\n      <th>user_ind</th>\n      <th>message</th>\n      <th>date</th>\n      <th>uuid</th>\n      <th>parent</th>\n      <th>child</th>\n      <th>file_ind_parent</th>\n      <th>uuid_parent</th>\n    </tr>\n  </thead>\n  <tbody>\n    <tr>\n      <th>685</th>\n      <td>[01:35] &lt;djtansey&gt; i have a problem re: k3b an...</td>\n      <td>685</td>\n      <td>01:35</td>\n      <td>815</td>\n      <td>djtansey</td>\n      <td>948</td>\n      <td>i have a problem re: k3b and am looking for s...</td>\n      <td>2004-11-15</td>\n      <td>2004_11_15_01_35_djtansey_685</td>\n      <td>685.0</td>\n      <td>685.0</td>\n      <td>685.0</td>\n      <td>2004_11_15_01_35_djtansey_685</td>\n    </tr>\n    <tr>\n      <th>1000</th>\n      <td>[03:01] &lt;LinuxJones&gt; night all :)</td>\n      <td>1000</td>\n      <td>03:01</td>\n      <td>901</td>\n      <td>LinuxJones</td>\n      <td>1839</td>\n      <td>night all :)</td>\n      <td>2004-11-15</td>\n      <td>2004_11_15_03_01_LinuxJones_1000</td>\n      <td>1000.0</td>\n      <td>1000.0</td>\n      <td>1000.0</td>\n      <td>2004_11_15_03_01_LinuxJones_1000</td>\n    </tr>\n    <tr>\n      <th>1001</th>\n      <td>=== yohannes [~yohannes@adsl-67-112-218-21.dsl...</td>\n      <td>1001</td>\n      <td>03:10</td>\n      <td>910</td>\n      <td>System</td>\n      <td>3792</td>\n      <td>NaN</td>\n      <td>2004-11-15</td>\n      <td>2004_11_15_03_10_System_1001</td>\n      <td>1001.0</td>\n      <td>1001.0</td>\n      <td>1001.0</td>\n      <td>2004_11_15_03_10_System_1001</td>\n    </tr>\n    <tr>\n      <th>1002</th>\n      <td>[03:10] &lt;yohannes&gt; can anyone recommend any ap...</td>\n      <td>1002</td>\n      <td>03:10</td>\n      <td>910</td>\n      <td>yohannes</td>\n      <td>14260</td>\n      <td>can anyone recommend any app to create/open *...</td>\n      <td>2004-11-15</td>\n      <td>2004_11_15_03_10_yohannes_1002</td>\n      <td>1002.0</td>\n      <td>1002.0</td>\n      <td>1002.0</td>\n      <td>2004_11_15_03_10_yohannes_1002</td>\n    </tr>\n    <tr>\n      <th>1003</th>\n      <td>[03:10] &lt;Hikaru79&gt; yohannes, why not WinRAR?</td>\n      <td>1003</td>\n      <td>03:10</td>\n      <td>910</td>\n      <td>Hikaru79</td>\n      <td>9550</td>\n      <td>yohannes, why not WinRAR?</td>\n      <td>2004-11-15</td>\n      <td>2004_11_15_03_10_Hikaru79_1003</td>\n      <td>1002.0</td>\n      <td>1003.0</td>\n      <td>1002.0</td>\n      <td>2004_11_15_03_10_yohannes_1002</td>\n    </tr>\n  </tbody>\n</table>\n</div>"
     },
     "execution_count": 65,
     "metadata": {},
     "output_type": "execute_result"
    }
   ],
   "source": [
    "labeled_df.head()"
   ],
   "metadata": {
    "collapsed": false
   }
  },
  {
   "cell_type": "code",
   "execution_count": 66,
   "outputs": [
    {
     "data": {
      "text/plain": "(2642, 13)"
     },
     "execution_count": 66,
     "metadata": {},
     "output_type": "execute_result"
    }
   ],
   "source": [
    "dev_convo_df.shape"
   ],
   "metadata": {
    "collapsed": false
   }
  },
  {
   "cell_type": "code",
   "execution_count": 67,
   "outputs": [],
   "source": [
    "MESSAGE_SIZE = 1000\n",
    "message_list = []\n",
    "for ind, row in dev_convo_df.iloc[0:MESSAGE_SIZE].iterrows():\n",
    "    message = Message(timestamp=row['minutes'],\n",
    "                      user_id=row['user_ind'],\n",
    "                      message=row['message'],\n",
    "                      file_ind=row['file_ind'],\n",
    "                      uuid=ind,\n",
    "                      uuid_parent=None,\n",
    "                      conversation_ind=row['conversation_ind'])\n",
    "    message_list.append(message)"
   ],
   "metadata": {
    "collapsed": false
   }
  },
  {
   "cell_type": "code",
   "execution_count": 68,
   "outputs": [
    {
     "data": {
      "text/plain": "'2004_11_15_01_35_djtansey_685'"
     },
     "execution_count": 68,
     "metadata": {},
     "output_type": "execute_result"
    }
   ],
   "source": [
    "message_list[0].uuid"
   ],
   "metadata": {
    "collapsed": false
   }
  },
  {
   "cell_type": "code",
   "execution_count": 69,
   "outputs": [
    {
     "data": {
      "text/plain": "{'message_cur': '2004_11_15_03_41_djtansey_1087',\n 'message_prev': '2004_11_15_01_35_djtansey_685',\n 'same_user': 1,\n 'time_distance': 126,\n 'label': 1}"
     },
     "execution_count": 69,
     "metadata": {},
     "output_type": "execute_result"
    }
   ],
   "source": [
    "MessageProcessor.process_same_convo(message_list[1], message_list[0])"
   ],
   "metadata": {
    "collapsed": false
   }
  },
  {
   "cell_type": "code",
   "execution_count": 69,
   "outputs": [],
   "source": [],
   "metadata": {
    "collapsed": false
   }
  },
  {
   "cell_type": "code",
   "execution_count": 70,
   "outputs": [],
   "source": [
    "class DatasetBuilder:\n",
    "    def __init__(self):\n",
    "        self.training_data = pd.DataFrame()\n",
    "        self.labels = None\n",
    "        self.size = len(self.training_data)\n",
    "\n",
    "    def load_pair(self, data):\n",
    "        \"\"\"\n",
    "        load single Message object\n",
    "        :param message:\n",
    "        :return: None\n",
    "        \"\"\"\n",
    "        self.training_data = self.training_data.append(data, ignore_index=True)\n",
    "\n",
    "    def load_messages(self, message_list, window=0):\n",
    "        \"\"\"\n",
    "\n",
    "        :param message_list: list of Message Objects\n",
    "        :return: None\n",
    "        \"\"\"\n",
    "\n",
    "        if window:\n",
    "            pair_list = self.pair_generator_window(message_list, window)\n",
    "        else:\n",
    "            pair_list = self.pair_generator(message_list)\n",
    "\n",
    "        for pair in pair_list:\n",
    "            prev_message, cur_message = pair\n",
    "            data = MessageProcessor.process_same_convo(cur_message, prev_message)\n",
    "            self.load_pair(data)\n",
    "\n",
    "\n",
    "    @staticmethod\n",
    "    def pair_generator(message_list):\n",
    "        \"\"\"\n",
    "        Takes list of Message objects and returns a combination of all possible pairs\n",
    "        :param message_list:\n",
    "        :return: list of length-2 tuples\n",
    "        \"\"\"\n",
    "        pair_list = []\n",
    "        for idx, message_1 in enumerate(message_list):\n",
    "            for message_2 in message_list[idx +1:]:\n",
    "                if message_1 < message_2:\n",
    "                    pair_list.append((message_1, message_2))\n",
    "                else:\n",
    "                    pair_list.append((message_2, message_1))\n",
    "\n",
    "        return pair_list\n",
    "\n",
    "    @staticmethod\n",
    "    def pair_generator_window(message_list, window):\n",
    "        \"\"\"\n",
    "        Takes list of Message objects and returns a combination of all possible pairs\n",
    "        :param message_list:\n",
    "        :return: list of length-2 tuples\n",
    "        \"\"\"\n",
    "        pair_list = []\n",
    "        for idx, message_1 in enumerate(message_list):\n",
    "            for message_2 in message_list[idx+1:]:\n",
    "                if message_2.timestamp - message_1.timestamp > window:\n",
    "                    break\n",
    "                if message_1 < message_2:\n",
    "                    pair_list.append((message_1, message_2))\n",
    "                else:\n",
    "                    pair_list.append((message_2, message_1))\n",
    "        return pair_list\n",
    "\n",
    "    def export_data(self, path):\n",
    "        self.training_data.to_csv(path)"
   ],
   "metadata": {
    "collapsed": false
   }
  },
  {
   "cell_type": "code",
   "execution_count": 71,
   "outputs": [],
   "source": [
    "MESSAGE_SIZE = 1000\n",
    "message_list = []\n",
    "day_list = list(set(dev_convo_df['date'].values))"
   ],
   "metadata": {
    "collapsed": false
   }
  },
  {
   "cell_type": "code",
   "execution_count": 72,
   "outputs": [],
   "source": [
    "# for ind, row in dev_convo_df.iloc[0:MESSAGE_SIZE].iterrows():\n",
    "#     message = Message(timestamp=row['minutes'],\n",
    "#                       user_id=row['user_ind'],\n",
    "#                       message=row['message'],\n",
    "#                       file_ind=row['file_ind'],\n",
    "#                       uuid=ind,\n",
    "#                       uuid_parent=None,\n",
    "#                       conversation_ind=row['conversation_ind'])\n",
    "#     message_list.append(message)\n",
    "\n",
    "dataset_builder = DatasetBuilder()\n",
    "\n",
    "for day in day_list:\n",
    "    message_list = []\n",
    "\n",
    "    day_df = dev_convo_df[dev_convo_df['date'] == day].sort_values('file_ind')\n",
    "    for ind, row in day_df.iterrows():\n",
    "        message = Message(timestamp=row['minutes'],\n",
    "                          user_id=row['user_ind'],\n",
    "                          message=row['message'],\n",
    "                          file_ind=row['file_ind'],\n",
    "                          uuid=ind,\n",
    "                          uuid_parent=None,\n",
    "                          conversation_ind=row['conversation_ind'])\n",
    "        message_list.append(message)\n",
    "\n",
    "    dataset_builder.load_messages(message_list, window=20)"
   ],
   "metadata": {
    "collapsed": false
   }
  },
  {
   "cell_type": "code",
   "execution_count": 73,
   "outputs": [
    {
     "data": {
      "text/plain": "                                                                              raw  \\\n2005_08_08_12_28_aceb747_685    [12:28] <aceb747> is someone was comparing the...   \n2005_08_08_12_56_LasseL_975     [12:56] <LasseL> I wonder how ubuntu is going ...   \n2005_08_08_12_58_harold__990    [12:58] <harold_> Anyone: Know how to compile ...   \n2005_08_08_12_59_ubotu_999      [12:59] <ubotu> somebody said paste was please...   \n2005_08_08_01_00_MartenH_1000   [01:00] <MartenH> What does this error mean an...   \n...                                                                           ...   \n2005_08_08_01_23_kaffeend_1245                            [01:23] <kaffeend> heya   \n2005_08_08_System_System_1246   === macgyver2 [~macgyver2@macgyver2.user]  has...   \n2005_08_08_System_System_1247   === boga [~boga@CPE0011095f2041-CM00e06f240dd8...   \n2005_08_08_System_System_1248   === HollowFrank [~HollowFra@ACCB2D21.ipt.aol.c...   \n2005_08_08_System_System_1249   === Will_ [9010@quake.swe.net]  has joined #ub...   \n\n                                file_ind timestamp  minutes      user  \\\n2005_08_08_12_28_aceb747_685         685     12:28      748   aceb747   \n2005_08_08_12_56_LasseL_975          975     12:56      776    LasseL   \n2005_08_08_12_58_harold__990         990     12:58      778   harold_   \n2005_08_08_12_59_ubotu_999           999     12:59      779     ubotu   \n2005_08_08_01_00_MartenH_1000       1000     01:00      780   MartenH   \n...                                  ...       ...      ...       ...   \n2005_08_08_01_23_kaffeend_1245      1245     01:23      803  kaffeend   \n2005_08_08_System_System_1246       1246    System      803    System   \n2005_08_08_System_System_1247       1247    System      803    System   \n2005_08_08_System_System_1248       1248    System      803    System   \n2005_08_08_System_System_1249       1249    System      803    System   \n\n                                user_ind  \\\n2005_08_08_12_28_aceb747_685        9541   \n2005_08_08_12_56_LasseL_975        10687   \n2005_08_08_12_58_harold__990       14790   \n2005_08_08_12_59_ubotu_999         12983   \n2005_08_08_01_00_MartenH_1000      11748   \n...                                  ...   \n2005_08_08_01_23_kaffeend_1245      6525   \n2005_08_08_System_System_1246       3792   \n2005_08_08_System_System_1247       3792   \n2005_08_08_System_System_1248       3792   \n2005_08_08_System_System_1249       3792   \n\n                                                                          message  \\\n2005_08_08_12_28_aceb747_685     is someone was comparing the ubuntu repositor...   \n2005_08_08_12_56_LasseL_975      I wonder how ubuntu is going to deal with ope...   \n2005_08_08_12_58_harold__990     Anyone: Know how to compile madwifi for a Pow...   \n2005_08_08_12_59_ubotu_999       somebody said paste was please use http://pas...   \n2005_08_08_01_00_MartenH_1000    What does this error mean and how can I corre...   \n...                                                                           ...   \n2005_08_08_01_23_kaffeend_1245                                               heya   \n2005_08_08_System_System_1246                                                 NaN   \n2005_08_08_System_System_1247                                                 NaN   \n2005_08_08_System_System_1248                                                 NaN   \n2005_08_08_System_System_1249                                                 NaN   \n\n                                      date  parent   child  file_ind_parent  \\\n2005_08_08_12_28_aceb747_685    2005-08-08   685.0   685.0            685.0   \n2005_08_08_12_56_LasseL_975     2005-08-08   975.0   975.0            975.0   \n2005_08_08_12_58_harold__990    2005-08-08   990.0   990.0            990.0   \n2005_08_08_12_59_ubotu_999      2005-08-08   999.0   999.0            999.0   \n2005_08_08_01_00_MartenH_1000   2005-08-08  1000.0  1000.0           1000.0   \n...                                    ...     ...     ...              ...   \n2005_08_08_01_23_kaffeend_1245  2005-08-08  1245.0  1245.0           1245.0   \n2005_08_08_System_System_1246   2005-08-08  1246.0  1246.0           1246.0   \n2005_08_08_System_System_1247   2005-08-08  1247.0  1247.0           1247.0   \n2005_08_08_System_System_1248   2005-08-08  1248.0  1248.0           1248.0   \n2005_08_08_System_System_1249   2005-08-08  1249.0  1249.0           1249.0   \n\n                                                   uuid_parent  \\\n2005_08_08_12_28_aceb747_685      2005_08_08_12_28_aceb747_685   \n2005_08_08_12_56_LasseL_975        2005_08_08_12_56_LasseL_975   \n2005_08_08_12_58_harold__990      2005_08_08_12_58_harold__990   \n2005_08_08_12_59_ubotu_999          2005_08_08_12_59_ubotu_999   \n2005_08_08_01_00_MartenH_1000    2005_08_08_01_00_MartenH_1000   \n...                                                        ...   \n2005_08_08_01_23_kaffeend_1245  2005_08_08_01_23_kaffeend_1245   \n2005_08_08_System_System_1246    2005_08_08_System_System_1246   \n2005_08_08_System_System_1247    2005_08_08_System_System_1247   \n2005_08_08_System_System_1248    2005_08_08_System_System_1248   \n2005_08_08_System_System_1249    2005_08_08_System_System_1249   \n\n                                conversation_ind  \n2005_08_08_12_28_aceb747_685                 111  \n2005_08_08_12_56_LasseL_975                  112  \n2005_08_08_12_58_harold__990                 113  \n2005_08_08_12_59_ubotu_999                   114  \n2005_08_08_01_00_MartenH_1000                115  \n...                                          ...  \n2005_08_08_01_23_kaffeend_1245               180  \n2005_08_08_System_System_1246                181  \n2005_08_08_System_System_1247                182  \n2005_08_08_System_System_1248                183  \n2005_08_08_System_System_1249                184  \n\n[266 rows x 13 columns]",
      "text/html": "<div>\n<style scoped>\n    .dataframe tbody tr th:only-of-type {\n        vertical-align: middle;\n    }\n\n    .dataframe tbody tr th {\n        vertical-align: top;\n    }\n\n    .dataframe thead th {\n        text-align: right;\n    }\n</style>\n<table border=\"1\" class=\"dataframe\">\n  <thead>\n    <tr style=\"text-align: right;\">\n      <th></th>\n      <th>raw</th>\n      <th>file_ind</th>\n      <th>timestamp</th>\n      <th>minutes</th>\n      <th>user</th>\n      <th>user_ind</th>\n      <th>message</th>\n      <th>date</th>\n      <th>parent</th>\n      <th>child</th>\n      <th>file_ind_parent</th>\n      <th>uuid_parent</th>\n      <th>conversation_ind</th>\n    </tr>\n  </thead>\n  <tbody>\n    <tr>\n      <th>2005_08_08_12_28_aceb747_685</th>\n      <td>[12:28] &lt;aceb747&gt; is someone was comparing the...</td>\n      <td>685</td>\n      <td>12:28</td>\n      <td>748</td>\n      <td>aceb747</td>\n      <td>9541</td>\n      <td>is someone was comparing the ubuntu repositor...</td>\n      <td>2005-08-08</td>\n      <td>685.0</td>\n      <td>685.0</td>\n      <td>685.0</td>\n      <td>2005_08_08_12_28_aceb747_685</td>\n      <td>111</td>\n    </tr>\n    <tr>\n      <th>2005_08_08_12_56_LasseL_975</th>\n      <td>[12:56] &lt;LasseL&gt; I wonder how ubuntu is going ...</td>\n      <td>975</td>\n      <td>12:56</td>\n      <td>776</td>\n      <td>LasseL</td>\n      <td>10687</td>\n      <td>I wonder how ubuntu is going to deal with ope...</td>\n      <td>2005-08-08</td>\n      <td>975.0</td>\n      <td>975.0</td>\n      <td>975.0</td>\n      <td>2005_08_08_12_56_LasseL_975</td>\n      <td>112</td>\n    </tr>\n    <tr>\n      <th>2005_08_08_12_58_harold__990</th>\n      <td>[12:58] &lt;harold_&gt; Anyone: Know how to compile ...</td>\n      <td>990</td>\n      <td>12:58</td>\n      <td>778</td>\n      <td>harold_</td>\n      <td>14790</td>\n      <td>Anyone: Know how to compile madwifi for a Pow...</td>\n      <td>2005-08-08</td>\n      <td>990.0</td>\n      <td>990.0</td>\n      <td>990.0</td>\n      <td>2005_08_08_12_58_harold__990</td>\n      <td>113</td>\n    </tr>\n    <tr>\n      <th>2005_08_08_12_59_ubotu_999</th>\n      <td>[12:59] &lt;ubotu&gt; somebody said paste was please...</td>\n      <td>999</td>\n      <td>12:59</td>\n      <td>779</td>\n      <td>ubotu</td>\n      <td>12983</td>\n      <td>somebody said paste was please use http://pas...</td>\n      <td>2005-08-08</td>\n      <td>999.0</td>\n      <td>999.0</td>\n      <td>999.0</td>\n      <td>2005_08_08_12_59_ubotu_999</td>\n      <td>114</td>\n    </tr>\n    <tr>\n      <th>2005_08_08_01_00_MartenH_1000</th>\n      <td>[01:00] &lt;MartenH&gt; What does this error mean an...</td>\n      <td>1000</td>\n      <td>01:00</td>\n      <td>780</td>\n      <td>MartenH</td>\n      <td>11748</td>\n      <td>What does this error mean and how can I corre...</td>\n      <td>2005-08-08</td>\n      <td>1000.0</td>\n      <td>1000.0</td>\n      <td>1000.0</td>\n      <td>2005_08_08_01_00_MartenH_1000</td>\n      <td>115</td>\n    </tr>\n    <tr>\n      <th>...</th>\n      <td>...</td>\n      <td>...</td>\n      <td>...</td>\n      <td>...</td>\n      <td>...</td>\n      <td>...</td>\n      <td>...</td>\n      <td>...</td>\n      <td>...</td>\n      <td>...</td>\n      <td>...</td>\n      <td>...</td>\n      <td>...</td>\n    </tr>\n    <tr>\n      <th>2005_08_08_01_23_kaffeend_1245</th>\n      <td>[01:23] &lt;kaffeend&gt; heya</td>\n      <td>1245</td>\n      <td>01:23</td>\n      <td>803</td>\n      <td>kaffeend</td>\n      <td>6525</td>\n      <td>heya</td>\n      <td>2005-08-08</td>\n      <td>1245.0</td>\n      <td>1245.0</td>\n      <td>1245.0</td>\n      <td>2005_08_08_01_23_kaffeend_1245</td>\n      <td>180</td>\n    </tr>\n    <tr>\n      <th>2005_08_08_System_System_1246</th>\n      <td>=== macgyver2 [~macgyver2@macgyver2.user]  has...</td>\n      <td>1246</td>\n      <td>System</td>\n      <td>803</td>\n      <td>System</td>\n      <td>3792</td>\n      <td>NaN</td>\n      <td>2005-08-08</td>\n      <td>1246.0</td>\n      <td>1246.0</td>\n      <td>1246.0</td>\n      <td>2005_08_08_System_System_1246</td>\n      <td>181</td>\n    </tr>\n    <tr>\n      <th>2005_08_08_System_System_1247</th>\n      <td>=== boga [~boga@CPE0011095f2041-CM00e06f240dd8...</td>\n      <td>1247</td>\n      <td>System</td>\n      <td>803</td>\n      <td>System</td>\n      <td>3792</td>\n      <td>NaN</td>\n      <td>2005-08-08</td>\n      <td>1247.0</td>\n      <td>1247.0</td>\n      <td>1247.0</td>\n      <td>2005_08_08_System_System_1247</td>\n      <td>182</td>\n    </tr>\n    <tr>\n      <th>2005_08_08_System_System_1248</th>\n      <td>=== HollowFrank [~HollowFra@ACCB2D21.ipt.aol.c...</td>\n      <td>1248</td>\n      <td>System</td>\n      <td>803</td>\n      <td>System</td>\n      <td>3792</td>\n      <td>NaN</td>\n      <td>2005-08-08</td>\n      <td>1248.0</td>\n      <td>1248.0</td>\n      <td>1248.0</td>\n      <td>2005_08_08_System_System_1248</td>\n      <td>183</td>\n    </tr>\n    <tr>\n      <th>2005_08_08_System_System_1249</th>\n      <td>=== Will_ [9010@quake.swe.net]  has joined #ub...</td>\n      <td>1249</td>\n      <td>System</td>\n      <td>803</td>\n      <td>System</td>\n      <td>3792</td>\n      <td>NaN</td>\n      <td>2005-08-08</td>\n      <td>1249.0</td>\n      <td>1249.0</td>\n      <td>1249.0</td>\n      <td>2005_08_08_System_System_1249</td>\n      <td>184</td>\n    </tr>\n  </tbody>\n</table>\n<p>266 rows × 13 columns</p>\n</div>"
     },
     "execution_count": 73,
     "metadata": {},
     "output_type": "execute_result"
    }
   ],
   "source": [
    "day_df"
   ],
   "metadata": {
    "collapsed": false
   }
  },
  {
   "cell_type": "code",
   "execution_count": 74,
   "outputs": [
    {
     "data": {
      "text/plain": "(218497, 5)"
     },
     "execution_count": 74,
     "metadata": {},
     "output_type": "execute_result"
    }
   ],
   "source": [
    "dataset_builder.training_data.shape"
   ],
   "metadata": {
    "collapsed": false
   }
  },
  {
   "cell_type": "code",
   "execution_count": null,
   "outputs": [],
   "source": [],
   "metadata": {
    "collapsed": false
   }
  },
  {
   "cell_type": "code",
   "execution_count": 75,
   "outputs": [],
   "source": [
    "dataset_builder.export_data(\"training_data.csv\")"
   ],
   "metadata": {
    "collapsed": false
   }
  },
  {
   "cell_type": "code",
   "execution_count": null,
   "outputs": [],
   "source": [],
   "metadata": {
    "collapsed": false
   }
  }
 ],
 "metadata": {
  "kernelspec": {
   "display_name": "Python 3",
   "language": "python",
   "name": "python3"
  },
  "language_info": {
   "codemirror_mode": {
    "name": "ipython",
    "version": 2
   },
   "file_extension": ".py",
   "mimetype": "text/x-python",
   "name": "python",
   "nbconvert_exporter": "python",
   "pygments_lexer": "ipython2",
   "version": "2.7.6"
  }
 },
 "nbformat": 4,
 "nbformat_minor": 0
}
