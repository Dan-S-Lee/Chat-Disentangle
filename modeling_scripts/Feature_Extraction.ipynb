{
 "cells": [
  {
   "cell_type": "markdown",
   "source": [
    "## Training dataset formats?\n",
    "\n",
    "Model 1, logistic regression.\n",
    "Unit of analysis: Two discrete messages in a chat log.\n",
    "INPUT: One feature list of a pair of messages\n",
    "OUTPUT: Boolean, same conversation or not\n",
    "### Idea 1: n x m sample of data\n",
    "Get every pair of messages within a given timeframe, create X, y format of training data:\n",
    "                feature_1, feature_2, feature_3\n",
    "message_pair_1 |\n",
    "message_pair_2 |\n",
    "message_pair_3 |\n",
    "\n",
    "### Idea 2: Feed each pair individually to the model\n",
    "Create function to get every pair of messages within a given timeframe, and preprocess to create a feature list to feed into the model\n",
    "\n",
    "\n",
    "## Features to extract\n",
    "1. Time distance between messages in minutes (integer)\n",
    "2. Same or different user (boolean)\n",
    "3."
   ],
   "metadata": {
    "collapsed": false
   }
  },
  {
   "cell_type": "code",
   "execution_count": 2,
   "outputs": [],
   "source": [
    "class Message:\n",
    "    def __init__(self, timestamp, user_id, message, mention, file_ind, uuid, uuid_parent=None, conversation_ind=None):\n",
    "        self.timestamp = timestamp\n",
    "        self.user = user_id\n",
    "        self.message = message\n",
    "        self.file_ind = file_ind\n",
    "        self.uuid = uuid\n",
    "        self.uuid_parent = uuid_parent\n",
    "        self.conversation_ind = conversation_ind\n",
    "        self.has_mention = mention > -1\n",
    "        self.mention = mention\n",
    "\n",
    "    def __lt__(self, other):\n",
    "        return self.file_ind < other.file_ind\n",
    "\n",
    "    def to_dict(self):\n",
    "        return vars(self)"
   ],
   "metadata": {
    "collapsed": false
   }
  },
  {
   "cell_type": "code",
   "execution_count": 3,
   "outputs": [],
   "source": [
    "class MessageProcessor:\n",
    "    DEFAULT_PARAMS = {\n",
    "        'message_cur': '',\n",
    "        'message_prev': '',\n",
    "        'same_user': 0,\n",
    "        'time_distance': -1,\n",
    "        'label': -1\n",
    "    }\n",
    "    #def __init__(self):\n",
    "    @staticmethod\n",
    "    def process_reply_pair(message_primary, message_candidate):\n",
    "        \"\"\"\n",
    "\n",
    "        :param message_primary: Message object, primary message\n",
    "        :param message_candidate: Message object, potential antecedent message\n",
    "        :return: modified dictionary of DEFAULT_PARAMS\n",
    "        \"\"\"\n",
    "\n",
    "        results = MessageProcessor.DEFAULT_PARAMS.copy()\n",
    "\n",
    "        results['message_cur'] = message_primary.uuid\n",
    "        results['message_prev'] = message_candidate.uuid\n",
    "        results['same_user'] = MessageProcessor._check_user_pair(message_primary, message_candidate)\n",
    "        results['mentions_user'] = MessageProcessor._mentions_user(message_primary, message_candidate)\n",
    "        results['time_distance'] = MessageProcessor._calculate_time_distance(message_primary, message_candidate)\n",
    "        results['label'] = MessageProcessor._check_is_reply(message_primary, message_candidate)\n",
    "        return results\n",
    "\n",
    "    @staticmethod\n",
    "    def process_same_convo(message_primary, message_candidate):\n",
    "\n",
    "        results = MessageProcessor.DEFAULT_PARAMS.copy()\n",
    "\n",
    "        results['message_cur'] = message_primary.uuid\n",
    "        results['message_prev'] = message_candidate.uuid\n",
    "        results['same_user'] = MessageProcessor._check_user_pair(message_primary, message_candidate)\n",
    "        results['mentions_user'] = MessageProcessor._mentions_user(message_primary, message_candidate)\n",
    "        results['time_distance'] = MessageProcessor._calculate_time_distance(message_primary, message_candidate)\n",
    "        results['label'] = MessageProcessor._check_is_same_convo(message_primary, message_candidate)\n",
    "        return results\n",
    "\n",
    "    @staticmethod\n",
    "    def _check_user_pair(message_primary, message_candidate):\n",
    "        return int(message_primary.user == message_candidate.user)\n",
    "\n",
    "    @staticmethod\n",
    "    def _calculate_time_distance(message_primary, message_candidate):\n",
    "        if message_primary.timestamp < message_candidate.timestamp:\n",
    "            raise Exception(f\"Primary Message {message_primary.uuid} is before candidate {message_candidate.uuid}.\")\n",
    "        return message_primary.timestamp - message_candidate.timestamp\n",
    "\n",
    "    @staticmethod\n",
    "    def _mentions_user(message_primary, message_candidate):\n",
    "        return int(message_primary.mention == message_candidate.user)\n",
    "    #Methods that generate labels\n",
    "    @staticmethod\n",
    "    def _check_is_reply(message_primary, message_candidate):\n",
    "        return int(message_primary.uuid_parent == message_candidate.uuid)\n",
    "\n",
    "    @staticmethod\n",
    "    def _check_is_same_convo(message_primary, message_candidate):\n",
    "        return int(message_primary.conversation_ind == message_candidate.conversation_ind)"
   ],
   "metadata": {
    "collapsed": false
   }
  },
  {
   "cell_type": "code",
   "execution_count": 4,
   "outputs": [],
   "source": [
    "import pandas as pd"
   ],
   "metadata": {
    "collapsed": false
   }
  },
  {
   "cell_type": "code",
   "execution_count": 5,
   "outputs": [],
   "source": [
    "dev_df = pd.read_csv('../data/cleaned/agg_dev.csv', index_col=0)"
   ],
   "metadata": {
    "collapsed": false
   }
  },
  {
   "cell_type": "code",
   "execution_count": 6,
   "outputs": [],
   "source": [
    "dev_convo_df = pd.read_csv('../data/cleaned/dev_conversations.csv', index_col=0)"
   ],
   "metadata": {
    "collapsed": false
   }
  },
  {
   "cell_type": "code",
   "execution_count": 7,
   "outputs": [
    {
     "data": {
      "text/plain": "                                                                              raw  \\\n2005_08_08_12_28_aceb747_685    [12:28] <aceb747> is someone was comparing the...   \n2005_08_08_12_56_LasseL_975     [12:56] <LasseL> I wonder how ubuntu is going ...   \n2005_08_08_12_58_harold__990    [12:58] <harold_> Anyone: Know how to compile ...   \n2005_08_08_12_59_ubotu_999      [12:59] <ubotu> somebody said paste was please...   \n2005_08_08_01_00_MartenH_1000   [01:00] <MartenH> What does this error mean an...   \n...                                                                           ...   \n2005_08_08_01_23_kaffeend_1245                            [01:23] <kaffeend> heya   \n2005_08_08_System_System_1246   === macgyver2 [~macgyver2@macgyver2.user]  has...   \n2005_08_08_System_System_1247   === boga [~boga@CPE0011095f2041-CM00e06f240dd8...   \n2005_08_08_System_System_1248   === HollowFrank [~HollowFra@ACCB2D21.ipt.aol.c...   \n2005_08_08_System_System_1249   === Will_ [9010@quake.swe.net]  has joined #ub...   \n\n                                file_ind timestamp  minutes      user  \\\n2005_08_08_12_28_aceb747_685         685     12:28      748   aceb747   \n2005_08_08_12_56_LasseL_975          975     12:56      776    LasseL   \n2005_08_08_12_58_harold__990         990     12:58      778   harold_   \n2005_08_08_12_59_ubotu_999           999     12:59      779     ubotu   \n2005_08_08_01_00_MartenH_1000       1000     01:00      780   MartenH   \n...                                  ...       ...      ...       ...   \n2005_08_08_01_23_kaffeend_1245      1245     01:23      803  kaffeend   \n2005_08_08_System_System_1246       1246    System      803    System   \n2005_08_08_System_System_1247       1247    System      803    System   \n2005_08_08_System_System_1248       1248    System      803    System   \n2005_08_08_System_System_1249       1249    System      803    System   \n\n                                user_ind  \\\n2005_08_08_12_28_aceb747_685        9541   \n2005_08_08_12_56_LasseL_975        10687   \n2005_08_08_12_58_harold__990       14790   \n2005_08_08_12_59_ubotu_999         12983   \n2005_08_08_01_00_MartenH_1000      11748   \n...                                  ...   \n2005_08_08_01_23_kaffeend_1245      6525   \n2005_08_08_System_System_1246       3792   \n2005_08_08_System_System_1247       3792   \n2005_08_08_System_System_1248       3792   \n2005_08_08_System_System_1249       3792   \n\n                                                                          message  \\\n2005_08_08_12_28_aceb747_685    is someone was comparing the ubuntu repository...   \n2005_08_08_12_56_LasseL_975     I wonder how ubuntu is going to deal with open...   \n2005_08_08_12_58_harold__990    Anyone: Know how to compile madwifi for a Powe...   \n2005_08_08_12_59_ubotu_999      somebody said paste was please use http://past...   \n2005_08_08_01_00_MartenH_1000   What does this error mean and how can I correc...   \n...                                                                           ...   \n2005_08_08_01_23_kaffeend_1245                                               heya   \n2005_08_08_System_System_1246                                                 NaN   \n2005_08_08_System_System_1247                                                 NaN   \n2005_08_08_System_System_1248                                                 NaN   \n2005_08_08_System_System_1249                                                 NaN   \n\n                                mentions        date  parent   child  \\\n2005_08_08_12_28_aceb747_685          -1  2005-08-08   685.0   685.0   \n2005_08_08_12_56_LasseL_975           -1  2005-08-08   975.0   975.0   \n2005_08_08_12_58_harold__990          -1  2005-08-08   990.0   990.0   \n2005_08_08_12_59_ubotu_999            -1  2005-08-08   999.0   999.0   \n2005_08_08_01_00_MartenH_1000         -1  2005-08-08  1000.0  1000.0   \n...                                  ...         ...     ...     ...   \n2005_08_08_01_23_kaffeend_1245        -1  2005-08-08  1245.0  1245.0   \n2005_08_08_System_System_1246         -1  2005-08-08  1246.0  1246.0   \n2005_08_08_System_System_1247         -1  2005-08-08  1247.0  1247.0   \n2005_08_08_System_System_1248         -1  2005-08-08  1248.0  1248.0   \n2005_08_08_System_System_1249         -1  2005-08-08  1249.0  1249.0   \n\n                                file_ind_parent  \\\n2005_08_08_12_28_aceb747_685              685.0   \n2005_08_08_12_56_LasseL_975               975.0   \n2005_08_08_12_58_harold__990              990.0   \n2005_08_08_12_59_ubotu_999                999.0   \n2005_08_08_01_00_MartenH_1000            1000.0   \n...                                         ...   \n2005_08_08_01_23_kaffeend_1245           1245.0   \n2005_08_08_System_System_1246            1246.0   \n2005_08_08_System_System_1247            1247.0   \n2005_08_08_System_System_1248            1248.0   \n2005_08_08_System_System_1249            1249.0   \n\n                                                   uuid_parent  \\\n2005_08_08_12_28_aceb747_685      2005_08_08_12_28_aceb747_685   \n2005_08_08_12_56_LasseL_975        2005_08_08_12_56_LasseL_975   \n2005_08_08_12_58_harold__990      2005_08_08_12_58_harold__990   \n2005_08_08_12_59_ubotu_999          2005_08_08_12_59_ubotu_999   \n2005_08_08_01_00_MartenH_1000    2005_08_08_01_00_MartenH_1000   \n...                                                        ...   \n2005_08_08_01_23_kaffeend_1245  2005_08_08_01_23_kaffeend_1245   \n2005_08_08_System_System_1246    2005_08_08_System_System_1246   \n2005_08_08_System_System_1247    2005_08_08_System_System_1247   \n2005_08_08_System_System_1248    2005_08_08_System_System_1248   \n2005_08_08_System_System_1249    2005_08_08_System_System_1249   \n\n                                conversation_ind  \n2005_08_08_12_28_aceb747_685                 111  \n2005_08_08_12_56_LasseL_975                  112  \n2005_08_08_12_58_harold__990                 113  \n2005_08_08_12_59_ubotu_999                   114  \n2005_08_08_01_00_MartenH_1000                115  \n...                                          ...  \n2005_08_08_01_23_kaffeend_1245               180  \n2005_08_08_System_System_1246                181  \n2005_08_08_System_System_1247                182  \n2005_08_08_System_System_1248                183  \n2005_08_08_System_System_1249                184  \n\n[266 rows x 14 columns]",
      "text/html": "<div>\n<style scoped>\n    .dataframe tbody tr th:only-of-type {\n        vertical-align: middle;\n    }\n\n    .dataframe tbody tr th {\n        vertical-align: top;\n    }\n\n    .dataframe thead th {\n        text-align: right;\n    }\n</style>\n<table border=\"1\" class=\"dataframe\">\n  <thead>\n    <tr style=\"text-align: right;\">\n      <th></th>\n      <th>raw</th>\n      <th>file_ind</th>\n      <th>timestamp</th>\n      <th>minutes</th>\n      <th>user</th>\n      <th>user_ind</th>\n      <th>message</th>\n      <th>mentions</th>\n      <th>date</th>\n      <th>parent</th>\n      <th>child</th>\n      <th>file_ind_parent</th>\n      <th>uuid_parent</th>\n      <th>conversation_ind</th>\n    </tr>\n  </thead>\n  <tbody>\n    <tr>\n      <th>2005_08_08_12_28_aceb747_685</th>\n      <td>[12:28] &lt;aceb747&gt; is someone was comparing the...</td>\n      <td>685</td>\n      <td>12:28</td>\n      <td>748</td>\n      <td>aceb747</td>\n      <td>9541</td>\n      <td>is someone was comparing the ubuntu repository...</td>\n      <td>-1</td>\n      <td>2005-08-08</td>\n      <td>685.0</td>\n      <td>685.0</td>\n      <td>685.0</td>\n      <td>2005_08_08_12_28_aceb747_685</td>\n      <td>111</td>\n    </tr>\n    <tr>\n      <th>2005_08_08_12_56_LasseL_975</th>\n      <td>[12:56] &lt;LasseL&gt; I wonder how ubuntu is going ...</td>\n      <td>975</td>\n      <td>12:56</td>\n      <td>776</td>\n      <td>LasseL</td>\n      <td>10687</td>\n      <td>I wonder how ubuntu is going to deal with open...</td>\n      <td>-1</td>\n      <td>2005-08-08</td>\n      <td>975.0</td>\n      <td>975.0</td>\n      <td>975.0</td>\n      <td>2005_08_08_12_56_LasseL_975</td>\n      <td>112</td>\n    </tr>\n    <tr>\n      <th>2005_08_08_12_58_harold__990</th>\n      <td>[12:58] &lt;harold_&gt; Anyone: Know how to compile ...</td>\n      <td>990</td>\n      <td>12:58</td>\n      <td>778</td>\n      <td>harold_</td>\n      <td>14790</td>\n      <td>Anyone: Know how to compile madwifi for a Powe...</td>\n      <td>-1</td>\n      <td>2005-08-08</td>\n      <td>990.0</td>\n      <td>990.0</td>\n      <td>990.0</td>\n      <td>2005_08_08_12_58_harold__990</td>\n      <td>113</td>\n    </tr>\n    <tr>\n      <th>2005_08_08_12_59_ubotu_999</th>\n      <td>[12:59] &lt;ubotu&gt; somebody said paste was please...</td>\n      <td>999</td>\n      <td>12:59</td>\n      <td>779</td>\n      <td>ubotu</td>\n      <td>12983</td>\n      <td>somebody said paste was please use http://past...</td>\n      <td>-1</td>\n      <td>2005-08-08</td>\n      <td>999.0</td>\n      <td>999.0</td>\n      <td>999.0</td>\n      <td>2005_08_08_12_59_ubotu_999</td>\n      <td>114</td>\n    </tr>\n    <tr>\n      <th>2005_08_08_01_00_MartenH_1000</th>\n      <td>[01:00] &lt;MartenH&gt; What does this error mean an...</td>\n      <td>1000</td>\n      <td>01:00</td>\n      <td>780</td>\n      <td>MartenH</td>\n      <td>11748</td>\n      <td>What does this error mean and how can I correc...</td>\n      <td>-1</td>\n      <td>2005-08-08</td>\n      <td>1000.0</td>\n      <td>1000.0</td>\n      <td>1000.0</td>\n      <td>2005_08_08_01_00_MartenH_1000</td>\n      <td>115</td>\n    </tr>\n    <tr>\n      <th>...</th>\n      <td>...</td>\n      <td>...</td>\n      <td>...</td>\n      <td>...</td>\n      <td>...</td>\n      <td>...</td>\n      <td>...</td>\n      <td>...</td>\n      <td>...</td>\n      <td>...</td>\n      <td>...</td>\n      <td>...</td>\n      <td>...</td>\n      <td>...</td>\n    </tr>\n    <tr>\n      <th>2005_08_08_01_23_kaffeend_1245</th>\n      <td>[01:23] &lt;kaffeend&gt; heya</td>\n      <td>1245</td>\n      <td>01:23</td>\n      <td>803</td>\n      <td>kaffeend</td>\n      <td>6525</td>\n      <td>heya</td>\n      <td>-1</td>\n      <td>2005-08-08</td>\n      <td>1245.0</td>\n      <td>1245.0</td>\n      <td>1245.0</td>\n      <td>2005_08_08_01_23_kaffeend_1245</td>\n      <td>180</td>\n    </tr>\n    <tr>\n      <th>2005_08_08_System_System_1246</th>\n      <td>=== macgyver2 [~macgyver2@macgyver2.user]  has...</td>\n      <td>1246</td>\n      <td>System</td>\n      <td>803</td>\n      <td>System</td>\n      <td>3792</td>\n      <td>NaN</td>\n      <td>-1</td>\n      <td>2005-08-08</td>\n      <td>1246.0</td>\n      <td>1246.0</td>\n      <td>1246.0</td>\n      <td>2005_08_08_System_System_1246</td>\n      <td>181</td>\n    </tr>\n    <tr>\n      <th>2005_08_08_System_System_1247</th>\n      <td>=== boga [~boga@CPE0011095f2041-CM00e06f240dd8...</td>\n      <td>1247</td>\n      <td>System</td>\n      <td>803</td>\n      <td>System</td>\n      <td>3792</td>\n      <td>NaN</td>\n      <td>-1</td>\n      <td>2005-08-08</td>\n      <td>1247.0</td>\n      <td>1247.0</td>\n      <td>1247.0</td>\n      <td>2005_08_08_System_System_1247</td>\n      <td>182</td>\n    </tr>\n    <tr>\n      <th>2005_08_08_System_System_1248</th>\n      <td>=== HollowFrank [~HollowFra@ACCB2D21.ipt.aol.c...</td>\n      <td>1248</td>\n      <td>System</td>\n      <td>803</td>\n      <td>System</td>\n      <td>3792</td>\n      <td>NaN</td>\n      <td>-1</td>\n      <td>2005-08-08</td>\n      <td>1248.0</td>\n      <td>1248.0</td>\n      <td>1248.0</td>\n      <td>2005_08_08_System_System_1248</td>\n      <td>183</td>\n    </tr>\n    <tr>\n      <th>2005_08_08_System_System_1249</th>\n      <td>=== Will_ [9010@quake.swe.net]  has joined #ub...</td>\n      <td>1249</td>\n      <td>System</td>\n      <td>803</td>\n      <td>System</td>\n      <td>3792</td>\n      <td>NaN</td>\n      <td>-1</td>\n      <td>2005-08-08</td>\n      <td>1249.0</td>\n      <td>1249.0</td>\n      <td>1249.0</td>\n      <td>2005_08_08_System_System_1249</td>\n      <td>184</td>\n    </tr>\n  </tbody>\n</table>\n<p>266 rows × 14 columns</p>\n</div>"
     },
     "execution_count": 7,
     "metadata": {},
     "output_type": "execute_result"
    }
   ],
   "source": [
    "dev_convo_df[dev_convo_df['date'] == '2005-08-08'].sort_values('file_ind')"
   ],
   "metadata": {
    "collapsed": false
   }
  },
  {
   "cell_type": "code",
   "execution_count": 8,
   "outputs": [
    {
     "data": {
      "text/plain": "                                                 raw  file_ind timestamp  \\\n0    [12:18] <|trey|> usual, quite stable though  :)         0     12:18   \n1  [12:18] <tweaked> HrdwrBoB: ok how many partit...         1     12:18   \n2  [12:18] <Matt|> |trey|, top in the list --> ub...         2     12:18   \n3               [12:18] <usual> a few libs and media         3     12:18   \n4                  [12:18] <usual> maybe some others         4     12:18   \n\n   minutes     user  user_ind  \\\n0      738   |trey|     10946   \n1      738  tweaked      1375   \n2      738    Matt|      6784   \n3      738    usual      7183   \n4      738    usual      7183   \n\n                                           message  mentions        date  \\\n0                   usual, quite stable though  :)      7183  2004-11-15   \n1  HrdwrBoB: ok how many partitions should i make?      6814  2004-11-15   \n2                                   ubuntu servers        -1  2004-11-15   \n3                             a few libs and media        -1  2004-11-15   \n4                                maybe some others        -1  2004-11-15   \n\n                         uuid  parent  child  file_ind_parent uuid_parent  \n0   2004_11_15_12_18_|trey|_0     NaN    NaN              NaN         NaN  \n1  2004_11_15_12_18_tweaked_1     NaN    NaN              NaN         NaN  \n2    2004_11_15_12_18_Matt|_2     NaN    NaN              NaN         NaN  \n3    2004_11_15_12_18_usual_3     NaN    NaN              NaN         NaN  \n4    2004_11_15_12_18_usual_4     NaN    NaN              NaN         NaN  ",
      "text/html": "<div>\n<style scoped>\n    .dataframe tbody tr th:only-of-type {\n        vertical-align: middle;\n    }\n\n    .dataframe tbody tr th {\n        vertical-align: top;\n    }\n\n    .dataframe thead th {\n        text-align: right;\n    }\n</style>\n<table border=\"1\" class=\"dataframe\">\n  <thead>\n    <tr style=\"text-align: right;\">\n      <th></th>\n      <th>raw</th>\n      <th>file_ind</th>\n      <th>timestamp</th>\n      <th>minutes</th>\n      <th>user</th>\n      <th>user_ind</th>\n      <th>message</th>\n      <th>mentions</th>\n      <th>date</th>\n      <th>uuid</th>\n      <th>parent</th>\n      <th>child</th>\n      <th>file_ind_parent</th>\n      <th>uuid_parent</th>\n    </tr>\n  </thead>\n  <tbody>\n    <tr>\n      <th>0</th>\n      <td>[12:18] &lt;|trey|&gt; usual, quite stable though  :)</td>\n      <td>0</td>\n      <td>12:18</td>\n      <td>738</td>\n      <td>|trey|</td>\n      <td>10946</td>\n      <td>usual, quite stable though  :)</td>\n      <td>7183</td>\n      <td>2004-11-15</td>\n      <td>2004_11_15_12_18_|trey|_0</td>\n      <td>NaN</td>\n      <td>NaN</td>\n      <td>NaN</td>\n      <td>NaN</td>\n    </tr>\n    <tr>\n      <th>1</th>\n      <td>[12:18] &lt;tweaked&gt; HrdwrBoB: ok how many partit...</td>\n      <td>1</td>\n      <td>12:18</td>\n      <td>738</td>\n      <td>tweaked</td>\n      <td>1375</td>\n      <td>HrdwrBoB: ok how many partitions should i make?</td>\n      <td>6814</td>\n      <td>2004-11-15</td>\n      <td>2004_11_15_12_18_tweaked_1</td>\n      <td>NaN</td>\n      <td>NaN</td>\n      <td>NaN</td>\n      <td>NaN</td>\n    </tr>\n    <tr>\n      <th>2</th>\n      <td>[12:18] &lt;Matt|&gt; |trey|, top in the list --&gt; ub...</td>\n      <td>2</td>\n      <td>12:18</td>\n      <td>738</td>\n      <td>Matt|</td>\n      <td>6784</td>\n      <td>ubuntu servers</td>\n      <td>-1</td>\n      <td>2004-11-15</td>\n      <td>2004_11_15_12_18_Matt|_2</td>\n      <td>NaN</td>\n      <td>NaN</td>\n      <td>NaN</td>\n      <td>NaN</td>\n    </tr>\n    <tr>\n      <th>3</th>\n      <td>[12:18] &lt;usual&gt; a few libs and media</td>\n      <td>3</td>\n      <td>12:18</td>\n      <td>738</td>\n      <td>usual</td>\n      <td>7183</td>\n      <td>a few libs and media</td>\n      <td>-1</td>\n      <td>2004-11-15</td>\n      <td>2004_11_15_12_18_usual_3</td>\n      <td>NaN</td>\n      <td>NaN</td>\n      <td>NaN</td>\n      <td>NaN</td>\n    </tr>\n    <tr>\n      <th>4</th>\n      <td>[12:18] &lt;usual&gt; maybe some others</td>\n      <td>4</td>\n      <td>12:18</td>\n      <td>738</td>\n      <td>usual</td>\n      <td>7183</td>\n      <td>maybe some others</td>\n      <td>-1</td>\n      <td>2004-11-15</td>\n      <td>2004_11_15_12_18_usual_4</td>\n      <td>NaN</td>\n      <td>NaN</td>\n      <td>NaN</td>\n      <td>NaN</td>\n    </tr>\n  </tbody>\n</table>\n</div>"
     },
     "execution_count": 8,
     "metadata": {},
     "output_type": "execute_result"
    }
   ],
   "source": [
    "dev_df.head()"
   ],
   "metadata": {
    "collapsed": false
   }
  },
  {
   "cell_type": "code",
   "execution_count": 9,
   "outputs": [],
   "source": [
    "labeled_df = dev_df[dev_df['parent'].notnull()]"
   ],
   "metadata": {
    "collapsed": false
   }
  },
  {
   "cell_type": "code",
   "execution_count": 10,
   "outputs": [
    {
     "data": {
      "text/plain": "                                                    raw  file_ind timestamp  \\\n685   [01:35] <djtansey> i have a problem re: k3b an...       685     01:35   \n1000                  [03:01] <LinuxJones> night all :)      1000     03:01   \n1001  === yohannes [~yohannes@adsl-67-112-218-21.dsl...      1001     03:10   \n1002  [03:10] <yohannes> can anyone recommend any ap...      1002     03:10   \n1003       [03:10] <Hikaru79> yohannes, why not WinRAR?      1003     03:10   \n\n      minutes        user  user_ind  \\\n685       815    djtansey       948   \n1000      901  LinuxJones      1839   \n1001      910      System      3792   \n1002      910    yohannes     14260   \n1003      910    Hikaru79      9550   \n\n                                                message  mentions        date  \\\n685   i have a problem re: k3b and am looking for so...        -1  2004-11-15   \n1000                                       night all :)        -1  2004-11-15   \n1001                                                NaN        -1  2004-11-15   \n1002  can anyone recommend any app to create/open *....        -1  2004-11-15   \n1003                          yohannes, why not WinRAR?     14260  2004-11-15   \n\n                                  uuid  parent   child  file_ind_parent  \\\n685      2004_11_15_01_35_djtansey_685   685.0   685.0            685.0   \n1000  2004_11_15_03_01_LinuxJones_1000  1000.0  1000.0           1000.0   \n1001      2004_11_15_03_10_System_1001  1001.0  1001.0           1001.0   \n1002    2004_11_15_03_10_yohannes_1002  1002.0  1002.0           1002.0   \n1003    2004_11_15_03_10_Hikaru79_1003  1002.0  1003.0           1002.0   \n\n                           uuid_parent  \n685      2004_11_15_01_35_djtansey_685  \n1000  2004_11_15_03_01_LinuxJones_1000  \n1001      2004_11_15_03_10_System_1001  \n1002    2004_11_15_03_10_yohannes_1002  \n1003    2004_11_15_03_10_yohannes_1002  ",
      "text/html": "<div>\n<style scoped>\n    .dataframe tbody tr th:only-of-type {\n        vertical-align: middle;\n    }\n\n    .dataframe tbody tr th {\n        vertical-align: top;\n    }\n\n    .dataframe thead th {\n        text-align: right;\n    }\n</style>\n<table border=\"1\" class=\"dataframe\">\n  <thead>\n    <tr style=\"text-align: right;\">\n      <th></th>\n      <th>raw</th>\n      <th>file_ind</th>\n      <th>timestamp</th>\n      <th>minutes</th>\n      <th>user</th>\n      <th>user_ind</th>\n      <th>message</th>\n      <th>mentions</th>\n      <th>date</th>\n      <th>uuid</th>\n      <th>parent</th>\n      <th>child</th>\n      <th>file_ind_parent</th>\n      <th>uuid_parent</th>\n    </tr>\n  </thead>\n  <tbody>\n    <tr>\n      <th>685</th>\n      <td>[01:35] &lt;djtansey&gt; i have a problem re: k3b an...</td>\n      <td>685</td>\n      <td>01:35</td>\n      <td>815</td>\n      <td>djtansey</td>\n      <td>948</td>\n      <td>i have a problem re: k3b and am looking for so...</td>\n      <td>-1</td>\n      <td>2004-11-15</td>\n      <td>2004_11_15_01_35_djtansey_685</td>\n      <td>685.0</td>\n      <td>685.0</td>\n      <td>685.0</td>\n      <td>2004_11_15_01_35_djtansey_685</td>\n    </tr>\n    <tr>\n      <th>1000</th>\n      <td>[03:01] &lt;LinuxJones&gt; night all :)</td>\n      <td>1000</td>\n      <td>03:01</td>\n      <td>901</td>\n      <td>LinuxJones</td>\n      <td>1839</td>\n      <td>night all :)</td>\n      <td>-1</td>\n      <td>2004-11-15</td>\n      <td>2004_11_15_03_01_LinuxJones_1000</td>\n      <td>1000.0</td>\n      <td>1000.0</td>\n      <td>1000.0</td>\n      <td>2004_11_15_03_01_LinuxJones_1000</td>\n    </tr>\n    <tr>\n      <th>1001</th>\n      <td>=== yohannes [~yohannes@adsl-67-112-218-21.dsl...</td>\n      <td>1001</td>\n      <td>03:10</td>\n      <td>910</td>\n      <td>System</td>\n      <td>3792</td>\n      <td>NaN</td>\n      <td>-1</td>\n      <td>2004-11-15</td>\n      <td>2004_11_15_03_10_System_1001</td>\n      <td>1001.0</td>\n      <td>1001.0</td>\n      <td>1001.0</td>\n      <td>2004_11_15_03_10_System_1001</td>\n    </tr>\n    <tr>\n      <th>1002</th>\n      <td>[03:10] &lt;yohannes&gt; can anyone recommend any ap...</td>\n      <td>1002</td>\n      <td>03:10</td>\n      <td>910</td>\n      <td>yohannes</td>\n      <td>14260</td>\n      <td>can anyone recommend any app to create/open *....</td>\n      <td>-1</td>\n      <td>2004-11-15</td>\n      <td>2004_11_15_03_10_yohannes_1002</td>\n      <td>1002.0</td>\n      <td>1002.0</td>\n      <td>1002.0</td>\n      <td>2004_11_15_03_10_yohannes_1002</td>\n    </tr>\n    <tr>\n      <th>1003</th>\n      <td>[03:10] &lt;Hikaru79&gt; yohannes, why not WinRAR?</td>\n      <td>1003</td>\n      <td>03:10</td>\n      <td>910</td>\n      <td>Hikaru79</td>\n      <td>9550</td>\n      <td>yohannes, why not WinRAR?</td>\n      <td>14260</td>\n      <td>2004-11-15</td>\n      <td>2004_11_15_03_10_Hikaru79_1003</td>\n      <td>1002.0</td>\n      <td>1003.0</td>\n      <td>1002.0</td>\n      <td>2004_11_15_03_10_yohannes_1002</td>\n    </tr>\n  </tbody>\n</table>\n</div>"
     },
     "execution_count": 10,
     "metadata": {},
     "output_type": "execute_result"
    }
   ],
   "source": [
    "labeled_df.head()"
   ],
   "metadata": {
    "collapsed": false
   }
  },
  {
   "cell_type": "code",
   "execution_count": 11,
   "outputs": [
    {
     "data": {
      "text/plain": "(2642, 14)"
     },
     "execution_count": 11,
     "metadata": {},
     "output_type": "execute_result"
    }
   ],
   "source": [
    "dev_convo_df.shape"
   ],
   "metadata": {
    "collapsed": false
   }
  },
  {
   "cell_type": "code",
   "execution_count": 12,
   "outputs": [],
   "source": [
    "MESSAGE_SIZE = 1000\n",
    "message_list = []\n",
    "for ind, row in dev_convo_df.iloc[0:MESSAGE_SIZE].iterrows():\n",
    "    message = Message(timestamp=row['minutes'],\n",
    "                      user_id=row['user_ind'],\n",
    "                      message=row['message'],\n",
    "                      file_ind=row['file_ind'],\n",
    "                      mention=row['mentions'],\n",
    "                      uuid=ind,\n",
    "                      uuid_parent=None,\n",
    "                      conversation_ind=row['conversation_ind'])\n",
    "    message_list.append(message)"
   ],
   "metadata": {
    "collapsed": false
   }
  },
  {
   "cell_type": "code",
   "execution_count": 13,
   "outputs": [
    {
     "data": {
      "text/plain": "'2004_11_15_01_35_djtansey_685'"
     },
     "execution_count": 13,
     "metadata": {},
     "output_type": "execute_result"
    }
   ],
   "source": [
    "message_list[0].uuid"
   ],
   "metadata": {
    "collapsed": false
   }
  },
  {
   "cell_type": "code",
   "execution_count": 19,
   "outputs": [
    {
     "data": {
      "text/plain": "{'message_cur': '2004_11_15_03_41_djtansey_1087',\n 'message_prev': '2004_11_15_01_35_djtansey_685',\n 'same_user': 1,\n 'time_distance': 126,\n 'label': 1,\n 'mentions_user': 0}"
     },
     "execution_count": 19,
     "metadata": {},
     "output_type": "execute_result"
    }
   ],
   "source": [
    "MessageProcessor.process_same_convo(message_list[1], message_list[0])"
   ],
   "metadata": {
    "collapsed": false
   }
  },
  {
   "cell_type": "code",
   "execution_count": 19,
   "outputs": [],
   "source": [],
   "metadata": {
    "collapsed": false
   }
  },
  {
   "cell_type": "code",
   "execution_count": 20,
   "outputs": [],
   "source": [
    "class DatasetBuilder:\n",
    "    def __init__(self):\n",
    "        self.training_data = pd.DataFrame()\n",
    "        self.labels = None\n",
    "        self.size = len(self.training_data)\n",
    "\n",
    "    def load_pair(self, data):\n",
    "        \"\"\"\n",
    "        load single Message object\n",
    "        :param message:\n",
    "        :return: None\n",
    "        \"\"\"\n",
    "        self.training_data = self.training_data.append(data, ignore_index=True)\n",
    "\n",
    "    def load_messages(self, message_list, window=0):\n",
    "        \"\"\"\n",
    "        Load messages and create dataset on conversation format.\n",
    "        :param message_list: list of Message Objects\n",
    "        :return: None\n",
    "        \"\"\"\n",
    "\n",
    "        if window:\n",
    "            pair_list = self.pair_generator_window(message_list, window)\n",
    "        else:\n",
    "            pair_list = self.pair_generator(message_list)\n",
    "\n",
    "        for pair in pair_list:\n",
    "            prev_message, cur_message = pair\n",
    "            data = MessageProcessor.process_same_convo(cur_message, prev_message)\n",
    "            self.load_pair(data)\n",
    "\n",
    "    @staticmethod\n",
    "    def pair_generator(message_list):\n",
    "        \"\"\"\n",
    "        Takes list of Message objects and returns a combination of all possible pairs\n",
    "        :param message_list:\n",
    "        :return: list of length-2 tuples\n",
    "        \"\"\"\n",
    "        pair_list = []\n",
    "        for idx, message_1 in enumerate(message_list):\n",
    "            for message_2 in message_list[idx +1:]:\n",
    "                if message_1 < message_2:\n",
    "                    pair_list.append((message_1, message_2))\n",
    "                else:\n",
    "                    pair_list.append((message_2, message_1))\n",
    "\n",
    "        return pair_list\n",
    "\n",
    "    @staticmethod\n",
    "    def pair_generator_window(message_list, window):\n",
    "        \"\"\"\n",
    "        Takes list of Message objects and returns a combination of all possible pairs\n",
    "        :param message_list:\n",
    "        :return: list of length-2 tuples\n",
    "        \"\"\"\n",
    "        pair_list = []\n",
    "        for idx, message_1 in enumerate(message_list):\n",
    "            for message_2 in message_list[idx+1:]:\n",
    "                if message_2.timestamp - message_1.timestamp > window:\n",
    "                    break\n",
    "                if message_1 < message_2:\n",
    "                    pair_list.append((message_1, message_2))\n",
    "                else:\n",
    "                    pair_list.append((message_2, message_1))\n",
    "        return pair_list\n",
    "\n",
    "    def export_data(self, path):\n",
    "        self.training_data.to_csv(path)"
   ],
   "metadata": {
    "collapsed": false
   }
  },
  {
   "cell_type": "code",
   "execution_count": 24,
   "outputs": [],
   "source": [
    "class DatasetBuilderReply(DatasetBuilder):\n",
    "        def __init__(self):\n",
    "            super().__init__()\n",
    "\n",
    "        def load_messages(self, message_list, window=0):\n",
    "            \"\"\"\n",
    "            Load messages and create dataset on message-reply format\n",
    "            :param message_list: list of Message Objects\n",
    "            :return: None\n",
    "            \"\"\"\n",
    "\n",
    "            if window:\n",
    "                pair_list = self.pair_generator_window(message_list, window)\n",
    "            else:\n",
    "                pair_list = self.pair_generator(message_list)\n",
    "\n",
    "            for pair in pair_list:\n",
    "                prev_message, cur_message = pair\n",
    "                data = MessageProcessor.process_reply_pair(cur_message, prev_message)\n",
    "                self.load_pair(data)"
   ],
   "metadata": {
    "collapsed": false
   }
  },
  {
   "cell_type": "code",
   "execution_count": 25,
   "outputs": [],
   "source": [
    "MESSAGE_SIZE = 1000\n",
    "message_list = []\n",
    "day_list = list(set(dev_convo_df['date'].values))"
   ],
   "metadata": {
    "collapsed": false
   }
  },
  {
   "cell_type": "code",
   "execution_count": 42,
   "outputs": [],
   "source": [
    "# for ind, row in dev_convo_df.iloc[0:MESSAGE_SIZE].iterrows():\n",
    "#     message = Message(timestamp=row['minutes'],\n",
    "#                       user_id=row['user_ind'],\n",
    "#                       message=row['message'],\n",
    "#                       file_ind=row['file_ind'],\n",
    "#                       uuid=ind,\n",
    "#                       uuid_parent=None,\n",
    "#                       conversation_ind=row['conversation_ind'])\n",
    "#     message_list.append(message)\n",
    "\n",
    "dataset_builder = DatasetBuilderReply()\n",
    "\n",
    "for day in day_list:\n",
    "    message_list = []\n",
    "\n",
    "    day_df = dev_convo_df[dev_convo_df['date'] == day].sort_values('file_ind')\n",
    "    for ind, row in day_df.iterrows():\n",
    "        message = Message(timestamp=row['minutes'],\n",
    "                          user_id=row['user_ind'],\n",
    "                          message=row['message'],\n",
    "                          file_ind=row['file_ind'],\n",
    "                          mention=row['mentions'],\n",
    "                          uuid=ind,\n",
    "                          uuid_parent=row['uuid_parent'],\n",
    "                          conversation_ind=row['conversation_ind'])\n",
    "        message_list.append(message)\n",
    "\n",
    "    dataset_builder.load_messages(message_list, window=5)"
   ],
   "metadata": {
    "collapsed": false
   }
  },
  {
   "cell_type": "code",
   "execution_count": 43,
   "outputs": [
    {
     "data": {
      "text/plain": "                                                                               raw  \\\n2005_06_27_11_47_s00d_830        [11:47] <s00d> Hi. I'm having a little trouble...   \n2005_06_27_11_53_lukus001_909    [11:53] <lukus001> How can i install w32codec ...   \n2005_06_27_11_55_bob2_936        [11:55] <bob2> lukus001: wiki.ubuntu.com/Restr...   \n2005_06_27_11_59_bob2_999                            [11:59] <bob2> microhaxo: ok!   \n2005_06_27_12_00_bob2_1000       [12:00] <bob2> oga: please keep things in the ...   \n...                                                                            ...   \n2005_06_27_12_28_Dalkus_1245     [12:28] <Dalkus> Vassilis, dont ask to ask, ju...   \n2005_06_27_12_28_microhaxo_1246    [12:28] <microhaxo> but WHAT Games can i play?!   \n2005_06_27_12_28_Vassilis_1247   [12:28] <Vassilis> is there a way to pm just n...   \n2005_06_27_12_28_microhaxo_1248  [12:28] <microhaxo> who wants to play tux race...   \n2005_06_27_12_28_microhaxo_1249                            [12:28] <microhaxo> yea   \n\n                                 file_ind timestamp  minutes       user  \\\n2005_06_27_11_47_s00d_830             830     11:47     1427       s00d   \n2005_06_27_11_53_lukus001_909         909     11:53     1433   lukus001   \n2005_06_27_11_55_bob2_936             936     11:55     1435       bob2   \n2005_06_27_11_59_bob2_999             999     11:59     1439       bob2   \n2005_06_27_12_00_bob2_1000           1000     12:00     1440       bob2   \n...                                   ...       ...      ...        ...   \n2005_06_27_12_28_Dalkus_1245         1245     12:28     1468     Dalkus   \n2005_06_27_12_28_microhaxo_1246      1246     12:28     1468  microhaxo   \n2005_06_27_12_28_Vassilis_1247       1247     12:28     1468   Vassilis   \n2005_06_27_12_28_microhaxo_1248      1248     12:28     1468  microhaxo   \n2005_06_27_12_28_microhaxo_1249      1249     12:28     1468  microhaxo   \n\n                                 user_ind  \\\n2005_06_27_11_47_s00d_830            2173   \n2005_06_27_11_53_lukus001_909        7817   \n2005_06_27_11_55_bob2_936             388   \n2005_06_27_11_59_bob2_999             388   \n2005_06_27_12_00_bob2_1000            388   \n...                                   ...   \n2005_06_27_12_28_Dalkus_1245        15170   \n2005_06_27_12_28_microhaxo_1246      3776   \n2005_06_27_12_28_Vassilis_1247       3545   \n2005_06_27_12_28_microhaxo_1248      3776   \n2005_06_27_12_28_microhaxo_1249      3776   \n\n                                                                           message  \\\n2005_06_27_11_47_s00d_830        Hi. I'm having a little trouble installing IPT...   \n2005_06_27_11_53_lukus001_909                 How can i install w32codec on chroot   \n2005_06_27_11_55_bob2_936              lukus001: wiki.ubuntu.com/RestrictedFormats   \n2005_06_27_11_59_bob2_999                                           microhaxo: ok!   \n2005_06_27_12_00_bob2_1000                  oga: please keep things in the channel   \n...                                                                            ...   \n2005_06_27_12_28_Dalkus_1245                Vassilis, dont ask to ask, just ask :)   \n2005_06_27_12_28_microhaxo_1246                        but WHAT Games can i play?!   \n2005_06_27_12_28_Vassilis_1247      is there a way to pm just not fill the window?   \n2005_06_27_12_28_microhaxo_1248  who wants to play tux racer, integrated graphi...   \n2005_06_27_12_28_microhaxo_1249                                                yea   \n\n                                 mentions        date  parent   child  \\\n2005_06_27_11_47_s00d_830              -1  2005-06-27   830.0   830.0   \n2005_06_27_11_53_lukus001_909          -1  2005-06-27   909.0   909.0   \n2005_06_27_11_55_bob2_936            7817  2005-06-27   936.0   936.0   \n2005_06_27_11_59_bob2_999            3776  2005-06-27   999.0   999.0   \n2005_06_27_12_00_bob2_1000          10055  2005-06-27  1000.0  1000.0   \n...                                   ...         ...     ...     ...   \n2005_06_27_12_28_Dalkus_1245         3545  2005-06-27  1239.0  1245.0   \n2005_06_27_12_28_microhaxo_1246        -1  2005-06-27  1244.0  1246.0   \n2005_06_27_12_28_Vassilis_1247         -1  2005-06-27  1245.0  1247.0   \n2005_06_27_12_28_microhaxo_1248        -1  2005-06-27  1246.0  1248.0   \n2005_06_27_12_28_microhaxo_1249        -1  2005-06-27  1247.0  1249.0   \n\n                                 file_ind_parent  \\\n2005_06_27_11_47_s00d_830                  830.0   \n2005_06_27_11_53_lukus001_909              909.0   \n2005_06_27_11_55_bob2_936                  936.0   \n2005_06_27_11_59_bob2_999                  999.0   \n2005_06_27_12_00_bob2_1000                1000.0   \n...                                          ...   \n2005_06_27_12_28_Dalkus_1245              1239.0   \n2005_06_27_12_28_microhaxo_1246           1244.0   \n2005_06_27_12_28_Vassilis_1247            1245.0   \n2005_06_27_12_28_microhaxo_1248           1246.0   \n2005_06_27_12_28_microhaxo_1249           1247.0   \n\n                                                     uuid_parent  \\\n2005_06_27_11_47_s00d_830              2005_06_27_11_47_s00d_830   \n2005_06_27_11_53_lukus001_909      2005_06_27_11_53_lukus001_909   \n2005_06_27_11_55_bob2_936              2005_06_27_11_55_bob2_936   \n2005_06_27_11_59_bob2_999              2005_06_27_11_59_bob2_999   \n2005_06_27_12_00_bob2_1000            2005_06_27_12_00_bob2_1000   \n...                                                          ...   \n2005_06_27_12_28_Dalkus_1245      2005_06_27_12_27_Vassilis_1239   \n2005_06_27_12_28_microhaxo_1246  2005_06_27_12_28_microhaxo_1244   \n2005_06_27_12_28_Vassilis_1247      2005_06_27_12_28_Dalkus_1245   \n2005_06_27_12_28_microhaxo_1248  2005_06_27_12_28_microhaxo_1246   \n2005_06_27_12_28_microhaxo_1249   2005_06_27_12_28_Vassilis_1247   \n\n                                 conversation_ind  \n2005_06_27_11_47_s00d_830                      66  \n2005_06_27_11_53_lukus001_909                  67  \n2005_06_27_11_55_bob2_936                      68  \n2005_06_27_11_59_bob2_999                      69  \n2005_06_27_12_00_bob2_1000                     70  \n...                                           ...  \n2005_06_27_12_28_Dalkus_1245                  110  \n2005_06_27_12_28_microhaxo_1246               109  \n2005_06_27_12_28_Vassilis_1247                110  \n2005_06_27_12_28_microhaxo_1248               109  \n2005_06_27_12_28_microhaxo_1249               110  \n\n[268 rows x 14 columns]",
      "text/html": "<div>\n<style scoped>\n    .dataframe tbody tr th:only-of-type {\n        vertical-align: middle;\n    }\n\n    .dataframe tbody tr th {\n        vertical-align: top;\n    }\n\n    .dataframe thead th {\n        text-align: right;\n    }\n</style>\n<table border=\"1\" class=\"dataframe\">\n  <thead>\n    <tr style=\"text-align: right;\">\n      <th></th>\n      <th>raw</th>\n      <th>file_ind</th>\n      <th>timestamp</th>\n      <th>minutes</th>\n      <th>user</th>\n      <th>user_ind</th>\n      <th>message</th>\n      <th>mentions</th>\n      <th>date</th>\n      <th>parent</th>\n      <th>child</th>\n      <th>file_ind_parent</th>\n      <th>uuid_parent</th>\n      <th>conversation_ind</th>\n    </tr>\n  </thead>\n  <tbody>\n    <tr>\n      <th>2005_06_27_11_47_s00d_830</th>\n      <td>[11:47] &lt;s00d&gt; Hi. I'm having a little trouble...</td>\n      <td>830</td>\n      <td>11:47</td>\n      <td>1427</td>\n      <td>s00d</td>\n      <td>2173</td>\n      <td>Hi. I'm having a little trouble installing IPT...</td>\n      <td>-1</td>\n      <td>2005-06-27</td>\n      <td>830.0</td>\n      <td>830.0</td>\n      <td>830.0</td>\n      <td>2005_06_27_11_47_s00d_830</td>\n      <td>66</td>\n    </tr>\n    <tr>\n      <th>2005_06_27_11_53_lukus001_909</th>\n      <td>[11:53] &lt;lukus001&gt; How can i install w32codec ...</td>\n      <td>909</td>\n      <td>11:53</td>\n      <td>1433</td>\n      <td>lukus001</td>\n      <td>7817</td>\n      <td>How can i install w32codec on chroot</td>\n      <td>-1</td>\n      <td>2005-06-27</td>\n      <td>909.0</td>\n      <td>909.0</td>\n      <td>909.0</td>\n      <td>2005_06_27_11_53_lukus001_909</td>\n      <td>67</td>\n    </tr>\n    <tr>\n      <th>2005_06_27_11_55_bob2_936</th>\n      <td>[11:55] &lt;bob2&gt; lukus001: wiki.ubuntu.com/Restr...</td>\n      <td>936</td>\n      <td>11:55</td>\n      <td>1435</td>\n      <td>bob2</td>\n      <td>388</td>\n      <td>lukus001: wiki.ubuntu.com/RestrictedFormats</td>\n      <td>7817</td>\n      <td>2005-06-27</td>\n      <td>936.0</td>\n      <td>936.0</td>\n      <td>936.0</td>\n      <td>2005_06_27_11_55_bob2_936</td>\n      <td>68</td>\n    </tr>\n    <tr>\n      <th>2005_06_27_11_59_bob2_999</th>\n      <td>[11:59] &lt;bob2&gt; microhaxo: ok!</td>\n      <td>999</td>\n      <td>11:59</td>\n      <td>1439</td>\n      <td>bob2</td>\n      <td>388</td>\n      <td>microhaxo: ok!</td>\n      <td>3776</td>\n      <td>2005-06-27</td>\n      <td>999.0</td>\n      <td>999.0</td>\n      <td>999.0</td>\n      <td>2005_06_27_11_59_bob2_999</td>\n      <td>69</td>\n    </tr>\n    <tr>\n      <th>2005_06_27_12_00_bob2_1000</th>\n      <td>[12:00] &lt;bob2&gt; oga: please keep things in the ...</td>\n      <td>1000</td>\n      <td>12:00</td>\n      <td>1440</td>\n      <td>bob2</td>\n      <td>388</td>\n      <td>oga: please keep things in the channel</td>\n      <td>10055</td>\n      <td>2005-06-27</td>\n      <td>1000.0</td>\n      <td>1000.0</td>\n      <td>1000.0</td>\n      <td>2005_06_27_12_00_bob2_1000</td>\n      <td>70</td>\n    </tr>\n    <tr>\n      <th>...</th>\n      <td>...</td>\n      <td>...</td>\n      <td>...</td>\n      <td>...</td>\n      <td>...</td>\n      <td>...</td>\n      <td>...</td>\n      <td>...</td>\n      <td>...</td>\n      <td>...</td>\n      <td>...</td>\n      <td>...</td>\n      <td>...</td>\n      <td>...</td>\n    </tr>\n    <tr>\n      <th>2005_06_27_12_28_Dalkus_1245</th>\n      <td>[12:28] &lt;Dalkus&gt; Vassilis, dont ask to ask, ju...</td>\n      <td>1245</td>\n      <td>12:28</td>\n      <td>1468</td>\n      <td>Dalkus</td>\n      <td>15170</td>\n      <td>Vassilis, dont ask to ask, just ask :)</td>\n      <td>3545</td>\n      <td>2005-06-27</td>\n      <td>1239.0</td>\n      <td>1245.0</td>\n      <td>1239.0</td>\n      <td>2005_06_27_12_27_Vassilis_1239</td>\n      <td>110</td>\n    </tr>\n    <tr>\n      <th>2005_06_27_12_28_microhaxo_1246</th>\n      <td>[12:28] &lt;microhaxo&gt; but WHAT Games can i play?!</td>\n      <td>1246</td>\n      <td>12:28</td>\n      <td>1468</td>\n      <td>microhaxo</td>\n      <td>3776</td>\n      <td>but WHAT Games can i play?!</td>\n      <td>-1</td>\n      <td>2005-06-27</td>\n      <td>1244.0</td>\n      <td>1246.0</td>\n      <td>1244.0</td>\n      <td>2005_06_27_12_28_microhaxo_1244</td>\n      <td>109</td>\n    </tr>\n    <tr>\n      <th>2005_06_27_12_28_Vassilis_1247</th>\n      <td>[12:28] &lt;Vassilis&gt; is there a way to pm just n...</td>\n      <td>1247</td>\n      <td>12:28</td>\n      <td>1468</td>\n      <td>Vassilis</td>\n      <td>3545</td>\n      <td>is there a way to pm just not fill the window?</td>\n      <td>-1</td>\n      <td>2005-06-27</td>\n      <td>1245.0</td>\n      <td>1247.0</td>\n      <td>1245.0</td>\n      <td>2005_06_27_12_28_Dalkus_1245</td>\n      <td>110</td>\n    </tr>\n    <tr>\n      <th>2005_06_27_12_28_microhaxo_1248</th>\n      <td>[12:28] &lt;microhaxo&gt; who wants to play tux race...</td>\n      <td>1248</td>\n      <td>12:28</td>\n      <td>1468</td>\n      <td>microhaxo</td>\n      <td>3776</td>\n      <td>who wants to play tux racer, integrated graphi...</td>\n      <td>-1</td>\n      <td>2005-06-27</td>\n      <td>1246.0</td>\n      <td>1248.0</td>\n      <td>1246.0</td>\n      <td>2005_06_27_12_28_microhaxo_1246</td>\n      <td>109</td>\n    </tr>\n    <tr>\n      <th>2005_06_27_12_28_microhaxo_1249</th>\n      <td>[12:28] &lt;microhaxo&gt; yea</td>\n      <td>1249</td>\n      <td>12:28</td>\n      <td>1468</td>\n      <td>microhaxo</td>\n      <td>3776</td>\n      <td>yea</td>\n      <td>-1</td>\n      <td>2005-06-27</td>\n      <td>1247.0</td>\n      <td>1249.0</td>\n      <td>1247.0</td>\n      <td>2005_06_27_12_28_Vassilis_1247</td>\n      <td>110</td>\n    </tr>\n  </tbody>\n</table>\n<p>268 rows × 14 columns</p>\n</div>"
     },
     "execution_count": 43,
     "metadata": {},
     "output_type": "execute_result"
    }
   ],
   "source": [
    "day_df"
   ],
   "metadata": {
    "collapsed": false
   }
  },
  {
   "cell_type": "code",
   "execution_count": 44,
   "outputs": [
    {
     "data": {
      "text/plain": "                                                                                   raw  \\\n2011_05_29_18_59_gmachine_24_998     [18:59] <gmachine_24> I want to copy/clone the...   \n2011_05_29_18_59_ActionParsnip_999   [18:59] <ActionParsnip> EvoGamer: i see, so yo...   \n2011_05_29_19_00_Usuario_1000        [19:00] <Usuario> what do I have to type in pa...   \n2011_05_29_19_00_EvoGamer_1001                   [19:00] <EvoGamer> ActionParsnip, yes   \n2011_05_29_19_00_ActionParsnip_1002  [19:00] <ActionParsnip> gmachine_24: if it is ...   \n...                                                                                ...   \n2011_05_29_19_45_sudokill_1245                  [19:45] <sudokill> burn whatever to cd   \n2011_05_29_19_45_System_1246           === purpleGecko is now known as GeeksAreForLife   \n2011_05_29_19_45_toad`_1247                          [19:45] <toad`> I'm wondering tho   \n2011_05_29_19_45_sudokill_1248       [19:45] <sudokill> use the built in iso burner...   \n2011_05_29_19_45_toad`_1249            [19:45] <toad`> I have two partitions dual boot   \n\n                                     file_ind timestamp  minutes  \\\n2011_05_29_18_59_gmachine_24_998          998     18:59     1859   \n2011_05_29_18_59_ActionParsnip_999        999     18:59     1859   \n2011_05_29_19_00_Usuario_1000            1000     19:00     1860   \n2011_05_29_19_00_EvoGamer_1001           1001     19:00     1860   \n2011_05_29_19_00_ActionParsnip_1002      1002     19:00     1860   \n...                                       ...       ...      ...   \n2011_05_29_19_45_sudokill_1245           1245     19:45     1905   \n2011_05_29_19_45_System_1246             1246     19:45     1905   \n2011_05_29_19_45_toad`_1247              1247     19:45     1905   \n2011_05_29_19_45_sudokill_1248           1248     19:45     1905   \n2011_05_29_19_45_toad`_1249              1249     19:45     1905   \n\n                                              user  user_ind  \\\n2011_05_29_18_59_gmachine_24_998       gmachine_24     16665   \n2011_05_29_18_59_ActionParsnip_999   ActionParsnip      4695   \n2011_05_29_19_00_Usuario_1000              Usuario      9590   \n2011_05_29_19_00_EvoGamer_1001            EvoGamer      4389   \n2011_05_29_19_00_ActionParsnip_1002  ActionParsnip      4695   \n...                                            ...       ...   \n2011_05_29_19_45_sudokill_1245            sudokill     15974   \n2011_05_29_19_45_System_1246                System      3792   \n2011_05_29_19_45_toad`_1247                  toad`     16325   \n2011_05_29_19_45_sudokill_1248            sudokill     15974   \n2011_05_29_19_45_toad`_1249                  toad`     16325   \n\n                                                                               message  \\\n2011_05_29_18_59_gmachine_24_998     I want to copy/clone the hard drive where I st...   \n2011_05_29_18_59_ActionParsnip_999   EvoGamer: i see, so you are taking an image wi...   \n2011_05_29_19_00_Usuario_1000        what do I have to type in password if I have n...   \n2011_05_29_19_00_EvoGamer_1001                                      ActionParsnip, yes   \n2011_05_29_19_00_ActionParsnip_1002  gmachine_24: if it is ext based filesystem, yo...   \n...                                                                                ...   \n2011_05_29_19_45_sudokill_1245                                     burn whatever to cd   \n2011_05_29_19_45_System_1246                                                       NaN   \n2011_05_29_19_45_toad`_1247                                          I'm wondering tho   \n2011_05_29_19_45_sudokill_1248       use the built in iso burner, infrarecorder or ...   \n2011_05_29_19_45_toad`_1249                            I have two partitions dual boot   \n\n                                     mentions        date  parent   child  \\\n2011_05_29_18_59_gmachine_24_998           -1  2011-05-29   998.0   998.0   \n2011_05_29_18_59_ActionParsnip_999       4389  2011-05-29   999.0   999.0   \n2011_05_29_19_00_Usuario_1000              -1  2011-05-29  1000.0  1000.0   \n2011_05_29_19_00_EvoGamer_1001           4695  2011-05-29   999.0  1001.0   \n2011_05_29_19_00_ActionParsnip_1002     16665  2011-05-29   998.0  1002.0   \n...                                       ...         ...     ...     ...   \n2011_05_29_19_45_sudokill_1245             -1  2011-05-29  1244.0  1245.0   \n2011_05_29_19_45_System_1246               -1  2011-05-29  1246.0  1246.0   \n2011_05_29_19_45_toad`_1247                -1  2011-05-29  1244.0  1247.0   \n2011_05_29_19_45_sudokill_1248             -1  2011-05-29  1245.0  1248.0   \n2011_05_29_19_45_toad`_1249                -1  2011-05-29  1247.0  1249.0   \n\n                                     file_ind_parent  \\\n2011_05_29_18_59_gmachine_24_998               998.0   \n2011_05_29_18_59_ActionParsnip_999             999.0   \n2011_05_29_19_00_Usuario_1000                 1000.0   \n2011_05_29_19_00_EvoGamer_1001                 999.0   \n2011_05_29_19_00_ActionParsnip_1002            998.0   \n...                                              ...   \n2011_05_29_19_45_sudokill_1245                1244.0   \n2011_05_29_19_45_System_1246                  1246.0   \n2011_05_29_19_45_toad`_1247                   1244.0   \n2011_05_29_19_45_sudokill_1248                1245.0   \n2011_05_29_19_45_toad`_1249                   1247.0   \n\n                                                            uuid_parent  \\\n2011_05_29_18_59_gmachine_24_998       2011_05_29_18_59_gmachine_24_998   \n2011_05_29_18_59_ActionParsnip_999   2011_05_29_18_59_ActionParsnip_999   \n2011_05_29_19_00_Usuario_1000             2011_05_29_19_00_Usuario_1000   \n2011_05_29_19_00_EvoGamer_1001       2011_05_29_18_59_ActionParsnip_999   \n2011_05_29_19_00_ActionParsnip_1002    2011_05_29_18_59_gmachine_24_998   \n...                                                                 ...   \n2011_05_29_19_45_sudokill_1245              2011_05_29_19_45_toad`_1244   \n2011_05_29_19_45_System_1246               2011_05_29_19_45_System_1246   \n2011_05_29_19_45_toad`_1247                 2011_05_29_19_45_toad`_1244   \n2011_05_29_19_45_sudokill_1248           2011_05_29_19_45_sudokill_1245   \n2011_05_29_19_45_toad`_1249                 2011_05_29_19_45_toad`_1247   \n\n                                     conversation_ind  \n2011_05_29_18_59_gmachine_24_998                  372  \n2011_05_29_18_59_ActionParsnip_999                373  \n2011_05_29_19_00_Usuario_1000                     374  \n2011_05_29_19_00_EvoGamer_1001                    373  \n2011_05_29_19_00_ActionParsnip_1002               372  \n...                                               ...  \n2011_05_29_19_45_sudokill_1245                    411  \n2011_05_29_19_45_System_1246                      415  \n2011_05_29_19_45_toad`_1247                       411  \n2011_05_29_19_45_sudokill_1248                    411  \n2011_05_29_19_45_toad`_1249                       411  \n\n[257 rows x 14 columns]",
      "text/html": "<div>\n<style scoped>\n    .dataframe tbody tr th:only-of-type {\n        vertical-align: middle;\n    }\n\n    .dataframe tbody tr th {\n        vertical-align: top;\n    }\n\n    .dataframe thead th {\n        text-align: right;\n    }\n</style>\n<table border=\"1\" class=\"dataframe\">\n  <thead>\n    <tr style=\"text-align: right;\">\n      <th></th>\n      <th>raw</th>\n      <th>file_ind</th>\n      <th>timestamp</th>\n      <th>minutes</th>\n      <th>user</th>\n      <th>user_ind</th>\n      <th>message</th>\n      <th>mentions</th>\n      <th>date</th>\n      <th>parent</th>\n      <th>child</th>\n      <th>file_ind_parent</th>\n      <th>uuid_parent</th>\n      <th>conversation_ind</th>\n    </tr>\n  </thead>\n  <tbody>\n    <tr>\n      <th>2011_05_29_18_59_gmachine_24_998</th>\n      <td>[18:59] &lt;gmachine_24&gt; I want to copy/clone the...</td>\n      <td>998</td>\n      <td>18:59</td>\n      <td>1859</td>\n      <td>gmachine_24</td>\n      <td>16665</td>\n      <td>I want to copy/clone the hard drive where I st...</td>\n      <td>-1</td>\n      <td>2011-05-29</td>\n      <td>998.0</td>\n      <td>998.0</td>\n      <td>998.0</td>\n      <td>2011_05_29_18_59_gmachine_24_998</td>\n      <td>372</td>\n    </tr>\n    <tr>\n      <th>2011_05_29_18_59_ActionParsnip_999</th>\n      <td>[18:59] &lt;ActionParsnip&gt; EvoGamer: i see, so yo...</td>\n      <td>999</td>\n      <td>18:59</td>\n      <td>1859</td>\n      <td>ActionParsnip</td>\n      <td>4695</td>\n      <td>EvoGamer: i see, so you are taking an image wi...</td>\n      <td>4389</td>\n      <td>2011-05-29</td>\n      <td>999.0</td>\n      <td>999.0</td>\n      <td>999.0</td>\n      <td>2011_05_29_18_59_ActionParsnip_999</td>\n      <td>373</td>\n    </tr>\n    <tr>\n      <th>2011_05_29_19_00_Usuario_1000</th>\n      <td>[19:00] &lt;Usuario&gt; what do I have to type in pa...</td>\n      <td>1000</td>\n      <td>19:00</td>\n      <td>1860</td>\n      <td>Usuario</td>\n      <td>9590</td>\n      <td>what do I have to type in password if I have n...</td>\n      <td>-1</td>\n      <td>2011-05-29</td>\n      <td>1000.0</td>\n      <td>1000.0</td>\n      <td>1000.0</td>\n      <td>2011_05_29_19_00_Usuario_1000</td>\n      <td>374</td>\n    </tr>\n    <tr>\n      <th>2011_05_29_19_00_EvoGamer_1001</th>\n      <td>[19:00] &lt;EvoGamer&gt; ActionParsnip, yes</td>\n      <td>1001</td>\n      <td>19:00</td>\n      <td>1860</td>\n      <td>EvoGamer</td>\n      <td>4389</td>\n      <td>ActionParsnip, yes</td>\n      <td>4695</td>\n      <td>2011-05-29</td>\n      <td>999.0</td>\n      <td>1001.0</td>\n      <td>999.0</td>\n      <td>2011_05_29_18_59_ActionParsnip_999</td>\n      <td>373</td>\n    </tr>\n    <tr>\n      <th>2011_05_29_19_00_ActionParsnip_1002</th>\n      <td>[19:00] &lt;ActionParsnip&gt; gmachine_24: if it is ...</td>\n      <td>1002</td>\n      <td>19:00</td>\n      <td>1860</td>\n      <td>ActionParsnip</td>\n      <td>4695</td>\n      <td>gmachine_24: if it is ext based filesystem, yo...</td>\n      <td>16665</td>\n      <td>2011-05-29</td>\n      <td>998.0</td>\n      <td>1002.0</td>\n      <td>998.0</td>\n      <td>2011_05_29_18_59_gmachine_24_998</td>\n      <td>372</td>\n    </tr>\n    <tr>\n      <th>...</th>\n      <td>...</td>\n      <td>...</td>\n      <td>...</td>\n      <td>...</td>\n      <td>...</td>\n      <td>...</td>\n      <td>...</td>\n      <td>...</td>\n      <td>...</td>\n      <td>...</td>\n      <td>...</td>\n      <td>...</td>\n      <td>...</td>\n      <td>...</td>\n    </tr>\n    <tr>\n      <th>2011_05_29_19_45_sudokill_1245</th>\n      <td>[19:45] &lt;sudokill&gt; burn whatever to cd</td>\n      <td>1245</td>\n      <td>19:45</td>\n      <td>1905</td>\n      <td>sudokill</td>\n      <td>15974</td>\n      <td>burn whatever to cd</td>\n      <td>-1</td>\n      <td>2011-05-29</td>\n      <td>1244.0</td>\n      <td>1245.0</td>\n      <td>1244.0</td>\n      <td>2011_05_29_19_45_toad`_1244</td>\n      <td>411</td>\n    </tr>\n    <tr>\n      <th>2011_05_29_19_45_System_1246</th>\n      <td>=== purpleGecko is now known as GeeksAreForLife</td>\n      <td>1246</td>\n      <td>19:45</td>\n      <td>1905</td>\n      <td>System</td>\n      <td>3792</td>\n      <td>NaN</td>\n      <td>-1</td>\n      <td>2011-05-29</td>\n      <td>1246.0</td>\n      <td>1246.0</td>\n      <td>1246.0</td>\n      <td>2011_05_29_19_45_System_1246</td>\n      <td>415</td>\n    </tr>\n    <tr>\n      <th>2011_05_29_19_45_toad`_1247</th>\n      <td>[19:45] &lt;toad`&gt; I'm wondering tho</td>\n      <td>1247</td>\n      <td>19:45</td>\n      <td>1905</td>\n      <td>toad`</td>\n      <td>16325</td>\n      <td>I'm wondering tho</td>\n      <td>-1</td>\n      <td>2011-05-29</td>\n      <td>1244.0</td>\n      <td>1247.0</td>\n      <td>1244.0</td>\n      <td>2011_05_29_19_45_toad`_1244</td>\n      <td>411</td>\n    </tr>\n    <tr>\n      <th>2011_05_29_19_45_sudokill_1248</th>\n      <td>[19:45] &lt;sudokill&gt; use the built in iso burner...</td>\n      <td>1248</td>\n      <td>19:45</td>\n      <td>1905</td>\n      <td>sudokill</td>\n      <td>15974</td>\n      <td>use the built in iso burner, infrarecorder or ...</td>\n      <td>-1</td>\n      <td>2011-05-29</td>\n      <td>1245.0</td>\n      <td>1248.0</td>\n      <td>1245.0</td>\n      <td>2011_05_29_19_45_sudokill_1245</td>\n      <td>411</td>\n    </tr>\n    <tr>\n      <th>2011_05_29_19_45_toad`_1249</th>\n      <td>[19:45] &lt;toad`&gt; I have two partitions dual boot</td>\n      <td>1249</td>\n      <td>19:45</td>\n      <td>1905</td>\n      <td>toad`</td>\n      <td>16325</td>\n      <td>I have two partitions dual boot</td>\n      <td>-1</td>\n      <td>2011-05-29</td>\n      <td>1247.0</td>\n      <td>1249.0</td>\n      <td>1247.0</td>\n      <td>2011_05_29_19_45_toad`_1247</td>\n      <td>411</td>\n    </tr>\n  </tbody>\n</table>\n<p>257 rows × 14 columns</p>\n</div>"
     },
     "execution_count": 44,
     "metadata": {},
     "output_type": "execute_result"
    }
   ],
   "source": [
    "dev_convo_df[dev_convo_df['date'] == '2011-05-29'].sort_values('file_ind')"
   ],
   "metadata": {
    "collapsed": false
   }
  },
  {
   "cell_type": "code",
   "execution_count": 45,
   "outputs": [
    {
     "data": {
      "text/plain": "                               message_cur                     message_prev  \\\n0       2009_03_03_09_59_ActionParsnip_998      2009_03_03_09_57_ubottu_995   \n1       2009_03_03_09_59_ActionParsnip_999      2009_03_03_09_57_ubottu_995   \n2      2009_03_03_10_00_ActionParsnip_1000      2009_03_03_09_57_ubottu_995   \n3      2009_03_03_10_01_ActionParsnip_1001      2009_03_03_09_57_ubottu_995   \n4      2009_03_03_10_01_ActionParsnip_1002      2009_03_03_09_57_ubottu_995   \n...                                    ...                              ...   \n79626      2005_06_27_12_28_microhaxo_1248  2005_06_27_12_28_microhaxo_1246   \n79627      2005_06_27_12_28_microhaxo_1249  2005_06_27_12_28_microhaxo_1246   \n79628      2005_06_27_12_28_microhaxo_1248   2005_06_27_12_28_Vassilis_1247   \n79629      2005_06_27_12_28_microhaxo_1249   2005_06_27_12_28_Vassilis_1247   \n79630      2005_06_27_12_28_microhaxo_1249  2005_06_27_12_28_microhaxo_1248   \n\n       same_user  time_distance  label  mentions_user  \n0            0.0            2.0    0.0            0.0  \n1            0.0            2.0    0.0            0.0  \n2            0.0            3.0    0.0            0.0  \n3            0.0            4.0    0.0            0.0  \n4            0.0            4.0    0.0            0.0  \n...          ...            ...    ...            ...  \n79626        1.0            0.0    1.0            0.0  \n79627        1.0            0.0    0.0            0.0  \n79628        0.0            0.0    0.0            0.0  \n79629        0.0            0.0    1.0            0.0  \n79630        1.0            0.0    0.0            0.0  \n\n[79631 rows x 6 columns]",
      "text/html": "<div>\n<style scoped>\n    .dataframe tbody tr th:only-of-type {\n        vertical-align: middle;\n    }\n\n    .dataframe tbody tr th {\n        vertical-align: top;\n    }\n\n    .dataframe thead th {\n        text-align: right;\n    }\n</style>\n<table border=\"1\" class=\"dataframe\">\n  <thead>\n    <tr style=\"text-align: right;\">\n      <th></th>\n      <th>message_cur</th>\n      <th>message_prev</th>\n      <th>same_user</th>\n      <th>time_distance</th>\n      <th>label</th>\n      <th>mentions_user</th>\n    </tr>\n  </thead>\n  <tbody>\n    <tr>\n      <th>0</th>\n      <td>2009_03_03_09_59_ActionParsnip_998</td>\n      <td>2009_03_03_09_57_ubottu_995</td>\n      <td>0.0</td>\n      <td>2.0</td>\n      <td>0.0</td>\n      <td>0.0</td>\n    </tr>\n    <tr>\n      <th>1</th>\n      <td>2009_03_03_09_59_ActionParsnip_999</td>\n      <td>2009_03_03_09_57_ubottu_995</td>\n      <td>0.0</td>\n      <td>2.0</td>\n      <td>0.0</td>\n      <td>0.0</td>\n    </tr>\n    <tr>\n      <th>2</th>\n      <td>2009_03_03_10_00_ActionParsnip_1000</td>\n      <td>2009_03_03_09_57_ubottu_995</td>\n      <td>0.0</td>\n      <td>3.0</td>\n      <td>0.0</td>\n      <td>0.0</td>\n    </tr>\n    <tr>\n      <th>3</th>\n      <td>2009_03_03_10_01_ActionParsnip_1001</td>\n      <td>2009_03_03_09_57_ubottu_995</td>\n      <td>0.0</td>\n      <td>4.0</td>\n      <td>0.0</td>\n      <td>0.0</td>\n    </tr>\n    <tr>\n      <th>4</th>\n      <td>2009_03_03_10_01_ActionParsnip_1002</td>\n      <td>2009_03_03_09_57_ubottu_995</td>\n      <td>0.0</td>\n      <td>4.0</td>\n      <td>0.0</td>\n      <td>0.0</td>\n    </tr>\n    <tr>\n      <th>...</th>\n      <td>...</td>\n      <td>...</td>\n      <td>...</td>\n      <td>...</td>\n      <td>...</td>\n      <td>...</td>\n    </tr>\n    <tr>\n      <th>79626</th>\n      <td>2005_06_27_12_28_microhaxo_1248</td>\n      <td>2005_06_27_12_28_microhaxo_1246</td>\n      <td>1.0</td>\n      <td>0.0</td>\n      <td>1.0</td>\n      <td>0.0</td>\n    </tr>\n    <tr>\n      <th>79627</th>\n      <td>2005_06_27_12_28_microhaxo_1249</td>\n      <td>2005_06_27_12_28_microhaxo_1246</td>\n      <td>1.0</td>\n      <td>0.0</td>\n      <td>0.0</td>\n      <td>0.0</td>\n    </tr>\n    <tr>\n      <th>79628</th>\n      <td>2005_06_27_12_28_microhaxo_1248</td>\n      <td>2005_06_27_12_28_Vassilis_1247</td>\n      <td>0.0</td>\n      <td>0.0</td>\n      <td>0.0</td>\n      <td>0.0</td>\n    </tr>\n    <tr>\n      <th>79629</th>\n      <td>2005_06_27_12_28_microhaxo_1249</td>\n      <td>2005_06_27_12_28_Vassilis_1247</td>\n      <td>0.0</td>\n      <td>0.0</td>\n      <td>1.0</td>\n      <td>0.0</td>\n    </tr>\n    <tr>\n      <th>79630</th>\n      <td>2005_06_27_12_28_microhaxo_1249</td>\n      <td>2005_06_27_12_28_microhaxo_1248</td>\n      <td>1.0</td>\n      <td>0.0</td>\n      <td>0.0</td>\n      <td>0.0</td>\n    </tr>\n  </tbody>\n</table>\n<p>79631 rows × 6 columns</p>\n</div>"
     },
     "execution_count": 45,
     "metadata": {},
     "output_type": "execute_result"
    }
   ],
   "source": [
    "training_data = dataset_builder.training_data\n",
    "training_data"
   ],
   "metadata": {
    "collapsed": false
   }
  },
  {
   "cell_type": "code",
   "execution_count": 45,
   "outputs": [],
   "source": [],
   "metadata": {
    "collapsed": false
   }
  },
  {
   "cell_type": "code",
   "execution_count": 46,
   "outputs": [
    {
     "data": {
      "text/plain": "(2150, 6)"
     },
     "execution_count": 46,
     "metadata": {},
     "output_type": "execute_result"
    }
   ],
   "source": [
    "training_data[training_data['label'] == 1].shape"
   ],
   "metadata": {
    "collapsed": false
   }
  },
  {
   "cell_type": "code",
   "execution_count": 47,
   "outputs": [
    {
     "data": {
      "text/plain": "(79631, 6)"
     },
     "execution_count": 47,
     "metadata": {},
     "output_type": "execute_result"
    }
   ],
   "source": [
    "training_data.shape"
   ],
   "metadata": {
    "collapsed": false
   }
  },
  {
   "cell_type": "code",
   "execution_count": 48,
   "outputs": [],
   "source": [
    "dataset_builder.export_data(\"training_reply_data.csv\")"
   ],
   "metadata": {
    "collapsed": false
   }
  },
  {
   "cell_type": "code",
   "execution_count": null,
   "outputs": [],
   "source": [],
   "metadata": {
    "collapsed": false
   }
  }
 ],
 "metadata": {
  "kernelspec": {
   "display_name": "Python 3",
   "language": "python",
   "name": "python3"
  },
  "language_info": {
   "codemirror_mode": {
    "name": "ipython",
    "version": 2
   },
   "file_extension": ".py",
   "mimetype": "text/x-python",
   "name": "python",
   "nbconvert_exporter": "python",
   "pygments_lexer": "ipython2",
   "version": "2.7.6"
  }
 },
 "nbformat": 4,
 "nbformat_minor": 0
}
