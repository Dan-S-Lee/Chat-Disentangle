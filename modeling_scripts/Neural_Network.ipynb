{
 "cells": [
  {
   "cell_type": "code",
   "execution_count": 3,
   "metadata": {
    "collapsed": true
   },
   "outputs": [],
   "source": [
    "import tensorflow as tf\n",
    "import pandas as pd\n",
    "from tensorflow import keras\n",
    "from keras.optimizers import SGD, Nadam"
   ]
  },
  {
   "cell_type": "code",
   "execution_count": null,
   "outputs": [],
   "source": [
    "keras.backend.clear_session()\n",
    "# He Initializer\n",
    "initializer = keras.initializers.HeNormal()\n",
    "# Build 20 hidden layers of 100 neurons\n",
    "# Softmax output layer\n",
    "layer_list = [keras.layers.Flatten(input_shape=[32, 32, 3])] + \\\n",
    "             [keras.layers.Dense(100,kernel_initializer=keras.initializers.HeNormal(), activation=\"elu\")\n",
    "              for _ in range(0, 20)] + \\\n",
    "             [keras.layers.Dense(10, activation=\"softmax\")]\n",
    "\n",
    "# Early stopping\n",
    "early_stopping_cb = keras.callbacks.EarlyStopping(patience=10, restore_best_weights=True)\n",
    "\n",
    "\n",
    "\n",
    "model = keras.models.Sequential(layer_list)\n",
    "opt = Nadam(learning_rate=0.0002, name=\"Nadam\")\n",
    "model.compile(loss=\"sparse_categorical_crossentropy\",\n",
    "              optimizer=opt,\n",
    "              metrics=[\"accuracy\"])\n",
    "model.summary()"
   ],
   "metadata": {
    "collapsed": false
   }
  }
 ],
 "metadata": {
  "kernelspec": {
   "display_name": "Python 3",
   "language": "python",
   "name": "python3"
  },
  "language_info": {
   "codemirror_mode": {
    "name": "ipython",
    "version": 2
   },
   "file_extension": ".py",
   "mimetype": "text/x-python",
   "name": "python",
   "nbconvert_exporter": "python",
   "pygments_lexer": "ipython2",
   "version": "2.7.6"
  }
 },
 "nbformat": 4,
 "nbformat_minor": 0
}
